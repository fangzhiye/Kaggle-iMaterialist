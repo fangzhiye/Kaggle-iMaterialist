{
 "cells": [
  {
   "cell_type": "markdown",
   "metadata": {},
   "source": [
    "# 数据预处理\n",
    "Multilabe-Net对数据的要求是：\n",
    " * 为每一张图片生成一个名为 <image-name>.jpg.txt的txt文件，该文件的每一行是图片的标签\n",
    " * 生成一个名为labels.txt的文件，该文件的每一行是标签，数据集有多少标签就有几行\n",
    "\n",
    "所以以下的cell就是分别处理以上的两个要求"
   ]
  },
  {
   "cell_type": "code",
   "execution_count": 2,
   "metadata": {
    "collapsed": true
   },
   "outputs": [],
   "source": [
    "import json\n",
    "import os\n",
    "set_str = 'train'\n",
    "data = json.load(open('./data/origindata/' + set_str + '.json'))"
   ]
  },
  {
   "cell_type": "code",
   "execution_count": 19,
   "metadata": {
    "collapsed": true
   },
   "outputs": [],
   "source": [
    "def writeToTxt(filename,data):\n",
    "    \"\"\"\n",
    "    将数据data写到文件filename中,每单元的数据为一行\n",
    "    \n",
    "    Inputs:\n",
    "    - filename: [],保存的文件名\n",
    "    - data: [],要写入的数据\n",
    "    \n",
    "    Outputs:\n",
    "      None\n",
    "    \"\"\"\n",
    "    dataLength = len(data)\n",
    "    f = open(filename,'w')\n",
    "    for i in range(dataLength):\n",
    "       # print(labelIds[i])\n",
    "        f.write(data[i].strip())\n",
    "        if i != dataLength:\n",
    "            f.write('\\n')\n",
    "    f.close()"
   ]
  },
  {
   "cell_type": "markdown",
   "metadata": {},
   "source": [
    "*为每一张图片生成一个名为 .jpg.txt的txt文件，该文件的每一行是图片的标签*"
   ]
  },
  {
   "cell_type": "code",
   "execution_count": 5,
   "metadata": {
    "collapsed": true
   },
   "outputs": [],
   "source": [
    "annotations = data['annotations'][0:20000]\n",
    "labelIds = [] \n",
    "for annotation in annotations:\n",
    "    imageLabelIds = []\n",
    "    imageId = annotation['imageId']\n",
    "    imageLabelIds = annotation['labelId']\n",
    "    imageLabelIdsStr = [int(i) for i in annotation['labelId']]\n",
    "    filename =  \"id_{}_labels_{}\".format(imageId, imageLabelIdsStr)+'.jpg.txt'\n",
    "    writeToTxt('./Multi-label-Inception-net-master/image_labels_dir/'+filename,imageLabelIds)\n",
    "    for i in imageLabelIds:\n",
    "        labelIds.append(i) "
   ]
  },
  {
   "cell_type": "code",
   "execution_count": 22,
   "metadata": {},
   "outputs": [],
   "source": [
    "#从图片文件夹中存标签,读取图片，获取imageId和labels\n",
    "#pathDir = './data/trainimages'\n",
    "#testImages =  os.listdir(pathDir)\n",
    "labelIds = [] \n",
    "images = ['id_20001_labels_[91, 25, 17, 222, 106, 99, 132, 105].jpg',\n",
    "         'id_20002_labels_[169, 19, 17, 148, 66, 59, 151, 87].jpg',\n",
    "         'id_20003_labels_[62, 17, 222, 66, 98, 116, 105, 133].jpg',\n",
    "         'id_20004_labels_[136, 106, 214, 105].jpg',\n",
    "         'id_20005_labels_[64, 17, 113, 176, 153, 105, 128].jpg']\n",
    "for image in images:\n",
    "    temp = image.split('_')\n",
    "    imageId = temp[1]\n",
    "    imageLabelIds=temp[3][1:-5].split(',')\n",
    "    imageLabelIdsStr = [int(i) for i in imageLabelIds]\n",
    "    filename =  \"id_{}_labels_{}\".format(imageId, imageLabelIdsStr)+'.jpg.txt'\n",
    "    writeToTxt('./Multi-label-Inception-net-master/temp/'+filename,imageLabelIds)\n",
    "    for i in imageLabelIds:\n",
    "        labelIds.append(i.strip()) "
   ]
  },
  {
   "cell_type": "code",
   "execution_count": 23,
   "metadata": {},
   "outputs": [
    {
     "data": {
      "text/plain": [
       "['91',\n",
       " '25',\n",
       " '17',\n",
       " '222',\n",
       " '106',\n",
       " '99',\n",
       " '132',\n",
       " '105',\n",
       " '169',\n",
       " '19',\n",
       " '17',\n",
       " '148',\n",
       " '66',\n",
       " '59',\n",
       " '151',\n",
       " '87',\n",
       " '62',\n",
       " '17',\n",
       " '222',\n",
       " '66',\n",
       " '98',\n",
       " '116',\n",
       " '105',\n",
       " '133',\n",
       " '136',\n",
       " '106',\n",
       " '214',\n",
       " '105',\n",
       " '64',\n",
       " '17',\n",
       " '113',\n",
       " '176',\n",
       " '153',\n",
       " '105',\n",
       " '128']"
      ]
     },
     "execution_count": 23,
     "metadata": {},
     "output_type": "execute_result"
    }
   ],
   "source": [
    "labelIds"
   ]
  },
  {
   "cell_type": "markdown",
   "metadata": {},
   "source": [
    "*生成一个名为labels.txt的文件，该文件的每一行是标签，数据集有多少标签就有几行*"
   ]
  },
  {
   "cell_type": "code",
   "execution_count": 6,
   "metadata": {
    "collapsed": true
   },
   "outputs": [],
   "source": [
    "labelIdSet = set(labelIds)\n",
    "writeToTxt('./Multi-label-Inception-net-master/labels.txt', list(labelIdSet))"
   ]
  }
 ],
 "metadata": {
  "kernelspec": {
   "display_name": "Python 3",
   "language": "python",
   "name": "python3"
  },
  "language_info": {
   "codemirror_mode": {
    "name": "ipython",
    "version": 3
   },
   "file_extension": ".py",
   "mimetype": "text/x-python",
   "name": "python",
   "nbconvert_exporter": "python",
   "pygments_lexer": "ipython3",
   "version": "3.6.2"
  }
 },
 "nbformat": 4,
 "nbformat_minor": 2
}
