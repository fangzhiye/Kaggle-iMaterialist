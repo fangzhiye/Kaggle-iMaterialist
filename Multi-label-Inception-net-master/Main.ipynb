{
 "cells": [
  {
   "cell_type": "markdown",
   "metadata": {},
   "source": [
    "# 模型的训练与预测\n",
    "  首先训练模型并保存，然后在预测的时候读取模型并将结果保存目标格式\n",
    "    * 模型训练首先要将图片保存为tensowflow所需格式，所以第一次训练的时候很慢，但之后就好了\n",
    "    * 模型预测要注意图片是否损坏及格式问题\n"
   ]
  },
  {
   "cell_type": "code",
   "execution_count": 1,
   "metadata": {
    "collapsed": true
   },
   "outputs": [],
   "source": [
    "%load_ext autoreload\n",
    "%autoreload 2"
   ]
  },
  {
   "cell_type": "code",
   "execution_count": 1,
   "metadata": {},
   "outputs": [
    {
     "name": "stdout",
     "output_type": "stream",
     "text": [
      "INFO:tensorflow:Summary name cross entropy is illegal; using cross_entropy instead.\n",
      "WARNING:tensorflow:From D:\\Anaconda\\lib\\site-packages\\tensorflow\\python\\util\\tf_should_use.py:170: initialize_all_variables (from tensorflow.python.ops.variables) is deprecated and will be removed after 2017-03-02.\n",
      "Instructions for updating:\n",
      "Use `tf.global_variables_initializer` instead.\n",
      "2018-04-21 16:15:41.198143: Step 0: Train f1_score = 0.05330\n",
      "2018-04-21 16:15:41.199143: Step 0: Cross entropy = 0.710947\n",
      "2018-04-21 16:15:41.482332: Step 0: Validation f1_score = 0.01711\n",
      "2018-04-21 16:15:44.269613: Step 10: Train f1_score = 0.05573\n",
      "2018-04-21 16:15:44.269613: Step 10: Cross entropy = 0.710840\n",
      "2018-04-21 16:15:44.481755: Step 10: Validation f1_score = 0.01693\n",
      "2018-04-21 16:15:47.440738: Step 20: Train f1_score = 0.06471\n",
      "2018-04-21 16:15:47.440738: Step 20: Cross entropy = 0.710623\n",
      "2018-04-21 16:15:47.638873: Step 20: Validation f1_score = 0.04131\n",
      "2018-04-21 16:15:50.225303: Step 30: Train f1_score = 0.06692\n",
      "2018-04-21 16:15:50.225303: Step 30: Cross entropy = 0.710422\n",
      "2018-04-21 16:15:50.462462: Step 30: Validation f1_score = 0.04908\n",
      "2018-04-21 16:15:53.025970: Step 40: Train f1_score = 0.06906\n",
      "2018-04-21 16:15:53.026970: Step 40: Cross entropy = 0.710237\n",
      "2018-04-21 16:15:53.239113: Step 40: Validation f1_score = 0.04997\n",
      "2018-04-21 16:15:55.776814: Step 50: Train f1_score = 0.07255\n",
      "2018-04-21 16:15:55.776814: Step 50: Cross entropy = 0.710512\n",
      "2018-04-21 16:15:55.966943: Step 50: Validation f1_score = 0.04452\n",
      "2018-04-21 16:15:58.750309: Step 60: Train f1_score = 0.07033\n",
      "2018-04-21 16:15:58.751310: Step 60: Cross entropy = 0.710316\n",
      "2018-04-21 16:15:58.941440: Step 60: Validation f1_score = 0.04330\n",
      "2018-04-21 16:16:01.573356: Step 70: Train f1_score = 0.07458\n",
      "2018-04-21 16:16:01.574358: Step 70: Cross entropy = 0.710056\n",
      "2018-04-21 16:16:01.770488: Step 70: Validation f1_score = 0.04735\n",
      "2018-04-21 16:16:04.433271: Step 80: Train f1_score = 0.08010\n",
      "2018-04-21 16:16:04.433271: Step 80: Cross entropy = 0.710052\n",
      "2018-04-21 16:16:04.634406: Step 80: Validation f1_score = 0.04699\n",
      "2018-04-21 16:16:07.395893: Step 90: Train f1_score = 0.08135\n",
      "2018-04-21 16:16:07.396894: Step 90: Cross entropy = 0.710170\n",
      "2018-04-21 16:16:07.601030: Step 90: Validation f1_score = 0.04454\n",
      "2018-04-21 16:16:10.242463: Step 100: Train f1_score = 0.08225\n",
      "2018-04-21 16:16:10.242463: Step 100: Cross entropy = 0.709910\n",
      "2018-04-21 16:16:10.453607: Step 100: Validation f1_score = 0.04343\n",
      "2018-04-21 16:16:13.204448: Step 110: Train f1_score = 0.08438\n",
      "2018-04-21 16:16:13.204448: Step 110: Cross entropy = 0.710032\n",
      "2018-04-21 16:16:13.403581: Step 110: Validation f1_score = 0.04521\n",
      "2018-04-21 16:16:16.065974: Step 120: Train f1_score = 0.08436\n",
      "2018-04-21 16:16:16.065974: Step 120: Cross entropy = 0.709705\n",
      "2018-04-21 16:16:16.316142: Step 120: Validation f1_score = 0.04659\n",
      "2018-04-21 16:16:19.033342: Step 130: Train f1_score = 0.08696\n",
      "2018-04-21 16:16:19.034343: Step 130: Cross entropy = 0.709913\n",
      "2018-04-21 16:16:19.269500: Step 130: Validation f1_score = 0.04388\n",
      "2018-04-21 16:16:22.043618: Step 140: Train f1_score = 0.08730\n",
      "2018-04-21 16:16:22.043618: Step 140: Cross entropy = 0.709817\n",
      "2018-04-21 16:16:22.264767: Step 140: Validation f1_score = 0.04361\n",
      "2018-04-21 16:16:24.800961: Step 150: Train f1_score = 0.08713\n",
      "2018-04-21 16:16:24.801961: Step 150: Cross entropy = 0.709634\n",
      "2018-04-21 16:16:24.990089: Step 150: Validation f1_score = 0.04497\n",
      "2018-04-21 16:16:27.567478: Step 160: Train f1_score = 0.08782\n",
      "2018-04-21 16:16:27.567478: Step 160: Cross entropy = 0.709687\n",
      "2018-04-21 16:16:27.761607: Step 160: Validation f1_score = 0.04357\n",
      "2018-04-21 16:16:30.420759: Step 170: Train f1_score = 0.08664\n",
      "2018-04-21 16:16:30.421763: Step 170: Cross entropy = 0.709013\n",
      "2018-04-21 16:16:30.633430: Step 170: Validation f1_score = 0.04337\n",
      "2018-04-21 16:16:33.327235: Step 180: Train f1_score = 0.08785\n",
      "2018-04-21 16:16:33.327235: Step 180: Cross entropy = 0.709695\n",
      "2018-04-21 16:16:33.521364: Step 180: Validation f1_score = 0.04378\n",
      "2018-04-21 16:16:36.065885: Step 190: Train f1_score = 0.08948\n",
      "2018-04-21 16:16:36.065885: Step 190: Cross entropy = 0.709718\n",
      "2018-04-21 16:16:36.328060: Step 190: Validation f1_score = 0.04462\n",
      "2018-04-21 16:16:38.939585: Step 200: Train f1_score = 0.08705\n",
      "2018-04-21 16:16:38.939585: Step 200: Cross entropy = 0.709184\n",
      "2018-04-21 16:16:39.151727: Step 200: Validation f1_score = 0.04358\n",
      "2018-04-21 16:16:41.923577: Step 210: Train f1_score = 0.08881\n",
      "2018-04-21 16:16:41.924578: Step 210: Cross entropy = 0.709553\n",
      "2018-04-21 16:16:42.122710: Step 210: Validation f1_score = 0.04332\n",
      "2018-04-21 16:16:44.836503: Step 220: Train f1_score = 0.08596\n",
      "2018-04-21 16:16:44.836503: Step 220: Cross entropy = 0.708992\n",
      "2018-04-21 16:16:45.073661: Step 220: Validation f1_score = 0.04404\n",
      "2018-04-21 16:16:48.012629: Step 230: Train f1_score = 0.08376\n",
      "2018-04-21 16:16:48.012629: Step 230: Cross entropy = 0.708393\n",
      "2018-04-21 16:16:48.297821: Step 230: Validation f1_score = 0.04282\n",
      "2018-04-21 16:16:51.229785: Step 240: Train f1_score = 0.08743\n",
      "2018-04-21 16:16:51.229785: Step 240: Cross entropy = 0.709121\n",
      "2018-04-21 16:16:51.523981: Step 240: Validation f1_score = 0.04078\n"
     ]
    },
    {
     "ename": "KeyboardInterrupt",
     "evalue": "",
     "output_type": "error",
     "traceback": [
      "\u001b[1;31m---------------------------------------------------------------------------\u001b[0m",
      "\u001b[1;31mKeyboardInterrupt\u001b[0m                         Traceback (most recent call last)",
      "\u001b[1;32mE:\\ComputerVision\\iMaterialist\\Multi-label-Inception-net-master\\retrain.py\u001b[0m in \u001b[0;36m<module>\u001b[1;34m()\u001b[0m\n\u001b[0;32m   1072\u001b[0m \u001b[1;32mif\u001b[0m \u001b[0m__name__\u001b[0m \u001b[1;33m==\u001b[0m \u001b[1;34m'__main__'\u001b[0m\u001b[1;33m:\u001b[0m\u001b[1;33m\u001b[0m\u001b[0m\n\u001b[0;32m   1073\u001b[0m \u001b[1;31m#def testrun():\u001b[0m\u001b[1;33m\u001b[0m\u001b[1;33m\u001b[0m\u001b[0m\n\u001b[1;32m-> 1074\u001b[1;33m   \u001b[0mtf\u001b[0m\u001b[1;33m.\u001b[0m\u001b[0mapp\u001b[0m\u001b[1;33m.\u001b[0m\u001b[0mrun\u001b[0m\u001b[1;33m(\u001b[0m\u001b[1;33m)\u001b[0m\u001b[1;33m\u001b[0m\u001b[0m\n\u001b[0m",
      "\u001b[1;32mD:\\Anaconda\\lib\\site-packages\\tensorflow\\python\\platform\\app.py\u001b[0m in \u001b[0;36mrun\u001b[1;34m(main, argv)\u001b[0m\n\u001b[0;32m     46\u001b[0m   \u001b[1;31m# Call the main function, passing through any arguments\u001b[0m\u001b[1;33m\u001b[0m\u001b[1;33m\u001b[0m\u001b[0m\n\u001b[0;32m     47\u001b[0m   \u001b[1;31m# to the final program.\u001b[0m\u001b[1;33m\u001b[0m\u001b[1;33m\u001b[0m\u001b[0m\n\u001b[1;32m---> 48\u001b[1;33m   \u001b[0m_sys\u001b[0m\u001b[1;33m.\u001b[0m\u001b[0mexit\u001b[0m\u001b[1;33m(\u001b[0m\u001b[0mmain\u001b[0m\u001b[1;33m(\u001b[0m\u001b[0m_sys\u001b[0m\u001b[1;33m.\u001b[0m\u001b[0margv\u001b[0m\u001b[1;33m[\u001b[0m\u001b[1;33m:\u001b[0m\u001b[1;36m1\u001b[0m\u001b[1;33m]\u001b[0m \u001b[1;33m+\u001b[0m \u001b[0mflags_passthrough\u001b[0m\u001b[1;33m)\u001b[0m\u001b[1;33m)\u001b[0m\u001b[1;33m\u001b[0m\u001b[0m\n\u001b[0m\u001b[0;32m     49\u001b[0m \u001b[1;33m\u001b[0m\u001b[0m\n\u001b[0;32m     50\u001b[0m \u001b[1;33m\u001b[0m\u001b[0m\n",
      "\u001b[1;32mE:\\ComputerVision\\iMaterialist\\Multi-label-Inception-net-master\\retrain.py\u001b[0m in \u001b[0;36mmain\u001b[1;34m(_)\u001b[0m\n\u001b[0;32m   1015\u001b[0m           \u001b[0msess\u001b[0m\u001b[1;33m,\u001b[0m \u001b[0mimage_lists\u001b[0m\u001b[1;33m,\u001b[0m \u001b[0mFLAGS\u001b[0m\u001b[1;33m.\u001b[0m\u001b[0mtrain_batch_size\u001b[0m\u001b[1;33m,\u001b[0m \u001b[1;34m'training'\u001b[0m\u001b[1;33m,\u001b[0m\u001b[1;33m\u001b[0m\u001b[0m\n\u001b[0;32m   1016\u001b[0m           \u001b[0mFLAGS\u001b[0m\u001b[1;33m.\u001b[0m\u001b[0mbottleneck_dir\u001b[0m\u001b[1;33m,\u001b[0m \u001b[0mFLAGS\u001b[0m\u001b[1;33m.\u001b[0m\u001b[0mimage_dir\u001b[0m\u001b[1;33m,\u001b[0m \u001b[0mjpeg_data_tensor\u001b[0m\u001b[1;33m,\u001b[0m\u001b[1;33m\u001b[0m\u001b[0m\n\u001b[1;32m-> 1017\u001b[1;33m           bottleneck_tensor, labels)\n\u001b[0m\u001b[0;32m   1018\u001b[0m     \u001b[1;31m# Feed the bottlenecks and ground truth into the graph, and run a training\u001b[0m\u001b[1;33m\u001b[0m\u001b[1;33m\u001b[0m\u001b[0m\n\u001b[0;32m   1019\u001b[0m     \u001b[1;31m# step. Capture training summaries for TensorBoard with the `merged` op.\u001b[0m\u001b[1;33m\u001b[0m\u001b[1;33m\u001b[0m\u001b[0m\n",
      "\u001b[1;32mE:\\ComputerVision\\iMaterialist\\Multi-label-Inception-net-master\\retrain.py\u001b[0m in \u001b[0;36mget_random_cached_bottlenecks\u001b[1;34m(sess, image_lists, how_many, category, bottleneck_dir, image_dir, jpeg_data_tensor, bottleneck_tensor, labels)\u001b[0m\n\u001b[0;32m    609\u001b[0m                                           \u001b[0mimage_index\u001b[0m\u001b[1;33m,\u001b[0m \u001b[0mimage_dir\u001b[0m\u001b[1;33m,\u001b[0m \u001b[0mcategory\u001b[0m\u001b[1;33m,\u001b[0m\u001b[1;33m\u001b[0m\u001b[0m\n\u001b[0;32m    610\u001b[0m                                           \u001b[0mbottleneck_dir\u001b[0m\u001b[1;33m,\u001b[0m \u001b[0mjpeg_data_tensor\u001b[0m\u001b[1;33m,\u001b[0m\u001b[1;33m\u001b[0m\u001b[0m\n\u001b[1;32m--> 611\u001b[1;33m                                           bottleneck_tensor)\n\u001b[0m\u001b[0;32m    612\u001b[0m \u001b[1;33m\u001b[0m\u001b[0m\n\u001b[0;32m    613\u001b[0m     \u001b[0mlabels_file\u001b[0m \u001b[1;33m=\u001b[0m \u001b[0mget_image_labels_path\u001b[0m\u001b[1;33m(\u001b[0m\u001b[0mimage_lists\u001b[0m\u001b[1;33m,\u001b[0m \u001b[0mlabel_name\u001b[0m\u001b[1;33m,\u001b[0m \u001b[0mimage_index\u001b[0m\u001b[1;33m,\u001b[0m \u001b[0mIMAGE_LABELS_DIR\u001b[0m\u001b[1;33m,\u001b[0m \u001b[0mcategory\u001b[0m\u001b[1;33m)\u001b[0m\u001b[1;33m\u001b[0m\u001b[0m\n",
      "\u001b[1;32mE:\\ComputerVision\\iMaterialist\\Multi-label-Inception-net-master\\retrain.py\u001b[0m in \u001b[0;36mget_or_create_bottleneck\u001b[1;34m(sess, image_lists, label_name, index, image_dir, category, bottleneck_dir, jpeg_data_tensor, bottleneck_tensor)\u001b[0m\n\u001b[0;32m    515\u001b[0m   \u001b[1;32mwith\u001b[0m \u001b[0mopen\u001b[0m\u001b[1;33m(\u001b[0m\u001b[0mbottleneck_path\u001b[0m\u001b[1;33m,\u001b[0m \u001b[1;34m'r'\u001b[0m\u001b[1;33m)\u001b[0m \u001b[1;32mas\u001b[0m \u001b[0mbottleneck_file\u001b[0m\u001b[1;33m:\u001b[0m\u001b[1;33m\u001b[0m\u001b[0m\n\u001b[0;32m    516\u001b[0m     \u001b[0mbottleneck_string\u001b[0m \u001b[1;33m=\u001b[0m \u001b[0mbottleneck_file\u001b[0m\u001b[1;33m.\u001b[0m\u001b[0mread\u001b[0m\u001b[1;33m(\u001b[0m\u001b[1;33m)\u001b[0m\u001b[1;33m\u001b[0m\u001b[0m\n\u001b[1;32m--> 517\u001b[1;33m   \u001b[0mbottleneck_values\u001b[0m \u001b[1;33m=\u001b[0m \u001b[1;33m[\u001b[0m\u001b[0mfloat\u001b[0m\u001b[1;33m(\u001b[0m\u001b[0mx\u001b[0m\u001b[1;33m)\u001b[0m \u001b[1;32mfor\u001b[0m \u001b[0mx\u001b[0m \u001b[1;32min\u001b[0m \u001b[0mbottleneck_string\u001b[0m\u001b[1;33m.\u001b[0m\u001b[0msplit\u001b[0m\u001b[1;33m(\u001b[0m\u001b[1;34m','\u001b[0m\u001b[1;33m)\u001b[0m\u001b[1;33m]\u001b[0m\u001b[1;33m\u001b[0m\u001b[0m\n\u001b[0m\u001b[0;32m    518\u001b[0m   \u001b[1;32mreturn\u001b[0m \u001b[0mbottleneck_values\u001b[0m\u001b[1;33m\u001b[0m\u001b[0m\n\u001b[0;32m    519\u001b[0m \u001b[1;33m\u001b[0m\u001b[0m\n",
      "\u001b[1;32mE:\\ComputerVision\\iMaterialist\\Multi-label-Inception-net-master\\retrain.py\u001b[0m in \u001b[0;36m<listcomp>\u001b[1;34m(.0)\u001b[0m\n\u001b[0;32m    515\u001b[0m   \u001b[1;32mwith\u001b[0m \u001b[0mopen\u001b[0m\u001b[1;33m(\u001b[0m\u001b[0mbottleneck_path\u001b[0m\u001b[1;33m,\u001b[0m \u001b[1;34m'r'\u001b[0m\u001b[1;33m)\u001b[0m \u001b[1;32mas\u001b[0m \u001b[0mbottleneck_file\u001b[0m\u001b[1;33m:\u001b[0m\u001b[1;33m\u001b[0m\u001b[0m\n\u001b[0;32m    516\u001b[0m     \u001b[0mbottleneck_string\u001b[0m \u001b[1;33m=\u001b[0m \u001b[0mbottleneck_file\u001b[0m\u001b[1;33m.\u001b[0m\u001b[0mread\u001b[0m\u001b[1;33m(\u001b[0m\u001b[1;33m)\u001b[0m\u001b[1;33m\u001b[0m\u001b[0m\n\u001b[1;32m--> 517\u001b[1;33m   \u001b[0mbottleneck_values\u001b[0m \u001b[1;33m=\u001b[0m \u001b[1;33m[\u001b[0m\u001b[0mfloat\u001b[0m\u001b[1;33m(\u001b[0m\u001b[0mx\u001b[0m\u001b[1;33m)\u001b[0m \u001b[1;32mfor\u001b[0m \u001b[0mx\u001b[0m \u001b[1;32min\u001b[0m \u001b[0mbottleneck_string\u001b[0m\u001b[1;33m.\u001b[0m\u001b[0msplit\u001b[0m\u001b[1;33m(\u001b[0m\u001b[1;34m','\u001b[0m\u001b[1;33m)\u001b[0m\u001b[1;33m]\u001b[0m\u001b[1;33m\u001b[0m\u001b[0m\n\u001b[0m\u001b[0;32m    518\u001b[0m   \u001b[1;32mreturn\u001b[0m \u001b[0mbottleneck_values\u001b[0m\u001b[1;33m\u001b[0m\u001b[0m\n\u001b[0;32m    519\u001b[0m \u001b[1;33m\u001b[0m\u001b[0m\n",
      "\u001b[1;31mKeyboardInterrupt\u001b[0m: "
     ]
    }
   ],
   "source": [
    "%run retrain.py \\\n",
    "--bottleneck_dir=testbottlenecks \\\n",
    "--how_many_training_steps 1000 \\\n",
    "--learning_rate 0.001 \\\n",
    "--threshold 0.0001 \\\n",
    "--model_dir=model_dir \\\n",
    "--output_graph=retrained_graph.pb \\\n",
    "--output_labels=retrained_labels.txt \\\n",
    "--summaries_dir=retrain_logs \\\n",
    "--image_dir=testimages"
   ]
  },
  {
   "cell_type": "markdown",
   "metadata": {},
   "source": [
    "学习速率是0.00005的时候 训练的准确率在50%左右，变化很小,但预测的结果几乎都一样，存在过拟合觉得。"
   ]
  },
  {
   "cell_type": "code",
   "execution_count": 1,
   "metadata": {
    "collapsed": true
   },
   "outputs": [],
   "source": [
    "from PredictImage import PredictImage\n",
    "import os\n",
    "import pandas as pd\n",
    "from tqdm  import tqdm\n",
    "from sklearn.metrics import f1_score\n",
    "import json\n",
    "import numpy as np\n",
    "from sklearn.metrics import classification_report\n",
    "from sklearn.metrics import precision_recall_fscore_support\n",
    "from PIL import Image\n",
    "from os import PathLike\n",
    "%load_ext autoreload\n",
    "%autoreload 2"
   ]
  },
  {
   "cell_type": "code",
   "execution_count": 7,
   "metadata": {},
   "outputs": [
    {
     "name": "stdout",
     "output_type": "stream",
     "text": [
      "multi-label\n"
     ]
    }
   ],
   "source": [
    "sub_dirs = [x[0] for x in os.walk('./images')]\n",
    "  # The root directory comes first, so skip it.\n",
    "is_root_dir = True\n",
    "for sub_dir in sub_dirs:\n",
    "    if is_root_dir:\n",
    "        is_root_dir = False\n",
    "        continue\n",
    "    extensions = ['jpg', 'jpeg', 'JPG', 'JPEG']\n",
    "    file_list = []\n",
    "    dir_name = os.path.basename(sub_dir)\n",
    "    print(dir_name)"
   ]
  },
  {
   "cell_type": "code",
   "execution_count": 2,
   "metadata": {
    "collapsed": true
   },
   "outputs": [],
   "source": [
    "def isValidImage(file): \n",
    "    bValid = True\n",
    "    fileObj = open(file, 'rb')\n",
    "    buf = fileObj.read()\n",
    "    if buf[6:10] in (b'JFIF', b'Exif'):     #jpg图片\n",
    "        if not buf.rstrip(b'\\0\\r\\n').endswith(b'\\xff\\xd9'):\n",
    "            bValid = False\n",
    "    else:        \n",
    "        try:  \n",
    "            Image.open(fileObj).verify() \n",
    "        except:  \n",
    "            bValid = False         \n",
    "    return bValid"
   ]
  },
  {
   "cell_type": "code",
   "execution_count": 3,
   "metadata": {
    "collapsed": true
   },
   "outputs": [],
   "source": [
    "def getPredictResult(threshold):\n",
    "    predictImage = PredictImage()\n",
    "    pathDir = './test/'\n",
    "    testImages =  os.listdir(pathDir)\n",
    "    imageIds = []\n",
    "    labels = []\n",
    "    with tqdm(total=len(testImages)) as bar:\n",
    "        for testImage in testImages:\n",
    "            imageId = int(testImage[0:-4])\n",
    "            imageIds.append(imageId)\n",
    "            imagepath = pathDir + testImage\n",
    "            if isValidImage(imagepath):\n",
    "        #print(imagepath)\n",
    "                l = predictImage.predictResult(imagepath, t = threshold)\n",
    "                label = ''.join([c + ' ' for c in l])\n",
    "                a = label.rstrip()\n",
    "                labels.append(a)\n",
    "            else:\n",
    "                labels.append(' ') \n",
    "            bar.update(1)\n",
    "    dataframe = pd.DataFrame({'image_id':imageIds,'label_id':labels})\n",
    "    dataframe.to_csv('predictResult.csv',sep = ',', index = False)"
   ]
  },
  {
   "cell_type": "code",
   "execution_count": 4,
   "metadata": {
    "collapsed": true
   },
   "outputs": [],
   "source": [
    "def strToArray(data):\n",
    "    out = []\n",
    "    for i in data:\n",
    "     if i != '':\n",
    "        out.append(int(i))\n",
    "    return out"
   ]
  },
  {
   "cell_type": "code",
   "execution_count": 5,
   "metadata": {
    "collapsed": true
   },
   "outputs": [],
   "source": [
    "def getF1Score():\n",
    "    dfPredict = pd.read_csv(\"./predictResult.csv\")\n",
    "    dfValidation = pd.read_csv(\"./validation.csv\")\n",
    "    dfPredict = dfPredict.sort_values(by = 'image_id', ascending=True)\n",
    "    dfValidation = dfValidation.sort_values(by = 'image_id',ascending = True)\n",
    "    dfPredict.head()\n",
    "    dfValidation.head()\n",
    "    m,n = dfPredict.shape\n",
    "    maxLabel = 228\n",
    "    F1_scores = np.zeros(m,dtype = np.float)\n",
    "   # y_tAll = np.zeros(maxLabel,dtype='i4')\n",
    "   # y_pAll = np.zeros(maxLabel,dtype='i4')\n",
    "    for i in range(1):\n",
    "        image_id = dfPredict.loc[i,'image_id']\n",
    "        if(type(dfPredict.loc[i,'label_id'])!=str):\n",
    "          #  y_p = np.zeros(maxLabel,dtype ='i4')\n",
    "            y_pred = []\n",
    "        else:\n",
    "            y_pred = strToArray((dfPredict.loc[i,'label_id']).split(' '))\n",
    "        if(type(dfValidation.loc[i,'label_id'])!=str):\n",
    "            y_true = []\n",
    "        else:\n",
    "            y_true = strToArray((dfValidation.loc[i,'label_id']).split(' '))\n",
    "        y_t = np.zeros(maxLabel,dtype='i4')\n",
    "        if(y_true != []):\n",
    "            index = np.array(y_true)-1\n",
    "            y_t[index] = 1\n",
    "       # y_tAll =  y_tAll + y_t\n",
    "        y_p = np.zeros(maxLabel,dtype ='i4')\n",
    "        if(y_pred != []):\n",
    "            index = np.array(y_pred) - 1\n",
    "            y_p[index] = 1\n",
    "        TP = np.sum(y_t * y_p)\n",
    "       # print(TP)\n",
    "        FP = np.sum(y_p) - TP\n",
    "       # print(FP)\n",
    "        FN = np.sum(np.maximum(y_t - y_p,0))\n",
    "        precision = TP/(TP + FP)\n",
    "        recall = TP/(TP + FN)\n",
    "        F1_scores += precision * recall * 2 /(precision + recall  + 1e-10)\n",
    "    f1 = np.mean(F1_scores)\n",
    "    return f1"
   ]
  },
  {
   "cell_type": "code",
   "execution_count": 6,
   "metadata": {},
   "outputs": [
    {
     "name": "stderr",
     "output_type": "stream",
     "text": [
      "\r",
      "  0%|                                                 | 0/1000 [00:00<?, ?it/s]"
     ]
    },
    {
     "name": "stdout",
     "output_type": "stream",
     "text": [
      "66 (score = 0.66786)\n",
      "105 (score = 0.59210)\n",
      "153 (score = 0.56643)\n",
      "17 (score = 0.56124)\n",
      "171 (score = 0.54620)\n",
      "106 (score = 0.54563)\n",
      "214 (score = 0.53746)\n",
      "138 (score = 0.53308)\n",
      "222 (score = 0.53095)\n"
     ]
    },
    {
     "name": "stderr",
     "output_type": "stream",
     "text": [
      "\r",
      "  0%|                                         | 1/1000 [00:02<44:53,  2.70s/it]"
     ]
    },
    {
     "name": "stdout",
     "output_type": "stream",
     "text": [
      "66 (score = 0.67368)\n",
      "105 (score = 0.60426)\n",
      "153 (score = 0.57285)\n",
      "17 (score = 0.55896)\n",
      "106 (score = 0.54978)\n",
      "171 (score = 0.54516)\n",
      "214 (score = 0.54355)\n",
      "138 (score = 0.53635)\n",
      "222 (score = 0.53595)\n"
     ]
    },
    {
     "name": "stderr",
     "output_type": "stream",
     "text": [
      "\r",
      "  0%|                                         | 2/1000 [00:03<35:19,  2.12s/it]"
     ]
    },
    {
     "name": "stdout",
     "output_type": "stream",
     "text": [
      "66 (score = 0.65549)\n",
      "105 (score = 0.59053)\n",
      "153 (score = 0.56950)\n",
      "17 (score = 0.55072)\n",
      "106 (score = 0.54334)\n",
      "171 (score = 0.54100)\n",
      "214 (score = 0.53894)\n",
      "138 (score = 0.53476)\n",
      "222 (score = 0.53369)\n"
     ]
    },
    {
     "name": "stderr",
     "output_type": "stream",
     "text": [
      "\r",
      "  0%|                                         | 3/1000 [00:04<28:41,  1.73s/it]"
     ]
    },
    {
     "name": "stdout",
     "output_type": "stream",
     "text": [
      "66 (score = 0.67821)\n",
      "105 (score = 0.61313)\n",
      "153 (score = 0.58263)\n",
      "17 (score = 0.56442)\n",
      "106 (score = 0.55784)\n",
      "171 (score = 0.54901)\n",
      "214 (score = 0.54555)\n",
      "222 (score = 0.54297)\n",
      "138 (score = 0.53949)\n"
     ]
    },
    {
     "name": "stderr",
     "output_type": "stream",
     "text": [
      "\r",
      "  0%|▏                                        | 4/1000 [00:05<24:07,  1.45s/it]"
     ]
    },
    {
     "name": "stdout",
     "output_type": "stream",
     "text": [
      "66 (score = 0.60463)\n",
      "105 (score = 0.54818)\n",
      "153 (score = 0.54077)\n",
      "17 (score = 0.53853)\n",
      "171 (score = 0.53345)\n",
      "222 (score = 0.52245)\n",
      "62 (score = 0.52242)\n",
      "214 (score = 0.52144)\n",
      "138 (score = 0.51826)\n"
     ]
    },
    {
     "name": "stderr",
     "output_type": "stream",
     "text": [
      "\r",
      "  0%|▏                                        | 5/1000 [00:06<21:48,  1.32s/it]"
     ]
    },
    {
     "name": "stdout",
     "output_type": "stream",
     "text": [
      "66 (score = 0.63224)\n",
      "105 (score = 0.57817)\n",
      "153 (score = 0.55836)\n",
      "106 (score = 0.53823)\n",
      "17 (score = 0.53701)\n",
      "171 (score = 0.53405)\n",
      "214 (score = 0.53091)\n",
      "222 (score = 0.52747)\n",
      "138 (score = 0.52522)\n"
     ]
    },
    {
     "name": "stderr",
     "output_type": "stream",
     "text": [
      "\r",
      "  1%|▏                                        | 6/1000 [00:06<19:12,  1.16s/it]"
     ]
    },
    {
     "name": "stdout",
     "output_type": "stream",
     "text": [
      "66 (score = 0.69150)\n",
      "105 (score = 0.60124)\n",
      "153 (score = 0.58023)\n",
      "17 (score = 0.56250)\n",
      "171 (score = 0.55472)\n",
      "214 (score = 0.54691)\n",
      "106 (score = 0.54551)\n",
      "138 (score = 0.53571)\n",
      "62 (score = 0.53358)\n"
     ]
    },
    {
     "name": "stderr",
     "output_type": "stream",
     "text": [
      "\r",
      "  1%|▎                                        | 7/1000 [00:07<17:45,  1.07s/it]"
     ]
    },
    {
     "name": "stdout",
     "output_type": "stream",
     "text": [
      "66 (score = 0.69834)\n",
      "105 (score = 0.61787)\n",
      "153 (score = 0.58660)\n",
      "17 (score = 0.57007)\n",
      "171 (score = 0.55777)\n",
      "214 (score = 0.54967)\n",
      "106 (score = 0.54935)\n",
      "222 (score = 0.54842)\n",
      "138 (score = 0.54744)\n"
     ]
    },
    {
     "name": "stderr",
     "output_type": "stream",
     "text": [
      "\r",
      "  1%|▎                                        | 8/1000 [00:08<16:26,  1.01it/s]"
     ]
    },
    {
     "name": "stdout",
     "output_type": "stream",
     "text": [
      "66 (score = 0.67611)\n",
      "105 (score = 0.60953)\n",
      "153 (score = 0.57459)\n",
      "17 (score = 0.55873)\n",
      "106 (score = 0.55035)\n",
      "171 (score = 0.54532)\n",
      "214 (score = 0.54514)\n",
      "138 (score = 0.53822)\n",
      "222 (score = 0.53601)\n"
     ]
    },
    {
     "name": "stderr",
     "output_type": "stream",
     "text": [
      "\r",
      "  1%|▎                                        | 9/1000 [00:09<15:37,  1.06it/s]"
     ]
    },
    {
     "name": "stdout",
     "output_type": "stream",
     "text": [
      "66 (score = 0.65841)\n",
      "105 (score = 0.58586)\n",
      "153 (score = 0.57017)\n",
      "17 (score = 0.54682)\n",
      "171 (score = 0.54530)\n",
      "106 (score = 0.54244)\n",
      "214 (score = 0.54026)\n",
      "138 (score = 0.53416)\n",
      "222 (score = 0.52959)\n"
     ]
    },
    {
     "name": "stderr",
     "output_type": "stream",
     "text": [
      "\r",
      "  1%|▍                                       | 10/1000 [00:10<15:02,  1.10it/s]"
     ]
    },
    {
     "name": "stdout",
     "output_type": "stream",
     "text": [
      "66 (score = 0.67721)\n",
      "105 (score = 0.60395)\n",
      "153 (score = 0.57061)\n",
      "17 (score = 0.56448)\n",
      "171 (score = 0.55464)\n",
      "214 (score = 0.54546)\n",
      "106 (score = 0.54300)\n",
      "222 (score = 0.53380)\n",
      "176 (score = 0.53020)\n"
     ]
    },
    {
     "name": "stderr",
     "output_type": "stream",
     "text": [
      "\r",
      "  1%|▍                                       | 11/1000 [00:11<14:29,  1.14it/s]"
     ]
    },
    {
     "name": "stdout",
     "output_type": "stream",
     "text": [
      "66 (score = 0.63197)\n",
      "105 (score = 0.56834)\n",
      "153 (score = 0.54667)\n",
      "17 (score = 0.54338)\n",
      "171 (score = 0.53995)\n",
      "106 (score = 0.53450)\n",
      "214 (score = 0.53392)\n",
      "222 (score = 0.52581)\n",
      "138 (score = 0.52518)\n"
     ]
    },
    {
     "name": "stderr",
     "output_type": "stream",
     "text": [
      "\r",
      "  1%|▍                                       | 12/1000 [00:11<14:43,  1.12it/s]"
     ]
    },
    {
     "name": "stdout",
     "output_type": "stream",
     "text": [
      "66 (score = 0.70005)\n",
      "105 (score = 0.61089)\n",
      "153 (score = 0.58150)\n",
      "17 (score = 0.56922)\n",
      "171 (score = 0.55707)\n",
      "214 (score = 0.55380)\n",
      "106 (score = 0.54979)\n",
      "222 (score = 0.54933)\n",
      "138 (score = 0.53911)\n"
     ]
    },
    {
     "name": "stderr",
     "output_type": "stream",
     "text": [
      "\r",
      "  1%|▌                                       | 13/1000 [00:13<15:33,  1.06it/s]"
     ]
    },
    {
     "name": "stdout",
     "output_type": "stream",
     "text": [
      "66 (score = 0.63308)\n",
      "105 (score = 0.56727)\n",
      "153 (score = 0.54998)\n",
      "17 (score = 0.54463)\n",
      "171 (score = 0.53636)\n",
      "214 (score = 0.53347)\n",
      "106 (score = 0.52893)\n",
      "19 (score = 0.52569)\n",
      "222 (score = 0.52285)\n"
     ]
    },
    {
     "name": "stderr",
     "output_type": "stream",
     "text": [
      "\r",
      "  1%|▌                                       | 14/1000 [00:13<15:15,  1.08it/s]"
     ]
    },
    {
     "name": "stdout",
     "output_type": "stream",
     "text": [
      "66 (score = 0.71114)\n",
      "105 (score = 0.63200)\n",
      "153 (score = 0.60099)\n",
      "17 (score = 0.57820)\n",
      "171 (score = 0.55866)\n",
      "106 (score = 0.55782)\n",
      "214 (score = 0.55469)\n",
      "222 (score = 0.55048)\n",
      "138 (score = 0.54262)\n"
     ]
    },
    {
     "name": "stderr",
     "output_type": "stream",
     "text": [
      "\r",
      "  2%|▌                                       | 15/1000 [00:14<15:08,  1.08it/s]"
     ]
    },
    {
     "name": "stdout",
     "output_type": "stream",
     "text": [
      "66 (score = 0.67228)\n",
      "105 (score = 0.60473)\n",
      "153 (score = 0.57717)\n",
      "17 (score = 0.55941)\n",
      "106 (score = 0.55038)\n",
      "171 (score = 0.54702)\n",
      "214 (score = 0.54184)\n",
      "222 (score = 0.53971)\n",
      "138 (score = 0.53646)\n"
     ]
    },
    {
     "name": "stderr",
     "output_type": "stream",
     "text": [
      "\r",
      "  2%|▋                                       | 16/1000 [00:15<15:32,  1.06it/s]"
     ]
    },
    {
     "name": "stdout",
     "output_type": "stream",
     "text": [
      "66 (score = 0.66727)\n",
      "105 (score = 0.59031)\n",
      "153 (score = 0.57435)\n",
      "17 (score = 0.55279)\n",
      "171 (score = 0.54829)\n",
      "106 (score = 0.54543)\n",
      "214 (score = 0.54263)\n",
      "222 (score = 0.53231)\n",
      "138 (score = 0.53029)\n"
     ]
    },
    {
     "name": "stderr",
     "output_type": "stream",
     "text": [
      "\r",
      "  2%|▋                                       | 17/1000 [00:16<15:05,  1.09it/s]"
     ]
    },
    {
     "name": "stdout",
     "output_type": "stream",
     "text": [
      "66 (score = 0.60224)\n",
      "105 (score = 0.54958)\n",
      "17 (score = 0.53527)\n",
      "153 (score = 0.53468)\n",
      "171 (score = 0.52871)\n",
      "214 (score = 0.52375)\n",
      "222 (score = 0.52197)\n",
      "106 (score = 0.52026)\n",
      "62 (score = 0.51884)\n"
     ]
    },
    {
     "name": "stderr",
     "output_type": "stream",
     "text": [
      "\r",
      "  2%|▋                                       | 18/1000 [00:17<14:30,  1.13it/s]"
     ]
    },
    {
     "name": "stdout",
     "output_type": "stream",
     "text": [
      "66 (score = 0.66682)\n",
      "105 (score = 0.58519)\n",
      "153 (score = 0.56578)\n",
      "17 (score = 0.55646)\n",
      "214 (score = 0.54274)\n",
      "171 (score = 0.54241)\n",
      "106 (score = 0.53577)\n",
      "222 (score = 0.53528)\n",
      "19 (score = 0.53216)\n"
     ]
    },
    {
     "name": "stderr",
     "output_type": "stream",
     "text": [
      "\r",
      "  2%|▊                                       | 19/1000 [00:18<14:26,  1.13it/s]"
     ]
    },
    {
     "name": "stdout",
     "output_type": "stream",
     "text": [
      "66 (score = 0.67136)\n",
      "105 (score = 0.58751)\n",
      "153 (score = 0.56742)\n",
      "17 (score = 0.55707)\n",
      "171 (score = 0.54735)\n",
      "214 (score = 0.54351)\n",
      "106 (score = 0.53792)\n",
      "222 (score = 0.53453)\n",
      "19 (score = 0.53394)\n"
     ]
    },
    {
     "name": "stderr",
     "output_type": "stream",
     "text": [
      "\r",
      "  2%|▊                                       | 20/1000 [00:19<14:05,  1.16it/s]"
     ]
    },
    {
     "name": "stdout",
     "output_type": "stream",
     "text": [
      "66 (score = 0.65552)\n",
      "105 (score = 0.58793)\n",
      "153 (score = 0.56363)\n",
      "17 (score = 0.55012)\n",
      "171 (score = 0.54311)\n",
      "106 (score = 0.53881)\n",
      "214 (score = 0.53832)\n",
      "222 (score = 0.53280)\n",
      "138 (score = 0.52814)\n"
     ]
    },
    {
     "name": "stderr",
     "output_type": "stream",
     "text": [
      "\r",
      "  2%|▊                                       | 21/1000 [00:20<14:23,  1.13it/s]"
     ]
    },
    {
     "name": "stdout",
     "output_type": "stream",
     "text": [
      "66 (score = 0.69026)\n",
      "105 (score = 0.60418)\n",
      "153 (score = 0.57723)\n",
      "17 (score = 0.56402)\n",
      "171 (score = 0.55873)\n",
      "214 (score = 0.54667)\n",
      "106 (score = 0.54505)\n",
      "222 (score = 0.54071)\n",
      "62 (score = 0.53581)\n"
     ]
    },
    {
     "name": "stderr",
     "output_type": "stream",
     "text": [
      "\r",
      "  2%|▉                                       | 22/1000 [00:21<14:47,  1.10it/s]"
     ]
    },
    {
     "name": "stdout",
     "output_type": "stream",
     "text": [
      "66 (score = 0.71783)\n",
      "105 (score = 0.62330)\n",
      "153 (score = 0.59231)\n",
      "17 (score = 0.57336)\n",
      "171 (score = 0.56161)\n",
      "214 (score = 0.55540)\n",
      "106 (score = 0.55532)\n",
      "222 (score = 0.54474)\n",
      "138 (score = 0.54367)\n"
     ]
    },
    {
     "name": "stderr",
     "output_type": "stream",
     "text": [
      "\r",
      "  2%|▉                                       | 23/1000 [00:21<14:43,  1.11it/s]"
     ]
    },
    {
     "name": "stdout",
     "output_type": "stream",
     "text": [
      "66 (score = 0.66583)\n",
      "105 (score = 0.59028)\n",
      "153 (score = 0.56513)\n",
      "17 (score = 0.55499)\n",
      "171 (score = 0.54815)\n",
      "214 (score = 0.53949)\n",
      "106 (score = 0.53929)\n",
      "222 (score = 0.53526)\n",
      "62 (score = 0.53122)\n"
     ]
    },
    {
     "name": "stderr",
     "output_type": "stream",
     "text": [
      "\r",
      "  2%|▉                                       | 24/1000 [00:22<14:22,  1.13it/s]"
     ]
    },
    {
     "name": "stdout",
     "output_type": "stream",
     "text": [
      "66 (score = 0.71433)\n",
      "105 (score = 0.62285)\n",
      "153 (score = 0.59042)\n",
      "17 (score = 0.57423)\n",
      "171 (score = 0.55696)\n",
      "214 (score = 0.55580)\n",
      "106 (score = 0.55161)\n",
      "222 (score = 0.54877)\n",
      "62 (score = 0.54026)\n"
     ]
    },
    {
     "name": "stderr",
     "output_type": "stream",
     "text": [
      "\r",
      "  2%|█                                       | 25/1000 [00:23<14:04,  1.15it/s]"
     ]
    },
    {
     "name": "stdout",
     "output_type": "stream",
     "text": [
      "66 (score = 0.62433)\n",
      "105 (score = 0.56314)\n",
      "17 (score = 0.54368)\n",
      "153 (score = 0.53997)\n",
      "171 (score = 0.53367)\n",
      "214 (score = 0.53237)\n",
      "106 (score = 0.53136)\n",
      "222 (score = 0.52606)\n",
      "19 (score = 0.52158)\n"
     ]
    },
    {
     "name": "stderr",
     "output_type": "stream",
     "text": [
      "\r",
      "  3%|█                                       | 26/1000 [00:24<13:39,  1.19it/s]"
     ]
    },
    {
     "name": "stdout",
     "output_type": "stream",
     "text": [
      "66 (score = 0.63783)\n",
      "105 (score = 0.58052)\n",
      "153 (score = 0.55991)\n",
      "17 (score = 0.54457)\n",
      "171 (score = 0.53861)\n",
      "106 (score = 0.53778)\n",
      "214 (score = 0.53251)\n",
      "222 (score = 0.52799)\n",
      "138 (score = 0.52734)\n"
     ]
    },
    {
     "name": "stderr",
     "output_type": "stream",
     "text": [
      "\r",
      "  3%|█                                       | 27/1000 [00:25<13:24,  1.21it/s]"
     ]
    },
    {
     "name": "stdout",
     "output_type": "stream",
     "text": [
      "66 (score = 0.65327)\n",
      "105 (score = 0.59007)\n",
      "153 (score = 0.56740)\n",
      "17 (score = 0.55282)\n",
      "106 (score = 0.54675)\n",
      "171 (score = 0.54026)\n",
      "214 (score = 0.53849)\n",
      "222 (score = 0.53242)\n",
      "138 (score = 0.53118)\n"
     ]
    },
    {
     "name": "stderr",
     "output_type": "stream",
     "text": [
      "\r",
      "  3%|█                                       | 28/1000 [00:26<13:20,  1.21it/s]"
     ]
    },
    {
     "name": "stdout",
     "output_type": "stream",
     "text": [
      "66 (score = 0.66656)\n",
      "105 (score = 0.59246)\n",
      "153 (score = 0.57211)\n",
      "17 (score = 0.55740)\n",
      "171 (score = 0.55123)\n",
      "106 (score = 0.54415)\n",
      "214 (score = 0.54226)\n",
      "222 (score = 0.53134)\n",
      "138 (score = 0.53017)\n"
     ]
    },
    {
     "name": "stderr",
     "output_type": "stream",
     "text": [
      "\r",
      "  3%|█▏                                      | 29/1000 [00:26<13:56,  1.16it/s]"
     ]
    },
    {
     "name": "stdout",
     "output_type": "stream",
     "text": [
      "66 (score = 0.66798)\n",
      "105 (score = 0.59596)\n",
      "153 (score = 0.57211)\n",
      "17 (score = 0.55717)\n",
      "171 (score = 0.54776)\n",
      "106 (score = 0.54519)\n",
      "214 (score = 0.54252)\n",
      "222 (score = 0.54095)\n",
      "138 (score = 0.53389)\n"
     ]
    },
    {
     "name": "stderr",
     "output_type": "stream",
     "text": [
      "\r",
      "  3%|█▏                                      | 30/1000 [00:27<13:59,  1.16it/s]"
     ]
    },
    {
     "name": "stdout",
     "output_type": "stream",
     "text": [
      "66 (score = 0.67977)\n",
      "105 (score = 0.59720)\n",
      "153 (score = 0.56937)\n",
      "17 (score = 0.56485)\n",
      "171 (score = 0.55068)\n",
      "214 (score = 0.54523)\n",
      "106 (score = 0.54210)\n",
      "222 (score = 0.54004)\n",
      "62 (score = 0.53252)\n"
     ]
    },
    {
     "name": "stderr",
     "output_type": "stream",
     "text": [
      "\r",
      "  3%|█▏                                      | 31/1000 [00:28<13:24,  1.20it/s]"
     ]
    },
    {
     "name": "stdout",
     "output_type": "stream",
     "text": [
      "66 (score = 0.63454)\n",
      "105 (score = 0.57284)\n",
      "153 (score = 0.55571)\n",
      "17 (score = 0.54514)\n",
      "106 (score = 0.53401)\n",
      "214 (score = 0.53225)\n",
      "171 (score = 0.53132)\n",
      "222 (score = 0.52883)\n",
      "176 (score = 0.52360)\n"
     ]
    },
    {
     "name": "stderr",
     "output_type": "stream",
     "text": [
      "\r",
      "  3%|█▎                                      | 32/1000 [00:29<13:08,  1.23it/s]"
     ]
    },
    {
     "name": "stdout",
     "output_type": "stream",
     "text": [
      "66 (score = 0.72562)\n",
      "105 (score = 0.62457)\n",
      "153 (score = 0.59612)\n",
      "17 (score = 0.58065)\n",
      "171 (score = 0.56952)\n",
      "214 (score = 0.55669)\n",
      "106 (score = 0.55573)\n",
      "222 (score = 0.54973)\n",
      "138 (score = 0.54242)\n"
     ]
    },
    {
     "name": "stderr",
     "output_type": "stream",
     "text": [
      "\r",
      "  3%|█▎                                      | 33/1000 [00:30<13:28,  1.20it/s]"
     ]
    },
    {
     "name": "stdout",
     "output_type": "stream",
     "text": [
      "66 (score = 0.65697)\n",
      "105 (score = 0.59929)\n",
      "153 (score = 0.56991)\n",
      "17 (score = 0.55216)\n",
      "171 (score = 0.54527)\n",
      "106 (score = 0.54520)\n",
      "214 (score = 0.54236)\n",
      "222 (score = 0.53563)\n",
      "138 (score = 0.53474)\n"
     ]
    },
    {
     "name": "stderr",
     "output_type": "stream",
     "text": [
      "\r",
      "  3%|█▎                                      | 34/1000 [00:31<13:14,  1.22it/s]"
     ]
    },
    {
     "name": "stdout",
     "output_type": "stream",
     "text": [
      "66 (score = 0.67128)\n",
      "105 (score = 0.59211)\n",
      "153 (score = 0.56526)\n",
      "17 (score = 0.55630)\n",
      "171 (score = 0.55254)\n",
      "214 (score = 0.54534)\n",
      "106 (score = 0.54376)\n",
      "138 (score = 0.53497)\n",
      "222 (score = 0.53197)\n"
     ]
    },
    {
     "name": "stderr",
     "output_type": "stream",
     "text": [
      "\r",
      "  4%|█▍                                      | 35/1000 [00:31<13:15,  1.21it/s]"
     ]
    },
    {
     "name": "stdout",
     "output_type": "stream",
     "text": [
      "66 (score = 0.71465)\n",
      "105 (score = 0.62238)\n",
      "153 (score = 0.59375)\n",
      "17 (score = 0.57487)\n",
      "171 (score = 0.55872)\n",
      "214 (score = 0.55584)\n",
      "106 (score = 0.55099)\n",
      "222 (score = 0.54833)\n",
      "138 (score = 0.54082)\n"
     ]
    },
    {
     "name": "stderr",
     "output_type": "stream",
     "text": [
      "\r",
      "  4%|█▍                                      | 36/1000 [00:32<13:06,  1.23it/s]"
     ]
    },
    {
     "name": "stdout",
     "output_type": "stream",
     "text": [
      "66 (score = 0.66003)\n",
      "105 (score = 0.59481)\n",
      "153 (score = 0.56978)\n",
      "17 (score = 0.55442)\n",
      "106 (score = 0.54587)\n",
      "214 (score = 0.54152)\n",
      "171 (score = 0.54108)\n",
      "222 (score = 0.53377)\n",
      "138 (score = 0.53203)\n"
     ]
    },
    {
     "name": "stderr",
     "output_type": "stream",
     "text": [
      "\r",
      "  4%|█▍                                      | 37/1000 [00:33<12:43,  1.26it/s]"
     ]
    },
    {
     "name": "stdout",
     "output_type": "stream",
     "text": [
      "66 (score = 0.66630)\n",
      "105 (score = 0.59727)\n",
      "153 (score = 0.56993)\n",
      "17 (score = 0.55893)\n",
      "171 (score = 0.54444)\n",
      "214 (score = 0.54434)\n",
      "106 (score = 0.54326)\n",
      "222 (score = 0.53747)\n",
      "138 (score = 0.52986)\n"
     ]
    },
    {
     "name": "stderr",
     "output_type": "stream",
     "text": [
      "\r",
      "  4%|█▌                                      | 38/1000 [00:34<12:36,  1.27it/s]"
     ]
    },
    {
     "name": "stdout",
     "output_type": "stream",
     "text": [
      "66 (score = 0.63443)\n",
      "105 (score = 0.57313)\n",
      "153 (score = 0.55727)\n",
      "17 (score = 0.54108)\n",
      "171 (score = 0.53838)\n",
      "106 (score = 0.53780)\n",
      "214 (score = 0.53748)\n",
      "222 (score = 0.52576)\n",
      "138 (score = 0.52499)\n"
     ]
    },
    {
     "name": "stderr",
     "output_type": "stream",
     "text": [
      "\r",
      "  4%|█▌                                      | 39/1000 [00:35<12:44,  1.26it/s]"
     ]
    },
    {
     "name": "stdout",
     "output_type": "stream",
     "text": [
      "66 (score = 0.65069)\n",
      "105 (score = 0.58140)\n",
      "153 (score = 0.56280)\n",
      "17 (score = 0.55120)\n",
      "171 (score = 0.54384)\n",
      "106 (score = 0.53942)\n",
      "214 (score = 0.53628)\n",
      "222 (score = 0.52983)\n",
      "138 (score = 0.52717)\n"
     ]
    },
    {
     "name": "stderr",
     "output_type": "stream",
     "text": [
      "\r",
      "  4%|█▌                                      | 40/1000 [00:35<12:41,  1.26it/s]"
     ]
    },
    {
     "name": "stdout",
     "output_type": "stream",
     "text": [
      "66 (score = 0.67748)\n",
      "105 (score = 0.60515)\n",
      "153 (score = 0.57248)\n",
      "17 (score = 0.56396)\n",
      "106 (score = 0.54813)\n",
      "171 (score = 0.54736)\n",
      "214 (score = 0.54601)\n",
      "222 (score = 0.54106)\n",
      "138 (score = 0.53510)\n"
     ]
    },
    {
     "name": "stderr",
     "output_type": "stream",
     "text": [
      "\r",
      "  4%|█▋                                      | 41/1000 [00:36<12:29,  1.28it/s]"
     ]
    },
    {
     "name": "stdout",
     "output_type": "stream",
     "text": [
      "66 (score = 0.66909)\n",
      "105 (score = 0.59712)\n",
      "153 (score = 0.57591)\n",
      "17 (score = 0.55008)\n",
      "106 (score = 0.54769)\n",
      "171 (score = 0.54399)\n",
      "214 (score = 0.54107)\n",
      "222 (score = 0.53473)\n",
      "138 (score = 0.53084)\n"
     ]
    },
    {
     "name": "stderr",
     "output_type": "stream",
     "text": [
      "\r",
      "  4%|█▋                                      | 42/1000 [00:37<12:45,  1.25it/s]"
     ]
    },
    {
     "name": "stdout",
     "output_type": "stream",
     "text": [
      "66 (score = 0.65981)\n",
      "105 (score = 0.58982)\n",
      "153 (score = 0.56842)\n",
      "17 (score = 0.55414)\n",
      "171 (score = 0.54333)\n",
      "106 (score = 0.53916)\n",
      "214 (score = 0.53778)\n",
      "222 (score = 0.53125)\n",
      "138 (score = 0.52884)\n"
     ]
    },
    {
     "name": "stderr",
     "output_type": "stream",
     "text": [
      "\r",
      "  4%|█▋                                      | 43/1000 [00:38<13:18,  1.20it/s]"
     ]
    },
    {
     "name": "stdout",
     "output_type": "stream",
     "text": [
      "66 (score = 0.64830)\n",
      "105 (score = 0.58054)\n",
      "153 (score = 0.55498)\n",
      "17 (score = 0.54952)\n",
      "171 (score = 0.54830)\n",
      "106 (score = 0.54032)\n",
      "214 (score = 0.53547)\n",
      "222 (score = 0.52989)\n",
      "19 (score = 0.52585)\n"
     ]
    },
    {
     "name": "stderr",
     "output_type": "stream",
     "text": [
      "\r",
      "  4%|█▊                                      | 44/1000 [00:39<13:20,  1.19it/s]"
     ]
    },
    {
     "name": "stdout",
     "output_type": "stream",
     "text": [
      "66 (score = 0.65412)\n",
      "105 (score = 0.58935)\n",
      "153 (score = 0.56633)\n",
      "17 (score = 0.55307)\n",
      "106 (score = 0.54015)\n",
      "171 (score = 0.54000)\n",
      "214 (score = 0.53787)\n",
      "222 (score = 0.53410)\n",
      "176 (score = 0.52701)\n"
     ]
    },
    {
     "name": "stderr",
     "output_type": "stream",
     "text": [
      "\r",
      "  4%|█▊                                      | 45/1000 [00:40<13:28,  1.18it/s]"
     ]
    },
    {
     "name": "stdout",
     "output_type": "stream",
     "text": [
      "66 (score = 0.65337)\n",
      "105 (score = 0.57738)\n",
      "153 (score = 0.55297)\n",
      "17 (score = 0.54830)\n",
      "171 (score = 0.53914)\n",
      "214 (score = 0.53754)\n",
      "106 (score = 0.53288)\n",
      "222 (score = 0.53158)\n",
      "138 (score = 0.52629)\n"
     ]
    },
    {
     "name": "stderr",
     "output_type": "stream",
     "text": [
      "\r",
      "  5%|█▊                                      | 46/1000 [00:41<14:27,  1.10it/s]"
     ]
    },
    {
     "name": "stdout",
     "output_type": "stream",
     "text": [
      "66 (score = 0.63635)\n",
      "105 (score = 0.57429)\n",
      "153 (score = 0.55593)\n",
      "17 (score = 0.54387)\n",
      "171 (score = 0.53956)\n",
      "106 (score = 0.53445)\n",
      "214 (score = 0.53347)\n",
      "222 (score = 0.52320)\n",
      "138 (score = 0.52167)\n"
     ]
    },
    {
     "name": "stderr",
     "output_type": "stream",
     "text": [
      "\r",
      "  5%|█▉                                      | 47/1000 [00:41<14:22,  1.10it/s]"
     ]
    },
    {
     "name": "stdout",
     "output_type": "stream",
     "text": [
      "66 (score = 0.65019)\n",
      "105 (score = 0.59531)\n",
      "153 (score = 0.56924)\n",
      "17 (score = 0.55274)\n",
      "106 (score = 0.54457)\n",
      "171 (score = 0.54009)\n",
      "214 (score = 0.53584)\n",
      "138 (score = 0.53473)\n",
      "222 (score = 0.53016)\n"
     ]
    },
    {
     "name": "stderr",
     "output_type": "stream",
     "text": [
      "\r",
      "  5%|█▉                                      | 48/1000 [00:42<14:03,  1.13it/s]"
     ]
    },
    {
     "name": "stdout",
     "output_type": "stream",
     "text": [
      "66 (score = 0.63903)\n",
      "105 (score = 0.58759)\n",
      "153 (score = 0.56480)\n",
      "17 (score = 0.54293)\n",
      "106 (score = 0.53899)\n",
      "214 (score = 0.53615)\n",
      "138 (score = 0.53457)\n",
      "171 (score = 0.53136)\n",
      "222 (score = 0.52887)\n"
     ]
    },
    {
     "name": "stderr",
     "output_type": "stream",
     "text": [
      "\r",
      "  5%|█▉                                      | 49/1000 [00:43<13:56,  1.14it/s]"
     ]
    },
    {
     "name": "stdout",
     "output_type": "stream",
     "text": [
      "66 (score = 0.63106)\n",
      "105 (score = 0.56843)\n",
      "153 (score = 0.54788)\n",
      "17 (score = 0.54160)\n",
      "171 (score = 0.53849)\n",
      "214 (score = 0.53431)\n",
      "106 (score = 0.53229)\n",
      "222 (score = 0.52757)\n",
      "138 (score = 0.52247)\n"
     ]
    },
    {
     "name": "stderr",
     "output_type": "stream",
     "text": [
      "\r",
      "  5%|██                                      | 50/1000 [00:44<13:50,  1.14it/s]"
     ]
    },
    {
     "name": "stdout",
     "output_type": "stream",
     "text": [
      "66 (score = 0.61473)\n",
      "105 (score = 0.56080)\n",
      "153 (score = 0.55019)\n",
      "106 (score = 0.53636)\n",
      "171 (score = 0.53169)\n",
      "17 (score = 0.53159)\n",
      "214 (score = 0.53055)\n",
      "138 (score = 0.52517)\n",
      "222 (score = 0.52225)\n"
     ]
    },
    {
     "name": "stderr",
     "output_type": "stream",
     "text": [
      "\r",
      "  5%|██                                      | 51/1000 [00:45<14:10,  1.12it/s]"
     ]
    },
    {
     "name": "stdout",
     "output_type": "stream",
     "text": [
      "66 (score = 0.65825)\n",
      "105 (score = 0.58839)\n",
      "153 (score = 0.56339)\n",
      "17 (score = 0.55569)\n",
      "171 (score = 0.54553)\n",
      "106 (score = 0.54388)\n",
      "214 (score = 0.53916)\n",
      "138 (score = 0.53520)\n",
      "222 (score = 0.53240)\n"
     ]
    },
    {
     "name": "stderr",
     "output_type": "stream",
     "text": [
      "\r",
      "  5%|██                                      | 52/1000 [00:46<14:35,  1.08it/s]"
     ]
    },
    {
     "name": "stdout",
     "output_type": "stream",
     "text": [
      "66 (score = 0.70772)\n",
      "105 (score = 0.61706)\n",
      "153 (score = 0.59295)\n",
      "17 (score = 0.57360)\n",
      "171 (score = 0.56168)\n",
      "106 (score = 0.55150)\n",
      "214 (score = 0.55060)\n",
      "222 (score = 0.54085)\n",
      "138 (score = 0.54078)\n"
     ]
    },
    {
     "name": "stderr",
     "output_type": "stream",
     "text": [
      "\r",
      "  5%|██                                      | 53/1000 [00:47<14:00,  1.13it/s]"
     ]
    },
    {
     "name": "stdout",
     "output_type": "stream",
     "text": [
      "66 (score = 0.63792)\n",
      "105 (score = 0.57117)\n",
      "153 (score = 0.55948)\n",
      "17 (score = 0.54422)\n",
      "171 (score = 0.53798)\n",
      "214 (score = 0.53481)\n",
      "106 (score = 0.53327)\n",
      "138 (score = 0.52864)\n",
      "222 (score = 0.52860)\n"
     ]
    },
    {
     "name": "stderr",
     "output_type": "stream",
     "text": [
      "\r",
      "  5%|██▏                                     | 54/1000 [00:48<13:37,  1.16it/s]"
     ]
    },
    {
     "name": "stdout",
     "output_type": "stream",
     "text": [
      "66 (score = 0.63625)\n",
      "105 (score = 0.57559)\n",
      "153 (score = 0.55168)\n",
      "17 (score = 0.54754)\n",
      "171 (score = 0.53855)\n",
      "214 (score = 0.53475)\n",
      "106 (score = 0.53209)\n",
      "222 (score = 0.53079)\n",
      "62 (score = 0.52309)\n"
     ]
    },
    {
     "name": "stderr",
     "output_type": "stream",
     "text": [
      "\r",
      "  6%|██▏                                     | 55/1000 [00:48<13:08,  1.20it/s]"
     ]
    },
    {
     "name": "stdout",
     "output_type": "stream",
     "text": [
      "66 (score = 0.65048)\n",
      "105 (score = 0.58097)\n",
      "153 (score = 0.56298)\n",
      "17 (score = 0.55103)\n",
      "171 (score = 0.54620)\n",
      "214 (score = 0.53871)\n",
      "106 (score = 0.53505)\n",
      "138 (score = 0.52929)\n",
      "222 (score = 0.52921)\n"
     ]
    },
    {
     "name": "stderr",
     "output_type": "stream",
     "text": [
      "\r",
      "  6%|██▏                                     | 56/1000 [00:49<13:13,  1.19it/s]"
     ]
    },
    {
     "name": "stdout",
     "output_type": "stream",
     "text": [
      "66 (score = 0.70147)\n",
      "105 (score = 0.61832)\n",
      "153 (score = 0.58689)\n",
      "17 (score = 0.57049)\n",
      "171 (score = 0.55045)\n",
      "106 (score = 0.54949)\n",
      "214 (score = 0.54853)\n",
      "222 (score = 0.54408)\n",
      "138 (score = 0.53687)\n"
     ]
    },
    {
     "name": "stderr",
     "output_type": "stream",
     "text": [
      "\r",
      "  6%|██▎                                     | 57/1000 [00:50<14:02,  1.12it/s]"
     ]
    },
    {
     "name": "stdout",
     "output_type": "stream",
     "text": [
      "66 (score = 0.67223)\n",
      "105 (score = 0.58900)\n",
      "153 (score = 0.56829)\n",
      "17 (score = 0.55842)\n",
      "171 (score = 0.54978)\n",
      "214 (score = 0.54517)\n",
      "222 (score = 0.53956)\n",
      "106 (score = 0.53864)\n",
      "62 (score = 0.53290)\n"
     ]
    },
    {
     "name": "stderr",
     "output_type": "stream",
     "text": [
      "\r",
      "  6%|██▎                                     | 58/1000 [00:51<13:51,  1.13it/s]"
     ]
    },
    {
     "name": "stdout",
     "output_type": "stream",
     "text": [
      "66 (score = 0.64441)\n",
      "105 (score = 0.57844)\n",
      "153 (score = 0.55669)\n",
      "17 (score = 0.55305)\n",
      "171 (score = 0.54117)\n",
      "214 (score = 0.53656)\n",
      "106 (score = 0.53466)\n",
      "222 (score = 0.52562)\n",
      "137 (score = 0.52352)\n"
     ]
    },
    {
     "name": "stderr",
     "output_type": "stream",
     "text": [
      "\r",
      "  6%|██▎                                     | 59/1000 [00:52<14:14,  1.10it/s]"
     ]
    },
    {
     "name": "stdout",
     "output_type": "stream",
     "text": [
      "66 (score = 0.68652)\n",
      "105 (score = 0.60416)\n",
      "153 (score = 0.57850)\n",
      "17 (score = 0.56548)\n",
      "171 (score = 0.55384)\n",
      "106 (score = 0.54583)\n",
      "214 (score = 0.54562)\n",
      "222 (score = 0.54236)\n",
      "62 (score = 0.53530)\n"
     ]
    },
    {
     "name": "stderr",
     "output_type": "stream",
     "text": [
      "\r",
      "  6%|██▍                                     | 60/1000 [00:53<14:43,  1.06it/s]"
     ]
    },
    {
     "name": "stdout",
     "output_type": "stream",
     "text": [
      "66 (score = 0.66807)\n",
      "105 (score = 0.60066)\n",
      "153 (score = 0.57228)\n",
      "17 (score = 0.55473)\n",
      "171 (score = 0.54872)\n",
      "106 (score = 0.54649)\n",
      "214 (score = 0.53901)\n",
      "222 (score = 0.53840)\n",
      "138 (score = 0.53821)\n"
     ]
    },
    {
     "name": "stderr",
     "output_type": "stream",
     "text": [
      "\r",
      "  6%|██▍                                     | 61/1000 [00:54<14:16,  1.10it/s]"
     ]
    },
    {
     "name": "stdout",
     "output_type": "stream",
     "text": [
      "66 (score = 0.74249)\n",
      "105 (score = 0.64570)\n",
      "153 (score = 0.60967)\n",
      "17 (score = 0.58509)\n",
      "171 (score = 0.56832)\n",
      "106 (score = 0.56370)\n",
      "214 (score = 0.56316)\n",
      "222 (score = 0.55776)\n",
      "138 (score = 0.55287)\n"
     ]
    },
    {
     "name": "stderr",
     "output_type": "stream",
     "text": [
      "\r",
      "  6%|██▍                                     | 62/1000 [00:55<14:04,  1.11it/s]"
     ]
    },
    {
     "name": "stdout",
     "output_type": "stream",
     "text": [
      "66 (score = 0.66451)\n",
      "105 (score = 0.59888)\n",
      "153 (score = 0.57141)\n",
      "17 (score = 0.55207)\n",
      "106 (score = 0.54406)\n",
      "214 (score = 0.54243)\n",
      "171 (score = 0.54069)\n",
      "222 (score = 0.53586)\n",
      "62 (score = 0.52974)\n"
     ]
    },
    {
     "name": "stderr",
     "output_type": "stream",
     "text": [
      "\r",
      "  6%|██▌                                     | 63/1000 [00:56<14:45,  1.06it/s]"
     ]
    },
    {
     "name": "stdout",
     "output_type": "stream",
     "text": [
      "66 (score = 0.68965)\n",
      "105 (score = 0.61196)\n",
      "153 (score = 0.59094)\n",
      "17 (score = 0.56361)\n",
      "106 (score = 0.55522)\n",
      "171 (score = 0.55315)\n",
      "214 (score = 0.54834)\n",
      "222 (score = 0.54133)\n",
      "138 (score = 0.53933)\n"
     ]
    },
    {
     "name": "stderr",
     "output_type": "stream",
     "text": [
      "\r",
      "  6%|██▌                                     | 64/1000 [00:57<14:54,  1.05it/s]"
     ]
    },
    {
     "name": "stdout",
     "output_type": "stream",
     "text": [
      "66 (score = 0.68553)\n",
      "105 (score = 0.60826)\n",
      "153 (score = 0.58208)\n",
      "17 (score = 0.56030)\n",
      "171 (score = 0.55027)\n",
      "214 (score = 0.54750)\n",
      "106 (score = 0.54634)\n",
      "222 (score = 0.53829)\n",
      "138 (score = 0.53488)\n"
     ]
    },
    {
     "name": "stderr",
     "output_type": "stream",
     "text": [
      "\r",
      "  6%|██▌                                     | 65/1000 [00:58<14:11,  1.10it/s]"
     ]
    },
    {
     "name": "stdout",
     "output_type": "stream",
     "text": [
      "66 (score = 0.66463)\n",
      "105 (score = 0.59317)\n",
      "153 (score = 0.57190)\n",
      "17 (score = 0.55757)\n",
      "171 (score = 0.54823)\n",
      "106 (score = 0.54146)\n",
      "214 (score = 0.54052)\n",
      "222 (score = 0.53579)\n",
      "62 (score = 0.52881)\n"
     ]
    },
    {
     "name": "stderr",
     "output_type": "stream",
     "text": [
      "\r",
      "  7%|██▋                                     | 66/1000 [00:59<14:22,  1.08it/s]"
     ]
    },
    {
     "name": "stdout",
     "output_type": "stream",
     "text": [
      "66 (score = 0.72149)\n",
      "105 (score = 0.62129)\n",
      "153 (score = 0.58888)\n",
      "17 (score = 0.57677)\n",
      "171 (score = 0.56431)\n",
      "106 (score = 0.55198)\n",
      "214 (score = 0.55058)\n",
      "222 (score = 0.54958)\n",
      "138 (score = 0.54417)\n"
     ]
    },
    {
     "name": "stderr",
     "output_type": "stream",
     "text": [
      "\r",
      "  7%|██▋                                     | 67/1000 [00:59<13:49,  1.12it/s]"
     ]
    },
    {
     "name": "stdout",
     "output_type": "stream",
     "text": [
      "66 (score = 0.65651)\n",
      "105 (score = 0.59939)\n",
      "153 (score = 0.57357)\n",
      "17 (score = 0.55413)\n",
      "106 (score = 0.54639)\n",
      "171 (score = 0.54268)\n",
      "214 (score = 0.54121)\n",
      "138 (score = 0.53725)\n",
      "222 (score = 0.53369)\n"
     ]
    },
    {
     "name": "stderr",
     "output_type": "stream",
     "text": [
      "\r",
      "  7%|██▋                                     | 68/1000 [01:00<13:34,  1.14it/s]"
     ]
    },
    {
     "name": "stdout",
     "output_type": "stream",
     "text": [
      "66 (score = 0.66388)\n",
      "105 (score = 0.59062)\n",
      "153 (score = 0.56836)\n",
      "17 (score = 0.55604)\n",
      "171 (score = 0.54597)\n",
      "214 (score = 0.53971)\n",
      "106 (score = 0.53935)\n",
      "222 (score = 0.53323)\n",
      "138 (score = 0.53035)\n"
     ]
    },
    {
     "name": "stderr",
     "output_type": "stream",
     "text": [
      "\r",
      "  7%|██▊                                     | 69/1000 [01:01<13:15,  1.17it/s]"
     ]
    },
    {
     "name": "stdout",
     "output_type": "stream",
     "text": [
      "66 (score = 0.66969)\n",
      "105 (score = 0.59563)\n",
      "153 (score = 0.56949)\n",
      "17 (score = 0.55789)\n",
      "171 (score = 0.54514)\n",
      "106 (score = 0.54402)\n",
      "214 (score = 0.53999)\n",
      "222 (score = 0.53580)\n",
      "138 (score = 0.53065)\n"
     ]
    },
    {
     "name": "stderr",
     "output_type": "stream",
     "text": [
      "\r",
      "  7%|██▊                                     | 70/1000 [01:02<12:51,  1.20it/s]"
     ]
    },
    {
     "name": "stdout",
     "output_type": "stream",
     "text": [
      "66 (score = 0.60965)\n",
      "105 (score = 0.55532)\n",
      "153 (score = 0.53877)\n",
      "17 (score = 0.53677)\n",
      "171 (score = 0.53096)\n",
      "214 (score = 0.52721)\n",
      "106 (score = 0.52474)\n",
      "222 (score = 0.51987)\n",
      "176 (score = 0.51868)\n"
     ]
    },
    {
     "name": "stderr",
     "output_type": "stream",
     "text": [
      "\r",
      "  7%|██▊                                     | 71/1000 [01:03<13:03,  1.19it/s]"
     ]
    },
    {
     "name": "stdout",
     "output_type": "stream",
     "text": [
      "66 (score = 0.68941)\n",
      "105 (score = 0.60395)\n",
      "153 (score = 0.57928)\n",
      "17 (score = 0.56781)\n",
      "171 (score = 0.55551)\n",
      "106 (score = 0.54722)\n",
      "214 (score = 0.54208)\n",
      "222 (score = 0.54183)\n",
      "138 (score = 0.53475)\n"
     ]
    },
    {
     "name": "stderr",
     "output_type": "stream",
     "text": [
      "\r",
      "  7%|██▉                                     | 72/1000 [01:04<13:07,  1.18it/s]"
     ]
    },
    {
     "name": "stdout",
     "output_type": "stream",
     "text": [
      "66 (score = 0.68761)\n",
      "105 (score = 0.61311)\n",
      "153 (score = 0.58804)\n",
      "17 (score = 0.56453)\n",
      "171 (score = 0.55299)\n",
      "106 (score = 0.55104)\n",
      "214 (score = 0.54745)\n",
      "222 (score = 0.54592)\n",
      "138 (score = 0.54415)\n"
     ]
    },
    {
     "name": "stderr",
     "output_type": "stream",
     "text": [
      "\r",
      "  7%|██▉                                     | 73/1000 [01:04<13:08,  1.18it/s]"
     ]
    },
    {
     "name": "stdout",
     "output_type": "stream",
     "text": [
      "66 (score = 0.63830)\n",
      "105 (score = 0.57417)\n",
      "153 (score = 0.55461)\n",
      "17 (score = 0.54532)\n",
      "214 (score = 0.53472)\n",
      "106 (score = 0.53422)\n",
      "171 (score = 0.53387)\n",
      "222 (score = 0.53028)\n",
      "62 (score = 0.52316)\n"
     ]
    },
    {
     "name": "stderr",
     "output_type": "stream",
     "text": [
      "\r",
      "  7%|██▉                                     | 74/1000 [01:05<13:13,  1.17it/s]"
     ]
    },
    {
     "name": "stdout",
     "output_type": "stream",
     "text": [
      "66 (score = 0.67889)\n",
      "105 (score = 0.60184)\n",
      "153 (score = 0.57441)\n",
      "17 (score = 0.55751)\n",
      "171 (score = 0.55567)\n",
      "106 (score = 0.54912)\n",
      "222 (score = 0.54442)\n",
      "214 (score = 0.54354)\n",
      "138 (score = 0.53626)\n"
     ]
    },
    {
     "name": "stderr",
     "output_type": "stream",
     "text": [
      "\r",
      "  8%|███                                     | 75/1000 [01:06<12:52,  1.20it/s]"
     ]
    },
    {
     "name": "stdout",
     "output_type": "stream",
     "text": [
      "66 (score = 0.67722)\n",
      "105 (score = 0.60371)\n",
      "153 (score = 0.57743)\n",
      "17 (score = 0.55738)\n",
      "171 (score = 0.55063)\n",
      "106 (score = 0.55035)\n",
      "214 (score = 0.54250)\n",
      "222 (score = 0.53853)\n",
      "138 (score = 0.53708)\n"
     ]
    },
    {
     "name": "stderr",
     "output_type": "stream",
     "text": [
      "\r",
      "  8%|███                                     | 76/1000 [01:07<12:40,  1.21it/s]"
     ]
    },
    {
     "name": "stdout",
     "output_type": "stream",
     "text": [
      "66 (score = 0.68506)\n",
      "105 (score = 0.60965)\n",
      "153 (score = 0.58121)\n",
      "17 (score = 0.56365)\n",
      "106 (score = 0.54815)\n",
      "171 (score = 0.54757)\n",
      "214 (score = 0.54506)\n",
      "138 (score = 0.54050)\n",
      "222 (score = 0.53896)\n"
     ]
    },
    {
     "name": "stderr",
     "output_type": "stream",
     "text": [
      "\r",
      "  8%|███                                     | 77/1000 [01:08<12:23,  1.24it/s]"
     ]
    },
    {
     "name": "stdout",
     "output_type": "stream",
     "text": [
      "66 (score = 0.68361)\n",
      "105 (score = 0.60228)\n",
      "153 (score = 0.57717)\n",
      "17 (score = 0.56490)\n",
      "106 (score = 0.55022)\n",
      "171 (score = 0.54938)\n",
      "214 (score = 0.54541)\n",
      "222 (score = 0.54275)\n",
      "138 (score = 0.53525)\n"
     ]
    },
    {
     "name": "stderr",
     "output_type": "stream",
     "text": [
      "\r",
      "  8%|███                                     | 78/1000 [01:08<12:32,  1.22it/s]"
     ]
    },
    {
     "name": "stdout",
     "output_type": "stream",
     "text": [
      "66 (score = 0.68887)\n",
      "105 (score = 0.60964)\n",
      "153 (score = 0.58309)\n",
      "17 (score = 0.56509)\n",
      "171 (score = 0.54978)\n",
      "106 (score = 0.54706)\n",
      "214 (score = 0.54587)\n",
      "222 (score = 0.54164)\n",
      "138 (score = 0.53598)\n"
     ]
    },
    {
     "name": "stderr",
     "output_type": "stream",
     "text": [
      "\r",
      "  8%|███▏                                    | 79/1000 [01:09<12:48,  1.20it/s]"
     ]
    },
    {
     "name": "stdout",
     "output_type": "stream",
     "text": [
      "66 (score = 0.64810)\n",
      "105 (score = 0.58234)\n",
      "153 (score = 0.56333)\n",
      "17 (score = 0.54694)\n",
      "171 (score = 0.54566)\n",
      "106 (score = 0.54422)\n",
      "214 (score = 0.53614)\n",
      "222 (score = 0.53175)\n",
      "138 (score = 0.53140)\n"
     ]
    },
    {
     "name": "stderr",
     "output_type": "stream",
     "text": [
      "\r",
      "  8%|███▏                                    | 80/1000 [01:10<12:38,  1.21it/s]"
     ]
    },
    {
     "name": "stdout",
     "output_type": "stream",
     "text": [
      "66 (score = 0.67739)\n",
      "105 (score = 0.59884)\n",
      "153 (score = 0.57866)\n",
      "17 (score = 0.55839)\n",
      "171 (score = 0.54735)\n",
      "106 (score = 0.54699)\n",
      "214 (score = 0.54483)\n",
      "222 (score = 0.53659)\n",
      "138 (score = 0.53250)\n"
     ]
    },
    {
     "name": "stderr",
     "output_type": "stream",
     "text": [
      "\r",
      "  8%|███▏                                    | 81/1000 [01:11<12:20,  1.24it/s]"
     ]
    },
    {
     "name": "stdout",
     "output_type": "stream",
     "text": [
      "66 (score = 0.63119)\n",
      "105 (score = 0.57205)\n",
      "153 (score = 0.55355)\n",
      "17 (score = 0.54432)\n",
      "106 (score = 0.53487)\n",
      "171 (score = 0.53394)\n",
      "214 (score = 0.53217)\n",
      "222 (score = 0.52779)\n",
      "138 (score = 0.52349)\n"
     ]
    },
    {
     "name": "stderr",
     "output_type": "stream",
     "text": [
      "\r",
      "  8%|███▎                                    | 82/1000 [01:12<12:19,  1.24it/s]"
     ]
    },
    {
     "name": "stdout",
     "output_type": "stream",
     "text": [
      "66 (score = 0.66441)\n",
      "105 (score = 0.58799)\n",
      "153 (score = 0.57098)\n",
      "17 (score = 0.55729)\n",
      "106 (score = 0.54524)\n",
      "171 (score = 0.54448)\n",
      "214 (score = 0.53791)\n",
      "222 (score = 0.53777)\n",
      "138 (score = 0.52986)\n"
     ]
    },
    {
     "name": "stderr",
     "output_type": "stream",
     "text": [
      "\r",
      "  8%|███▎                                    | 83/1000 [01:13<12:20,  1.24it/s]"
     ]
    },
    {
     "name": "stdout",
     "output_type": "stream",
     "text": [
      "66 (score = 0.65722)\n",
      "105 (score = 0.59796)\n",
      "153 (score = 0.56940)\n",
      "17 (score = 0.55404)\n",
      "106 (score = 0.54587)\n",
      "171 (score = 0.54216)\n",
      "214 (score = 0.54194)\n",
      "138 (score = 0.53535)\n",
      "222 (score = 0.53522)\n"
     ]
    },
    {
     "name": "stderr",
     "output_type": "stream",
     "text": [
      "\r",
      "  8%|███▎                                    | 84/1000 [01:13<12:34,  1.21it/s]"
     ]
    },
    {
     "name": "stdout",
     "output_type": "stream",
     "text": [
      "66 (score = 0.67950)\n",
      "105 (score = 0.60152)\n",
      "153 (score = 0.57923)\n",
      "17 (score = 0.56272)\n",
      "171 (score = 0.55424)\n",
      "106 (score = 0.54825)\n",
      "214 (score = 0.54698)\n",
      "222 (score = 0.53625)\n",
      "138 (score = 0.53311)\n"
     ]
    },
    {
     "name": "stderr",
     "output_type": "stream",
     "text": [
      "\r",
      "  8%|███▍                                    | 85/1000 [01:14<12:40,  1.20it/s]"
     ]
    },
    {
     "name": "stdout",
     "output_type": "stream",
     "text": [
      "66 (score = 0.68283)\n",
      "105 (score = 0.60254)\n",
      "153 (score = 0.57608)\n",
      "17 (score = 0.56307)\n",
      "171 (score = 0.55171)\n",
      "106 (score = 0.54805)\n",
      "214 (score = 0.54427)\n",
      "222 (score = 0.53981)\n",
      "62 (score = 0.53640)\n"
     ]
    },
    {
     "name": "stderr",
     "output_type": "stream",
     "text": [
      "\r",
      "  9%|███▍                                    | 86/1000 [01:15<12:34,  1.21it/s]"
     ]
    },
    {
     "name": "stdout",
     "output_type": "stream",
     "text": [
      "66 (score = 0.66511)\n",
      "105 (score = 0.59808)\n",
      "153 (score = 0.56704)\n",
      "17 (score = 0.55772)\n",
      "171 (score = 0.54349)\n",
      "214 (score = 0.54179)\n",
      "106 (score = 0.53881)\n",
      "222 (score = 0.53436)\n",
      "138 (score = 0.53076)\n"
     ]
    },
    {
     "name": "stderr",
     "output_type": "stream",
     "text": [
      "\r",
      "  9%|███▍                                    | 87/1000 [01:16<12:20,  1.23it/s]"
     ]
    },
    {
     "name": "stdout",
     "output_type": "stream",
     "text": [
      "66 (score = 0.66070)\n",
      "105 (score = 0.59494)\n",
      "153 (score = 0.56744)\n",
      "17 (score = 0.55075)\n",
      "171 (score = 0.54774)\n",
      "106 (score = 0.54295)\n",
      "214 (score = 0.54038)\n",
      "222 (score = 0.53389)\n",
      "138 (score = 0.52813)\n"
     ]
    },
    {
     "name": "stderr",
     "output_type": "stream",
     "text": [
      "\r",
      "  9%|███▌                                    | 88/1000 [01:17<12:11,  1.25it/s]"
     ]
    },
    {
     "name": "stdout",
     "output_type": "stream",
     "text": [
      "66 (score = 0.63239)\n",
      "105 (score = 0.57121)\n",
      "153 (score = 0.55236)\n",
      "17 (score = 0.54558)\n",
      "171 (score = 0.53962)\n",
      "106 (score = 0.53227)\n",
      "214 (score = 0.53018)\n",
      "222 (score = 0.52565)\n",
      "62 (score = 0.52511)\n"
     ]
    },
    {
     "name": "stderr",
     "output_type": "stream",
     "text": [
      "\r",
      "  9%|███▌                                    | 89/1000 [01:17<12:18,  1.23it/s]"
     ]
    },
    {
     "name": "stdout",
     "output_type": "stream",
     "text": [
      "66 (score = 0.68630)\n",
      "105 (score = 0.60609)\n",
      "153 (score = 0.57633)\n",
      "17 (score = 0.56256)\n",
      "171 (score = 0.55563)\n",
      "106 (score = 0.54803)\n",
      "214 (score = 0.54532)\n",
      "222 (score = 0.54011)\n",
      "138 (score = 0.53533)\n"
     ]
    },
    {
     "name": "stderr",
     "output_type": "stream",
     "text": [
      "\r",
      "  9%|███▌                                    | 90/1000 [01:18<12:22,  1.23it/s]"
     ]
    },
    {
     "name": "stdout",
     "output_type": "stream",
     "text": [
      "66 (score = 0.67610)\n",
      "105 (score = 0.59194)\n",
      "153 (score = 0.56337)\n",
      "17 (score = 0.56118)\n",
      "171 (score = 0.54957)\n",
      "214 (score = 0.54530)\n",
      "106 (score = 0.54190)\n",
      "222 (score = 0.53771)\n",
      "62 (score = 0.53333)\n"
     ]
    },
    {
     "name": "stderr",
     "output_type": "stream",
     "text": [
      "\r",
      "  9%|███▋                                    | 91/1000 [01:19<12:21,  1.23it/s]"
     ]
    },
    {
     "name": "stdout",
     "output_type": "stream",
     "text": [
      "66 (score = 0.60592)\n",
      "105 (score = 0.56344)\n",
      "153 (score = 0.54274)\n",
      "17 (score = 0.53725)\n",
      "106 (score = 0.53205)\n",
      "171 (score = 0.53038)\n",
      "214 (score = 0.52370)\n",
      "138 (score = 0.52261)\n",
      "222 (score = 0.52001)\n"
     ]
    },
    {
     "name": "stderr",
     "output_type": "stream",
     "text": [
      "\r",
      "  9%|███▋                                    | 92/1000 [01:20<12:14,  1.24it/s]"
     ]
    },
    {
     "name": "stdout",
     "output_type": "stream",
     "text": [
      "66 (score = 0.67776)\n",
      "105 (score = 0.60748)\n",
      "153 (score = 0.58199)\n",
      "17 (score = 0.56231)\n",
      "106 (score = 0.55084)\n",
      "171 (score = 0.54780)\n",
      "214 (score = 0.54438)\n",
      "222 (score = 0.53768)\n",
      "62 (score = 0.53362)\n"
     ]
    },
    {
     "name": "stderr",
     "output_type": "stream",
     "text": [
      "\r",
      "  9%|███▋                                    | 93/1000 [01:21<12:09,  1.24it/s]"
     ]
    },
    {
     "name": "stdout",
     "output_type": "stream",
     "text": [
      "66 (score = 0.68061)\n",
      "105 (score = 0.58947)\n",
      "153 (score = 0.56616)\n",
      "17 (score = 0.56029)\n",
      "171 (score = 0.55244)\n",
      "214 (score = 0.54822)\n",
      "222 (score = 0.54081)\n",
      "106 (score = 0.54013)\n",
      "19 (score = 0.53429)\n"
     ]
    },
    {
     "name": "stderr",
     "output_type": "stream",
     "text": [
      "\r",
      "  9%|███▊                                    | 94/1000 [01:22<12:42,  1.19it/s]"
     ]
    },
    {
     "name": "stdout",
     "output_type": "stream",
     "text": [
      "66 (score = 0.70808)\n",
      "105 (score = 0.61686)\n",
      "153 (score = 0.59198)\n",
      "17 (score = 0.57194)\n",
      "171 (score = 0.55721)\n",
      "106 (score = 0.55324)\n",
      "214 (score = 0.54938)\n",
      "222 (score = 0.54343)\n",
      "138 (score = 0.53985)\n"
     ]
    },
    {
     "name": "stderr",
     "output_type": "stream",
     "text": [
      "\r",
      " 10%|███▊                                    | 95/1000 [01:22<12:34,  1.20it/s]"
     ]
    },
    {
     "name": "stdout",
     "output_type": "stream",
     "text": [
      "66 (score = 0.64092)\n",
      "105 (score = 0.57263)\n",
      "153 (score = 0.55316)\n",
      "17 (score = 0.55025)\n",
      "171 (score = 0.54281)\n",
      "106 (score = 0.53329)\n",
      "222 (score = 0.53260)\n",
      "214 (score = 0.53143)\n",
      "62 (score = 0.52325)\n"
     ]
    },
    {
     "name": "stderr",
     "output_type": "stream",
     "text": [
      "\r",
      " 10%|███▊                                    | 96/1000 [01:23<12:31,  1.20it/s]"
     ]
    },
    {
     "name": "stdout",
     "output_type": "stream",
     "text": [
      "66 (score = 0.64456)\n",
      "105 (score = 0.58451)\n",
      "153 (score = 0.55644)\n",
      "17 (score = 0.55013)\n",
      "106 (score = 0.53717)\n",
      "171 (score = 0.53627)\n",
      "214 (score = 0.53484)\n",
      "222 (score = 0.53382)\n",
      "138 (score = 0.52436)\n"
     ]
    },
    {
     "name": "stderr",
     "output_type": "stream",
     "text": [
      "\r",
      " 10%|███▉                                    | 97/1000 [01:24<12:44,  1.18it/s]"
     ]
    },
    {
     "name": "stdout",
     "output_type": "stream",
     "text": [
      "66 (score = 0.63918)\n",
      "105 (score = 0.57462)\n",
      "153 (score = 0.55623)\n",
      "17 (score = 0.54990)\n",
      "171 (score = 0.53818)\n",
      "106 (score = 0.53540)\n",
      "214 (score = 0.52931)\n",
      "222 (score = 0.52855)\n",
      "138 (score = 0.52715)\n"
     ]
    },
    {
     "name": "stderr",
     "output_type": "stream",
     "text": [
      "\r",
      " 10%|███▉                                    | 98/1000 [01:25<12:21,  1.22it/s]"
     ]
    },
    {
     "name": "stdout",
     "output_type": "stream",
     "text": [
      "66 (score = 0.61230)\n",
      "105 (score = 0.55246)\n",
      "153 (score = 0.53800)\n",
      "17 (score = 0.53800)\n",
      "214 (score = 0.52770)\n",
      "171 (score = 0.52696)\n",
      "106 (score = 0.52244)\n",
      "138 (score = 0.51867)\n",
      "222 (score = 0.51826)\n"
     ]
    },
    {
     "name": "stderr",
     "output_type": "stream",
     "text": [
      "\r",
      " 10%|███▉                                    | 99/1000 [01:26<12:14,  1.23it/s]"
     ]
    },
    {
     "name": "stdout",
     "output_type": "stream",
     "text": [
      "66 (score = 0.63205)\n",
      "105 (score = 0.56608)\n",
      "153 (score = 0.55140)\n",
      "17 (score = 0.54472)\n",
      "214 (score = 0.53104)\n",
      "171 (score = 0.53043)\n",
      "106 (score = 0.52951)\n",
      "222 (score = 0.52653)\n",
      "19 (score = 0.52313)\n"
     ]
    },
    {
     "name": "stderr",
     "output_type": "stream",
     "text": [
      "\r",
      " 10%|███▉                                   | 100/1000 [01:26<11:57,  1.25it/s]"
     ]
    },
    {
     "name": "stdout",
     "output_type": "stream",
     "text": [
      "66 (score = 0.68433)\n",
      "105 (score = 0.60932)\n",
      "153 (score = 0.59040)\n",
      "17 (score = 0.56547)\n",
      "106 (score = 0.54839)\n",
      "214 (score = 0.54658)\n",
      "171 (score = 0.54314)\n",
      "222 (score = 0.53935)\n",
      "138 (score = 0.53803)\n"
     ]
    },
    {
     "name": "stderr",
     "output_type": "stream",
     "text": [
      "\r",
      " 10%|███▉                                   | 101/1000 [01:27<12:15,  1.22it/s]"
     ]
    },
    {
     "name": "stdout",
     "output_type": "stream",
     "text": [
      "66 (score = 0.66391)\n",
      "105 (score = 0.58834)\n",
      "153 (score = 0.56294)\n",
      "17 (score = 0.55943)\n",
      "171 (score = 0.54491)\n",
      "214 (score = 0.53921)\n",
      "222 (score = 0.53920)\n",
      "106 (score = 0.53816)\n",
      "19 (score = 0.53193)\n"
     ]
    },
    {
     "name": "stderr",
     "output_type": "stream",
     "text": [
      "\r",
      " 10%|███▉                                   | 102/1000 [01:28<12:23,  1.21it/s]"
     ]
    },
    {
     "name": "stdout",
     "output_type": "stream",
     "text": [
      "66 (score = 0.71630)\n",
      "105 (score = 0.62382)\n",
      "153 (score = 0.59061)\n",
      "17 (score = 0.57464)\n",
      "171 (score = 0.56783)\n",
      "106 (score = 0.55569)\n",
      "214 (score = 0.55545)\n",
      "222 (score = 0.55149)\n",
      "138 (score = 0.54617)\n"
     ]
    },
    {
     "name": "stderr",
     "output_type": "stream",
     "text": [
      "\r",
      " 10%|████                                   | 103/1000 [01:29<13:02,  1.15it/s]"
     ]
    },
    {
     "name": "stdout",
     "output_type": "stream",
     "text": [
      "66 (score = 0.61713)\n",
      "105 (score = 0.56517)\n",
      "153 (score = 0.54611)\n",
      "17 (score = 0.53682)\n",
      "171 (score = 0.53613)\n",
      "106 (score = 0.53467)\n",
      "214 (score = 0.53094)\n",
      "222 (score = 0.52360)\n",
      "138 (score = 0.52073)\n"
     ]
    },
    {
     "name": "stderr",
     "output_type": "stream",
     "text": [
      "\r",
      " 10%|████                                   | 104/1000 [01:30<13:12,  1.13it/s]"
     ]
    },
    {
     "name": "stdout",
     "output_type": "stream",
     "text": [
      "66 (score = 0.65751)\n",
      "105 (score = 0.59039)\n",
      "153 (score = 0.56536)\n",
      "17 (score = 0.55414)\n",
      "171 (score = 0.54203)\n",
      "106 (score = 0.53855)\n",
      "214 (score = 0.53703)\n",
      "222 (score = 0.53432)\n",
      "62 (score = 0.52723)\n"
     ]
    },
    {
     "name": "stderr",
     "output_type": "stream",
     "text": [
      "\r",
      " 10%|████                                   | 105/1000 [01:31<13:19,  1.12it/s]"
     ]
    },
    {
     "name": "stdout",
     "output_type": "stream",
     "text": [
      "66 (score = 0.62477)\n",
      "105 (score = 0.56701)\n",
      "153 (score = 0.54876)\n",
      "171 (score = 0.54322)\n",
      "17 (score = 0.54099)\n",
      "106 (score = 0.53209)\n",
      "214 (score = 0.52799)\n",
      "222 (score = 0.52490)\n",
      "138 (score = 0.52217)\n"
     ]
    },
    {
     "name": "stderr",
     "output_type": "stream",
     "text": [
      "\r",
      " 11%|████▏                                  | 106/1000 [01:32<13:09,  1.13it/s]"
     ]
    },
    {
     "name": "stdout",
     "output_type": "stream",
     "text": [
      "66 (score = 0.68869)\n",
      "105 (score = 0.61700)\n",
      "153 (score = 0.58422)\n",
      "17 (score = 0.56243)\n",
      "106 (score = 0.55851)\n",
      "214 (score = 0.55233)\n",
      "171 (score = 0.54746)\n",
      "222 (score = 0.53902)\n",
      "138 (score = 0.53793)\n"
     ]
    },
    {
     "name": "stderr",
     "output_type": "stream",
     "text": [
      "\r",
      " 11%|████▏                                  | 107/1000 [01:33<13:22,  1.11it/s]"
     ]
    },
    {
     "name": "stdout",
     "output_type": "stream",
     "text": [
      "66 (score = 0.65127)\n",
      "105 (score = 0.58716)\n",
      "153 (score = 0.56568)\n",
      "17 (score = 0.54919)\n",
      "106 (score = 0.54606)\n",
      "171 (score = 0.54044)\n",
      "214 (score = 0.53690)\n",
      "222 (score = 0.53471)\n",
      "138 (score = 0.53245)\n"
     ]
    },
    {
     "name": "stderr",
     "output_type": "stream",
     "text": [
      "\r",
      " 11%|████▏                                  | 108/1000 [01:34<13:34,  1.10it/s]"
     ]
    },
    {
     "name": "stdout",
     "output_type": "stream",
     "text": [
      "66 (score = 0.65868)\n",
      "105 (score = 0.58623)\n",
      "153 (score = 0.56363)\n",
      "17 (score = 0.55129)\n",
      "171 (score = 0.54569)\n",
      "214 (score = 0.53997)\n",
      "106 (score = 0.53637)\n",
      "222 (score = 0.53170)\n",
      "138 (score = 0.52985)\n"
     ]
    },
    {
     "name": "stderr",
     "output_type": "stream",
     "text": [
      "\r",
      " 11%|████▎                                  | 109/1000 [01:35<13:44,  1.08it/s]"
     ]
    },
    {
     "name": "stdout",
     "output_type": "stream",
     "text": [
      "66 (score = 0.59891)\n",
      "105 (score = 0.55515)\n",
      "153 (score = 0.54476)\n",
      "106 (score = 0.53086)\n",
      "171 (score = 0.52884)\n",
      "17 (score = 0.52661)\n",
      "214 (score = 0.52503)\n",
      "138 (score = 0.52296)\n",
      "222 (score = 0.52021)\n"
     ]
    },
    {
     "name": "stderr",
     "output_type": "stream",
     "text": [
      "\r",
      " 11%|████▎                                  | 110/1000 [01:36<14:12,  1.04it/s]"
     ]
    },
    {
     "name": "stdout",
     "output_type": "stream",
     "text": [
      "66 (score = 0.65266)\n",
      "105 (score = 0.58499)\n",
      "153 (score = 0.56128)\n",
      "17 (score = 0.55366)\n",
      "171 (score = 0.54168)\n",
      "214 (score = 0.53477)\n",
      "106 (score = 0.53382)\n",
      "222 (score = 0.53329)\n",
      "62 (score = 0.52819)\n"
     ]
    },
    {
     "name": "stderr",
     "output_type": "stream",
     "text": [
      "\r",
      " 11%|████▎                                  | 111/1000 [01:37<13:46,  1.08it/s]"
     ]
    },
    {
     "name": "stdout",
     "output_type": "stream",
     "text": [
      "66 (score = 0.66964)\n",
      "105 (score = 0.60298)\n",
      "153 (score = 0.57823)\n",
      "17 (score = 0.56087)\n",
      "171 (score = 0.54516)\n",
      "106 (score = 0.54452)\n",
      "214 (score = 0.54147)\n",
      "222 (score = 0.53606)\n",
      "138 (score = 0.53208)\n"
     ]
    },
    {
     "name": "stderr",
     "output_type": "stream",
     "text": [
      "\r",
      " 11%|████▎                                  | 112/1000 [01:37<13:46,  1.07it/s]"
     ]
    },
    {
     "name": "stdout",
     "output_type": "stream",
     "text": [
      "66 (score = 0.68383)\n",
      "105 (score = 0.60695)\n",
      "153 (score = 0.57287)\n",
      "17 (score = 0.56168)\n",
      "171 (score = 0.55637)\n",
      "106 (score = 0.54911)\n",
      "214 (score = 0.54635)\n",
      "222 (score = 0.53967)\n",
      "138 (score = 0.53708)\n"
     ]
    },
    {
     "name": "stderr",
     "output_type": "stream",
     "text": [
      "\r",
      " 11%|████▍                                  | 113/1000 [01:38<13:21,  1.11it/s]"
     ]
    },
    {
     "name": "stdout",
     "output_type": "stream",
     "text": [
      "66 (score = 0.73043)\n",
      "105 (score = 0.63734)\n",
      "153 (score = 0.60503)\n",
      "17 (score = 0.58743)\n",
      "171 (score = 0.56737)\n",
      "106 (score = 0.55830)\n",
      "222 (score = 0.55260)\n",
      "214 (score = 0.55207)\n",
      "138 (score = 0.55173)\n"
     ]
    },
    {
     "name": "stderr",
     "output_type": "stream",
     "text": [
      "\r",
      " 11%|████▍                                  | 114/1000 [01:39<13:33,  1.09it/s]"
     ]
    },
    {
     "name": "stdout",
     "output_type": "stream",
     "text": [
      "66 (score = 0.65102)\n",
      "105 (score = 0.58463)\n",
      "153 (score = 0.56089)\n",
      "17 (score = 0.55347)\n",
      "171 (score = 0.54152)\n",
      "214 (score = 0.54003)\n",
      "106 (score = 0.53967)\n",
      "222 (score = 0.53111)\n",
      "138 (score = 0.53009)\n"
     ]
    },
    {
     "name": "stderr",
     "output_type": "stream",
     "text": [
      "\r",
      " 12%|████▍                                  | 115/1000 [01:40<13:36,  1.08it/s]"
     ]
    },
    {
     "name": "stdout",
     "output_type": "stream",
     "text": [
      "66 (score = 0.67689)\n",
      "105 (score = 0.58790)\n",
      "153 (score = 0.56914)\n",
      "17 (score = 0.55923)\n",
      "171 (score = 0.54983)\n",
      "214 (score = 0.54232)\n",
      "106 (score = 0.54055)\n",
      "222 (score = 0.53806)\n",
      "62 (score = 0.53234)\n"
     ]
    },
    {
     "name": "stderr",
     "output_type": "stream",
     "text": [
      "\r",
      " 12%|████▌                                  | 116/1000 [01:41<13:30,  1.09it/s]"
     ]
    },
    {
     "name": "stdout",
     "output_type": "stream",
     "text": [
      "66 (score = 0.65119)\n",
      "105 (score = 0.57581)\n",
      "153 (score = 0.55724)\n",
      "17 (score = 0.55094)\n",
      "171 (score = 0.54669)\n",
      "106 (score = 0.53576)\n",
      "214 (score = 0.53553)\n",
      "222 (score = 0.53370)\n",
      "138 (score = 0.52919)\n"
     ]
    },
    {
     "name": "stderr",
     "output_type": "stream",
     "text": [
      "\r",
      " 12%|████▌                                  | 117/1000 [01:42<13:20,  1.10it/s]"
     ]
    },
    {
     "name": "stdout",
     "output_type": "stream",
     "text": [
      "66 (score = 0.65387)\n",
      "105 (score = 0.58274)\n",
      "153 (score = 0.55964)\n",
      "17 (score = 0.55283)\n",
      "171 (score = 0.54524)\n",
      "214 (score = 0.54242)\n",
      "106 (score = 0.53675)\n",
      "222 (score = 0.53250)\n",
      "138 (score = 0.52918)\n"
     ]
    },
    {
     "name": "stderr",
     "output_type": "stream",
     "text": [
      "\r",
      " 12%|████▌                                  | 118/1000 [01:43<14:00,  1.05it/s]"
     ]
    },
    {
     "name": "stdout",
     "output_type": "stream",
     "text": [
      "66 (score = 0.64263)\n",
      "105 (score = 0.57349)\n",
      "153 (score = 0.55295)\n",
      "17 (score = 0.54758)\n",
      "214 (score = 0.54043)\n",
      "171 (score = 0.53722)\n",
      "106 (score = 0.53339)\n",
      "222 (score = 0.52770)\n",
      "19 (score = 0.52565)\n"
     ]
    },
    {
     "name": "stderr",
     "output_type": "stream",
     "text": [
      "\r",
      " 12%|████▋                                  | 119/1000 [01:44<13:55,  1.05it/s]"
     ]
    },
    {
     "name": "stdout",
     "output_type": "stream",
     "text": [
      "66 (score = 0.65580)\n",
      "105 (score = 0.58559)\n",
      "153 (score = 0.56393)\n",
      "17 (score = 0.55333)\n",
      "171 (score = 0.54299)\n",
      "214 (score = 0.54041)\n",
      "106 (score = 0.53909)\n",
      "222 (score = 0.53696)\n",
      "176 (score = 0.52997)\n"
     ]
    },
    {
     "name": "stderr",
     "output_type": "stream",
     "text": [
      "\r",
      " 12%|████▋                                  | 120/1000 [01:45<13:42,  1.07it/s]"
     ]
    },
    {
     "name": "stdout",
     "output_type": "stream",
     "text": [
      "66 (score = 0.66128)\n",
      "105 (score = 0.59743)\n",
      "153 (score = 0.57387)\n",
      "17 (score = 0.55401)\n",
      "171 (score = 0.54782)\n",
      "214 (score = 0.54415)\n",
      "106 (score = 0.54374)\n",
      "222 (score = 0.53487)\n",
      "138 (score = 0.53327)\n"
     ]
    },
    {
     "name": "stderr",
     "output_type": "stream",
     "text": [
      "\r",
      " 12%|████▋                                  | 121/1000 [01:46<13:30,  1.08it/s]"
     ]
    },
    {
     "name": "stdout",
     "output_type": "stream",
     "text": [
      "66 (score = 0.68125)\n",
      "105 (score = 0.60357)\n",
      "153 (score = 0.57908)\n",
      "17 (score = 0.56218)\n",
      "106 (score = 0.55435)\n",
      "171 (score = 0.55385)\n",
      "214 (score = 0.54616)\n",
      "138 (score = 0.53667)\n",
      "222 (score = 0.53538)\n"
     ]
    },
    {
     "name": "stderr",
     "output_type": "stream",
     "text": [
      "\r",
      " 12%|████▊                                  | 122/1000 [01:47<13:25,  1.09it/s]"
     ]
    },
    {
     "name": "stdout",
     "output_type": "stream",
     "text": [
      "66 (score = 0.68798)\n",
      "105 (score = 0.61316)\n",
      "153 (score = 0.58476)\n",
      "17 (score = 0.56298)\n",
      "171 (score = 0.55387)\n",
      "106 (score = 0.55266)\n",
      "214 (score = 0.54904)\n",
      "222 (score = 0.54569)\n",
      "138 (score = 0.53985)\n"
     ]
    },
    {
     "name": "stderr",
     "output_type": "stream",
     "text": [
      "\r",
      " 12%|████▊                                  | 123/1000 [01:48<13:27,  1.09it/s]"
     ]
    },
    {
     "name": "stdout",
     "output_type": "stream",
     "text": [
      "66 (score = 0.67795)\n",
      "105 (score = 0.60539)\n",
      "153 (score = 0.58061)\n",
      "17 (score = 0.55962)\n",
      "171 (score = 0.55512)\n",
      "106 (score = 0.55185)\n",
      "214 (score = 0.54504)\n",
      "222 (score = 0.53856)\n",
      "138 (score = 0.53610)\n"
     ]
    },
    {
     "name": "stderr",
     "output_type": "stream",
     "text": [
      "\r",
      " 12%|████▊                                  | 124/1000 [01:49<13:30,  1.08it/s]"
     ]
    },
    {
     "name": "stdout",
     "output_type": "stream",
     "text": [
      "66 (score = 0.66499)\n",
      "105 (score = 0.58769)\n",
      "153 (score = 0.57494)\n",
      "17 (score = 0.55436)\n",
      "106 (score = 0.54576)\n",
      "171 (score = 0.54434)\n",
      "214 (score = 0.54060)\n",
      "222 (score = 0.53572)\n",
      "138 (score = 0.53217)\n"
     ]
    },
    {
     "name": "stderr",
     "output_type": "stream",
     "text": [
      "\r",
      " 12%|████▉                                  | 125/1000 [01:50<13:35,  1.07it/s]"
     ]
    },
    {
     "name": "stdout",
     "output_type": "stream",
     "text": [
      "66 (score = 0.63094)\n",
      "105 (score = 0.56645)\n",
      "153 (score = 0.54871)\n",
      "17 (score = 0.54180)\n",
      "214 (score = 0.53317)\n",
      "171 (score = 0.53299)\n",
      "106 (score = 0.52656)\n",
      "113 (score = 0.52339)\n",
      "62 (score = 0.52323)\n"
     ]
    },
    {
     "name": "stderr",
     "output_type": "stream",
     "text": [
      "\r",
      " 13%|████▉                                  | 126/1000 [01:50<13:34,  1.07it/s]"
     ]
    },
    {
     "name": "stdout",
     "output_type": "stream",
     "text": [
      "66 (score = 0.65435)\n",
      "105 (score = 0.58268)\n",
      "153 (score = 0.56284)\n",
      "17 (score = 0.55205)\n",
      "171 (score = 0.54374)\n",
      "222 (score = 0.53783)\n",
      "214 (score = 0.53776)\n",
      "106 (score = 0.53687)\n",
      "138 (score = 0.52876)\n"
     ]
    },
    {
     "name": "stderr",
     "output_type": "stream",
     "text": [
      "\r",
      " 13%|████▉                                  | 127/1000 [01:51<13:31,  1.08it/s]"
     ]
    },
    {
     "name": "stdout",
     "output_type": "stream",
     "text": [
      "66 (score = 0.63496)\n",
      "105 (score = 0.58097)\n",
      "153 (score = 0.55990)\n",
      "17 (score = 0.54408)\n",
      "214 (score = 0.53606)\n",
      "171 (score = 0.53346)\n",
      "222 (score = 0.52958)\n",
      "106 (score = 0.52873)\n",
      "138 (score = 0.52509)\n"
     ]
    },
    {
     "name": "stderr",
     "output_type": "stream",
     "text": [
      "\r",
      " 13%|████▉                                  | 128/1000 [01:52<13:24,  1.08it/s]"
     ]
    },
    {
     "name": "stdout",
     "output_type": "stream",
     "text": [
      "66 (score = 0.65680)\n",
      "105 (score = 0.58612)\n",
      "153 (score = 0.56367)\n",
      "17 (score = 0.55327)\n",
      "171 (score = 0.54423)\n",
      "222 (score = 0.53678)\n",
      "106 (score = 0.53650)\n",
      "214 (score = 0.53591)\n",
      "62 (score = 0.52871)\n"
     ]
    },
    {
     "name": "stderr",
     "output_type": "stream",
     "text": [
      "\r",
      " 13%|█████                                  | 129/1000 [01:53<13:15,  1.09it/s]"
     ]
    },
    {
     "name": "stdout",
     "output_type": "stream",
     "text": [
      "66 (score = 0.64253)\n",
      "105 (score = 0.57504)\n",
      "153 (score = 0.55881)\n",
      "17 (score = 0.54669)\n",
      "214 (score = 0.53756)\n",
      "171 (score = 0.53685)\n",
      "106 (score = 0.53649)\n",
      "222 (score = 0.53497)\n",
      "138 (score = 0.52694)\n"
     ]
    },
    {
     "name": "stderr",
     "output_type": "stream",
     "text": [
      "\r",
      " 13%|█████                                  | 130/1000 [01:54<13:11,  1.10it/s]"
     ]
    },
    {
     "name": "stdout",
     "output_type": "stream",
     "text": [
      "66 (score = 0.63427)\n",
      "105 (score = 0.56393)\n",
      "153 (score = 0.54765)\n",
      "17 (score = 0.54270)\n",
      "214 (score = 0.53679)\n",
      "171 (score = 0.53425)\n",
      "106 (score = 0.53118)\n",
      "62 (score = 0.52617)\n",
      "222 (score = 0.52615)\n"
     ]
    },
    {
     "name": "stderr",
     "output_type": "stream",
     "text": [
      "\r",
      " 13%|█████                                  | 131/1000 [01:55<13:07,  1.10it/s]"
     ]
    },
    {
     "name": "stdout",
     "output_type": "stream",
     "text": [
      "66 (score = 0.60871)\n",
      "105 (score = 0.55307)\n",
      "17 (score = 0.53836)\n",
      "153 (score = 0.53692)\n",
      "171 (score = 0.53201)\n",
      "214 (score = 0.52614)\n",
      "222 (score = 0.52142)\n",
      "106 (score = 0.52114)\n",
      "19 (score = 0.51948)\n"
     ]
    },
    {
     "name": "stderr",
     "output_type": "stream",
     "text": [
      "\r",
      " 13%|█████▏                                 | 132/1000 [01:56<12:59,  1.11it/s]"
     ]
    },
    {
     "name": "stdout",
     "output_type": "stream",
     "text": [
      "66 (score = 0.68433)\n",
      "105 (score = 0.60871)\n",
      "153 (score = 0.58280)\n",
      "17 (score = 0.56458)\n",
      "171 (score = 0.55235)\n",
      "106 (score = 0.55089)\n",
      "214 (score = 0.54451)\n",
      "138 (score = 0.54138)\n",
      "222 (score = 0.53821)\n"
     ]
    },
    {
     "name": "stderr",
     "output_type": "stream",
     "text": [
      "\r",
      " 13%|█████▏                                 | 133/1000 [01:57<12:57,  1.12it/s]"
     ]
    },
    {
     "name": "stdout",
     "output_type": "stream",
     "text": [
      "66 (score = 0.68214)\n",
      "105 (score = 0.61156)\n",
      "153 (score = 0.58261)\n",
      "17 (score = 0.56723)\n",
      "171 (score = 0.55093)\n",
      "106 (score = 0.54917)\n",
      "214 (score = 0.54564)\n",
      "138 (score = 0.53974)\n",
      "222 (score = 0.53812)\n"
     ]
    },
    {
     "name": "stderr",
     "output_type": "stream",
     "text": [
      "\r",
      " 13%|█████▏                                 | 134/1000 [01:58<12:46,  1.13it/s]"
     ]
    },
    {
     "name": "stdout",
     "output_type": "stream",
     "text": [
      "66 (score = 0.62174)\n",
      "105 (score = 0.57218)\n",
      "153 (score = 0.55360)\n",
      "106 (score = 0.53684)\n",
      "17 (score = 0.53536)\n",
      "171 (score = 0.53006)\n",
      "214 (score = 0.52896)\n",
      "138 (score = 0.52894)\n",
      "222 (score = 0.52550)\n"
     ]
    },
    {
     "name": "stderr",
     "output_type": "stream",
     "text": [
      "\r",
      " 14%|█████▎                                 | 135/1000 [01:59<13:13,  1.09it/s]"
     ]
    },
    {
     "name": "stdout",
     "output_type": "stream",
     "text": [
      "66 (score = 0.63520)\n",
      "105 (score = 0.56790)\n",
      "153 (score = 0.54595)\n",
      "17 (score = 0.54276)\n",
      "214 (score = 0.53771)\n",
      "171 (score = 0.53734)\n",
      "106 (score = 0.53202)\n",
      "222 (score = 0.52740)\n",
      "138 (score = 0.52210)\n"
     ]
    },
    {
     "name": "stderr",
     "output_type": "stream",
     "text": [
      "\r",
      " 14%|█████▎                                 | 136/1000 [02:00<13:17,  1.08it/s]"
     ]
    },
    {
     "name": "stdout",
     "output_type": "stream",
     "text": [
      "66 (score = 0.66725)\n",
      "105 (score = 0.59122)\n",
      "153 (score = 0.56966)\n",
      "17 (score = 0.55686)\n",
      "171 (score = 0.54773)\n",
      "106 (score = 0.54255)\n",
      "214 (score = 0.53884)\n",
      "222 (score = 0.53392)\n",
      "138 (score = 0.53197)\n"
     ]
    },
    {
     "name": "stderr",
     "output_type": "stream",
     "text": [
      "\r",
      " 14%|█████▎                                 | 137/1000 [02:00<13:24,  1.07it/s]"
     ]
    },
    {
     "name": "stdout",
     "output_type": "stream",
     "text": [
      "66 (score = 0.68975)\n",
      "105 (score = 0.61010)\n",
      "153 (score = 0.57711)\n",
      "17 (score = 0.56009)\n",
      "214 (score = 0.55091)\n",
      "171 (score = 0.54805)\n",
      "106 (score = 0.54804)\n",
      "138 (score = 0.53715)\n",
      "222 (score = 0.53633)\n"
     ]
    },
    {
     "name": "stderr",
     "output_type": "stream",
     "text": [
      "\r",
      " 14%|█████▍                                 | 138/1000 [02:01<13:17,  1.08it/s]"
     ]
    },
    {
     "name": "stdout",
     "output_type": "stream",
     "text": [
      "66 (score = 0.66320)\n",
      "105 (score = 0.59659)\n",
      "153 (score = 0.57027)\n",
      "17 (score = 0.55464)\n",
      "171 (score = 0.54811)\n",
      "106 (score = 0.54319)\n",
      "214 (score = 0.54127)\n",
      "222 (score = 0.53659)\n",
      "138 (score = 0.53499)\n"
     ]
    },
    {
     "name": "stderr",
     "output_type": "stream",
     "text": [
      "\r",
      " 14%|█████▍                                 | 139/1000 [02:02<13:00,  1.10it/s]"
     ]
    },
    {
     "name": "stdout",
     "output_type": "stream",
     "text": [
      "66 (score = 0.68970)\n",
      "105 (score = 0.61203)\n",
      "153 (score = 0.57597)\n",
      "17 (score = 0.56411)\n",
      "171 (score = 0.55236)\n",
      "106 (score = 0.54638)\n",
      "214 (score = 0.54387)\n",
      "222 (score = 0.54208)\n",
      "138 (score = 0.54163)\n"
     ]
    },
    {
     "name": "stderr",
     "output_type": "stream",
     "text": [
      "\r",
      " 14%|█████▍                                 | 140/1000 [02:03<13:02,  1.10it/s]"
     ]
    },
    {
     "name": "stdout",
     "output_type": "stream",
     "text": [
      "66 (score = 0.68411)\n",
      "105 (score = 0.60081)\n",
      "153 (score = 0.57572)\n",
      "17 (score = 0.56538)\n",
      "171 (score = 0.55237)\n",
      "106 (score = 0.55030)\n",
      "214 (score = 0.54667)\n",
      "222 (score = 0.53880)\n",
      "138 (score = 0.53369)\n"
     ]
    },
    {
     "name": "stderr",
     "output_type": "stream",
     "text": [
      "\r",
      " 14%|█████▍                                 | 141/1000 [02:04<12:56,  1.11it/s]"
     ]
    },
    {
     "name": "stdout",
     "output_type": "stream",
     "text": [
      "66 (score = 0.66792)\n",
      "105 (score = 0.59238)\n",
      "153 (score = 0.57078)\n",
      "17 (score = 0.55579)\n",
      "106 (score = 0.54666)\n",
      "171 (score = 0.54414)\n",
      "214 (score = 0.54134)\n",
      "222 (score = 0.53456)\n",
      "138 (score = 0.53008)\n"
     ]
    },
    {
     "name": "stderr",
     "output_type": "stream",
     "text": [
      "\r",
      " 14%|█████▌                                 | 142/1000 [02:05<12:54,  1.11it/s]"
     ]
    },
    {
     "name": "stdout",
     "output_type": "stream",
     "text": [
      "66 (score = 0.66959)\n",
      "105 (score = 0.59371)\n",
      "153 (score = 0.56980)\n",
      "17 (score = 0.55714)\n",
      "171 (score = 0.54504)\n",
      "214 (score = 0.53973)\n",
      "106 (score = 0.53812)\n",
      "222 (score = 0.53674)\n",
      "138 (score = 0.53247)\n"
     ]
    },
    {
     "name": "stderr",
     "output_type": "stream",
     "text": [
      "\r",
      " 14%|█████▌                                 | 143/1000 [02:06<12:50,  1.11it/s]"
     ]
    },
    {
     "name": "stdout",
     "output_type": "stream",
     "text": [
      "66 (score = 0.65448)\n",
      "105 (score = 0.58913)\n",
      "153 (score = 0.56726)\n",
      "17 (score = 0.55032)\n",
      "106 (score = 0.54679)\n",
      "171 (score = 0.54239)\n",
      "214 (score = 0.53613)\n",
      "138 (score = 0.53192)\n",
      "222 (score = 0.53111)\n"
     ]
    },
    {
     "name": "stderr",
     "output_type": "stream",
     "text": [
      "\r",
      " 14%|█████▌                                 | 144/1000 [02:07<12:50,  1.11it/s]"
     ]
    },
    {
     "name": "stdout",
     "output_type": "stream",
     "text": [
      "66 (score = 0.69598)\n",
      "105 (score = 0.60921)\n",
      "153 (score = 0.58310)\n",
      "17 (score = 0.56307)\n",
      "171 (score = 0.55230)\n",
      "106 (score = 0.55120)\n",
      "138 (score = 0.54253)\n",
      "222 (score = 0.54228)\n",
      "214 (score = 0.54179)\n"
     ]
    },
    {
     "name": "stderr",
     "output_type": "stream",
     "text": [
      "\r",
      " 14%|█████▋                                 | 145/1000 [02:08<12:53,  1.11it/s]"
     ]
    },
    {
     "name": "stdout",
     "output_type": "stream",
     "text": [
      "66 (score = 0.67815)\n",
      "105 (score = 0.61033)\n",
      "153 (score = 0.57641)\n",
      "17 (score = 0.56241)\n",
      "171 (score = 0.54721)\n",
      "106 (score = 0.54460)\n",
      "222 (score = 0.54247)\n",
      "214 (score = 0.53927)\n",
      "138 (score = 0.53487)\n"
     ]
    },
    {
     "name": "stderr",
     "output_type": "stream",
     "text": [
      "\r",
      " 15%|█████▋                                 | 146/1000 [02:09<13:03,  1.09it/s]"
     ]
    },
    {
     "name": "stdout",
     "output_type": "stream",
     "text": [
      "66 (score = 0.66704)\n",
      "105 (score = 0.59445)\n",
      "153 (score = 0.57031)\n",
      "17 (score = 0.55700)\n",
      "171 (score = 0.54216)\n",
      "214 (score = 0.54161)\n",
      "106 (score = 0.54009)\n",
      "222 (score = 0.53612)\n",
      "62 (score = 0.53156)\n"
     ]
    },
    {
     "name": "stderr",
     "output_type": "stream",
     "text": [
      "\r",
      " 15%|█████▋                                 | 147/1000 [02:10<13:05,  1.09it/s]"
     ]
    },
    {
     "name": "stdout",
     "output_type": "stream",
     "text": [
      "66 (score = 0.62376)\n",
      "105 (score = 0.57459)\n",
      "153 (score = 0.55464)\n",
      "17 (score = 0.53825)\n",
      "214 (score = 0.53493)\n",
      "171 (score = 0.53486)\n",
      "106 (score = 0.53486)\n",
      "138 (score = 0.52469)\n",
      "222 (score = 0.52424)\n"
     ]
    },
    {
     "name": "stderr",
     "output_type": "stream",
     "text": [
      "\r",
      " 15%|█████▊                                 | 148/1000 [02:11<13:17,  1.07it/s]"
     ]
    },
    {
     "name": "stdout",
     "output_type": "stream",
     "text": [
      "66 (score = 0.61243)\n",
      "105 (score = 0.55384)\n",
      "153 (score = 0.54101)\n",
      "17 (score = 0.53949)\n",
      "171 (score = 0.52807)\n",
      "214 (score = 0.52571)\n",
      "106 (score = 0.52344)\n",
      "19 (score = 0.52048)\n",
      "62 (score = 0.51823)\n"
     ]
    },
    {
     "name": "stderr",
     "output_type": "stream",
     "text": [
      "\r",
      " 15%|█████▊                                 | 149/1000 [02:11<13:10,  1.08it/s]"
     ]
    },
    {
     "name": "stdout",
     "output_type": "stream",
     "text": [
      "66 (score = 0.64428)\n",
      "105 (score = 0.57782)\n",
      "17 (score = 0.55153)\n",
      "153 (score = 0.55140)\n",
      "171 (score = 0.54095)\n",
      "214 (score = 0.53404)\n",
      "106 (score = 0.53221)\n",
      "222 (score = 0.52823)\n",
      "62 (score = 0.52588)\n"
     ]
    },
    {
     "name": "stderr",
     "output_type": "stream",
     "text": [
      "\r",
      " 15%|█████▊                                 | 150/1000 [02:12<12:58,  1.09it/s]"
     ]
    },
    {
     "name": "stdout",
     "output_type": "stream",
     "text": [
      "66 (score = 0.61642)\n",
      "105 (score = 0.56042)\n",
      "153 (score = 0.54179)\n",
      "17 (score = 0.53962)\n",
      "171 (score = 0.53421)\n",
      "214 (score = 0.52868)\n",
      "106 (score = 0.52623)\n",
      "222 (score = 0.52308)\n",
      "62 (score = 0.52092)\n"
     ]
    },
    {
     "name": "stderr",
     "output_type": "stream",
     "text": [
      "\r",
      " 15%|█████▉                                 | 151/1000 [02:13<12:52,  1.10it/s]"
     ]
    },
    {
     "name": "stdout",
     "output_type": "stream",
     "text": [
      "66 (score = 0.66945)\n",
      "105 (score = 0.60443)\n",
      "153 (score = 0.57723)\n",
      "17 (score = 0.55774)\n",
      "106 (score = 0.55070)\n",
      "214 (score = 0.54569)\n",
      "171 (score = 0.54509)\n",
      "222 (score = 0.53999)\n",
      "138 (score = 0.53685)\n"
     ]
    },
    {
     "name": "stderr",
     "output_type": "stream",
     "text": [
      "\r",
      " 15%|█████▉                                 | 152/1000 [02:14<12:38,  1.12it/s]"
     ]
    },
    {
     "name": "stdout",
     "output_type": "stream",
     "text": [
      "66 (score = 0.65089)\n",
      "105 (score = 0.58709)\n",
      "153 (score = 0.56311)\n",
      "17 (score = 0.55030)\n",
      "171 (score = 0.53932)\n",
      "106 (score = 0.53879)\n",
      "214 (score = 0.53680)\n",
      "222 (score = 0.52984)\n",
      "138 (score = 0.52597)\n"
     ]
    },
    {
     "name": "stderr",
     "output_type": "stream",
     "text": [
      "\r",
      " 15%|█████▉                                 | 153/1000 [02:15<12:51,  1.10it/s]"
     ]
    },
    {
     "name": "stdout",
     "output_type": "stream",
     "text": [
      "66 (score = 0.66752)\n",
      "105 (score = 0.59721)\n",
      "153 (score = 0.56996)\n",
      "17 (score = 0.55610)\n",
      "171 (score = 0.55311)\n",
      "106 (score = 0.54425)\n",
      "214 (score = 0.54380)\n",
      "222 (score = 0.53675)\n",
      "138 (score = 0.53210)\n"
     ]
    },
    {
     "name": "stderr",
     "output_type": "stream",
     "text": [
      "\r",
      " 15%|██████                                 | 154/1000 [02:16<12:34,  1.12it/s]"
     ]
    },
    {
     "name": "stdout",
     "output_type": "stream",
     "text": [
      "66 (score = 0.65384)\n",
      "105 (score = 0.59529)\n",
      "153 (score = 0.56761)\n",
      "17 (score = 0.55637)\n",
      "171 (score = 0.54376)\n",
      "106 (score = 0.54165)\n",
      "214 (score = 0.53916)\n",
      "222 (score = 0.53345)\n",
      "138 (score = 0.52847)\n"
     ]
    },
    {
     "name": "stderr",
     "output_type": "stream",
     "text": [
      "\r",
      " 16%|██████                                 | 155/1000 [02:17<12:33,  1.12it/s]"
     ]
    },
    {
     "name": "stdout",
     "output_type": "stream",
     "text": [
      "66 (score = 0.73159)\n",
      "105 (score = 0.63171)\n",
      "153 (score = 0.59786)\n",
      "17 (score = 0.58307)\n",
      "171 (score = 0.56321)\n",
      "106 (score = 0.55742)\n",
      "214 (score = 0.55452)\n",
      "222 (score = 0.54828)\n",
      "62 (score = 0.54677)\n"
     ]
    },
    {
     "name": "stderr",
     "output_type": "stream",
     "text": [
      "\r",
      " 16%|██████                                 | 156/1000 [02:18<12:38,  1.11it/s]"
     ]
    },
    {
     "name": "stdout",
     "output_type": "stream",
     "text": [
      "66 (score = 0.70469)\n",
      "105 (score = 0.61659)\n",
      "153 (score = 0.58558)\n",
      "17 (score = 0.56988)\n",
      "171 (score = 0.55475)\n",
      "106 (score = 0.55204)\n",
      "214 (score = 0.54756)\n",
      "222 (score = 0.54429)\n",
      "19 (score = 0.53649)\n"
     ]
    },
    {
     "name": "stderr",
     "output_type": "stream",
     "text": [
      "\r",
      " 16%|██████                                 | 157/1000 [02:19<12:47,  1.10it/s]"
     ]
    },
    {
     "name": "stdout",
     "output_type": "stream",
     "text": [
      "66 (score = 0.63932)\n",
      "105 (score = 0.57401)\n",
      "153 (score = 0.54986)\n",
      "17 (score = 0.54802)\n",
      "171 (score = 0.54380)\n",
      "106 (score = 0.53479)\n",
      "214 (score = 0.53411)\n",
      "222 (score = 0.52599)\n",
      "138 (score = 0.52471)\n"
     ]
    },
    {
     "name": "stderr",
     "output_type": "stream",
     "text": [
      "\r",
      " 16%|██████▏                                | 158/1000 [02:20<12:50,  1.09it/s]"
     ]
    },
    {
     "name": "stdout",
     "output_type": "stream",
     "text": [
      "66 (score = 0.68669)\n",
      "105 (score = 0.61074)\n",
      "153 (score = 0.58087)\n",
      "17 (score = 0.56427)\n",
      "171 (score = 0.55833)\n",
      "222 (score = 0.54657)\n",
      "106 (score = 0.54645)\n",
      "138 (score = 0.53802)\n",
      "214 (score = 0.53703)\n"
     ]
    },
    {
     "name": "stderr",
     "output_type": "stream",
     "text": [
      "\r",
      " 16%|██████▏                                | 159/1000 [02:20<12:49,  1.09it/s]"
     ]
    },
    {
     "name": "stdout",
     "output_type": "stream",
     "text": [
      "66 (score = 0.73799)\n",
      "105 (score = 0.63211)\n",
      "153 (score = 0.60527)\n",
      "17 (score = 0.58603)\n",
      "171 (score = 0.57093)\n",
      "106 (score = 0.56047)\n",
      "214 (score = 0.55561)\n",
      "222 (score = 0.55060)\n",
      "138 (score = 0.54930)\n"
     ]
    },
    {
     "name": "stderr",
     "output_type": "stream",
     "text": [
      "\r",
      " 16%|██████▏                                | 160/1000 [02:21<12:53,  1.09it/s]"
     ]
    },
    {
     "name": "stdout",
     "output_type": "stream",
     "text": [
      "66 (score = 0.66754)\n",
      "105 (score = 0.59827)\n",
      "153 (score = 0.56753)\n",
      "17 (score = 0.56166)\n",
      "171 (score = 0.55027)\n",
      "214 (score = 0.54480)\n",
      "106 (score = 0.54314)\n",
      "222 (score = 0.53475)\n",
      "176 (score = 0.53422)\n"
     ]
    },
    {
     "name": "stderr",
     "output_type": "stream",
     "text": [
      "\r",
      " 16%|██████▎                                | 161/1000 [02:22<12:37,  1.11it/s]"
     ]
    },
    {
     "name": "stdout",
     "output_type": "stream",
     "text": [
      "66 (score = 0.72839)\n",
      "105 (score = 0.62533)\n",
      "153 (score = 0.60340)\n",
      "17 (score = 0.57679)\n",
      "171 (score = 0.56372)\n",
      "106 (score = 0.56303)\n",
      "214 (score = 0.56108)\n",
      "222 (score = 0.55005)\n",
      "138 (score = 0.54581)\n"
     ]
    },
    {
     "name": "stderr",
     "output_type": "stream",
     "text": [
      "\r",
      " 16%|██████▎                                | 162/1000 [02:23<12:37,  1.11it/s]"
     ]
    },
    {
     "name": "stdout",
     "output_type": "stream",
     "text": [
      "66 (score = 0.67880)\n",
      "105 (score = 0.59286)\n",
      "153 (score = 0.57499)\n",
      "17 (score = 0.55749)\n",
      "106 (score = 0.54649)\n",
      "171 (score = 0.54410)\n",
      "214 (score = 0.54024)\n",
      "222 (score = 0.53857)\n",
      "62 (score = 0.53158)\n"
     ]
    },
    {
     "name": "stderr",
     "output_type": "stream",
     "text": [
      "\r",
      " 16%|██████▎                                | 163/1000 [02:24<12:37,  1.10it/s]"
     ]
    },
    {
     "name": "stdout",
     "output_type": "stream",
     "text": [
      "66 (score = 0.66178)\n",
      "105 (score = 0.58325)\n",
      "153 (score = 0.55722)\n",
      "17 (score = 0.55401)\n",
      "171 (score = 0.54762)\n",
      "214 (score = 0.54006)\n",
      "106 (score = 0.53927)\n",
      "222 (score = 0.53479)\n",
      "19 (score = 0.52761)\n"
     ]
    },
    {
     "name": "stderr",
     "output_type": "stream",
     "text": [
      "\r",
      " 16%|██████▍                                | 164/1000 [02:25<12:41,  1.10it/s]"
     ]
    },
    {
     "name": "stdout",
     "output_type": "stream",
     "text": [
      "66 (score = 0.67828)\n",
      "105 (score = 0.60054)\n",
      "153 (score = 0.57910)\n",
      "17 (score = 0.56031)\n",
      "106 (score = 0.55377)\n",
      "171 (score = 0.55144)\n",
      "214 (score = 0.54564)\n",
      "222 (score = 0.54122)\n",
      "176 (score = 0.53400)\n"
     ]
    },
    {
     "name": "stderr",
     "output_type": "stream",
     "text": [
      "\r",
      " 16%|██████▍                                | 165/1000 [02:26<12:32,  1.11it/s]"
     ]
    },
    {
     "name": "stdout",
     "output_type": "stream",
     "text": [
      "66 (score = 0.65891)\n",
      "105 (score = 0.58372)\n",
      "153 (score = 0.55699)\n",
      "17 (score = 0.55409)\n",
      "171 (score = 0.54892)\n",
      "214 (score = 0.53882)\n",
      "106 (score = 0.53621)\n",
      "222 (score = 0.53334)\n",
      "62 (score = 0.52631)\n"
     ]
    },
    {
     "name": "stderr",
     "output_type": "stream",
     "text": [
      "\r",
      " 17%|██████▍                                | 166/1000 [02:27<12:30,  1.11it/s]"
     ]
    },
    {
     "name": "stdout",
     "output_type": "stream",
     "text": [
      "66 (score = 0.72747)\n",
      "105 (score = 0.63045)\n",
      "153 (score = 0.59650)\n",
      "17 (score = 0.57854)\n",
      "171 (score = 0.56362)\n",
      "106 (score = 0.56150)\n",
      "214 (score = 0.55987)\n",
      "222 (score = 0.55141)\n",
      "138 (score = 0.54383)\n"
     ]
    },
    {
     "name": "stderr",
     "output_type": "stream",
     "text": [
      "\r",
      " 17%|██████▌                                | 167/1000 [02:28<12:40,  1.10it/s]"
     ]
    },
    {
     "name": "stdout",
     "output_type": "stream",
     "text": [
      "66 (score = 0.61261)\n",
      "105 (score = 0.55412)\n",
      "153 (score = 0.53924)\n",
      "17 (score = 0.53846)\n",
      "214 (score = 0.52955)\n",
      "106 (score = 0.52716)\n",
      "171 (score = 0.52545)\n",
      "222 (score = 0.52352)\n",
      "19 (score = 0.52186)\n"
     ]
    },
    {
     "name": "stderr",
     "output_type": "stream",
     "text": [
      "\r",
      " 17%|██████▌                                | 168/1000 [02:29<12:50,  1.08it/s]"
     ]
    },
    {
     "name": "stdout",
     "output_type": "stream",
     "text": [
      "66 (score = 0.68349)\n",
      "105 (score = 0.61047)\n",
      "153 (score = 0.58445)\n",
      "17 (score = 0.56491)\n",
      "171 (score = 0.55313)\n",
      "106 (score = 0.55223)\n",
      "214 (score = 0.54570)\n",
      "222 (score = 0.54482)\n",
      "138 (score = 0.53909)\n"
     ]
    },
    {
     "name": "stderr",
     "output_type": "stream",
     "text": [
      "\r",
      " 17%|██████▌                                | 169/1000 [02:30<12:54,  1.07it/s]"
     ]
    },
    {
     "name": "stdout",
     "output_type": "stream",
     "text": [
      "66 (score = 0.65409)\n",
      "105 (score = 0.59869)\n",
      "153 (score = 0.57187)\n",
      "17 (score = 0.55200)\n",
      "106 (score = 0.54325)\n",
      "171 (score = 0.54317)\n",
      "214 (score = 0.53759)\n",
      "138 (score = 0.53525)\n",
      "222 (score = 0.53268)\n"
     ]
    },
    {
     "name": "stderr",
     "output_type": "stream",
     "text": [
      "\r",
      " 17%|██████▋                                | 170/1000 [02:31<12:46,  1.08it/s]"
     ]
    },
    {
     "name": "stdout",
     "output_type": "stream",
     "text": [
      "66 (score = 0.61854)\n",
      "105 (score = 0.56293)\n",
      "153 (score = 0.55707)\n",
      "17 (score = 0.53673)\n",
      "106 (score = 0.53630)\n",
      "171 (score = 0.53353)\n",
      "222 (score = 0.52959)\n",
      "214 (score = 0.52692)\n",
      "138 (score = 0.52474)\n"
     ]
    },
    {
     "name": "stderr",
     "output_type": "stream",
     "text": [
      "\r",
      " 17%|██████▋                                | 171/1000 [02:31<12:52,  1.07it/s]"
     ]
    },
    {
     "name": "stdout",
     "output_type": "stream",
     "text": [
      "66 (score = 0.63490)\n",
      "105 (score = 0.58014)\n",
      "153 (score = 0.56255)\n",
      "17 (score = 0.54381)\n",
      "106 (score = 0.54005)\n",
      "214 (score = 0.53300)\n",
      "171 (score = 0.53169)\n",
      "222 (score = 0.52705)\n",
      "138 (score = 0.52697)\n"
     ]
    },
    {
     "name": "stderr",
     "output_type": "stream",
     "text": [
      "\r",
      " 17%|██████▋                                | 172/1000 [02:32<12:54,  1.07it/s]"
     ]
    },
    {
     "name": "stdout",
     "output_type": "stream",
     "text": [
      "66 (score = 0.63682)\n",
      "105 (score = 0.57887)\n",
      "153 (score = 0.55919)\n",
      "106 (score = 0.54126)\n",
      "17 (score = 0.54088)\n",
      "171 (score = 0.53523)\n",
      "214 (score = 0.53347)\n",
      "138 (score = 0.52963)\n",
      "222 (score = 0.52680)\n"
     ]
    },
    {
     "name": "stderr",
     "output_type": "stream",
     "text": [
      "\r",
      " 17%|██████▋                                | 173/1000 [02:33<12:52,  1.07it/s]"
     ]
    },
    {
     "name": "stdout",
     "output_type": "stream",
     "text": [
      "66 (score = 0.65008)\n",
      "105 (score = 0.58545)\n",
      "153 (score = 0.56552)\n",
      "17 (score = 0.54597)\n",
      "106 (score = 0.54400)\n",
      "171 (score = 0.53992)\n",
      "214 (score = 0.53962)\n",
      "222 (score = 0.53242)\n",
      "138 (score = 0.53183)\n"
     ]
    },
    {
     "name": "stderr",
     "output_type": "stream",
     "text": [
      "\r",
      " 17%|██████▊                                | 174/1000 [02:34<12:36,  1.09it/s]"
     ]
    },
    {
     "name": "stdout",
     "output_type": "stream",
     "text": [
      "66 (score = 0.67656)\n",
      "105 (score = 0.59627)\n",
      "153 (score = 0.57460)\n",
      "17 (score = 0.56196)\n",
      "171 (score = 0.55565)\n",
      "214 (score = 0.54410)\n",
      "106 (score = 0.54181)\n",
      "222 (score = 0.53832)\n",
      "19 (score = 0.53254)\n"
     ]
    },
    {
     "name": "stderr",
     "output_type": "stream",
     "text": [
      "\r",
      " 18%|██████▊                                | 175/1000 [02:35<12:27,  1.10it/s]"
     ]
    },
    {
     "name": "stdout",
     "output_type": "stream",
     "text": [
      "66 (score = 0.67955)\n",
      "105 (score = 0.60735)\n",
      "153 (score = 0.57518)\n",
      "17 (score = 0.55824)\n",
      "106 (score = 0.54798)\n",
      "171 (score = 0.54534)\n",
      "214 (score = 0.54469)\n",
      "222 (score = 0.53850)\n",
      "138 (score = 0.53548)\n"
     ]
    },
    {
     "name": "stderr",
     "output_type": "stream",
     "text": [
      "\r",
      " 18%|██████▊                                | 176/1000 [02:36<12:29,  1.10it/s]"
     ]
    },
    {
     "name": "stdout",
     "output_type": "stream",
     "text": [
      "66 (score = 0.63687)\n",
      "105 (score = 0.58280)\n",
      "153 (score = 0.55902)\n",
      "17 (score = 0.54778)\n",
      "106 (score = 0.53937)\n",
      "171 (score = 0.53895)\n",
      "222 (score = 0.53354)\n",
      "214 (score = 0.52920)\n",
      "138 (score = 0.52878)\n"
     ]
    },
    {
     "name": "stderr",
     "output_type": "stream",
     "text": [
      "\r",
      " 18%|██████▉                                | 177/1000 [02:37<12:24,  1.10it/s]"
     ]
    },
    {
     "name": "stdout",
     "output_type": "stream",
     "text": [
      "66 (score = 0.66186)\n",
      "105 (score = 0.59653)\n",
      "153 (score = 0.56473)\n",
      "17 (score = 0.55684)\n",
      "171 (score = 0.54486)\n",
      "106 (score = 0.54408)\n",
      "214 (score = 0.54045)\n",
      "222 (score = 0.53295)\n",
      "138 (score = 0.53147)\n"
     ]
    },
    {
     "name": "stderr",
     "output_type": "stream",
     "text": [
      "\r",
      " 18%|██████▉                                | 178/1000 [02:38<12:10,  1.13it/s]"
     ]
    },
    {
     "name": "stdout",
     "output_type": "stream",
     "text": [
      "66 (score = 0.62203)\n",
      "105 (score = 0.57521)\n",
      "153 (score = 0.55402)\n",
      "17 (score = 0.54087)\n",
      "106 (score = 0.53777)\n",
      "171 (score = 0.53299)\n",
      "222 (score = 0.52972)\n",
      "214 (score = 0.52839)\n",
      "138 (score = 0.52372)\n"
     ]
    },
    {
     "name": "stderr",
     "output_type": "stream",
     "text": [
      "\r",
      " 18%|██████▉                                | 179/1000 [02:39<12:12,  1.12it/s]"
     ]
    },
    {
     "name": "stdout",
     "output_type": "stream",
     "text": [
      "66 (score = 0.63121)\n",
      "105 (score = 0.56505)\n",
      "153 (score = 0.55345)\n",
      "17 (score = 0.54570)\n",
      "171 (score = 0.53742)\n",
      "214 (score = 0.53073)\n",
      "106 (score = 0.52880)\n",
      "222 (score = 0.52523)\n",
      "62 (score = 0.52282)\n"
     ]
    },
    {
     "name": "stderr",
     "output_type": "stream",
     "text": [
      "\r",
      " 18%|███████                                | 180/1000 [02:40<12:32,  1.09it/s]"
     ]
    },
    {
     "name": "stdout",
     "output_type": "stream",
     "text": [
      "66 (score = 0.64860)\n",
      "105 (score = 0.58206)\n",
      "153 (score = 0.55565)\n",
      "17 (score = 0.54829)\n",
      "171 (score = 0.54322)\n",
      "106 (score = 0.53905)\n",
      "214 (score = 0.53886)\n",
      "222 (score = 0.53193)\n",
      "19 (score = 0.52838)\n"
     ]
    },
    {
     "name": "stderr",
     "output_type": "stream",
     "text": [
      "\r",
      " 18%|███████                                | 181/1000 [02:41<12:31,  1.09it/s]"
     ]
    },
    {
     "name": "stdout",
     "output_type": "stream",
     "text": [
      "66 (score = 0.67844)\n",
      "105 (score = 0.60557)\n",
      "153 (score = 0.58203)\n",
      "17 (score = 0.55964)\n",
      "106 (score = 0.54952)\n",
      "171 (score = 0.54801)\n",
      "222 (score = 0.54143)\n",
      "138 (score = 0.53523)\n",
      "214 (score = 0.53518)\n"
     ]
    },
    {
     "name": "stderr",
     "output_type": "stream",
     "text": [
      "\r",
      " 18%|███████                                | 182/1000 [02:41<12:40,  1.08it/s]"
     ]
    },
    {
     "name": "stdout",
     "output_type": "stream",
     "text": [
      "66 (score = 0.63535)\n",
      "105 (score = 0.57865)\n",
      "153 (score = 0.55687)\n",
      "17 (score = 0.53885)\n",
      "171 (score = 0.53829)\n",
      "214 (score = 0.53611)\n",
      "106 (score = 0.53301)\n",
      "222 (score = 0.52761)\n",
      "113 (score = 0.52209)\n"
     ]
    },
    {
     "name": "stderr",
     "output_type": "stream",
     "text": [
      "\r",
      " 18%|███████▏                               | 183/1000 [02:42<12:19,  1.10it/s]"
     ]
    },
    {
     "name": "stdout",
     "output_type": "stream",
     "text": [
      "66 (score = 0.70184)\n",
      "105 (score = 0.61804)\n",
      "153 (score = 0.59542)\n",
      "17 (score = 0.57110)\n",
      "171 (score = 0.56000)\n",
      "106 (score = 0.55311)\n",
      "214 (score = 0.55095)\n",
      "222 (score = 0.54510)\n",
      "138 (score = 0.54150)\n"
     ]
    },
    {
     "name": "stderr",
     "output_type": "stream",
     "text": [
      "\r",
      " 18%|███████▏                               | 184/1000 [02:43<12:28,  1.09it/s]"
     ]
    },
    {
     "name": "stdout",
     "output_type": "stream",
     "text": [
      "66 (score = 0.69901)\n",
      "105 (score = 0.61657)\n",
      "153 (score = 0.58543)\n",
      "17 (score = 0.57081)\n",
      "171 (score = 0.55529)\n",
      "214 (score = 0.55122)\n",
      "106 (score = 0.54763)\n",
      "222 (score = 0.54648)\n",
      "138 (score = 0.54219)\n"
     ]
    },
    {
     "name": "stderr",
     "output_type": "stream",
     "text": [
      "\r",
      " 18%|███████▏                               | 185/1000 [02:44<12:14,  1.11it/s]"
     ]
    },
    {
     "name": "stdout",
     "output_type": "stream",
     "text": [
      "66 (score = 0.66438)\n",
      "105 (score = 0.59119)\n",
      "153 (score = 0.56633)\n",
      "17 (score = 0.55511)\n",
      "171 (score = 0.54435)\n",
      "106 (score = 0.53969)\n",
      "222 (score = 0.53882)\n",
      "214 (score = 0.53679)\n",
      "138 (score = 0.53240)\n"
     ]
    },
    {
     "name": "stderr",
     "output_type": "stream",
     "text": [
      "\r",
      " 19%|███████▎                               | 186/1000 [02:45<12:10,  1.11it/s]"
     ]
    },
    {
     "name": "stdout",
     "output_type": "stream",
     "text": [
      "66 (score = 0.63945)\n",
      "105 (score = 0.58594)\n",
      "153 (score = 0.56205)\n",
      "17 (score = 0.54744)\n",
      "106 (score = 0.53913)\n",
      "214 (score = 0.53348)\n",
      "171 (score = 0.53299)\n",
      "222 (score = 0.53057)\n",
      "62 (score = 0.52590)\n"
     ]
    },
    {
     "name": "stderr",
     "output_type": "stream",
     "text": [
      "\r",
      " 19%|███████▎                               | 187/1000 [02:46<12:14,  1.11it/s]"
     ]
    },
    {
     "name": "stdout",
     "output_type": "stream",
     "text": [
      "66 (score = 0.66875)\n",
      "105 (score = 0.59308)\n",
      "153 (score = 0.56920)\n",
      "17 (score = 0.55813)\n",
      "171 (score = 0.54895)\n",
      "106 (score = 0.54344)\n",
      "214 (score = 0.54207)\n",
      "222 (score = 0.54005)\n",
      "176 (score = 0.53127)\n"
     ]
    },
    {
     "name": "stderr",
     "output_type": "stream",
     "text": [
      "\r",
      " 19%|███████▎                               | 188/1000 [02:47<12:11,  1.11it/s]"
     ]
    },
    {
     "name": "stdout",
     "output_type": "stream",
     "text": [
      "66 (score = 0.71190)\n",
      "105 (score = 0.61896)\n",
      "153 (score = 0.58993)\n",
      "17 (score = 0.56880)\n",
      "171 (score = 0.55883)\n",
      "106 (score = 0.55589)\n",
      "214 (score = 0.54705)\n",
      "222 (score = 0.54408)\n",
      "138 (score = 0.54194)\n"
     ]
    },
    {
     "name": "stderr",
     "output_type": "stream",
     "text": [
      "\r",
      " 19%|███████▎                               | 189/1000 [02:48<12:11,  1.11it/s]"
     ]
    },
    {
     "name": "stdout",
     "output_type": "stream",
     "text": [
      "66 (score = 0.62893)\n",
      "105 (score = 0.56439)\n",
      "153 (score = 0.54843)\n",
      "17 (score = 0.54424)\n",
      "171 (score = 0.53586)\n",
      "106 (score = 0.53383)\n",
      "214 (score = 0.52583)\n",
      "222 (score = 0.52540)\n",
      "19 (score = 0.52517)\n"
     ]
    },
    {
     "name": "stderr",
     "output_type": "stream",
     "text": [
      "\r",
      " 19%|███████▍                               | 190/1000 [02:49<12:09,  1.11it/s]"
     ]
    },
    {
     "name": "stdout",
     "output_type": "stream",
     "text": [
      "66 (score = 0.64050)\n",
      "105 (score = 0.57287)\n",
      "17 (score = 0.55518)\n",
      "153 (score = 0.55311)\n",
      "171 (score = 0.54161)\n",
      "106 (score = 0.53767)\n",
      "214 (score = 0.52918)\n",
      "222 (score = 0.52727)\n",
      "19 (score = 0.52634)\n"
     ]
    },
    {
     "name": "stderr",
     "output_type": "stream",
     "text": [
      "\r",
      " 19%|███████▍                               | 191/1000 [02:50<12:20,  1.09it/s]"
     ]
    },
    {
     "name": "stdout",
     "output_type": "stream",
     "text": [
      "66 (score = 0.68373)\n",
      "105 (score = 0.61213)\n",
      "153 (score = 0.58441)\n",
      "17 (score = 0.56198)\n",
      "106 (score = 0.55405)\n",
      "171 (score = 0.54634)\n",
      "214 (score = 0.54512)\n",
      "222 (score = 0.53943)\n",
      "138 (score = 0.53832)\n"
     ]
    },
    {
     "name": "stderr",
     "output_type": "stream",
     "text": [
      "\r",
      " 19%|███████▍                               | 192/1000 [02:50<12:08,  1.11it/s]"
     ]
    },
    {
     "name": "stdout",
     "output_type": "stream",
     "text": [
      "66 (score = 0.69128)\n",
      "105 (score = 0.60572)\n",
      "153 (score = 0.57424)\n",
      "17 (score = 0.56517)\n",
      "171 (score = 0.55212)\n",
      "106 (score = 0.54686)\n",
      "214 (score = 0.54605)\n",
      "222 (score = 0.54383)\n",
      "138 (score = 0.53823)\n"
     ]
    },
    {
     "name": "stderr",
     "output_type": "stream",
     "text": [
      "\r",
      " 19%|███████▌                               | 193/1000 [02:51<12:18,  1.09it/s]"
     ]
    },
    {
     "name": "stdout",
     "output_type": "stream",
     "text": [
      "66 (score = 0.62599)\n",
      "105 (score = 0.58482)\n",
      "153 (score = 0.55888)\n",
      "17 (score = 0.54230)\n",
      "106 (score = 0.53730)\n",
      "214 (score = 0.53579)\n",
      "171 (score = 0.53042)\n",
      "138 (score = 0.53007)\n",
      "222 (score = 0.52764)\n"
     ]
    },
    {
     "name": "stderr",
     "output_type": "stream",
     "text": [
      "\r",
      " 19%|███████▌                               | 194/1000 [02:52<12:39,  1.06it/s]"
     ]
    },
    {
     "name": "stdout",
     "output_type": "stream",
     "text": [
      "66 (score = 0.66411)\n",
      "105 (score = 0.59432)\n",
      "153 (score = 0.56725)\n",
      "17 (score = 0.55368)\n",
      "171 (score = 0.54428)\n",
      "106 (score = 0.54104)\n",
      "214 (score = 0.53730)\n",
      "222 (score = 0.53298)\n",
      "138 (score = 0.52575)\n"
     ]
    },
    {
     "name": "stderr",
     "output_type": "stream",
     "text": [
      "\r",
      " 20%|███████▌                               | 195/1000 [02:53<12:30,  1.07it/s]"
     ]
    },
    {
     "name": "stdout",
     "output_type": "stream",
     "text": [
      "66 (score = 0.63854)\n",
      "105 (score = 0.57385)\n",
      "153 (score = 0.55364)\n",
      "17 (score = 0.54966)\n",
      "171 (score = 0.53979)\n",
      "214 (score = 0.53429)\n",
      "106 (score = 0.53198)\n",
      "222 (score = 0.52998)\n",
      "138 (score = 0.52614)\n"
     ]
    },
    {
     "name": "stderr",
     "output_type": "stream",
     "text": [
      "\r",
      " 20%|███████▋                               | 196/1000 [02:54<12:23,  1.08it/s]"
     ]
    },
    {
     "name": "stdout",
     "output_type": "stream",
     "text": [
      "66 (score = 0.66033)\n",
      "105 (score = 0.58731)\n",
      "153 (score = 0.57057)\n",
      "171 (score = 0.54651)\n",
      "17 (score = 0.54615)\n",
      "106 (score = 0.54095)\n",
      "214 (score = 0.53875)\n",
      "222 (score = 0.53111)\n",
      "19 (score = 0.52773)\n"
     ]
    },
    {
     "name": "stderr",
     "output_type": "stream",
     "text": [
      "\r",
      " 20%|███████▋                               | 197/1000 [02:55<12:21,  1.08it/s]"
     ]
    },
    {
     "name": "stdout",
     "output_type": "stream",
     "text": [
      "66 (score = 0.73493)\n",
      "105 (score = 0.62534)\n",
      "153 (score = 0.60351)\n",
      "17 (score = 0.58101)\n",
      "171 (score = 0.56762)\n",
      "222 (score = 0.56076)\n",
      "214 (score = 0.55681)\n",
      "106 (score = 0.55511)\n",
      "138 (score = 0.54540)\n"
     ]
    },
    {
     "name": "stderr",
     "output_type": "stream",
     "text": [
      "\r",
      " 20%|███████▋                               | 198/1000 [02:56<12:15,  1.09it/s]"
     ]
    },
    {
     "name": "stdout",
     "output_type": "stream",
     "text": [
      "66 (score = 0.66753)\n",
      "105 (score = 0.59685)\n",
      "153 (score = 0.57345)\n",
      "17 (score = 0.55515)\n",
      "171 (score = 0.54865)\n",
      "106 (score = 0.54479)\n",
      "214 (score = 0.53925)\n",
      "138 (score = 0.53331)\n",
      "222 (score = 0.53307)\n"
     ]
    },
    {
     "name": "stderr",
     "output_type": "stream",
     "text": [
      "\r",
      " 20%|███████▊                               | 199/1000 [02:57<12:12,  1.09it/s]"
     ]
    },
    {
     "name": "stdout",
     "output_type": "stream",
     "text": [
      "66 (score = 0.58359)\n",
      "105 (score = 0.55398)\n",
      "153 (score = 0.53531)\n",
      "17 (score = 0.52989)\n",
      "106 (score = 0.52885)\n",
      "171 (score = 0.52302)\n",
      "214 (score = 0.52080)\n",
      "138 (score = 0.51776)\n",
      "222 (score = 0.51557)\n"
     ]
    },
    {
     "name": "stderr",
     "output_type": "stream",
     "text": [
      "\r",
      " 20%|███████▊                               | 200/1000 [02:58<12:06,  1.10it/s]"
     ]
    },
    {
     "name": "stdout",
     "output_type": "stream",
     "text": [
      "66 (score = 0.69107)\n",
      "105 (score = 0.61036)\n",
      "153 (score = 0.58117)\n",
      "17 (score = 0.56606)\n",
      "171 (score = 0.55404)\n",
      "106 (score = 0.55107)\n",
      "214 (score = 0.54924)\n",
      "222 (score = 0.54111)\n",
      "138 (score = 0.53855)\n"
     ]
    },
    {
     "name": "stderr",
     "output_type": "stream",
     "text": [
      "\r",
      " 20%|███████▊                               | 201/1000 [02:59<12:04,  1.10it/s]"
     ]
    },
    {
     "name": "stdout",
     "output_type": "stream",
     "text": [
      "66 (score = 0.62701)\n",
      "105 (score = 0.56650)\n",
      "153 (score = 0.54677)\n",
      "17 (score = 0.53975)\n",
      "171 (score = 0.53448)\n",
      "106 (score = 0.53417)\n",
      "214 (score = 0.53116)\n",
      "62 (score = 0.52889)\n",
      "222 (score = 0.52777)\n"
     ]
    },
    {
     "name": "stderr",
     "output_type": "stream",
     "text": [
      "\r",
      " 20%|███████▉                               | 202/1000 [03:00<12:01,  1.11it/s]"
     ]
    },
    {
     "name": "stdout",
     "output_type": "stream",
     "text": [
      "66 (score = 0.67167)\n",
      "105 (score = 0.59189)\n",
      "153 (score = 0.56663)\n",
      "17 (score = 0.55984)\n",
      "171 (score = 0.55160)\n",
      "106 (score = 0.54301)\n",
      "214 (score = 0.54213)\n",
      "222 (score = 0.53854)\n",
      "62 (score = 0.53247)\n"
     ]
    },
    {
     "name": "stderr",
     "output_type": "stream",
     "text": [
      "\r",
      " 20%|███████▉                               | 203/1000 [03:01<11:58,  1.11it/s]"
     ]
    },
    {
     "name": "stdout",
     "output_type": "stream",
     "text": [
      "66 (score = 0.68064)\n",
      "105 (score = 0.61183)\n",
      "153 (score = 0.57933)\n",
      "17 (score = 0.56009)\n",
      "106 (score = 0.54982)\n",
      "214 (score = 0.54834)\n",
      "171 (score = 0.54607)\n",
      "222 (score = 0.54351)\n",
      "138 (score = 0.54064)\n"
     ]
    },
    {
     "name": "stderr",
     "output_type": "stream",
     "text": [
      "\r",
      " 20%|███████▉                               | 204/1000 [03:02<12:05,  1.10it/s]"
     ]
    },
    {
     "name": "stdout",
     "output_type": "stream",
     "text": [
      "66 (score = 0.62434)\n",
      "105 (score = 0.56446)\n",
      "153 (score = 0.54771)\n",
      "17 (score = 0.53926)\n",
      "171 (score = 0.53914)\n",
      "214 (score = 0.53066)\n",
      "106 (score = 0.52973)\n",
      "222 (score = 0.52317)\n",
      "19 (score = 0.52192)\n"
     ]
    },
    {
     "name": "stderr",
     "output_type": "stream",
     "text": [
      "\r",
      " 20%|███████▉                               | 205/1000 [03:02<12:11,  1.09it/s]"
     ]
    },
    {
     "name": "stdout",
     "output_type": "stream",
     "text": [
      "66 (score = 0.65655)\n",
      "105 (score = 0.58693)\n",
      "153 (score = 0.56578)\n",
      "17 (score = 0.55246)\n",
      "171 (score = 0.54759)\n",
      "106 (score = 0.54588)\n",
      "222 (score = 0.53689)\n",
      "214 (score = 0.53659)\n",
      "138 (score = 0.53174)\n"
     ]
    },
    {
     "name": "stderr",
     "output_type": "stream",
     "text": [
      "\r",
      " 21%|████████                               | 206/1000 [03:03<11:58,  1.10it/s]"
     ]
    },
    {
     "name": "stdout",
     "output_type": "stream",
     "text": [
      "66 (score = 0.65915)\n",
      "105 (score = 0.58697)\n",
      "153 (score = 0.56648)\n",
      "17 (score = 0.55418)\n",
      "171 (score = 0.54460)\n",
      "106 (score = 0.54058)\n",
      "214 (score = 0.53982)\n",
      "222 (score = 0.53307)\n",
      "138 (score = 0.52995)\n"
     ]
    },
    {
     "name": "stderr",
     "output_type": "stream",
     "text": [
      "\r",
      " 21%|████████                               | 207/1000 [03:04<12:00,  1.10it/s]"
     ]
    },
    {
     "name": "stdout",
     "output_type": "stream",
     "text": [
      "66 (score = 0.68275)\n",
      "105 (score = 0.61236)\n",
      "153 (score = 0.58255)\n",
      "17 (score = 0.56526)\n",
      "106 (score = 0.55579)\n",
      "171 (score = 0.54774)\n",
      "214 (score = 0.54628)\n",
      "138 (score = 0.53774)\n",
      "222 (score = 0.53687)\n"
     ]
    },
    {
     "name": "stderr",
     "output_type": "stream",
     "text": [
      "\r",
      " 21%|████████                               | 208/1000 [03:05<12:01,  1.10it/s]"
     ]
    },
    {
     "name": "stdout",
     "output_type": "stream",
     "text": [
      "66 (score = 0.71770)\n",
      "105 (score = 0.62919)\n",
      "153 (score = 0.59876)\n",
      "17 (score = 0.58175)\n",
      "171 (score = 0.55877)\n",
      "214 (score = 0.55603)\n",
      "106 (score = 0.55356)\n",
      "222 (score = 0.55188)\n",
      "138 (score = 0.54623)\n"
     ]
    },
    {
     "name": "stderr",
     "output_type": "stream",
     "text": [
      "\r",
      " 21%|████████▏                              | 209/1000 [03:06<12:01,  1.10it/s]"
     ]
    },
    {
     "name": "stdout",
     "output_type": "stream",
     "text": [
      "66 (score = 0.65216)\n",
      "105 (score = 0.58063)\n",
      "153 (score = 0.56019)\n",
      "17 (score = 0.54797)\n",
      "171 (score = 0.54559)\n",
      "106 (score = 0.54031)\n",
      "214 (score = 0.53543)\n",
      "222 (score = 0.53103)\n",
      "19 (score = 0.52958)\n"
     ]
    },
    {
     "name": "stderr",
     "output_type": "stream",
     "text": [
      "\r",
      " 21%|████████▏                              | 210/1000 [03:07<12:04,  1.09it/s]"
     ]
    },
    {
     "name": "stdout",
     "output_type": "stream",
     "text": [
      "66 (score = 0.62090)\n",
      "105 (score = 0.56721)\n",
      "153 (score = 0.54729)\n",
      "17 (score = 0.54059)\n",
      "106 (score = 0.53111)\n",
      "171 (score = 0.53089)\n",
      "214 (score = 0.52708)\n",
      "222 (score = 0.52204)\n",
      "62 (score = 0.52017)\n"
     ]
    },
    {
     "name": "stderr",
     "output_type": "stream",
     "text": [
      "\r",
      " 21%|████████▏                              | 211/1000 [03:08<12:09,  1.08it/s]"
     ]
    },
    {
     "name": "stdout",
     "output_type": "stream",
     "text": [
      "66 (score = 0.67580)\n",
      "105 (score = 0.59336)\n",
      "153 (score = 0.56963)\n",
      "17 (score = 0.55765)\n",
      "171 (score = 0.54867)\n",
      "214 (score = 0.54649)\n",
      "106 (score = 0.54027)\n",
      "222 (score = 0.53678)\n",
      "138 (score = 0.53423)\n"
     ]
    },
    {
     "name": "stderr",
     "output_type": "stream",
     "text": [
      "\r",
      " 21%|████████▎                              | 212/1000 [03:09<12:02,  1.09it/s]"
     ]
    },
    {
     "name": "stdout",
     "output_type": "stream",
     "text": [
      "66 (score = 0.67958)\n",
      "105 (score = 0.59500)\n",
      "153 (score = 0.57433)\n",
      "17 (score = 0.55679)\n",
      "171 (score = 0.55077)\n",
      "106 (score = 0.54723)\n",
      "214 (score = 0.54534)\n",
      "222 (score = 0.53544)\n",
      "138 (score = 0.53514)\n"
     ]
    },
    {
     "name": "stderr",
     "output_type": "stream",
     "text": [
      "\r",
      " 21%|████████▎                              | 213/1000 [03:10<12:10,  1.08it/s]"
     ]
    },
    {
     "name": "stdout",
     "output_type": "stream",
     "text": [
      "66 (score = 0.65801)\n",
      "105 (score = 0.58533)\n",
      "153 (score = 0.56031)\n",
      "17 (score = 0.55478)\n",
      "171 (score = 0.54770)\n",
      "106 (score = 0.54090)\n",
      "214 (score = 0.53900)\n",
      "222 (score = 0.53335)\n",
      "138 (score = 0.52972)\n"
     ]
    },
    {
     "name": "stderr",
     "output_type": "stream",
     "text": [
      "\r",
      " 21%|████████▎                              | 214/1000 [03:11<12:01,  1.09it/s]"
     ]
    },
    {
     "name": "stdout",
     "output_type": "stream",
     "text": [
      "66 (score = 0.62054)\n",
      "105 (score = 0.56977)\n",
      "153 (score = 0.54936)\n",
      "17 (score = 0.54131)\n",
      "171 (score = 0.53155)\n",
      "106 (score = 0.53036)\n",
      "214 (score = 0.52866)\n",
      "222 (score = 0.52277)\n",
      "138 (score = 0.52170)\n"
     ]
    },
    {
     "name": "stderr",
     "output_type": "stream",
     "text": [
      "\r",
      " 22%|████████▍                              | 215/1000 [03:12<12:05,  1.08it/s]"
     ]
    },
    {
     "name": "stdout",
     "output_type": "stream",
     "text": [
      "66 (score = 0.63945)\n",
      "105 (score = 0.57677)\n",
      "153 (score = 0.55961)\n",
      "17 (score = 0.54241)\n",
      "106 (score = 0.53971)\n",
      "171 (score = 0.53723)\n",
      "214 (score = 0.53474)\n",
      "222 (score = 0.52650)\n",
      "138 (score = 0.52460)\n"
     ]
    },
    {
     "name": "stderr",
     "output_type": "stream",
     "text": [
      "\r",
      " 22%|████████▍                              | 216/1000 [03:13<12:09,  1.07it/s]"
     ]
    },
    {
     "name": "stdout",
     "output_type": "stream",
     "text": [
      "66 (score = 0.68801)\n",
      "105 (score = 0.60477)\n",
      "153 (score = 0.57731)\n",
      "17 (score = 0.56552)\n",
      "171 (score = 0.55796)\n",
      "214 (score = 0.55609)\n",
      "106 (score = 0.55219)\n",
      "138 (score = 0.53803)\n",
      "222 (score = 0.53363)\n"
     ]
    },
    {
     "name": "stderr",
     "output_type": "stream",
     "text": [
      "\r",
      " 22%|████████▍                              | 217/1000 [03:14<12:20,  1.06it/s]"
     ]
    },
    {
     "name": "stdout",
     "output_type": "stream",
     "text": [
      "66 (score = 0.68112)\n",
      "105 (score = 0.61211)\n",
      "153 (score = 0.57768)\n",
      "17 (score = 0.56334)\n",
      "106 (score = 0.54502)\n",
      "214 (score = 0.54415)\n",
      "171 (score = 0.54356)\n",
      "222 (score = 0.54336)\n",
      "138 (score = 0.53819)\n"
     ]
    },
    {
     "name": "stderr",
     "output_type": "stream",
     "text": [
      "\r",
      " 22%|████████▌                              | 218/1000 [03:15<12:55,  1.01it/s]"
     ]
    },
    {
     "name": "stdout",
     "output_type": "stream",
     "text": [
      "66 (score = 0.66085)\n",
      "105 (score = 0.58625)\n",
      "153 (score = 0.56212)\n",
      "17 (score = 0.55740)\n",
      "171 (score = 0.54921)\n",
      "106 (score = 0.54037)\n",
      "214 (score = 0.53702)\n",
      "138 (score = 0.53110)\n",
      "222 (score = 0.52905)\n"
     ]
    },
    {
     "name": "stderr",
     "output_type": "stream",
     "text": [
      "\r",
      " 22%|████████▌                              | 219/1000 [03:16<12:45,  1.02it/s]"
     ]
    },
    {
     "name": "stdout",
     "output_type": "stream",
     "text": [
      "66 (score = 0.67517)\n",
      "105 (score = 0.59202)\n",
      "153 (score = 0.57529)\n",
      "17 (score = 0.55935)\n",
      "171 (score = 0.55086)\n",
      "106 (score = 0.54908)\n",
      "214 (score = 0.53509)\n",
      "222 (score = 0.53389)\n",
      "62 (score = 0.53268)\n"
     ]
    },
    {
     "name": "stderr",
     "output_type": "stream",
     "text": [
      "\r",
      " 22%|████████▌                              | 220/1000 [03:17<12:42,  1.02it/s]"
     ]
    },
    {
     "name": "stdout",
     "output_type": "stream",
     "text": [
      "66 (score = 0.65828)\n",
      "105 (score = 0.58397)\n",
      "153 (score = 0.56833)\n",
      "17 (score = 0.54950)\n",
      "171 (score = 0.54174)\n",
      "106 (score = 0.54114)\n",
      "214 (score = 0.53321)\n",
      "222 (score = 0.53055)\n",
      "62 (score = 0.52774)\n"
     ]
    },
    {
     "name": "stderr",
     "output_type": "stream",
     "text": [
      "\r",
      " 22%|████████▌                              | 221/1000 [03:18<12:34,  1.03it/s]"
     ]
    },
    {
     "name": "stdout",
     "output_type": "stream",
     "text": [
      "66 (score = 0.63415)\n",
      "105 (score = 0.57482)\n",
      "153 (score = 0.56522)\n",
      "17 (score = 0.54261)\n",
      "171 (score = 0.53933)\n",
      "106 (score = 0.53737)\n",
      "214 (score = 0.53016)\n",
      "222 (score = 0.52789)\n",
      "138 (score = 0.52618)\n"
     ]
    },
    {
     "name": "stderr",
     "output_type": "stream",
     "text": [
      "\r",
      " 22%|████████▋                              | 222/1000 [03:18<12:07,  1.07it/s]"
     ]
    },
    {
     "name": "stdout",
     "output_type": "stream",
     "text": [
      "66 (score = 0.63224)\n",
      "105 (score = 0.57742)\n",
      "153 (score = 0.55459)\n",
      "17 (score = 0.53904)\n",
      "171 (score = 0.53821)\n",
      "106 (score = 0.53754)\n",
      "214 (score = 0.53559)\n",
      "222 (score = 0.52526)\n",
      "138 (score = 0.52498)\n"
     ]
    },
    {
     "name": "stderr",
     "output_type": "stream",
     "text": [
      "\r",
      " 22%|████████▋                              | 223/1000 [03:19<12:02,  1.08it/s]"
     ]
    },
    {
     "name": "stdout",
     "output_type": "stream",
     "text": [
      "66 (score = 0.61867)\n",
      "105 (score = 0.56094)\n",
      "153 (score = 0.54490)\n",
      "17 (score = 0.54274)\n",
      "171 (score = 0.53681)\n",
      "214 (score = 0.52711)\n",
      "106 (score = 0.52571)\n",
      "222 (score = 0.52410)\n",
      "62 (score = 0.52139)\n"
     ]
    },
    {
     "name": "stderr",
     "output_type": "stream",
     "text": [
      "\r",
      " 22%|████████▋                              | 224/1000 [03:20<12:02,  1.07it/s]"
     ]
    },
    {
     "name": "stdout",
     "output_type": "stream",
     "text": [
      "66 (score = 0.63834)\n",
      "105 (score = 0.58191)\n",
      "153 (score = 0.55663)\n",
      "17 (score = 0.54523)\n",
      "171 (score = 0.53875)\n",
      "106 (score = 0.53802)\n",
      "214 (score = 0.53721)\n",
      "222 (score = 0.52871)\n",
      "138 (score = 0.52666)\n"
     ]
    },
    {
     "name": "stderr",
     "output_type": "stream",
     "text": [
      "\r",
      " 22%|████████▊                              | 225/1000 [03:21<11:42,  1.10it/s]"
     ]
    },
    {
     "name": "stdout",
     "output_type": "stream",
     "text": [
      "66 (score = 0.66564)\n",
      "105 (score = 0.59353)\n",
      "153 (score = 0.56547)\n",
      "17 (score = 0.55743)\n",
      "171 (score = 0.54716)\n",
      "106 (score = 0.53972)\n",
      "214 (score = 0.53612)\n",
      "222 (score = 0.53495)\n",
      "138 (score = 0.53135)\n"
     ]
    },
    {
     "name": "stderr",
     "output_type": "stream",
     "text": [
      "\r",
      " 23%|████████▊                              | 226/1000 [03:22<11:25,  1.13it/s]"
     ]
    },
    {
     "name": "stdout",
     "output_type": "stream",
     "text": [
      "66 (score = 0.70534)\n",
      "105 (score = 0.61445)\n",
      "153 (score = 0.58981)\n",
      "17 (score = 0.56592)\n",
      "106 (score = 0.55784)\n",
      "171 (score = 0.55642)\n",
      "222 (score = 0.54686)\n",
      "214 (score = 0.54490)\n",
      "138 (score = 0.54166)\n"
     ]
    },
    {
     "name": "stderr",
     "output_type": "stream",
     "text": [
      "\r",
      " 23%|████████▊                              | 227/1000 [03:23<11:39,  1.10it/s]"
     ]
    },
    {
     "name": "stdout",
     "output_type": "stream",
     "text": [
      "66 (score = 0.65517)\n",
      "105 (score = 0.59727)\n",
      "153 (score = 0.56743)\n",
      "17 (score = 0.55275)\n",
      "171 (score = 0.54295)\n",
      "106 (score = 0.54127)\n",
      "222 (score = 0.53831)\n",
      "214 (score = 0.53615)\n",
      "138 (score = 0.53200)\n"
     ]
    },
    {
     "name": "stderr",
     "output_type": "stream",
     "text": [
      "\r",
      " 23%|████████▉                              | 228/1000 [03:24<10:57,  1.17it/s]"
     ]
    },
    {
     "name": "stdout",
     "output_type": "stream",
     "text": [
      "66 (score = 0.70400)\n",
      "105 (score = 0.61637)\n",
      "153 (score = 0.58330)\n",
      "17 (score = 0.57025)\n",
      "171 (score = 0.55726)\n",
      "214 (score = 0.55372)\n",
      "106 (score = 0.54944)\n",
      "222 (score = 0.54774)\n",
      "138 (score = 0.53835)\n"
     ]
    },
    {
     "name": "stderr",
     "output_type": "stream",
     "text": [
      "\r",
      " 23%|████████▉                              | 229/1000 [03:24<10:56,  1.17it/s]"
     ]
    },
    {
     "name": "stdout",
     "output_type": "stream",
     "text": [
      "66 (score = 0.64377)\n",
      "105 (score = 0.57904)\n",
      "153 (score = 0.55489)\n",
      "17 (score = 0.54691)\n",
      "214 (score = 0.53732)\n",
      "106 (score = 0.53519)\n",
      "171 (score = 0.53519)\n",
      "222 (score = 0.52884)\n",
      "137 (score = 0.52336)\n"
     ]
    },
    {
     "name": "stderr",
     "output_type": "stream",
     "text": [
      "\r",
      " 23%|████████▉                              | 230/1000 [03:25<11:16,  1.14it/s]"
     ]
    },
    {
     "name": "stdout",
     "output_type": "stream",
     "text": [
      "66 (score = 0.68813)\n",
      "105 (score = 0.61386)\n",
      "153 (score = 0.58143)\n",
      "17 (score = 0.56865)\n",
      "106 (score = 0.55517)\n",
      "171 (score = 0.55470)\n",
      "214 (score = 0.54655)\n",
      "222 (score = 0.53939)\n",
      "138 (score = 0.53793)\n"
     ]
    },
    {
     "name": "stderr",
     "output_type": "stream",
     "text": [
      "\r",
      " 23%|█████████                              | 231/1000 [03:26<11:30,  1.11it/s]"
     ]
    },
    {
     "name": "stdout",
     "output_type": "stream",
     "text": [
      "66 (score = 0.66959)\n",
      "105 (score = 0.60141)\n",
      "153 (score = 0.57724)\n",
      "17 (score = 0.55462)\n",
      "171 (score = 0.54725)\n",
      "106 (score = 0.54442)\n",
      "214 (score = 0.54374)\n",
      "222 (score = 0.53282)\n",
      "138 (score = 0.53028)\n"
     ]
    },
    {
     "name": "stderr",
     "output_type": "stream",
     "text": [
      "\r",
      " 23%|█████████                              | 232/1000 [03:27<11:38,  1.10it/s]"
     ]
    },
    {
     "name": "stdout",
     "output_type": "stream",
     "text": [
      "66 (score = 0.64640)\n",
      "105 (score = 0.58741)\n",
      "153 (score = 0.56447)\n",
      "17 (score = 0.54880)\n",
      "106 (score = 0.54412)\n",
      "171 (score = 0.53881)\n",
      "214 (score = 0.53592)\n",
      "222 (score = 0.53117)\n",
      "138 (score = 0.52976)\n"
     ]
    },
    {
     "name": "stderr",
     "output_type": "stream",
     "text": [
      "\r",
      " 23%|█████████                              | 233/1000 [03:28<10:58,  1.16it/s]"
     ]
    },
    {
     "name": "stdout",
     "output_type": "stream",
     "text": [
      "66 (score = 0.69868)\n",
      "105 (score = 0.62319)\n",
      "153 (score = 0.59217)\n",
      "17 (score = 0.56830)\n",
      "106 (score = 0.56234)\n",
      "171 (score = 0.55306)\n",
      "214 (score = 0.55121)\n",
      "222 (score = 0.54215)\n",
      "138 (score = 0.54132)\n"
     ]
    },
    {
     "name": "stderr",
     "output_type": "stream",
     "text": [
      "\r",
      " 23%|█████████▏                             | 234/1000 [03:29<10:58,  1.16it/s]"
     ]
    },
    {
     "name": "stdout",
     "output_type": "stream",
     "text": [
      "66 (score = 0.62474)\n",
      "105 (score = 0.56011)\n",
      "153 (score = 0.54644)\n",
      "17 (score = 0.54380)\n",
      "171 (score = 0.53501)\n",
      "214 (score = 0.52974)\n",
      "222 (score = 0.52512)\n",
      "106 (score = 0.52498)\n",
      "62 (score = 0.52160)\n"
     ]
    },
    {
     "name": "stderr",
     "output_type": "stream",
     "text": [
      "\r",
      " 24%|█████████▏                             | 235/1000 [03:30<10:41,  1.19it/s]"
     ]
    },
    {
     "name": "stdout",
     "output_type": "stream",
     "text": [
      "66 (score = 0.64780)\n",
      "105 (score = 0.57518)\n",
      "153 (score = 0.55377)\n",
      "17 (score = 0.54754)\n",
      "171 (score = 0.54659)\n",
      "222 (score = 0.53575)\n",
      "106 (score = 0.53574)\n",
      "214 (score = 0.53465)\n",
      "19 (score = 0.52758)\n"
     ]
    },
    {
     "name": "stderr",
     "output_type": "stream",
     "text": [
      "\r",
      " 24%|█████████▏                             | 236/1000 [03:31<10:59,  1.16it/s]"
     ]
    },
    {
     "name": "stdout",
     "output_type": "stream",
     "text": [
      "66 (score = 0.69985)\n",
      "105 (score = 0.61408)\n",
      "153 (score = 0.58583)\n",
      "17 (score = 0.57625)\n",
      "171 (score = 0.56101)\n",
      "214 (score = 0.55241)\n",
      "106 (score = 0.55167)\n",
      "138 (score = 0.54124)\n",
      "222 (score = 0.53997)\n"
     ]
    },
    {
     "name": "stderr",
     "output_type": "stream",
     "text": [
      "\r",
      " 24%|█████████▏                             | 237/1000 [03:32<11:12,  1.13it/s]"
     ]
    },
    {
     "name": "stdout",
     "output_type": "stream",
     "text": [
      "66 (score = 0.69888)\n",
      "105 (score = 0.61028)\n",
      "153 (score = 0.58034)\n",
      "17 (score = 0.56869)\n",
      "171 (score = 0.55891)\n",
      "214 (score = 0.54881)\n",
      "106 (score = 0.54681)\n",
      "222 (score = 0.54233)\n",
      "138 (score = 0.53643)\n"
     ]
    },
    {
     "name": "stderr",
     "output_type": "stream",
     "text": [
      "\r",
      " 24%|█████████▎                             | 238/1000 [03:32<11:37,  1.09it/s]"
     ]
    },
    {
     "name": "stdout",
     "output_type": "stream",
     "text": [
      "66 (score = 0.64277)\n",
      "105 (score = 0.57492)\n",
      "153 (score = 0.55610)\n",
      "17 (score = 0.54902)\n",
      "171 (score = 0.54680)\n",
      "106 (score = 0.53638)\n",
      "214 (score = 0.53606)\n",
      "222 (score = 0.52676)\n",
      "19 (score = 0.52509)\n"
     ]
    },
    {
     "name": "stderr",
     "output_type": "stream",
     "text": [
      "\r",
      " 24%|█████████▎                             | 239/1000 [03:33<11:27,  1.11it/s]"
     ]
    },
    {
     "name": "stdout",
     "output_type": "stream",
     "text": [
      "66 (score = 0.65386)\n",
      "105 (score = 0.57887)\n",
      "153 (score = 0.56045)\n",
      "17 (score = 0.55216)\n",
      "171 (score = 0.54478)\n",
      "214 (score = 0.53727)\n",
      "106 (score = 0.53313)\n",
      "222 (score = 0.53236)\n",
      "19 (score = 0.53138)\n"
     ]
    },
    {
     "name": "stderr",
     "output_type": "stream",
     "text": [
      "\r",
      " 24%|█████████▎                             | 240/1000 [03:34<10:54,  1.16it/s]"
     ]
    },
    {
     "name": "stdout",
     "output_type": "stream",
     "text": [
      "66 (score = 0.70732)\n",
      "105 (score = 0.61390)\n",
      "153 (score = 0.58626)\n",
      "17 (score = 0.57017)\n",
      "171 (score = 0.55710)\n",
      "106 (score = 0.55077)\n",
      "222 (score = 0.54488)\n",
      "214 (score = 0.54394)\n",
      "62 (score = 0.54105)\n"
     ]
    },
    {
     "name": "stderr",
     "output_type": "stream",
     "text": [
      "\r",
      " 24%|█████████▍                             | 241/1000 [03:35<10:44,  1.18it/s]"
     ]
    },
    {
     "name": "stdout",
     "output_type": "stream",
     "text": [
      "66 (score = 0.69742)\n",
      "105 (score = 0.61750)\n",
      "153 (score = 0.58441)\n",
      "17 (score = 0.57165)\n",
      "171 (score = 0.55454)\n",
      "222 (score = 0.54917)\n",
      "214 (score = 0.54883)\n",
      "106 (score = 0.54855)\n",
      "62 (score = 0.53573)\n"
     ]
    },
    {
     "name": "stderr",
     "output_type": "stream",
     "text": [
      "\r",
      " 24%|█████████▍                             | 242/1000 [03:36<10:21,  1.22it/s]"
     ]
    },
    {
     "name": "stdout",
     "output_type": "stream",
     "text": [
      "66 (score = 0.61119)\n",
      "105 (score = 0.56051)\n",
      "153 (score = 0.54204)\n",
      "17 (score = 0.53967)\n",
      "171 (score = 0.53089)\n",
      "106 (score = 0.52985)\n",
      "214 (score = 0.52501)\n",
      "222 (score = 0.52392)\n",
      "19 (score = 0.51986)\n"
     ]
    },
    {
     "name": "stderr",
     "output_type": "stream",
     "text": [
      "\r",
      " 24%|█████████▍                             | 243/1000 [03:37<10:19,  1.22it/s]"
     ]
    },
    {
     "name": "stdout",
     "output_type": "stream",
     "text": [
      "66 (score = 0.66306)\n",
      "105 (score = 0.58231)\n",
      "153 (score = 0.56715)\n",
      "17 (score = 0.55436)\n",
      "171 (score = 0.55189)\n",
      "106 (score = 0.54168)\n",
      "222 (score = 0.53600)\n",
      "214 (score = 0.53534)\n",
      "138 (score = 0.53373)\n"
     ]
    },
    {
     "name": "stderr",
     "output_type": "stream",
     "text": [
      "\r",
      " 24%|█████████▌                             | 244/1000 [03:37<10:43,  1.17it/s]"
     ]
    },
    {
     "name": "stdout",
     "output_type": "stream",
     "text": [
      "66 (score = 0.68665)\n",
      "105 (score = 0.61515)\n",
      "153 (score = 0.58350)\n",
      "17 (score = 0.56320)\n",
      "171 (score = 0.55315)\n",
      "106 (score = 0.54775)\n",
      "214 (score = 0.54629)\n",
      "222 (score = 0.54274)\n",
      "138 (score = 0.53782)\n"
     ]
    },
    {
     "name": "stderr",
     "output_type": "stream",
     "text": [
      "\r",
      " 24%|█████████▌                             | 245/1000 [03:38<10:45,  1.17it/s]"
     ]
    },
    {
     "name": "stdout",
     "output_type": "stream",
     "text": [
      "66 (score = 0.65627)\n",
      "105 (score = 0.58452)\n",
      "153 (score = 0.56283)\n",
      "17 (score = 0.55138)\n",
      "171 (score = 0.54860)\n",
      "106 (score = 0.54614)\n",
      "214 (score = 0.53400)\n",
      "138 (score = 0.53126)\n",
      "222 (score = 0.52939)\n"
     ]
    },
    {
     "name": "stderr",
     "output_type": "stream",
     "text": [
      "\r",
      " 25%|█████████▌                             | 246/1000 [03:39<10:27,  1.20it/s]"
     ]
    },
    {
     "name": "stdout",
     "output_type": "stream",
     "text": [
      "66 (score = 0.74235)\n",
      "105 (score = 0.63920)\n",
      "153 (score = 0.60541)\n",
      "17 (score = 0.58676)\n",
      "171 (score = 0.56992)\n",
      "106 (score = 0.56581)\n",
      "214 (score = 0.55762)\n",
      "222 (score = 0.55466)\n",
      "138 (score = 0.54628)\n"
     ]
    },
    {
     "name": "stderr",
     "output_type": "stream",
     "text": [
      "\r",
      " 25%|█████████▋                             | 247/1000 [03:40<10:11,  1.23it/s]"
     ]
    },
    {
     "name": "stdout",
     "output_type": "stream",
     "text": [
      "66 (score = 0.62300)\n",
      "105 (score = 0.56947)\n",
      "153 (score = 0.55324)\n",
      "17 (score = 0.54397)\n",
      "171 (score = 0.53405)\n",
      "106 (score = 0.53144)\n",
      "222 (score = 0.53018)\n",
      "214 (score = 0.52881)\n",
      "138 (score = 0.52276)\n"
     ]
    },
    {
     "name": "stderr",
     "output_type": "stream",
     "text": [
      "\r",
      " 25%|█████████▋                             | 248/1000 [03:41<10:04,  1.24it/s]"
     ]
    },
    {
     "name": "stdout",
     "output_type": "stream",
     "text": [
      "66 (score = 0.64558)\n",
      "105 (score = 0.58670)\n",
      "153 (score = 0.56343)\n",
      "17 (score = 0.54545)\n",
      "106 (score = 0.54168)\n",
      "214 (score = 0.53812)\n",
      "171 (score = 0.53644)\n",
      "222 (score = 0.53043)\n",
      "176 (score = 0.52540)\n"
     ]
    },
    {
     "name": "stderr",
     "output_type": "stream",
     "text": [
      "\r",
      " 25%|█████████▋                             | 249/1000 [03:42<10:18,  1.21it/s]"
     ]
    },
    {
     "name": "stdout",
     "output_type": "stream",
     "text": [
      "66 (score = 0.69525)\n",
      "105 (score = 0.61082)\n",
      "153 (score = 0.58426)\n",
      "17 (score = 0.56155)\n",
      "106 (score = 0.55308)\n",
      "214 (score = 0.55194)\n",
      "171 (score = 0.55066)\n",
      "222 (score = 0.53782)\n",
      "138 (score = 0.53497)\n"
     ]
    },
    {
     "name": "stderr",
     "output_type": "stream",
     "text": [
      "\r",
      " 25%|█████████▊                             | 250/1000 [03:42<10:25,  1.20it/s]"
     ]
    },
    {
     "name": "stdout",
     "output_type": "stream",
     "text": [
      "66 (score = 0.60943)\n",
      "105 (score = 0.55622)\n",
      "153 (score = 0.54166)\n",
      "17 (score = 0.53859)\n",
      "171 (score = 0.53418)\n",
      "106 (score = 0.52709)\n",
      "214 (score = 0.52577)\n",
      "222 (score = 0.52182)\n",
      "62 (score = 0.51914)\n"
     ]
    },
    {
     "name": "stderr",
     "output_type": "stream",
     "text": [
      "\r",
      " 25%|█████████▊                             | 251/1000 [03:43<10:28,  1.19it/s]"
     ]
    },
    {
     "name": "stdout",
     "output_type": "stream",
     "text": [
      "66 (score = 0.65211)\n",
      "105 (score = 0.59022)\n",
      "153 (score = 0.56332)\n",
      "17 (score = 0.55516)\n",
      "106 (score = 0.54366)\n",
      "171 (score = 0.54122)\n",
      "214 (score = 0.53584)\n",
      "222 (score = 0.53559)\n",
      "138 (score = 0.53454)\n"
     ]
    },
    {
     "name": "stderr",
     "output_type": "stream",
     "text": [
      "\r",
      " 25%|█████████▊                             | 252/1000 [03:44<10:06,  1.23it/s]"
     ]
    },
    {
     "name": "stdout",
     "output_type": "stream",
     "text": [
      "66 (score = 0.68176)\n",
      "105 (score = 0.60724)\n",
      "153 (score = 0.57865)\n",
      "17 (score = 0.55942)\n",
      "171 (score = 0.55148)\n",
      "106 (score = 0.54848)\n",
      "214 (score = 0.54407)\n",
      "222 (score = 0.54172)\n",
      "138 (score = 0.53658)\n"
     ]
    },
    {
     "name": "stderr",
     "output_type": "stream",
     "text": [
      "\r",
      " 25%|█████████▊                             | 253/1000 [03:45<10:01,  1.24it/s]"
     ]
    },
    {
     "name": "stdout",
     "output_type": "stream",
     "text": [
      "66 (score = 0.72004)\n",
      "105 (score = 0.61730)\n",
      "153 (score = 0.58324)\n",
      "17 (score = 0.57518)\n",
      "171 (score = 0.56241)\n",
      "214 (score = 0.55950)\n",
      "106 (score = 0.55280)\n",
      "222 (score = 0.54611)\n",
      "62 (score = 0.53869)\n"
     ]
    },
    {
     "name": "stderr",
     "output_type": "stream",
     "text": [
      "\r",
      " 25%|█████████▉                             | 254/1000 [03:46<10:19,  1.20it/s]"
     ]
    },
    {
     "name": "stdout",
     "output_type": "stream",
     "text": [
      "66 (score = 0.70547)\n",
      "105 (score = 0.61863)\n",
      "153 (score = 0.58636)\n",
      "17 (score = 0.57386)\n",
      "171 (score = 0.55783)\n",
      "106 (score = 0.55219)\n",
      "214 (score = 0.54802)\n",
      "222 (score = 0.54612)\n",
      "138 (score = 0.54046)\n"
     ]
    },
    {
     "name": "stderr",
     "output_type": "stream",
     "text": [
      "\r",
      " 26%|█████████▉                             | 255/1000 [03:46<10:19,  1.20it/s]"
     ]
    },
    {
     "name": "stdout",
     "output_type": "stream",
     "text": [
      "66 (score = 0.62434)\n",
      "105 (score = 0.56695)\n",
      "153 (score = 0.54840)\n",
      "17 (score = 0.54327)\n",
      "171 (score = 0.53430)\n",
      "214 (score = 0.53211)\n",
      "106 (score = 0.53084)\n",
      "222 (score = 0.52666)\n",
      "138 (score = 0.52298)\n"
     ]
    },
    {
     "name": "stderr",
     "output_type": "stream",
     "text": [
      "\r",
      " 26%|█████████▉                             | 256/1000 [03:47<10:22,  1.20it/s]"
     ]
    },
    {
     "name": "stdout",
     "output_type": "stream",
     "text": [
      "66 (score = 0.71466)\n",
      "105 (score = 0.62229)\n",
      "153 (score = 0.59195)\n",
      "17 (score = 0.57463)\n",
      "171 (score = 0.55853)\n",
      "106 (score = 0.55526)\n",
      "214 (score = 0.55446)\n",
      "222 (score = 0.54942)\n",
      "138 (score = 0.54385)\n"
     ]
    },
    {
     "name": "stderr",
     "output_type": "stream",
     "text": [
      "\r",
      " 26%|██████████                             | 257/1000 [03:48<10:22,  1.19it/s]"
     ]
    },
    {
     "name": "stdout",
     "output_type": "stream",
     "text": [
      "66 (score = 0.63444)\n",
      "105 (score = 0.57275)\n",
      "153 (score = 0.55686)\n",
      "17 (score = 0.54220)\n",
      "106 (score = 0.53738)\n",
      "171 (score = 0.53299)\n",
      "214 (score = 0.53233)\n",
      "138 (score = 0.52375)\n",
      "222 (score = 0.52285)\n"
     ]
    },
    {
     "name": "stderr",
     "output_type": "stream",
     "text": [
      "\r",
      " 26%|██████████                             | 258/1000 [03:49<10:07,  1.22it/s]"
     ]
    },
    {
     "name": "stdout",
     "output_type": "stream",
     "text": [
      "66 (score = 0.66129)\n",
      "105 (score = 0.58785)\n",
      "153 (score = 0.56277)\n",
      "17 (score = 0.55422)\n",
      "171 (score = 0.54714)\n",
      "106 (score = 0.54015)\n",
      "214 (score = 0.53892)\n",
      "222 (score = 0.53752)\n",
      "138 (score = 0.53004)\n"
     ]
    },
    {
     "name": "stderr",
     "output_type": "stream",
     "text": [
      "\r",
      " 26%|██████████                             | 259/1000 [03:50<09:50,  1.25it/s]"
     ]
    },
    {
     "name": "stdout",
     "output_type": "stream",
     "text": [
      "66 (score = 0.66768)\n",
      "105 (score = 0.59613)\n",
      "153 (score = 0.57461)\n",
      "17 (score = 0.55770)\n",
      "171 (score = 0.54868)\n",
      "106 (score = 0.54843)\n",
      "214 (score = 0.54228)\n",
      "222 (score = 0.53805)\n",
      "138 (score = 0.53150)\n"
     ]
    },
    {
     "name": "stderr",
     "output_type": "stream",
     "text": [
      "\r",
      " 26%|██████████▏                            | 260/1000 [03:51<09:53,  1.25it/s]"
     ]
    },
    {
     "name": "stdout",
     "output_type": "stream",
     "text": [
      "66 (score = 0.66368)\n",
      "105 (score = 0.59428)\n",
      "153 (score = 0.57104)\n",
      "17 (score = 0.55610)\n",
      "171 (score = 0.54561)\n",
      "106 (score = 0.54252)\n",
      "214 (score = 0.53897)\n",
      "138 (score = 0.53650)\n",
      "222 (score = 0.53565)\n"
     ]
    },
    {
     "name": "stderr",
     "output_type": "stream",
     "text": [
      "\r",
      " 26%|██████████▏                            | 261/1000 [03:51<10:01,  1.23it/s]"
     ]
    },
    {
     "name": "stdout",
     "output_type": "stream",
     "text": [
      "66 (score = 0.67117)\n",
      "105 (score = 0.59443)\n",
      "153 (score = 0.56963)\n",
      "17 (score = 0.55851)\n",
      "171 (score = 0.54638)\n",
      "106 (score = 0.54180)\n",
      "222 (score = 0.53940)\n",
      "214 (score = 0.53909)\n",
      "138 (score = 0.53222)\n"
     ]
    },
    {
     "name": "stderr",
     "output_type": "stream",
     "text": [
      "\r",
      " 26%|██████████▏                            | 262/1000 [03:52<10:10,  1.21it/s]"
     ]
    },
    {
     "name": "stdout",
     "output_type": "stream",
     "text": [
      "66 (score = 0.63671)\n",
      "105 (score = 0.56996)\n",
      "153 (score = 0.55448)\n",
      "17 (score = 0.54480)\n",
      "171 (score = 0.53843)\n",
      "106 (score = 0.53396)\n",
      "214 (score = 0.53196)\n",
      "222 (score = 0.53055)\n",
      "19 (score = 0.52522)\n"
     ]
    },
    {
     "name": "stderr",
     "output_type": "stream",
     "text": [
      "\r",
      " 26%|██████████▎                            | 263/1000 [03:53<10:39,  1.15it/s]"
     ]
    },
    {
     "name": "stdout",
     "output_type": "stream",
     "text": [
      "66 (score = 0.70316)\n",
      "105 (score = 0.61100)\n",
      "153 (score = 0.58557)\n",
      "17 (score = 0.56565)\n",
      "171 (score = 0.56293)\n",
      "106 (score = 0.55327)\n",
      "214 (score = 0.55174)\n",
      "138 (score = 0.53847)\n",
      "19 (score = 0.53833)\n"
     ]
    },
    {
     "name": "stderr",
     "output_type": "stream",
     "text": [
      "\r",
      " 26%|██████████▎                            | 264/1000 [03:54<10:27,  1.17it/s]"
     ]
    },
    {
     "name": "stdout",
     "output_type": "stream",
     "text": [
      "66 (score = 0.70353)\n",
      "105 (score = 0.60531)\n",
      "153 (score = 0.57817)\n",
      "17 (score = 0.57370)\n",
      "171 (score = 0.56331)\n",
      "214 (score = 0.55063)\n",
      "106 (score = 0.54645)\n",
      "222 (score = 0.54482)\n",
      "62 (score = 0.53905)\n"
     ]
    },
    {
     "name": "stderr",
     "output_type": "stream",
     "text": [
      "\r",
      " 26%|██████████▎                            | 265/1000 [03:55<10:30,  1.17it/s]"
     ]
    },
    {
     "name": "stdout",
     "output_type": "stream",
     "text": [
      "66 (score = 0.71848)\n",
      "105 (score = 0.62917)\n",
      "153 (score = 0.59701)\n",
      "17 (score = 0.57073)\n",
      "171 (score = 0.56044)\n",
      "106 (score = 0.55882)\n",
      "214 (score = 0.55672)\n",
      "222 (score = 0.54533)\n",
      "138 (score = 0.54391)\n"
     ]
    },
    {
     "name": "stderr",
     "output_type": "stream",
     "text": [
      "\r",
      " 27%|██████████▎                            | 266/1000 [03:56<10:21,  1.18it/s]"
     ]
    },
    {
     "name": "stdout",
     "output_type": "stream",
     "text": [
      "66 (score = 0.61538)\n",
      "105 (score = 0.56815)\n",
      "153 (score = 0.54751)\n",
      "17 (score = 0.53732)\n",
      "171 (score = 0.53061)\n",
      "214 (score = 0.53033)\n",
      "106 (score = 0.52875)\n",
      "222 (score = 0.52506)\n",
      "62 (score = 0.51936)\n"
     ]
    },
    {
     "name": "stderr",
     "output_type": "stream",
     "text": [
      "\r",
      " 27%|██████████▍                            | 267/1000 [03:57<10:18,  1.19it/s]"
     ]
    },
    {
     "name": "stdout",
     "output_type": "stream",
     "text": [
      "66 (score = 0.57457)\n",
      "105 (score = 0.54471)\n",
      "153 (score = 0.53327)\n",
      "17 (score = 0.52689)\n",
      "106 (score = 0.52414)\n",
      "171 (score = 0.52118)\n",
      "214 (score = 0.51539)\n",
      "19 (score = 0.51529)\n",
      "138 (score = 0.51465)\n"
     ]
    },
    {
     "name": "stderr",
     "output_type": "stream",
     "text": [
      "\r",
      " 27%|██████████▍                            | 268/1000 [03:57<10:20,  1.18it/s]"
     ]
    },
    {
     "name": "stdout",
     "output_type": "stream",
     "text": [
      "66 (score = 0.63680)\n",
      "105 (score = 0.58237)\n",
      "153 (score = 0.55890)\n",
      "17 (score = 0.54617)\n",
      "106 (score = 0.53678)\n",
      "171 (score = 0.53661)\n",
      "214 (score = 0.53353)\n",
      "222 (score = 0.52937)\n",
      "138 (score = 0.52714)\n"
     ]
    },
    {
     "name": "stderr",
     "output_type": "stream",
     "text": [
      "\r",
      " 27%|██████████▍                            | 269/1000 [03:58<10:17,  1.18it/s]"
     ]
    },
    {
     "name": "stdout",
     "output_type": "stream",
     "text": [
      "66 (score = 0.62955)\n",
      "105 (score = 0.57637)\n",
      "153 (score = 0.55457)\n",
      "17 (score = 0.53846)\n",
      "106 (score = 0.53564)\n",
      "214 (score = 0.53348)\n",
      "171 (score = 0.53192)\n",
      "138 (score = 0.52394)\n",
      "222 (score = 0.52269)\n"
     ]
    },
    {
     "name": "stderr",
     "output_type": "stream",
     "text": [
      "\r",
      " 27%|██████████▌                            | 270/1000 [03:59<10:04,  1.21it/s]"
     ]
    },
    {
     "name": "stdout",
     "output_type": "stream",
     "text": [
      "66 (score = 0.62290)\n",
      "105 (score = 0.56157)\n",
      "153 (score = 0.54828)\n",
      "17 (score = 0.54013)\n",
      "171 (score = 0.53441)\n",
      "214 (score = 0.53124)\n",
      "106 (score = 0.53035)\n",
      "222 (score = 0.52502)\n",
      "19 (score = 0.52442)\n"
     ]
    },
    {
     "name": "stderr",
     "output_type": "stream",
     "text": [
      "\r",
      " 27%|██████████▌                            | 271/1000 [04:00<10:18,  1.18it/s]"
     ]
    },
    {
     "name": "stdout",
     "output_type": "stream",
     "text": [
      "66 (score = 0.62784)\n",
      "105 (score = 0.56632)\n",
      "153 (score = 0.54902)\n",
      "171 (score = 0.53955)\n",
      "17 (score = 0.53857)\n",
      "214 (score = 0.53258)\n",
      "106 (score = 0.53088)\n",
      "222 (score = 0.52797)\n",
      "138 (score = 0.52501)\n"
     ]
    },
    {
     "name": "stderr",
     "output_type": "stream",
     "text": [
      "\r",
      " 27%|██████████▌                            | 272/1000 [04:01<09:49,  1.23it/s]"
     ]
    },
    {
     "name": "stdout",
     "output_type": "stream",
     "text": [
      "66 (score = 0.66267)\n",
      "105 (score = 0.59664)\n",
      "153 (score = 0.57118)\n",
      "17 (score = 0.55619)\n",
      "171 (score = 0.54581)\n",
      "214 (score = 0.54133)\n",
      "106 (score = 0.54078)\n",
      "222 (score = 0.53517)\n",
      "62 (score = 0.53089)\n"
     ]
    },
    {
     "name": "stderr",
     "output_type": "stream",
     "text": [
      "\r",
      " 27%|██████████▋                            | 273/1000 [04:02<10:06,  1.20it/s]"
     ]
    },
    {
     "name": "stdout",
     "output_type": "stream",
     "text": [
      "66 (score = 0.65304)\n",
      "105 (score = 0.58916)\n",
      "153 (score = 0.56669)\n",
      "106 (score = 0.54480)\n",
      "17 (score = 0.54285)\n",
      "171 (score = 0.54215)\n",
      "214 (score = 0.54157)\n",
      "138 (score = 0.53010)\n",
      "222 (score = 0.52815)\n"
     ]
    },
    {
     "name": "stderr",
     "output_type": "stream",
     "text": [
      "\r",
      " 27%|██████████▋                            | 274/1000 [04:02<10:09,  1.19it/s]"
     ]
    },
    {
     "name": "stdout",
     "output_type": "stream",
     "text": [
      "66 (score = 0.65771)\n",
      "105 (score = 0.58361)\n",
      "153 (score = 0.56363)\n",
      "171 (score = 0.55191)\n",
      "17 (score = 0.55189)\n",
      "106 (score = 0.54056)\n",
      "214 (score = 0.53830)\n",
      "222 (score = 0.53434)\n",
      "138 (score = 0.53045)\n"
     ]
    },
    {
     "name": "stderr",
     "output_type": "stream",
     "text": [
      "\r",
      " 28%|██████████▋                            | 275/1000 [04:03<10:17,  1.17it/s]"
     ]
    },
    {
     "name": "stdout",
     "output_type": "stream",
     "text": [
      "66 (score = 0.62268)\n",
      "105 (score = 0.57807)\n",
      "153 (score = 0.55854)\n",
      "17 (score = 0.54109)\n",
      "106 (score = 0.53837)\n",
      "171 (score = 0.53509)\n",
      "214 (score = 0.53174)\n",
      "222 (score = 0.52595)\n",
      "138 (score = 0.52432)\n"
     ]
    },
    {
     "name": "stderr",
     "output_type": "stream",
     "text": [
      "\r",
      " 28%|██████████▊                            | 276/1000 [04:04<10:31,  1.15it/s]"
     ]
    },
    {
     "name": "stdout",
     "output_type": "stream",
     "text": [
      "66 (score = 0.64661)\n",
      "105 (score = 0.57614)\n",
      "153 (score = 0.56020)\n",
      "17 (score = 0.55012)\n",
      "171 (score = 0.54044)\n",
      "106 (score = 0.53706)\n",
      "214 (score = 0.53425)\n",
      "222 (score = 0.52666)\n",
      "62 (score = 0.52579)\n"
     ]
    },
    {
     "name": "stderr",
     "output_type": "stream",
     "text": [
      "\r",
      " 28%|██████████▊                            | 277/1000 [04:05<10:21,  1.16it/s]"
     ]
    },
    {
     "name": "stdout",
     "output_type": "stream",
     "text": [
      "66 (score = 0.68354)\n",
      "105 (score = 0.59919)\n",
      "153 (score = 0.58448)\n",
      "17 (score = 0.56736)\n",
      "171 (score = 0.55476)\n",
      "106 (score = 0.54422)\n",
      "214 (score = 0.54266)\n",
      "222 (score = 0.53758)\n",
      "138 (score = 0.53545)\n"
     ]
    },
    {
     "name": "stderr",
     "output_type": "stream",
     "text": [
      "\r",
      " 28%|██████████▊                            | 278/1000 [04:06<10:51,  1.11it/s]"
     ]
    },
    {
     "name": "stdout",
     "output_type": "stream",
     "text": [
      "66 (score = 0.64293)\n",
      "105 (score = 0.57578)\n",
      "153 (score = 0.55899)\n",
      "17 (score = 0.54424)\n",
      "171 (score = 0.53508)\n",
      "106 (score = 0.53458)\n",
      "222 (score = 0.53028)\n",
      "214 (score = 0.52963)\n",
      "62 (score = 0.52581)\n"
     ]
    },
    {
     "name": "stderr",
     "output_type": "stream",
     "text": [
      "\r",
      " 28%|██████████▉                            | 279/1000 [04:07<10:19,  1.16it/s]"
     ]
    },
    {
     "name": "stdout",
     "output_type": "stream",
     "text": [
      "66 (score = 0.65539)\n",
      "105 (score = 0.58094)\n",
      "153 (score = 0.56231)\n",
      "17 (score = 0.55246)\n",
      "171 (score = 0.55020)\n",
      "106 (score = 0.54193)\n",
      "214 (score = 0.53634)\n",
      "222 (score = 0.53115)\n",
      "19 (score = 0.53104)\n"
     ]
    },
    {
     "name": "stderr",
     "output_type": "stream",
     "text": [
      "\r",
      " 28%|██████████▉                            | 280/1000 [04:08<10:17,  1.17it/s]"
     ]
    },
    {
     "name": "stdout",
     "output_type": "stream",
     "text": [
      "66 (score = 0.61897)\n",
      "105 (score = 0.56503)\n",
      "153 (score = 0.55037)\n",
      "171 (score = 0.53578)\n",
      "17 (score = 0.53576)\n",
      "106 (score = 0.53320)\n",
      "214 (score = 0.52916)\n",
      "138 (score = 0.52429)\n",
      "222 (score = 0.52351)\n"
     ]
    },
    {
     "name": "stderr",
     "output_type": "stream",
     "text": [
      "\r",
      " 28%|██████████▉                            | 281/1000 [04:08<10:11,  1.18it/s]"
     ]
    },
    {
     "name": "stdout",
     "output_type": "stream",
     "text": [
      "66 (score = 0.60647)\n",
      "105 (score = 0.55212)\n",
      "153 (score = 0.54049)\n",
      "17 (score = 0.53642)\n",
      "171 (score = 0.53086)\n",
      "214 (score = 0.52400)\n",
      "106 (score = 0.52158)\n",
      "62 (score = 0.52095)\n",
      "222 (score = 0.52073)\n"
     ]
    },
    {
     "name": "stderr",
     "output_type": "stream",
     "text": [
      "\r",
      " 28%|██████████▉                            | 282/1000 [04:09<10:04,  1.19it/s]"
     ]
    },
    {
     "name": "stdout",
     "output_type": "stream",
     "text": [
      "66 (score = 0.66886)\n",
      "105 (score = 0.59893)\n",
      "153 (score = 0.56998)\n",
      "17 (score = 0.56020)\n",
      "171 (score = 0.54787)\n",
      "106 (score = 0.54379)\n",
      "214 (score = 0.54134)\n",
      "222 (score = 0.53429)\n",
      "138 (score = 0.53263)\n"
     ]
    },
    {
     "name": "stderr",
     "output_type": "stream",
     "text": [
      "\r",
      " 28%|███████████                            | 283/1000 [04:10<09:47,  1.22it/s]"
     ]
    },
    {
     "name": "stdout",
     "output_type": "stream",
     "text": [
      "66 (score = 0.65888)\n",
      "105 (score = 0.58702)\n",
      "153 (score = 0.56165)\n",
      "17 (score = 0.55077)\n",
      "171 (score = 0.54247)\n",
      "222 (score = 0.53841)\n",
      "214 (score = 0.53600)\n",
      "106 (score = 0.53540)\n",
      "138 (score = 0.52811)\n"
     ]
    },
    {
     "name": "stderr",
     "output_type": "stream",
     "text": [
      "\r",
      " 28%|███████████                            | 284/1000 [04:11<09:31,  1.25it/s]"
     ]
    },
    {
     "name": "stdout",
     "output_type": "stream",
     "text": [
      "66 (score = 0.61895)\n",
      "105 (score = 0.56358)\n",
      "153 (score = 0.54584)\n",
      "17 (score = 0.54188)\n",
      "171 (score = 0.53982)\n",
      "214 (score = 0.53022)\n",
      "106 (score = 0.52694)\n",
      "138 (score = 0.51999)\n",
      "222 (score = 0.51956)\n"
     ]
    },
    {
     "name": "stderr",
     "output_type": "stream",
     "text": [
      "\r",
      " 28%|███████████                            | 285/1000 [04:12<09:32,  1.25it/s]"
     ]
    },
    {
     "name": "stdout",
     "output_type": "stream",
     "text": [
      "66 (score = 0.71491)\n",
      "105 (score = 0.62214)\n",
      "153 (score = 0.59033)\n",
      "17 (score = 0.57167)\n",
      "171 (score = 0.56247)\n",
      "106 (score = 0.55338)\n",
      "214 (score = 0.55303)\n",
      "222 (score = 0.54640)\n",
      "138 (score = 0.54180)\n"
     ]
    },
    {
     "name": "stderr",
     "output_type": "stream",
     "text": [
      "\r",
      " 29%|███████████▏                           | 286/1000 [04:12<09:47,  1.22it/s]"
     ]
    },
    {
     "name": "stdout",
     "output_type": "stream",
     "text": [
      "66 (score = 0.65590)\n",
      "105 (score = 0.59541)\n",
      "153 (score = 0.56844)\n",
      "17 (score = 0.55432)\n",
      "106 (score = 0.54744)\n",
      "214 (score = 0.53920)\n",
      "171 (score = 0.53840)\n",
      "222 (score = 0.53687)\n",
      "138 (score = 0.53251)\n"
     ]
    },
    {
     "name": "stderr",
     "output_type": "stream",
     "text": [
      "\r",
      " 29%|███████████▏                           | 287/1000 [04:13<09:38,  1.23it/s]"
     ]
    },
    {
     "name": "stdout",
     "output_type": "stream",
     "text": [
      "66 (score = 0.66504)\n",
      "105 (score = 0.59041)\n",
      "153 (score = 0.56760)\n",
      "17 (score = 0.55203)\n",
      "106 (score = 0.54494)\n",
      "171 (score = 0.54135)\n",
      "214 (score = 0.54078)\n",
      "222 (score = 0.53646)\n",
      "138 (score = 0.53050)\n"
     ]
    },
    {
     "name": "stderr",
     "output_type": "stream",
     "text": [
      "\r",
      " 29%|███████████▏                           | 288/1000 [04:14<09:38,  1.23it/s]"
     ]
    },
    {
     "name": "stdout",
     "output_type": "stream",
     "text": [
      "66 (score = 0.66385)\n",
      "105 (score = 0.60269)\n",
      "153 (score = 0.57244)\n",
      "17 (score = 0.55705)\n",
      "171 (score = 0.54562)\n",
      "106 (score = 0.54539)\n",
      "214 (score = 0.54004)\n",
      "222 (score = 0.53824)\n",
      "138 (score = 0.53182)\n"
     ]
    },
    {
     "name": "stderr",
     "output_type": "stream",
     "text": [
      "\r",
      " 29%|███████████▎                           | 289/1000 [04:15<09:51,  1.20it/s]"
     ]
    },
    {
     "name": "stdout",
     "output_type": "stream",
     "text": [
      "66 (score = 0.66243)\n",
      "105 (score = 0.59452)\n",
      "153 (score = 0.57163)\n",
      "17 (score = 0.55504)\n",
      "171 (score = 0.54347)\n",
      "106 (score = 0.53963)\n",
      "214 (score = 0.53918)\n",
      "222 (score = 0.53575)\n",
      "138 (score = 0.53360)\n"
     ]
    },
    {
     "name": "stderr",
     "output_type": "stream",
     "text": [
      "\r",
      " 29%|███████████▎                           | 290/1000 [04:16<09:45,  1.21it/s]"
     ]
    },
    {
     "name": "stdout",
     "output_type": "stream",
     "text": [
      "66 (score = 0.62669)\n",
      "105 (score = 0.57046)\n",
      "153 (score = 0.55425)\n",
      "17 (score = 0.54419)\n",
      "171 (score = 0.53462)\n",
      "106 (score = 0.53014)\n",
      "222 (score = 0.52954)\n",
      "214 (score = 0.52785)\n",
      "62 (score = 0.52151)\n"
     ]
    },
    {
     "name": "stderr",
     "output_type": "stream",
     "text": [
      "\r",
      " 29%|███████████▎                           | 291/1000 [04:17<09:47,  1.21it/s]"
     ]
    },
    {
     "name": "stdout",
     "output_type": "stream",
     "text": [
      "66 (score = 0.66814)\n",
      "105 (score = 0.59273)\n",
      "153 (score = 0.57241)\n",
      "17 (score = 0.55668)\n",
      "171 (score = 0.54985)\n",
      "214 (score = 0.54495)\n",
      "106 (score = 0.54237)\n",
      "222 (score = 0.53532)\n",
      "138 (score = 0.53236)\n"
     ]
    },
    {
     "name": "stderr",
     "output_type": "stream",
     "text": [
      "\r",
      " 29%|███████████▍                           | 292/1000 [04:17<09:45,  1.21it/s]"
     ]
    },
    {
     "name": "stdout",
     "output_type": "stream",
     "text": [
      "66 (score = 0.66289)\n",
      "105 (score = 0.59822)\n",
      "153 (score = 0.57308)\n",
      "17 (score = 0.55388)\n",
      "171 (score = 0.54477)\n",
      "106 (score = 0.54471)\n",
      "222 (score = 0.54096)\n",
      "214 (score = 0.54015)\n",
      "138 (score = 0.53631)\n"
     ]
    },
    {
     "name": "stderr",
     "output_type": "stream",
     "text": [
      "\r",
      " 29%|███████████▍                           | 293/1000 [04:18<09:57,  1.18it/s]"
     ]
    },
    {
     "name": "stdout",
     "output_type": "stream",
     "text": [
      "66 (score = 0.69555)\n",
      "105 (score = 0.60771)\n",
      "153 (score = 0.58589)\n",
      "17 (score = 0.56512)\n",
      "171 (score = 0.54868)\n",
      "106 (score = 0.54837)\n",
      "214 (score = 0.54476)\n",
      "222 (score = 0.54034)\n",
      "138 (score = 0.53959)\n"
     ]
    },
    {
     "name": "stderr",
     "output_type": "stream",
     "text": [
      "\r",
      " 29%|███████████▍                           | 294/1000 [04:19<10:18,  1.14it/s]"
     ]
    },
    {
     "name": "stdout",
     "output_type": "stream",
     "text": [
      "66 (score = 0.70437)\n",
      "105 (score = 0.62244)\n",
      "153 (score = 0.58741)\n",
      "17 (score = 0.57010)\n",
      "106 (score = 0.56099)\n",
      "171 (score = 0.55207)\n",
      "214 (score = 0.55123)\n",
      "138 (score = 0.54584)\n",
      "222 (score = 0.54239)\n"
     ]
    },
    {
     "name": "stderr",
     "output_type": "stream",
     "text": [
      "\r",
      " 30%|███████████▌                           | 295/1000 [04:20<10:12,  1.15it/s]"
     ]
    },
    {
     "name": "stdout",
     "output_type": "stream",
     "text": [
      "66 (score = 0.70334)\n",
      "105 (score = 0.61550)\n",
      "153 (score = 0.58824)\n",
      "17 (score = 0.56934)\n",
      "106 (score = 0.55766)\n",
      "171 (score = 0.55332)\n",
      "214 (score = 0.54949)\n",
      "222 (score = 0.54486)\n",
      "138 (score = 0.54401)\n"
     ]
    },
    {
     "name": "stderr",
     "output_type": "stream",
     "text": [
      "\r",
      " 30%|███████████▌                           | 296/1000 [04:21<10:20,  1.13it/s]"
     ]
    },
    {
     "name": "stdout",
     "output_type": "stream",
     "text": [
      "66 (score = 0.65890)\n",
      "105 (score = 0.59522)\n",
      "153 (score = 0.57099)\n",
      "17 (score = 0.55600)\n",
      "106 (score = 0.54840)\n",
      "171 (score = 0.54441)\n",
      "214 (score = 0.53919)\n",
      "138 (score = 0.53560)\n",
      "222 (score = 0.53469)\n"
     ]
    },
    {
     "name": "stderr",
     "output_type": "stream",
     "text": [
      "\r",
      " 30%|███████████▌                           | 297/1000 [04:22<11:00,  1.06it/s]"
     ]
    },
    {
     "name": "stdout",
     "output_type": "stream",
     "text": [
      "66 (score = 0.65131)\n",
      "105 (score = 0.59161)\n",
      "153 (score = 0.56323)\n",
      "106 (score = 0.54517)\n",
      "17 (score = 0.54481)\n",
      "171 (score = 0.54030)\n",
      "214 (score = 0.53549)\n",
      "222 (score = 0.53235)\n",
      "138 (score = 0.53202)\n"
     ]
    },
    {
     "name": "stderr",
     "output_type": "stream",
     "text": [
      "\r",
      " 30%|███████████▌                           | 298/1000 [04:23<10:50,  1.08it/s]"
     ]
    },
    {
     "name": "stdout",
     "output_type": "stream",
     "text": [
      "66 (score = 0.69107)\n",
      "105 (score = 0.61019)\n",
      "153 (score = 0.57743)\n",
      "17 (score = 0.57273)\n",
      "171 (score = 0.55789)\n",
      "214 (score = 0.54458)\n",
      "222 (score = 0.54404)\n",
      "106 (score = 0.54367)\n",
      "138 (score = 0.53799)\n"
     ]
    },
    {
     "name": "stderr",
     "output_type": "stream",
     "text": [
      "\r",
      " 30%|███████████▋                           | 299/1000 [04:24<10:14,  1.14it/s]"
     ]
    },
    {
     "name": "stdout",
     "output_type": "stream",
     "text": [
      "66 (score = 0.66056)\n",
      "105 (score = 0.59237)\n",
      "153 (score = 0.56507)\n",
      "17 (score = 0.55416)\n",
      "171 (score = 0.54453)\n",
      "106 (score = 0.54090)\n",
      "214 (score = 0.53794)\n",
      "222 (score = 0.53697)\n",
      "62 (score = 0.53217)\n"
     ]
    },
    {
     "name": "stderr",
     "output_type": "stream",
     "text": [
      "\r",
      " 30%|███████████▋                           | 300/1000 [04:25<10:10,  1.15it/s]"
     ]
    },
    {
     "name": "stdout",
     "output_type": "stream",
     "text": [
      "66 (score = 0.63760)\n",
      "105 (score = 0.57598)\n",
      "153 (score = 0.56457)\n",
      "17 (score = 0.54128)\n",
      "171 (score = 0.54006)\n",
      "106 (score = 0.53814)\n",
      "214 (score = 0.53756)\n",
      "222 (score = 0.52765)\n",
      "138 (score = 0.52649)\n"
     ]
    },
    {
     "name": "stderr",
     "output_type": "stream",
     "text": [
      "\r",
      " 30%|███████████▋                           | 301/1000 [04:25<09:52,  1.18it/s]"
     ]
    },
    {
     "name": "stdout",
     "output_type": "stream",
     "text": [
      "66 (score = 0.63655)\n",
      "105 (score = 0.57211)\n",
      "153 (score = 0.54904)\n",
      "17 (score = 0.54902)\n",
      "106 (score = 0.54044)\n",
      "171 (score = 0.53795)\n",
      "214 (score = 0.53412)\n",
      "222 (score = 0.52541)\n",
      "138 (score = 0.52296)\n"
     ]
    },
    {
     "name": "stderr",
     "output_type": "stream",
     "text": [
      "\r",
      " 30%|███████████▊                           | 302/1000 [04:26<09:42,  1.20it/s]"
     ]
    },
    {
     "name": "stdout",
     "output_type": "stream",
     "text": [
      "66 (score = 0.66950)\n",
      "105 (score = 0.59774)\n",
      "153 (score = 0.57133)\n",
      "17 (score = 0.55663)\n",
      "106 (score = 0.54815)\n",
      "171 (score = 0.54442)\n",
      "214 (score = 0.53883)\n",
      "138 (score = 0.53365)\n",
      "222 (score = 0.53359)\n"
     ]
    },
    {
     "name": "stderr",
     "output_type": "stream",
     "text": [
      "\r",
      " 30%|███████████▊                           | 303/1000 [04:27<09:41,  1.20it/s]"
     ]
    },
    {
     "name": "stdout",
     "output_type": "stream",
     "text": [
      "66 (score = 0.64311)\n",
      "105 (score = 0.58222)\n",
      "153 (score = 0.56057)\n",
      "17 (score = 0.54218)\n",
      "106 (score = 0.53843)\n",
      "171 (score = 0.53773)\n",
      "214 (score = 0.53721)\n",
      "222 (score = 0.52923)\n",
      "138 (score = 0.52797)\n"
     ]
    },
    {
     "name": "stderr",
     "output_type": "stream",
     "text": [
      "\r",
      " 30%|███████████▊                           | 304/1000 [04:28<09:20,  1.24it/s]"
     ]
    },
    {
     "name": "stdout",
     "output_type": "stream",
     "text": [
      "66 (score = 0.66036)\n",
      "105 (score = 0.58658)\n",
      "153 (score = 0.56203)\n",
      "17 (score = 0.55332)\n",
      "171 (score = 0.54993)\n",
      "106 (score = 0.53988)\n",
      "214 (score = 0.53755)\n",
      "222 (score = 0.53550)\n",
      "138 (score = 0.52943)\n"
     ]
    },
    {
     "name": "stderr",
     "output_type": "stream",
     "text": [
      "\r",
      " 30%|███████████▉                           | 305/1000 [04:29<09:48,  1.18it/s]"
     ]
    },
    {
     "name": "stdout",
     "output_type": "stream",
     "text": [
      "66 (score = 0.63454)\n",
      "105 (score = 0.57535)\n",
      "153 (score = 0.56167)\n",
      "17 (score = 0.54235)\n",
      "171 (score = 0.53945)\n",
      "106 (score = 0.53878)\n",
      "214 (score = 0.53546)\n",
      "222 (score = 0.52287)\n",
      "138 (score = 0.52284)\n"
     ]
    },
    {
     "name": "stderr",
     "output_type": "stream",
     "text": [
      "\r",
      " 31%|███████████▉                           | 306/1000 [04:30<10:26,  1.11it/s]"
     ]
    },
    {
     "name": "stdout",
     "output_type": "stream",
     "text": [
      "66 (score = 0.72342)\n",
      "105 (score = 0.63098)\n",
      "153 (score = 0.59544)\n",
      "17 (score = 0.58015)\n",
      "106 (score = 0.56080)\n",
      "171 (score = 0.56067)\n",
      "214 (score = 0.55771)\n",
      "222 (score = 0.55210)\n",
      "138 (score = 0.54908)\n"
     ]
    },
    {
     "name": "stderr",
     "output_type": "stream",
     "text": [
      "\r",
      " 31%|███████████▉                           | 307/1000 [04:31<10:45,  1.07it/s]"
     ]
    },
    {
     "name": "stdout",
     "output_type": "stream",
     "text": [
      "66 (score = 0.62195)\n",
      "105 (score = 0.56484)\n",
      "153 (score = 0.54425)\n",
      "17 (score = 0.53996)\n",
      "214 (score = 0.53316)\n",
      "171 (score = 0.53254)\n",
      "106 (score = 0.52938)\n",
      "62 (score = 0.52665)\n",
      "222 (score = 0.52608)\n"
     ]
    },
    {
     "name": "stderr",
     "output_type": "stream",
     "text": [
      "\r",
      " 31%|████████████                           | 308/1000 [04:32<10:33,  1.09it/s]"
     ]
    },
    {
     "name": "stdout",
     "output_type": "stream",
     "text": [
      "66 (score = 0.64654)\n",
      "105 (score = 0.58711)\n",
      "153 (score = 0.56304)\n",
      "17 (score = 0.55273)\n",
      "171 (score = 0.54260)\n",
      "106 (score = 0.53532)\n",
      "214 (score = 0.53491)\n",
      "222 (score = 0.53393)\n",
      "138 (score = 0.52498)\n"
     ]
    },
    {
     "name": "stderr",
     "output_type": "stream",
     "text": [
      "\r",
      " 31%|████████████                           | 309/1000 [04:32<10:07,  1.14it/s]"
     ]
    },
    {
     "name": "stdout",
     "output_type": "stream",
     "text": [
      "66 (score = 0.67333)\n",
      "105 (score = 0.59505)\n",
      "153 (score = 0.57281)\n",
      "17 (score = 0.55745)\n",
      "171 (score = 0.54713)\n",
      "106 (score = 0.54318)\n",
      "214 (score = 0.54057)\n",
      "222 (score = 0.53925)\n",
      "19 (score = 0.53378)\n"
     ]
    },
    {
     "name": "stderr",
     "output_type": "stream",
     "text": [
      "\r",
      " 31%|████████████                           | 310/1000 [04:33<10:08,  1.13it/s]"
     ]
    },
    {
     "name": "stdout",
     "output_type": "stream",
     "text": [
      "66 (score = 0.68126)\n",
      "105 (score = 0.60648)\n",
      "153 (score = 0.58043)\n",
      "17 (score = 0.56421)\n",
      "171 (score = 0.55003)\n",
      "214 (score = 0.54604)\n",
      "106 (score = 0.54412)\n",
      "222 (score = 0.54082)\n",
      "138 (score = 0.53428)\n"
     ]
    },
    {
     "name": "stderr",
     "output_type": "stream",
     "text": [
      "\r",
      " 31%|████████████▏                          | 311/1000 [04:34<10:17,  1.12it/s]"
     ]
    },
    {
     "name": "stdout",
     "output_type": "stream",
     "text": [
      "66 (score = 0.62483)\n",
      "105 (score = 0.56301)\n",
      "17 (score = 0.54193)\n",
      "153 (score = 0.54009)\n",
      "171 (score = 0.53421)\n",
      "106 (score = 0.53129)\n",
      "214 (score = 0.52954)\n",
      "222 (score = 0.52700)\n",
      "19 (score = 0.52154)\n"
     ]
    },
    {
     "name": "stderr",
     "output_type": "stream",
     "text": [
      "\r",
      " 31%|████████████▏                          | 312/1000 [04:35<09:49,  1.17it/s]"
     ]
    },
    {
     "name": "stdout",
     "output_type": "stream",
     "text": [
      "66 (score = 0.66320)\n",
      "105 (score = 0.59829)\n",
      "153 (score = 0.57458)\n",
      "17 (score = 0.55265)\n",
      "171 (score = 0.54526)\n",
      "106 (score = 0.54513)\n",
      "214 (score = 0.53860)\n",
      "138 (score = 0.53741)\n",
      "222 (score = 0.53475)\n"
     ]
    },
    {
     "name": "stderr",
     "output_type": "stream",
     "text": [
      "\r",
      " 31%|████████████▏                          | 313/1000 [04:36<10:04,  1.14it/s]"
     ]
    },
    {
     "name": "stdout",
     "output_type": "stream",
     "text": [
      "66 (score = 0.65652)\n",
      "105 (score = 0.58757)\n",
      "153 (score = 0.56847)\n",
      "17 (score = 0.54690)\n",
      "171 (score = 0.54586)\n",
      "106 (score = 0.54096)\n",
      "214 (score = 0.54030)\n",
      "222 (score = 0.52814)\n",
      "138 (score = 0.52622)\n"
     ]
    },
    {
     "name": "stderr",
     "output_type": "stream",
     "text": [
      "\r",
      " 31%|████████████▏                          | 314/1000 [04:37<10:15,  1.11it/s]"
     ]
    },
    {
     "name": "stdout",
     "output_type": "stream",
     "text": [
      "66 (score = 0.63096)\n",
      "105 (score = 0.57917)\n",
      "153 (score = 0.55547)\n",
      "17 (score = 0.54546)\n",
      "171 (score = 0.53800)\n",
      "106 (score = 0.53674)\n",
      "214 (score = 0.53309)\n",
      "222 (score = 0.52858)\n",
      "138 (score = 0.52196)\n"
     ]
    },
    {
     "name": "stderr",
     "output_type": "stream",
     "text": [
      "\r",
      " 32%|████████████▎                          | 315/1000 [04:38<10:22,  1.10it/s]"
     ]
    },
    {
     "name": "stdout",
     "output_type": "stream",
     "text": [
      "66 (score = 0.67689)\n",
      "105 (score = 0.60595)\n",
      "153 (score = 0.57930)\n",
      "17 (score = 0.56325)\n",
      "171 (score = 0.55072)\n",
      "214 (score = 0.54737)\n",
      "106 (score = 0.54226)\n",
      "222 (score = 0.53821)\n",
      "62 (score = 0.53669)\n"
     ]
    },
    {
     "name": "stderr",
     "output_type": "stream",
     "text": [
      "\r",
      " 32%|████████████▎                          | 316/1000 [04:39<10:17,  1.11it/s]"
     ]
    },
    {
     "name": "stdout",
     "output_type": "stream",
     "text": [
      "66 (score = 0.64541)\n",
      "105 (score = 0.58484)\n",
      "153 (score = 0.56201)\n",
      "17 (score = 0.54905)\n",
      "171 (score = 0.53851)\n",
      "106 (score = 0.53817)\n",
      "214 (score = 0.53722)\n",
      "222 (score = 0.53420)\n",
      "138 (score = 0.53144)\n"
     ]
    },
    {
     "name": "stderr",
     "output_type": "stream",
     "text": [
      "\r",
      " 32%|████████████▎                          | 317/1000 [04:40<11:00,  1.03it/s]"
     ]
    },
    {
     "name": "stdout",
     "output_type": "stream",
     "text": [
      "66 (score = 0.66636)\n",
      "105 (score = 0.58663)\n",
      "153 (score = 0.56352)\n",
      "17 (score = 0.55780)\n",
      "171 (score = 0.55230)\n",
      "214 (score = 0.54385)\n",
      "106 (score = 0.53789)\n",
      "222 (score = 0.53732)\n",
      "138 (score = 0.52927)\n"
     ]
    },
    {
     "name": "stderr",
     "output_type": "stream",
     "text": [
      "\r",
      " 32%|████████████▍                          | 318/1000 [04:41<11:01,  1.03it/s]"
     ]
    },
    {
     "name": "stdout",
     "output_type": "stream",
     "text": [
      "66 (score = 0.67569)\n",
      "105 (score = 0.60522)\n",
      "153 (score = 0.58148)\n",
      "17 (score = 0.56060)\n",
      "106 (score = 0.55191)\n",
      "171 (score = 0.54910)\n",
      "214 (score = 0.53962)\n",
      "222 (score = 0.53847)\n",
      "138 (score = 0.53641)\n"
     ]
    },
    {
     "name": "stderr",
     "output_type": "stream",
     "text": [
      "\r",
      " 32%|████████████▍                          | 319/1000 [04:42<10:51,  1.05it/s]"
     ]
    },
    {
     "name": "stdout",
     "output_type": "stream",
     "text": [
      "66 (score = 0.65780)\n",
      "105 (score = 0.58588)\n",
      "153 (score = 0.56630)\n",
      "17 (score = 0.54984)\n",
      "171 (score = 0.54512)\n",
      "214 (score = 0.54111)\n",
      "106 (score = 0.54007)\n",
      "222 (score = 0.53376)\n",
      "62 (score = 0.53227)\n"
     ]
    },
    {
     "name": "stderr",
     "output_type": "stream",
     "text": [
      "\r",
      " 32%|████████████▍                          | 320/1000 [04:43<10:51,  1.04it/s]"
     ]
    },
    {
     "name": "stdout",
     "output_type": "stream",
     "text": [
      "66 (score = 0.65117)\n",
      "105 (score = 0.57943)\n",
      "153 (score = 0.55675)\n",
      "17 (score = 0.54949)\n",
      "171 (score = 0.54577)\n",
      "106 (score = 0.53883)\n",
      "214 (score = 0.53576)\n",
      "222 (score = 0.53089)\n",
      "138 (score = 0.52624)\n"
     ]
    },
    {
     "name": "stderr",
     "output_type": "stream",
     "text": [
      "\r",
      " 32%|████████████▌                          | 321/1000 [04:44<10:55,  1.04it/s]"
     ]
    },
    {
     "name": "stdout",
     "output_type": "stream",
     "text": [
      "66 (score = 0.67409)\n",
      "105 (score = 0.59456)\n",
      "153 (score = 0.57659)\n",
      "17 (score = 0.56157)\n",
      "171 (score = 0.54685)\n",
      "214 (score = 0.54191)\n",
      "106 (score = 0.53968)\n",
      "222 (score = 0.53658)\n",
      "138 (score = 0.53190)\n"
     ]
    },
    {
     "name": "stderr",
     "output_type": "stream",
     "text": [
      "\r",
      " 32%|████████████▌                          | 322/1000 [04:44<10:32,  1.07it/s]"
     ]
    },
    {
     "name": "stdout",
     "output_type": "stream",
     "text": [
      "66 (score = 0.67365)\n",
      "105 (score = 0.60635)\n",
      "153 (score = 0.57386)\n",
      "17 (score = 0.55760)\n",
      "106 (score = 0.54682)\n",
      "171 (score = 0.54593)\n",
      "214 (score = 0.53991)\n",
      "222 (score = 0.53914)\n",
      "138 (score = 0.53447)\n"
     ]
    },
    {
     "name": "stderr",
     "output_type": "stream",
     "text": [
      "\r",
      " 32%|████████████▌                          | 323/1000 [04:45<10:18,  1.09it/s]"
     ]
    },
    {
     "name": "stdout",
     "output_type": "stream",
     "text": [
      "66 (score = 0.63147)\n",
      "105 (score = 0.57715)\n",
      "153 (score = 0.55328)\n",
      "17 (score = 0.54049)\n",
      "106 (score = 0.53891)\n",
      "171 (score = 0.53573)\n",
      "214 (score = 0.53535)\n",
      "222 (score = 0.52883)\n",
      "138 (score = 0.52784)\n"
     ]
    },
    {
     "name": "stderr",
     "output_type": "stream",
     "text": [
      "\r",
      " 32%|████████████▋                          | 324/1000 [04:46<09:58,  1.13it/s]"
     ]
    },
    {
     "name": "stdout",
     "output_type": "stream",
     "text": [
      "66 (score = 0.66048)\n",
      "105 (score = 0.58785)\n",
      "153 (score = 0.56307)\n",
      "17 (score = 0.55783)\n",
      "171 (score = 0.54934)\n",
      "106 (score = 0.53805)\n",
      "214 (score = 0.53752)\n",
      "222 (score = 0.53076)\n",
      "138 (score = 0.52917)\n"
     ]
    },
    {
     "name": "stderr",
     "output_type": "stream",
     "text": [
      "\r",
      " 32%|████████████▋                          | 325/1000 [04:47<09:51,  1.14it/s]"
     ]
    },
    {
     "name": "stdout",
     "output_type": "stream",
     "text": [
      "66 (score = 0.61235)\n",
      "105 (score = 0.55543)\n",
      "153 (score = 0.54414)\n",
      "17 (score = 0.54241)\n",
      "171 (score = 0.53349)\n",
      "222 (score = 0.52433)\n",
      "62 (score = 0.52399)\n",
      "214 (score = 0.52280)\n",
      "106 (score = 0.52259)\n"
     ]
    },
    {
     "name": "stderr",
     "output_type": "stream",
     "text": [
      "\r",
      " 33%|████████████▋                          | 326/1000 [04:48<09:33,  1.17it/s]"
     ]
    },
    {
     "name": "stdout",
     "output_type": "stream",
     "text": [
      "66 (score = 0.66836)\n",
      "105 (score = 0.60405)\n",
      "153 (score = 0.57252)\n",
      "17 (score = 0.55687)\n",
      "106 (score = 0.55086)\n",
      "171 (score = 0.54609)\n",
      "214 (score = 0.54048)\n",
      "222 (score = 0.53930)\n",
      "138 (score = 0.53732)\n"
     ]
    },
    {
     "name": "stderr",
     "output_type": "stream",
     "text": [
      "\r",
      " 33%|████████████▊                          | 327/1000 [04:49<09:23,  1.19it/s]"
     ]
    },
    {
     "name": "stdout",
     "output_type": "stream",
     "text": [
      "66 (score = 0.68680)\n",
      "105 (score = 0.61686)\n",
      "153 (score = 0.58620)\n",
      "17 (score = 0.56800)\n",
      "171 (score = 0.55838)\n",
      "106 (score = 0.55652)\n",
      "214 (score = 0.54625)\n",
      "138 (score = 0.54343)\n",
      "222 (score = 0.54021)\n"
     ]
    },
    {
     "name": "stderr",
     "output_type": "stream",
     "text": [
      "\r",
      " 33%|████████████▊                          | 328/1000 [04:50<09:38,  1.16it/s]"
     ]
    },
    {
     "name": "stdout",
     "output_type": "stream",
     "text": [
      "66 (score = 0.65112)\n",
      "105 (score = 0.58248)\n",
      "153 (score = 0.55978)\n",
      "17 (score = 0.55097)\n",
      "171 (score = 0.54008)\n",
      "214 (score = 0.53649)\n",
      "106 (score = 0.53565)\n",
      "222 (score = 0.53062)\n",
      "176 (score = 0.52497)\n"
     ]
    },
    {
     "name": "stderr",
     "output_type": "stream",
     "text": [
      "\r",
      " 33%|████████████▊                          | 329/1000 [04:50<09:50,  1.14it/s]"
     ]
    },
    {
     "name": "stdout",
     "output_type": "stream",
     "text": [
      "66 (score = 0.70101)\n",
      "105 (score = 0.61635)\n",
      "153 (score = 0.58746)\n",
      "17 (score = 0.56469)\n",
      "171 (score = 0.55635)\n",
      "106 (score = 0.55411)\n",
      "214 (score = 0.54982)\n",
      "222 (score = 0.54052)\n",
      "176 (score = 0.53603)\n"
     ]
    },
    {
     "name": "stderr",
     "output_type": "stream",
     "text": [
      "\r",
      " 33%|████████████▊                          | 330/1000 [04:51<09:50,  1.13it/s]"
     ]
    },
    {
     "name": "stdout",
     "output_type": "stream",
     "text": [
      "66 (score = 0.71125)\n",
      "105 (score = 0.61957)\n",
      "153 (score = 0.59109)\n",
      "17 (score = 0.57096)\n",
      "171 (score = 0.56015)\n",
      "106 (score = 0.55500)\n",
      "214 (score = 0.55264)\n",
      "222 (score = 0.54795)\n",
      "19 (score = 0.54062)\n"
     ]
    },
    {
     "name": "stderr",
     "output_type": "stream",
     "text": [
      "\r",
      " 33%|████████████▉                          | 331/1000 [04:52<09:48,  1.14it/s]"
     ]
    },
    {
     "name": "stdout",
     "output_type": "stream",
     "text": [
      "66 (score = 0.66871)\n",
      "105 (score = 0.59348)\n",
      "153 (score = 0.56547)\n",
      "17 (score = 0.55871)\n",
      "171 (score = 0.54993)\n",
      "106 (score = 0.54227)\n",
      "214 (score = 0.54113)\n",
      "222 (score = 0.53735)\n",
      "62 (score = 0.53190)\n"
     ]
    },
    {
     "name": "stderr",
     "output_type": "stream",
     "text": [
      "\r",
      " 33%|████████████▉                          | 332/1000 [04:53<09:22,  1.19it/s]"
     ]
    },
    {
     "name": "stdout",
     "output_type": "stream",
     "text": [
      "66 (score = 0.72737)\n",
      "105 (score = 0.63283)\n",
      "153 (score = 0.59545)\n",
      "17 (score = 0.58206)\n",
      "171 (score = 0.56522)\n",
      "214 (score = 0.55784)\n",
      "222 (score = 0.55613)\n",
      "106 (score = 0.55592)\n",
      "138 (score = 0.55144)\n"
     ]
    },
    {
     "name": "stderr",
     "output_type": "stream",
     "text": [
      "\r",
      " 33%|████████████▉                          | 333/1000 [04:54<09:12,  1.21it/s]"
     ]
    },
    {
     "name": "stdout",
     "output_type": "stream",
     "text": [
      "66 (score = 0.61500)\n",
      "105 (score = 0.55892)\n",
      "153 (score = 0.54189)\n",
      "17 (score = 0.53742)\n",
      "214 (score = 0.53157)\n",
      "171 (score = 0.52972)\n",
      "106 (score = 0.52610)\n",
      "222 (score = 0.52339)\n",
      "62 (score = 0.52072)\n"
     ]
    },
    {
     "name": "stderr",
     "output_type": "stream",
     "text": [
      "\r",
      " 33%|█████████████                          | 334/1000 [04:55<09:01,  1.23it/s]"
     ]
    },
    {
     "name": "stdout",
     "output_type": "stream",
     "text": [
      "66 (score = 0.61643)\n",
      "105 (score = 0.56469)\n",
      "153 (score = 0.55564)\n",
      "106 (score = 0.53750)\n",
      "171 (score = 0.53233)\n",
      "17 (score = 0.53206)\n",
      "214 (score = 0.52874)\n",
      "138 (score = 0.52484)\n",
      "222 (score = 0.52283)\n"
     ]
    },
    {
     "name": "stderr",
     "output_type": "stream",
     "text": [
      "\r",
      " 34%|█████████████                          | 335/1000 [04:55<09:04,  1.22it/s]"
     ]
    },
    {
     "name": "stdout",
     "output_type": "stream",
     "text": [
      "66 (score = 0.62058)\n",
      "105 (score = 0.56717)\n",
      "153 (score = 0.54839)\n",
      "17 (score = 0.54511)\n",
      "106 (score = 0.53517)\n",
      "171 (score = 0.53327)\n",
      "214 (score = 0.53004)\n",
      "222 (score = 0.52726)\n",
      "19 (score = 0.52286)\n"
     ]
    },
    {
     "name": "stderr",
     "output_type": "stream",
     "text": [
      "\r",
      " 34%|█████████████                          | 336/1000 [04:56<09:31,  1.16it/s]"
     ]
    },
    {
     "name": "stdout",
     "output_type": "stream",
     "text": [
      "66 (score = 0.63739)\n",
      "105 (score = 0.58292)\n",
      "153 (score = 0.56032)\n",
      "17 (score = 0.54289)\n",
      "106 (score = 0.53802)\n",
      "171 (score = 0.53595)\n",
      "214 (score = 0.53576)\n",
      "222 (score = 0.53007)\n",
      "138 (score = 0.52530)\n"
     ]
    },
    {
     "name": "stderr",
     "output_type": "stream",
     "text": [
      "\r",
      " 34%|█████████████▏                         | 337/1000 [04:57<09:43,  1.14it/s]"
     ]
    },
    {
     "name": "stdout",
     "output_type": "stream",
     "text": [
      "66 (score = 0.60510)\n",
      "105 (score = 0.55041)\n",
      "153 (score = 0.53494)\n",
      "17 (score = 0.53354)\n",
      "171 (score = 0.52786)\n",
      "214 (score = 0.52558)\n",
      "106 (score = 0.52254)\n",
      "222 (score = 0.51944)\n",
      "19 (score = 0.51854)\n"
     ]
    },
    {
     "name": "stderr",
     "output_type": "stream",
     "text": [
      "\r",
      " 34%|█████████████▏                         | 338/1000 [04:58<09:27,  1.17it/s]"
     ]
    },
    {
     "name": "stdout",
     "output_type": "stream",
     "text": [
      "66 (score = 0.65439)\n",
      "105 (score = 0.58307)\n",
      "153 (score = 0.56379)\n",
      "17 (score = 0.55736)\n",
      "171 (score = 0.54676)\n",
      "214 (score = 0.54053)\n",
      "106 (score = 0.53565)\n",
      "19 (score = 0.52846)\n",
      "222 (score = 0.52758)\n"
     ]
    },
    {
     "name": "stderr",
     "output_type": "stream",
     "text": [
      "\r",
      " 34%|█████████████▏                         | 339/1000 [04:59<09:16,  1.19it/s]"
     ]
    },
    {
     "name": "stdout",
     "output_type": "stream",
     "text": [
      "66 (score = 0.60249)\n",
      "105 (score = 0.55673)\n",
      "153 (score = 0.54567)\n",
      "106 (score = 0.53418)\n",
      "171 (score = 0.52951)\n",
      "17 (score = 0.52750)\n",
      "214 (score = 0.52530)\n",
      "138 (score = 0.52195)\n",
      "222 (score = 0.51817)\n"
     ]
    },
    {
     "name": "stderr",
     "output_type": "stream",
     "text": [
      "\r",
      " 34%|█████████████▎                         | 340/1000 [05:00<09:15,  1.19it/s]"
     ]
    },
    {
     "name": "stdout",
     "output_type": "stream",
     "text": [
      "66 (score = 0.61134)\n",
      "105 (score = 0.56337)\n",
      "153 (score = 0.55131)\n",
      "106 (score = 0.53846)\n",
      "17 (score = 0.53229)\n",
      "171 (score = 0.53172)\n",
      "214 (score = 0.52618)\n",
      "138 (score = 0.52418)\n",
      "222 (score = 0.52210)\n"
     ]
    },
    {
     "name": "stderr",
     "output_type": "stream",
     "text": [
      "\r",
      " 34%|█████████████▎                         | 341/1000 [05:01<09:27,  1.16it/s]"
     ]
    },
    {
     "name": "stdout",
     "output_type": "stream",
     "text": [
      "66 (score = 0.63480)\n",
      "105 (score = 0.57181)\n",
      "153 (score = 0.55507)\n",
      "17 (score = 0.54409)\n",
      "171 (score = 0.54028)\n",
      "106 (score = 0.53507)\n",
      "214 (score = 0.53373)\n",
      "222 (score = 0.52510)\n",
      "138 (score = 0.52333)\n"
     ]
    },
    {
     "name": "stderr",
     "output_type": "stream",
     "text": [
      "\r",
      " 34%|█████████████▎                         | 342/1000 [05:01<09:19,  1.18it/s]"
     ]
    },
    {
     "name": "stdout",
     "output_type": "stream",
     "text": [
      "66 (score = 0.67002)\n",
      "105 (score = 0.59053)\n",
      "153 (score = 0.56955)\n",
      "17 (score = 0.55336)\n",
      "171 (score = 0.54923)\n",
      "214 (score = 0.54182)\n",
      "106 (score = 0.53928)\n",
      "222 (score = 0.53726)\n",
      "138 (score = 0.53281)\n"
     ]
    },
    {
     "name": "stderr",
     "output_type": "stream",
     "text": [
      "\r",
      " 34%|█████████████▍                         | 343/1000 [05:02<09:24,  1.16it/s]"
     ]
    },
    {
     "name": "stdout",
     "output_type": "stream",
     "text": [
      "66 (score = 0.66621)\n",
      "105 (score = 0.59662)\n",
      "153 (score = 0.57467)\n",
      "17 (score = 0.55443)\n",
      "106 (score = 0.54560)\n",
      "171 (score = 0.54487)\n",
      "214 (score = 0.54405)\n",
      "222 (score = 0.53574)\n",
      "62 (score = 0.53297)\n"
     ]
    },
    {
     "name": "stderr",
     "output_type": "stream",
     "text": [
      "\r",
      " 34%|█████████████▍                         | 344/1000 [05:03<09:14,  1.18it/s]"
     ]
    },
    {
     "name": "stdout",
     "output_type": "stream",
     "text": [
      "66 (score = 0.65121)\n",
      "105 (score = 0.58606)\n",
      "153 (score = 0.56096)\n",
      "17 (score = 0.55226)\n",
      "171 (score = 0.54529)\n",
      "214 (score = 0.54045)\n",
      "106 (score = 0.53646)\n",
      "222 (score = 0.53298)\n",
      "138 (score = 0.52925)\n"
     ]
    },
    {
     "name": "stderr",
     "output_type": "stream",
     "text": [
      "\r",
      " 34%|█████████████▍                         | 345/1000 [05:04<09:18,  1.17it/s]"
     ]
    },
    {
     "name": "stdout",
     "output_type": "stream",
     "text": [
      "66 (score = 0.63925)\n",
      "105 (score = 0.58044)\n",
      "153 (score = 0.55715)\n",
      "17 (score = 0.54789)\n",
      "171 (score = 0.54195)\n",
      "106 (score = 0.53733)\n",
      "214 (score = 0.53447)\n",
      "222 (score = 0.53071)\n",
      "19 (score = 0.52830)\n"
     ]
    },
    {
     "name": "stderr",
     "output_type": "stream",
     "text": [
      "\r",
      " 35%|█████████████▍                         | 346/1000 [05:05<09:25,  1.16it/s]"
     ]
    },
    {
     "name": "stdout",
     "output_type": "stream",
     "text": [
      "66 (score = 0.65520)\n",
      "105 (score = 0.58721)\n",
      "153 (score = 0.56660)\n",
      "17 (score = 0.54850)\n",
      "171 (score = 0.54280)\n",
      "214 (score = 0.53875)\n",
      "106 (score = 0.53501)\n",
      "222 (score = 0.53364)\n",
      "62 (score = 0.52858)\n"
     ]
    },
    {
     "name": "stderr",
     "output_type": "stream",
     "text": [
      "\r",
      " 35%|█████████████▌                         | 347/1000 [05:06<09:38,  1.13it/s]"
     ]
    },
    {
     "name": "stdout",
     "output_type": "stream",
     "text": [
      "66 (score = 0.67411)\n",
      "105 (score = 0.60020)\n",
      "153 (score = 0.57083)\n",
      "17 (score = 0.56273)\n",
      "171 (score = 0.54665)\n",
      "214 (score = 0.54462)\n",
      "106 (score = 0.54449)\n",
      "138 (score = 0.53874)\n",
      "222 (score = 0.53747)\n"
     ]
    },
    {
     "name": "stderr",
     "output_type": "stream",
     "text": [
      "\r",
      " 35%|█████████████▌                         | 348/1000 [05:07<09:17,  1.17it/s]"
     ]
    },
    {
     "name": "stdout",
     "output_type": "stream",
     "text": [
      "66 (score = 0.64409)\n",
      "105 (score = 0.57145)\n",
      "153 (score = 0.55034)\n",
      "17 (score = 0.54895)\n",
      "171 (score = 0.53632)\n",
      "214 (score = 0.53213)\n",
      "222 (score = 0.52915)\n",
      "106 (score = 0.52909)\n",
      "138 (score = 0.52337)\n"
     ]
    },
    {
     "name": "stderr",
     "output_type": "stream",
     "text": [
      "\r",
      " 35%|█████████████▌                         | 349/1000 [05:07<09:03,  1.20it/s]"
     ]
    },
    {
     "name": "stdout",
     "output_type": "stream",
     "text": [
      "66 (score = 0.61467)\n",
      "105 (score = 0.55923)\n",
      "153 (score = 0.54447)\n",
      "17 (score = 0.54230)\n",
      "171 (score = 0.53609)\n",
      "106 (score = 0.52843)\n",
      "214 (score = 0.52679)\n",
      "222 (score = 0.52470)\n",
      "62 (score = 0.52134)\n"
     ]
    },
    {
     "name": "stderr",
     "output_type": "stream",
     "text": [
      "\r",
      " 35%|█████████████▋                         | 350/1000 [05:08<08:56,  1.21it/s]"
     ]
    },
    {
     "name": "stdout",
     "output_type": "stream",
     "text": [
      "66 (score = 0.68731)\n",
      "105 (score = 0.60499)\n",
      "153 (score = 0.57443)\n",
      "17 (score = 0.56498)\n",
      "171 (score = 0.55479)\n",
      "106 (score = 0.54565)\n",
      "214 (score = 0.54483)\n",
      "222 (score = 0.54157)\n",
      "62 (score = 0.53336)\n"
     ]
    },
    {
     "name": "stderr",
     "output_type": "stream",
     "text": [
      "\r",
      " 35%|█████████████▋                         | 351/1000 [05:09<09:06,  1.19it/s]"
     ]
    },
    {
     "name": "stdout",
     "output_type": "stream",
     "text": [
      "66 (score = 0.64274)\n",
      "105 (score = 0.58080)\n",
      "153 (score = 0.56130)\n",
      "17 (score = 0.55379)\n",
      "171 (score = 0.53987)\n",
      "106 (score = 0.53627)\n",
      "214 (score = 0.53303)\n",
      "222 (score = 0.53300)\n",
      "138 (score = 0.52590)\n"
     ]
    },
    {
     "name": "stderr",
     "output_type": "stream",
     "text": [
      "\r",
      " 35%|█████████████▋                         | 352/1000 [05:10<09:00,  1.20it/s]"
     ]
    },
    {
     "name": "stdout",
     "output_type": "stream",
     "text": [
      "66 (score = 0.69493)\n",
      "105 (score = 0.60867)\n",
      "153 (score = 0.57845)\n",
      "17 (score = 0.56842)\n",
      "171 (score = 0.55634)\n",
      "214 (score = 0.54914)\n",
      "106 (score = 0.54481)\n",
      "222 (score = 0.54183)\n",
      "138 (score = 0.53691)\n"
     ]
    },
    {
     "name": "stderr",
     "output_type": "stream",
     "text": [
      "\r",
      " 35%|█████████████▊                         | 353/1000 [05:11<09:03,  1.19it/s]"
     ]
    },
    {
     "name": "stdout",
     "output_type": "stream",
     "text": [
      "66 (score = 0.61877)\n",
      "105 (score = 0.56346)\n",
      "153 (score = 0.55291)\n",
      "106 (score = 0.53615)\n",
      "171 (score = 0.53427)\n",
      "17 (score = 0.53291)\n",
      "214 (score = 0.53019)\n",
      "138 (score = 0.52251)\n",
      "222 (score = 0.52245)\n"
     ]
    },
    {
     "name": "stderr",
     "output_type": "stream",
     "text": [
      "\r",
      " 35%|█████████████▊                         | 354/1000 [05:12<09:14,  1.16it/s]"
     ]
    },
    {
     "name": "stdout",
     "output_type": "stream",
     "text": [
      "66 (score = 0.70179)\n",
      "105 (score = 0.60854)\n",
      "153 (score = 0.58236)\n",
      "17 (score = 0.56913)\n",
      "106 (score = 0.55258)\n",
      "171 (score = 0.55169)\n",
      "214 (score = 0.55018)\n",
      "222 (score = 0.54307)\n",
      "138 (score = 0.54084)\n"
     ]
    },
    {
     "name": "stderr",
     "output_type": "stream",
     "text": [
      "\r",
      " 36%|█████████████▊                         | 355/1000 [05:13<09:21,  1.15it/s]"
     ]
    },
    {
     "name": "stdout",
     "output_type": "stream",
     "text": [
      "66 (score = 0.67084)\n",
      "105 (score = 0.59853)\n",
      "153 (score = 0.56772)\n",
      "17 (score = 0.55757)\n",
      "106 (score = 0.54429)\n",
      "214 (score = 0.54363)\n",
      "171 (score = 0.54152)\n",
      "222 (score = 0.53688)\n",
      "19 (score = 0.52811)\n"
     ]
    },
    {
     "name": "stderr",
     "output_type": "stream",
     "text": [
      "\r",
      " 36%|█████████████▉                         | 356/1000 [05:13<09:23,  1.14it/s]"
     ]
    },
    {
     "name": "stdout",
     "output_type": "stream",
     "text": [
      "66 (score = 0.62146)\n",
      "105 (score = 0.57157)\n",
      "153 (score = 0.55333)\n",
      "17 (score = 0.53881)\n",
      "106 (score = 0.53570)\n",
      "214 (score = 0.53065)\n",
      "171 (score = 0.53043)\n",
      "222 (score = 0.52671)\n",
      "138 (score = 0.52435)\n"
     ]
    },
    {
     "name": "stderr",
     "output_type": "stream",
     "text": [
      "\r",
      " 36%|█████████████▉                         | 357/1000 [05:14<09:18,  1.15it/s]"
     ]
    },
    {
     "name": "stdout",
     "output_type": "stream",
     "text": [
      "66 (score = 0.68395)\n",
      "105 (score = 0.60747)\n",
      "153 (score = 0.58173)\n",
      "17 (score = 0.56410)\n",
      "171 (score = 0.55291)\n",
      "106 (score = 0.55125)\n",
      "214 (score = 0.54452)\n",
      "138 (score = 0.54002)\n",
      "222 (score = 0.53963)\n"
     ]
    },
    {
     "name": "stderr",
     "output_type": "stream",
     "text": [
      "\r",
      " 36%|█████████████▉                         | 358/1000 [05:15<09:11,  1.16it/s]"
     ]
    },
    {
     "name": "stdout",
     "output_type": "stream",
     "text": [
      "66 (score = 0.67115)\n",
      "105 (score = 0.59663)\n",
      "153 (score = 0.56718)\n",
      "17 (score = 0.55578)\n",
      "171 (score = 0.54655)\n",
      "106 (score = 0.53869)\n",
      "222 (score = 0.53733)\n",
      "214 (score = 0.53632)\n",
      "138 (score = 0.53484)\n"
     ]
    },
    {
     "name": "stderr",
     "output_type": "stream",
     "text": [
      "\r",
      " 36%|██████████████                         | 359/1000 [05:16<09:17,  1.15it/s]"
     ]
    },
    {
     "name": "stdout",
     "output_type": "stream",
     "text": [
      "66 (score = 0.62523)\n",
      "105 (score = 0.56895)\n",
      "153 (score = 0.54823)\n",
      "17 (score = 0.53949)\n",
      "171 (score = 0.53679)\n",
      "214 (score = 0.53102)\n",
      "106 (score = 0.52964)\n",
      "138 (score = 0.52626)\n",
      "222 (score = 0.52524)\n"
     ]
    },
    {
     "name": "stderr",
     "output_type": "stream",
     "text": [
      "\r",
      " 36%|██████████████                         | 360/1000 [05:17<09:18,  1.15it/s]"
     ]
    },
    {
     "name": "stdout",
     "output_type": "stream",
     "text": [
      "66 (score = 0.67743)\n",
      "105 (score = 0.60983)\n",
      "153 (score = 0.57925)\n",
      "17 (score = 0.55760)\n",
      "106 (score = 0.55252)\n",
      "214 (score = 0.54667)\n",
      "171 (score = 0.54627)\n",
      "222 (score = 0.53989)\n",
      "138 (score = 0.53959)\n"
     ]
    },
    {
     "name": "stderr",
     "output_type": "stream",
     "text": [
      "\r",
      " 36%|██████████████                         | 361/1000 [05:18<09:02,  1.18it/s]"
     ]
    },
    {
     "name": "stdout",
     "output_type": "stream",
     "text": [
      "66 (score = 0.67121)\n",
      "105 (score = 0.59484)\n",
      "153 (score = 0.57368)\n",
      "17 (score = 0.55633)\n",
      "171 (score = 0.55073)\n",
      "106 (score = 0.54196)\n",
      "214 (score = 0.53936)\n",
      "222 (score = 0.53681)\n",
      "19 (score = 0.53332)\n"
     ]
    },
    {
     "name": "stderr",
     "output_type": "stream",
     "text": [
      "\r",
      " 36%|██████████████                         | 362/1000 [05:19<09:11,  1.16it/s]"
     ]
    },
    {
     "name": "stdout",
     "output_type": "stream",
     "text": [
      "66 (score = 0.65274)\n",
      "105 (score = 0.59620)\n",
      "153 (score = 0.57424)\n",
      "17 (score = 0.55118)\n",
      "106 (score = 0.54323)\n",
      "171 (score = 0.53921)\n",
      "214 (score = 0.53843)\n",
      "222 (score = 0.53694)\n",
      "138 (score = 0.53236)\n"
     ]
    },
    {
     "name": "stderr",
     "output_type": "stream",
     "text": [
      "\r",
      " 36%|██████████████▏                        | 363/1000 [05:20<09:12,  1.15it/s]"
     ]
    },
    {
     "name": "stdout",
     "output_type": "stream",
     "text": [
      "66 (score = 0.66683)\n",
      "105 (score = 0.58893)\n",
      "153 (score = 0.56518)\n",
      "17 (score = 0.55671)\n",
      "171 (score = 0.54737)\n",
      "214 (score = 0.53755)\n",
      "222 (score = 0.53738)\n",
      "106 (score = 0.53489)\n",
      "138 (score = 0.53252)\n"
     ]
    },
    {
     "name": "stderr",
     "output_type": "stream",
     "text": [
      "\r",
      " 36%|██████████████▏                        | 364/1000 [05:20<09:26,  1.12it/s]"
     ]
    },
    {
     "name": "stdout",
     "output_type": "stream",
     "text": [
      "66 (score = 0.69219)\n",
      "105 (score = 0.60855)\n",
      "153 (score = 0.57977)\n",
      "17 (score = 0.56704)\n",
      "171 (score = 0.55222)\n",
      "214 (score = 0.55010)\n",
      "106 (score = 0.54906)\n",
      "222 (score = 0.54373)\n",
      "138 (score = 0.53963)\n"
     ]
    },
    {
     "name": "stderr",
     "output_type": "stream",
     "text": [
      "\r",
      " 36%|██████████████▏                        | 365/1000 [05:21<09:19,  1.13it/s]"
     ]
    },
    {
     "name": "stdout",
     "output_type": "stream",
     "text": [
      "66 (score = 0.67463)\n",
      "105 (score = 0.59823)\n",
      "153 (score = 0.57340)\n",
      "17 (score = 0.56197)\n",
      "171 (score = 0.55025)\n",
      "222 (score = 0.54086)\n",
      "214 (score = 0.54025)\n",
      "106 (score = 0.53951)\n",
      "62 (score = 0.53317)\n"
     ]
    },
    {
     "name": "stderr",
     "output_type": "stream",
     "text": [
      "\r",
      " 37%|██████████████▎                        | 366/1000 [05:22<09:16,  1.14it/s]"
     ]
    },
    {
     "name": "stdout",
     "output_type": "stream",
     "text": [
      "66 (score = 0.68384)\n",
      "105 (score = 0.60862)\n",
      "153 (score = 0.58205)\n",
      "17 (score = 0.56125)\n",
      "106 (score = 0.55776)\n",
      "171 (score = 0.54680)\n",
      "214 (score = 0.54259)\n",
      "138 (score = 0.53614)\n",
      "222 (score = 0.53614)\n"
     ]
    },
    {
     "name": "stderr",
     "output_type": "stream",
     "text": [
      "\r",
      " 37%|██████████████▎                        | 367/1000 [05:23<09:00,  1.17it/s]"
     ]
    },
    {
     "name": "stdout",
     "output_type": "stream",
     "text": [
      "66 (score = 0.71801)\n",
      "105 (score = 0.61981)\n",
      "153 (score = 0.58919)\n",
      "17 (score = 0.57720)\n",
      "171 (score = 0.55895)\n",
      "214 (score = 0.55311)\n",
      "106 (score = 0.55130)\n",
      "222 (score = 0.54798)\n",
      "138 (score = 0.54135)\n"
     ]
    },
    {
     "name": "stderr",
     "output_type": "stream",
     "text": [
      "\r",
      " 37%|██████████████▎                        | 368/1000 [05:24<09:02,  1.16it/s]"
     ]
    },
    {
     "name": "stdout",
     "output_type": "stream",
     "text": [
      "66 (score = 0.65251)\n",
      "105 (score = 0.58577)\n",
      "153 (score = 0.56585)\n",
      "17 (score = 0.55224)\n",
      "214 (score = 0.54021)\n",
      "106 (score = 0.53802)\n",
      "171 (score = 0.53747)\n",
      "138 (score = 0.52907)\n",
      "222 (score = 0.52880)\n"
     ]
    },
    {
     "name": "stderr",
     "output_type": "stream",
     "text": [
      "\r",
      " 37%|██████████████▍                        | 369/1000 [05:25<08:54,  1.18it/s]"
     ]
    },
    {
     "name": "stdout",
     "output_type": "stream",
     "text": [
      "66 (score = 0.66320)\n",
      "105 (score = 0.58806)\n",
      "153 (score = 0.56235)\n",
      "17 (score = 0.55603)\n",
      "171 (score = 0.54737)\n",
      "106 (score = 0.53977)\n",
      "214 (score = 0.53853)\n",
      "222 (score = 0.53148)\n",
      "62 (score = 0.53127)\n"
     ]
    },
    {
     "name": "stderr",
     "output_type": "stream",
     "text": [
      "\r",
      " 37%|██████████████▍                        | 370/1000 [05:26<09:19,  1.13it/s]"
     ]
    },
    {
     "name": "stdout",
     "output_type": "stream",
     "text": [
      "66 (score = 0.66753)\n",
      "105 (score = 0.59605)\n",
      "153 (score = 0.57062)\n",
      "17 (score = 0.55847)\n",
      "171 (score = 0.55076)\n",
      "214 (score = 0.54117)\n",
      "106 (score = 0.53931)\n",
      "222 (score = 0.53444)\n",
      "138 (score = 0.52841)\n"
     ]
    },
    {
     "name": "stderr",
     "output_type": "stream",
     "text": [
      "\r",
      " 37%|██████████████▍                        | 371/1000 [05:27<09:11,  1.14it/s]"
     ]
    },
    {
     "name": "stdout",
     "output_type": "stream",
     "text": [
      "66 (score = 0.68887)\n",
      "105 (score = 0.60051)\n",
      "153 (score = 0.57878)\n",
      "17 (score = 0.56590)\n",
      "171 (score = 0.55823)\n",
      "214 (score = 0.54562)\n",
      "106 (score = 0.54339)\n",
      "222 (score = 0.54202)\n",
      "138 (score = 0.53453)\n"
     ]
    },
    {
     "name": "stderr",
     "output_type": "stream",
     "text": [
      "\r",
      " 37%|██████████████▌                        | 372/1000 [05:27<09:18,  1.12it/s]"
     ]
    },
    {
     "name": "stdout",
     "output_type": "stream",
     "text": [
      "66 (score = 0.61875)\n",
      "105 (score = 0.55692)\n",
      "153 (score = 0.54691)\n",
      "17 (score = 0.54259)\n",
      "171 (score = 0.53591)\n",
      "222 (score = 0.53136)\n",
      "214 (score = 0.52515)\n",
      "106 (score = 0.52498)\n",
      "62 (score = 0.52402)\n"
     ]
    },
    {
     "name": "stderr",
     "output_type": "stream",
     "text": [
      "\r",
      " 37%|██████████████▌                        | 373/1000 [05:28<09:07,  1.15it/s]"
     ]
    },
    {
     "name": "stdout",
     "output_type": "stream",
     "text": [
      "66 (score = 0.64897)\n",
      "105 (score = 0.57817)\n",
      "153 (score = 0.55247)\n",
      "17 (score = 0.55112)\n",
      "171 (score = 0.54314)\n",
      "106 (score = 0.53613)\n",
      "214 (score = 0.53326)\n",
      "222 (score = 0.53282)\n",
      "62 (score = 0.52505)\n"
     ]
    },
    {
     "name": "stderr",
     "output_type": "stream",
     "text": [
      "\r",
      " 37%|██████████████▌                        | 374/1000 [05:29<08:45,  1.19it/s]"
     ]
    },
    {
     "name": "stdout",
     "output_type": "stream",
     "text": [
      "66 (score = 0.66039)\n",
      "105 (score = 0.59432)\n",
      "153 (score = 0.57322)\n",
      "17 (score = 0.55217)\n",
      "171 (score = 0.54505)\n",
      "106 (score = 0.54343)\n",
      "214 (score = 0.54169)\n",
      "138 (score = 0.53425)\n",
      "222 (score = 0.53327)\n"
     ]
    },
    {
     "name": "stderr",
     "output_type": "stream",
     "text": [
      "\r",
      " 38%|██████████████▋                        | 375/1000 [05:30<08:37,  1.21it/s]"
     ]
    },
    {
     "name": "stdout",
     "output_type": "stream",
     "text": [
      "66 (score = 0.70762)\n",
      "105 (score = 0.62282)\n",
      "153 (score = 0.60073)\n",
      "106 (score = 0.56743)\n",
      "17 (score = 0.56538)\n",
      "171 (score = 0.56347)\n",
      "214 (score = 0.55761)\n",
      "222 (score = 0.54752)\n",
      "138 (score = 0.54290)\n"
     ]
    },
    {
     "name": "stderr",
     "output_type": "stream",
     "text": [
      "\r",
      " 38%|██████████████▋                        | 376/1000 [05:31<08:40,  1.20it/s]"
     ]
    },
    {
     "name": "stdout",
     "output_type": "stream",
     "text": [
      "66 (score = 0.64111)\n",
      "105 (score = 0.57458)\n",
      "153 (score = 0.55089)\n",
      "17 (score = 0.54542)\n",
      "171 (score = 0.54066)\n",
      "106 (score = 0.53630)\n",
      "222 (score = 0.53364)\n",
      "214 (score = 0.53175)\n",
      "19 (score = 0.52585)\n"
     ]
    },
    {
     "name": "stderr",
     "output_type": "stream",
     "text": [
      "\r",
      " 38%|██████████████▋                        | 377/1000 [05:32<08:40,  1.20it/s]"
     ]
    },
    {
     "name": "stdout",
     "output_type": "stream",
     "text": [
      "66 (score = 0.63944)\n",
      "105 (score = 0.57804)\n",
      "153 (score = 0.56481)\n",
      "17 (score = 0.54508)\n",
      "106 (score = 0.53938)\n",
      "171 (score = 0.53805)\n",
      "214 (score = 0.53044)\n",
      "222 (score = 0.52988)\n",
      "138 (score = 0.52752)\n"
     ]
    },
    {
     "name": "stderr",
     "output_type": "stream",
     "text": [
      "\r",
      " 38%|██████████████▋                        | 378/1000 [05:32<08:39,  1.20it/s]"
     ]
    },
    {
     "name": "stdout",
     "output_type": "stream",
     "text": [
      "66 (score = 0.63957)\n",
      "105 (score = 0.57329)\n",
      "17 (score = 0.54904)\n",
      "153 (score = 0.54867)\n",
      "171 (score = 0.53961)\n",
      "106 (score = 0.53515)\n",
      "214 (score = 0.52907)\n",
      "222 (score = 0.52757)\n",
      "62 (score = 0.52582)\n"
     ]
    },
    {
     "name": "stderr",
     "output_type": "stream",
     "text": [
      "\r",
      " 38%|██████████████▊                        | 379/1000 [05:33<08:21,  1.24it/s]"
     ]
    },
    {
     "name": "stdout",
     "output_type": "stream",
     "text": [
      "66 (score = 0.67145)\n",
      "105 (score = 0.59813)\n",
      "153 (score = 0.56910)\n",
      "17 (score = 0.55929)\n",
      "171 (score = 0.54675)\n",
      "214 (score = 0.54374)\n",
      "106 (score = 0.54230)\n",
      "222 (score = 0.53843)\n",
      "138 (score = 0.53183)\n"
     ]
    },
    {
     "name": "stderr",
     "output_type": "stream",
     "text": [
      "\r",
      " 38%|██████████████▊                        | 380/1000 [05:34<08:22,  1.23it/s]"
     ]
    },
    {
     "name": "stdout",
     "output_type": "stream",
     "text": [
      "66 (score = 0.65702)\n",
      "105 (score = 0.58668)\n",
      "153 (score = 0.56509)\n",
      "17 (score = 0.55155)\n",
      "106 (score = 0.54308)\n",
      "171 (score = 0.54287)\n",
      "214 (score = 0.53809)\n",
      "222 (score = 0.53702)\n",
      "138 (score = 0.52959)\n"
     ]
    },
    {
     "name": "stderr",
     "output_type": "stream",
     "text": [
      "\r",
      " 38%|██████████████▊                        | 381/1000 [05:35<08:54,  1.16it/s]"
     ]
    },
    {
     "name": "stdout",
     "output_type": "stream",
     "text": [
      "66 (score = 0.64608)\n",
      "105 (score = 0.58466)\n",
      "153 (score = 0.56725)\n",
      "17 (score = 0.54960)\n",
      "106 (score = 0.54348)\n",
      "171 (score = 0.54279)\n",
      "214 (score = 0.53821)\n",
      "138 (score = 0.53105)\n",
      "222 (score = 0.52669)\n"
     ]
    },
    {
     "name": "stderr",
     "output_type": "stream",
     "text": [
      "\r",
      " 38%|██████████████▉                        | 382/1000 [05:36<08:42,  1.18it/s]"
     ]
    },
    {
     "name": "stdout",
     "output_type": "stream",
     "text": [
      "66 (score = 0.65416)\n",
      "105 (score = 0.58709)\n",
      "153 (score = 0.56651)\n",
      "17 (score = 0.54853)\n",
      "171 (score = 0.53734)\n",
      "106 (score = 0.53647)\n",
      "214 (score = 0.53584)\n",
      "222 (score = 0.53414)\n",
      "138 (score = 0.53175)\n"
     ]
    },
    {
     "name": "stderr",
     "output_type": "stream",
     "text": [
      "\r",
      " 38%|██████████████▉                        | 383/1000 [05:37<08:37,  1.19it/s]"
     ]
    },
    {
     "name": "stdout",
     "output_type": "stream",
     "text": [
      "66 (score = 0.66959)\n",
      "105 (score = 0.59402)\n",
      "153 (score = 0.56929)\n",
      "17 (score = 0.55626)\n",
      "171 (score = 0.54773)\n",
      "214 (score = 0.54195)\n",
      "106 (score = 0.53968)\n",
      "222 (score = 0.53739)\n",
      "19 (score = 0.53226)\n"
     ]
    },
    {
     "name": "stderr",
     "output_type": "stream",
     "text": [
      "\r",
      " 38%|██████████████▉                        | 384/1000 [05:37<08:46,  1.17it/s]"
     ]
    },
    {
     "name": "stdout",
     "output_type": "stream",
     "text": [
      "66 (score = 0.62093)\n",
      "105 (score = 0.56801)\n",
      "153 (score = 0.55098)\n",
      "17 (score = 0.53826)\n",
      "171 (score = 0.53822)\n",
      "106 (score = 0.53714)\n",
      "214 (score = 0.53004)\n",
      "222 (score = 0.52648)\n",
      "138 (score = 0.52232)\n"
     ]
    },
    {
     "name": "stderr",
     "output_type": "stream",
     "text": [
      "\r",
      " 38%|███████████████                        | 385/1000 [05:38<08:34,  1.20it/s]"
     ]
    },
    {
     "name": "stdout",
     "output_type": "stream",
     "text": [
      "66 (score = 0.64978)\n",
      "105 (score = 0.58423)\n",
      "153 (score = 0.56355)\n",
      "17 (score = 0.54937)\n",
      "171 (score = 0.54160)\n",
      "214 (score = 0.53914)\n",
      "106 (score = 0.53560)\n",
      "222 (score = 0.53287)\n",
      "62 (score = 0.52801)\n"
     ]
    },
    {
     "name": "stderr",
     "output_type": "stream",
     "text": [
      "\r",
      " 39%|███████████████                        | 386/1000 [05:39<08:38,  1.18it/s]"
     ]
    },
    {
     "name": "stdout",
     "output_type": "stream",
     "text": [
      "66 (score = 0.69951)\n",
      "105 (score = 0.60946)\n",
      "153 (score = 0.58424)\n",
      "17 (score = 0.56022)\n",
      "106 (score = 0.55405)\n",
      "171 (score = 0.55345)\n",
      "214 (score = 0.54602)\n",
      "222 (score = 0.54012)\n",
      "138 (score = 0.53747)\n"
     ]
    },
    {
     "name": "stderr",
     "output_type": "stream",
     "text": [
      "\r",
      " 39%|███████████████                        | 387/1000 [05:40<08:45,  1.17it/s]"
     ]
    },
    {
     "name": "stdout",
     "output_type": "stream",
     "text": [
      "66 (score = 0.69650)\n",
      "105 (score = 0.61493)\n",
      "153 (score = 0.58732)\n",
      "17 (score = 0.56565)\n",
      "171 (score = 0.55573)\n",
      "106 (score = 0.55527)\n",
      "214 (score = 0.55152)\n",
      "222 (score = 0.54156)\n",
      "138 (score = 0.53733)\n"
     ]
    },
    {
     "name": "stderr",
     "output_type": "stream",
     "text": [
      "\r",
      " 39%|███████████████▏                       | 388/1000 [05:41<08:45,  1.16it/s]"
     ]
    },
    {
     "name": "stdout",
     "output_type": "stream",
     "text": [
      "66 (score = 0.66250)\n",
      "105 (score = 0.59081)\n",
      "153 (score = 0.56856)\n",
      "17 (score = 0.55975)\n",
      "171 (score = 0.54519)\n",
      "106 (score = 0.54133)\n",
      "214 (score = 0.53939)\n",
      "222 (score = 0.53845)\n",
      "138 (score = 0.53032)\n"
     ]
    },
    {
     "name": "stderr",
     "output_type": "stream",
     "text": [
      "\r",
      " 39%|███████████████▏                       | 389/1000 [05:42<08:42,  1.17it/s]"
     ]
    },
    {
     "name": "stdout",
     "output_type": "stream",
     "text": [
      "66 (score = 0.71158)\n",
      "105 (score = 0.61851)\n",
      "153 (score = 0.59396)\n",
      "17 (score = 0.57923)\n",
      "171 (score = 0.56742)\n",
      "214 (score = 0.55553)\n",
      "106 (score = 0.55187)\n",
      "138 (score = 0.54288)\n",
      "62 (score = 0.54050)\n"
     ]
    },
    {
     "name": "stderr",
     "output_type": "stream",
     "text": [
      "\r",
      " 39%|███████████████▏                       | 390/1000 [05:43<08:41,  1.17it/s]"
     ]
    },
    {
     "name": "stdout",
     "output_type": "stream",
     "text": [
      "66 (score = 0.61188)\n",
      "105 (score = 0.55774)\n",
      "153 (score = 0.54200)\n",
      "17 (score = 0.53971)\n",
      "171 (score = 0.53136)\n",
      "106 (score = 0.52822)\n",
      "222 (score = 0.52527)\n",
      "214 (score = 0.52480)\n",
      "19 (score = 0.52164)\n"
     ]
    },
    {
     "name": "stderr",
     "output_type": "stream",
     "text": [
      "\r",
      " 39%|███████████████▏                       | 391/1000 [05:43<08:48,  1.15it/s]"
     ]
    },
    {
     "name": "stdout",
     "output_type": "stream",
     "text": [
      "66 (score = 0.65459)\n",
      "105 (score = 0.58060)\n",
      "153 (score = 0.56457)\n",
      "17 (score = 0.55062)\n",
      "171 (score = 0.54585)\n",
      "106 (score = 0.54059)\n",
      "214 (score = 0.53924)\n",
      "222 (score = 0.53398)\n",
      "176 (score = 0.53022)\n"
     ]
    },
    {
     "name": "stderr",
     "output_type": "stream",
     "text": [
      "\r",
      " 39%|███████████████▎                       | 392/1000 [05:44<08:51,  1.14it/s]"
     ]
    },
    {
     "name": "stdout",
     "output_type": "stream",
     "text": [
      "66 (score = 0.66325)\n",
      "105 (score = 0.58891)\n",
      "153 (score = 0.56632)\n",
      "17 (score = 0.55284)\n",
      "171 (score = 0.55022)\n",
      "214 (score = 0.54047)\n",
      "106 (score = 0.54000)\n",
      "222 (score = 0.53601)\n",
      "62 (score = 0.52753)\n"
     ]
    },
    {
     "name": "stderr",
     "output_type": "stream",
     "text": [
      "\r",
      " 39%|███████████████▎                       | 393/1000 [05:45<08:55,  1.13it/s]"
     ]
    },
    {
     "name": "stdout",
     "output_type": "stream",
     "text": [
      "66 (score = 0.65060)\n",
      "105 (score = 0.59410)\n",
      "153 (score = 0.57101)\n",
      "17 (score = 0.54888)\n",
      "106 (score = 0.54406)\n",
      "214 (score = 0.53997)\n",
      "171 (score = 0.53822)\n",
      "138 (score = 0.53301)\n",
      "222 (score = 0.53211)\n"
     ]
    },
    {
     "name": "stderr",
     "output_type": "stream",
     "text": [
      "\r",
      " 39%|███████████████▎                       | 394/1000 [05:46<08:54,  1.13it/s]"
     ]
    },
    {
     "name": "stdout",
     "output_type": "stream",
     "text": [
      "66 (score = 0.63089)\n",
      "105 (score = 0.56595)\n",
      "153 (score = 0.54708)\n",
      "17 (score = 0.54344)\n",
      "171 (score = 0.53697)\n",
      "214 (score = 0.53261)\n",
      "222 (score = 0.52815)\n",
      "106 (score = 0.52804)\n",
      "62 (score = 0.52463)\n"
     ]
    },
    {
     "name": "stderr",
     "output_type": "stream",
     "text": [
      "\r",
      " 40%|███████████████▍                       | 395/1000 [05:47<09:07,  1.11it/s]"
     ]
    },
    {
     "name": "stdout",
     "output_type": "stream",
     "text": [
      "66 (score = 0.68194)\n",
      "105 (score = 0.59634)\n",
      "153 (score = 0.57568)\n",
      "17 (score = 0.55928)\n",
      "171 (score = 0.54902)\n",
      "106 (score = 0.54302)\n",
      "214 (score = 0.54191)\n",
      "138 (score = 0.53892)\n",
      "222 (score = 0.53826)\n"
     ]
    },
    {
     "name": "stderr",
     "output_type": "stream",
     "text": [
      "\r",
      " 40%|███████████████▍                       | 396/1000 [05:48<09:02,  1.11it/s]"
     ]
    },
    {
     "name": "stdout",
     "output_type": "stream",
     "text": [
      "66 (score = 0.66344)\n",
      "105 (score = 0.58698)\n",
      "153 (score = 0.56176)\n",
      "17 (score = 0.55496)\n",
      "171 (score = 0.54589)\n",
      "214 (score = 0.54312)\n",
      "106 (score = 0.53798)\n",
      "222 (score = 0.53298)\n",
      "138 (score = 0.53032)\n"
     ]
    },
    {
     "name": "stderr",
     "output_type": "stream",
     "text": [
      "\r",
      " 40%|███████████████▍                       | 397/1000 [05:49<09:01,  1.11it/s]"
     ]
    },
    {
     "name": "stdout",
     "output_type": "stream",
     "text": [
      "66 (score = 0.63110)\n",
      "105 (score = 0.58035)\n",
      "153 (score = 0.55766)\n",
      "17 (score = 0.54856)\n",
      "106 (score = 0.53996)\n",
      "171 (score = 0.53635)\n",
      "214 (score = 0.53526)\n",
      "222 (score = 0.52989)\n",
      "138 (score = 0.52925)\n"
     ]
    },
    {
     "name": "stderr",
     "output_type": "stream",
     "text": [
      "\r",
      " 40%|███████████████▌                       | 398/1000 [05:50<09:04,  1.11it/s]"
     ]
    },
    {
     "name": "stdout",
     "output_type": "stream",
     "text": [
      "66 (score = 0.67499)\n",
      "105 (score = 0.59864)\n",
      "153 (score = 0.57593)\n",
      "17 (score = 0.56046)\n",
      "171 (score = 0.54900)\n",
      "214 (score = 0.54722)\n",
      "106 (score = 0.54425)\n",
      "222 (score = 0.53840)\n",
      "138 (score = 0.53498)\n"
     ]
    },
    {
     "name": "stderr",
     "output_type": "stream",
     "text": [
      "\r",
      " 40%|███████████████▌                       | 399/1000 [05:51<09:09,  1.09it/s]"
     ]
    },
    {
     "name": "stdout",
     "output_type": "stream",
     "text": [
      "66 (score = 0.65222)\n",
      "105 (score = 0.58324)\n",
      "153 (score = 0.56458)\n",
      "17 (score = 0.55313)\n",
      "171 (score = 0.54020)\n",
      "106 (score = 0.53865)\n",
      "214 (score = 0.53701)\n",
      "222 (score = 0.53192)\n",
      "138 (score = 0.53080)\n"
     ]
    },
    {
     "name": "stderr",
     "output_type": "stream",
     "text": [
      "\r",
      " 40%|███████████████▌                       | 400/1000 [05:52<09:13,  1.08it/s]"
     ]
    },
    {
     "name": "stdout",
     "output_type": "stream",
     "text": [
      "66 (score = 0.66421)\n",
      "105 (score = 0.58420)\n",
      "153 (score = 0.56264)\n",
      "17 (score = 0.55487)\n",
      "171 (score = 0.55031)\n",
      "214 (score = 0.53895)\n",
      "106 (score = 0.53830)\n",
      "222 (score = 0.53652)\n",
      "138 (score = 0.53208)\n"
     ]
    },
    {
     "name": "stderr",
     "output_type": "stream",
     "text": [
      "\r",
      " 40%|███████████████▋                       | 401/1000 [05:53<09:17,  1.07it/s]"
     ]
    },
    {
     "name": "stdout",
     "output_type": "stream",
     "text": [
      "66 (score = 0.65225)\n",
      "105 (score = 0.59054)\n",
      "153 (score = 0.56913)\n",
      "17 (score = 0.54854)\n",
      "106 (score = 0.54745)\n",
      "171 (score = 0.54059)\n",
      "138 (score = 0.53609)\n",
      "214 (score = 0.53604)\n",
      "222 (score = 0.53172)\n"
     ]
    },
    {
     "name": "stderr",
     "output_type": "stream",
     "text": [
      "\r",
      " 40%|███████████████▋                       | 402/1000 [05:54<09:21,  1.06it/s]"
     ]
    },
    {
     "name": "stdout",
     "output_type": "stream",
     "text": [
      "66 (score = 0.70394)\n",
      "105 (score = 0.61256)\n",
      "153 (score = 0.58220)\n",
      "17 (score = 0.57129)\n",
      "171 (score = 0.55810)\n",
      "214 (score = 0.54915)\n",
      "106 (score = 0.54705)\n",
      "222 (score = 0.54374)\n",
      "62 (score = 0.53664)\n"
     ]
    },
    {
     "name": "stderr",
     "output_type": "stream",
     "text": [
      "\r",
      " 40%|███████████████▋                       | 403/1000 [05:54<09:04,  1.10it/s]"
     ]
    },
    {
     "name": "stdout",
     "output_type": "stream",
     "text": [
      "66 (score = 0.68671)\n",
      "105 (score = 0.60288)\n",
      "153 (score = 0.58297)\n",
      "17 (score = 0.56752)\n",
      "171 (score = 0.55535)\n",
      "214 (score = 0.54566)\n",
      "222 (score = 0.54443)\n",
      "106 (score = 0.54303)\n",
      "138 (score = 0.53610)\n"
     ]
    },
    {
     "name": "stderr",
     "output_type": "stream",
     "text": [
      "\r",
      " 40%|███████████████▊                       | 404/1000 [05:55<09:01,  1.10it/s]"
     ]
    },
    {
     "name": "stdout",
     "output_type": "stream",
     "text": [
      "66 (score = 0.72316)\n",
      "105 (score = 0.63044)\n",
      "153 (score = 0.60069)\n",
      "17 (score = 0.57953)\n",
      "171 (score = 0.56317)\n",
      "106 (score = 0.55677)\n",
      "222 (score = 0.55514)\n",
      "214 (score = 0.55295)\n",
      "138 (score = 0.54728)\n"
     ]
    },
    {
     "name": "stderr",
     "output_type": "stream",
     "text": [
      "\r",
      " 40%|███████████████▊                       | 405/1000 [05:56<09:06,  1.09it/s]"
     ]
    },
    {
     "name": "stdout",
     "output_type": "stream",
     "text": [
      "66 (score = 0.69849)\n",
      "105 (score = 0.61268)\n",
      "153 (score = 0.58361)\n",
      "17 (score = 0.57191)\n",
      "171 (score = 0.55511)\n",
      "214 (score = 0.55003)\n",
      "106 (score = 0.54884)\n",
      "222 (score = 0.54185)\n",
      "138 (score = 0.53592)\n"
     ]
    },
    {
     "name": "stderr",
     "output_type": "stream",
     "text": [
      "\r",
      " 41%|███████████████▊                       | 406/1000 [05:57<09:14,  1.07it/s]"
     ]
    },
    {
     "name": "stdout",
     "output_type": "stream",
     "text": [
      "66 (score = 0.73429)\n",
      "105 (score = 0.64008)\n",
      "153 (score = 0.60764)\n",
      "17 (score = 0.58038)\n",
      "171 (score = 0.56305)\n",
      "106 (score = 0.56146)\n",
      "214 (score = 0.55860)\n",
      "222 (score = 0.55089)\n",
      "138 (score = 0.54669)\n"
     ]
    },
    {
     "name": "stderr",
     "output_type": "stream",
     "text": [
      "\r",
      " 41%|███████████████▊                       | 407/1000 [05:58<09:13,  1.07it/s]"
     ]
    },
    {
     "name": "stdout",
     "output_type": "stream",
     "text": [
      "66 (score = 0.67072)\n",
      "105 (score = 0.59935)\n",
      "153 (score = 0.57534)\n",
      "17 (score = 0.55520)\n",
      "106 (score = 0.54809)\n",
      "171 (score = 0.54562)\n",
      "214 (score = 0.54426)\n",
      "222 (score = 0.53388)\n",
      "138 (score = 0.53242)\n"
     ]
    },
    {
     "name": "stderr",
     "output_type": "stream",
     "text": [
      "\r",
      " 41%|███████████████▉                       | 408/1000 [05:59<09:08,  1.08it/s]"
     ]
    },
    {
     "name": "stdout",
     "output_type": "stream",
     "text": [
      "66 (score = 0.62425)\n",
      "105 (score = 0.56805)\n",
      "153 (score = 0.55581)\n",
      "17 (score = 0.53807)\n",
      "171 (score = 0.53543)\n",
      "106 (score = 0.53424)\n",
      "214 (score = 0.53041)\n",
      "222 (score = 0.52531)\n",
      "138 (score = 0.52412)\n"
     ]
    },
    {
     "name": "stderr",
     "output_type": "stream",
     "text": [
      "\r",
      " 41%|███████████████▉                       | 409/1000 [06:00<09:03,  1.09it/s]"
     ]
    },
    {
     "name": "stdout",
     "output_type": "stream",
     "text": [
      "66 (score = 0.60459)\n",
      "105 (score = 0.56565)\n",
      "153 (score = 0.54714)\n",
      "17 (score = 0.53714)\n",
      "106 (score = 0.53082)\n",
      "171 (score = 0.53075)\n",
      "214 (score = 0.52512)\n",
      "138 (score = 0.52327)\n",
      "19 (score = 0.52082)\n"
     ]
    },
    {
     "name": "stderr",
     "output_type": "stream",
     "text": [
      "\r",
      " 41%|███████████████▉                       | 410/1000 [06:01<08:52,  1.11it/s]"
     ]
    },
    {
     "name": "stdout",
     "output_type": "stream",
     "text": [
      "66 (score = 0.68476)\n",
      "105 (score = 0.60732)\n",
      "153 (score = 0.57907)\n",
      "17 (score = 0.56390)\n",
      "171 (score = 0.55990)\n",
      "106 (score = 0.54715)\n",
      "214 (score = 0.54601)\n",
      "222 (score = 0.54170)\n",
      "138 (score = 0.53756)\n"
     ]
    },
    {
     "name": "stderr",
     "output_type": "stream",
     "text": [
      "\r",
      " 41%|████████████████                       | 411/1000 [06:02<08:53,  1.10it/s]"
     ]
    },
    {
     "name": "stdout",
     "output_type": "stream",
     "text": [
      "66 (score = 0.68121)\n",
      "105 (score = 0.60440)\n",
      "153 (score = 0.57790)\n",
      "17 (score = 0.55768)\n",
      "214 (score = 0.54824)\n",
      "171 (score = 0.54811)\n",
      "106 (score = 0.54525)\n",
      "222 (score = 0.53894)\n",
      "138 (score = 0.53354)\n"
     ]
    },
    {
     "name": "stderr",
     "output_type": "stream",
     "text": [
      "\r",
      " 41%|████████████████                       | 412/1000 [06:03<08:57,  1.09it/s]"
     ]
    },
    {
     "name": "stdout",
     "output_type": "stream",
     "text": [
      "66 (score = 0.67765)\n",
      "105 (score = 0.60538)\n",
      "153 (score = 0.58250)\n",
      "17 (score = 0.56008)\n",
      "106 (score = 0.54868)\n",
      "171 (score = 0.54841)\n",
      "214 (score = 0.54696)\n",
      "222 (score = 0.53785)\n",
      "138 (score = 0.53640)\n"
     ]
    },
    {
     "name": "stderr",
     "output_type": "stream",
     "text": [
      "\r",
      " 41%|████████████████                       | 413/1000 [06:04<09:01,  1.08it/s]"
     ]
    },
    {
     "name": "stdout",
     "output_type": "stream",
     "text": [
      "66 (score = 0.66127)\n",
      "105 (score = 0.58928)\n",
      "153 (score = 0.56608)\n",
      "17 (score = 0.55319)\n",
      "171 (score = 0.54577)\n",
      "106 (score = 0.54288)\n",
      "214 (score = 0.53854)\n",
      "222 (score = 0.53661)\n",
      "19 (score = 0.52835)\n"
     ]
    },
    {
     "name": "stderr",
     "output_type": "stream",
     "text": [
      "\r",
      " 42%|████████████████▏                      | 415/1000 [06:05<07:41,  1.27it/s]"
     ]
    },
    {
     "name": "stdout",
     "output_type": "stream",
     "text": [
      "66 (score = 0.69165)\n",
      "105 (score = 0.61186)\n",
      "153 (score = 0.58330)\n",
      "17 (score = 0.56376)\n",
      "106 (score = 0.55268)\n",
      "171 (score = 0.55072)\n",
      "214 (score = 0.54439)\n",
      "222 (score = 0.53996)\n",
      "138 (score = 0.53990)\n"
     ]
    },
    {
     "name": "stderr",
     "output_type": "stream",
     "text": [
      "\r",
      " 42%|████████████████▏                      | 416/1000 [06:05<08:05,  1.20it/s]"
     ]
    },
    {
     "name": "stdout",
     "output_type": "stream",
     "text": [
      "66 (score = 0.67317)\n",
      "105 (score = 0.59104)\n",
      "153 (score = 0.57064)\n",
      "17 (score = 0.56018)\n",
      "171 (score = 0.55193)\n",
      "106 (score = 0.54808)\n",
      "214 (score = 0.54064)\n",
      "222 (score = 0.53558)\n",
      "19 (score = 0.53487)\n"
     ]
    },
    {
     "name": "stderr",
     "output_type": "stream",
     "text": [
      "\r",
      " 42%|████████████████▎                      | 417/1000 [06:06<08:22,  1.16it/s]"
     ]
    },
    {
     "name": "stdout",
     "output_type": "stream",
     "text": [
      "66 (score = 0.68106)\n",
      "105 (score = 0.60672)\n",
      "153 (score = 0.57825)\n",
      "17 (score = 0.55728)\n",
      "106 (score = 0.55024)\n",
      "171 (score = 0.54978)\n",
      "214 (score = 0.54379)\n",
      "222 (score = 0.53727)\n",
      "176 (score = 0.53348)\n"
     ]
    },
    {
     "name": "stderr",
     "output_type": "stream",
     "text": [
      "\r",
      " 42%|████████████████▎                      | 418/1000 [06:07<08:34,  1.13it/s]"
     ]
    },
    {
     "name": "stdout",
     "output_type": "stream",
     "text": [
      "66 (score = 0.67343)\n",
      "105 (score = 0.59849)\n",
      "153 (score = 0.57293)\n",
      "17 (score = 0.55943)\n",
      "171 (score = 0.54914)\n",
      "214 (score = 0.54238)\n",
      "106 (score = 0.54235)\n",
      "222 (score = 0.53282)\n",
      "138 (score = 0.52858)\n"
     ]
    },
    {
     "name": "stderr",
     "output_type": "stream",
     "text": [
      "\r",
      " 42%|████████████████▎                      | 419/1000 [06:08<08:39,  1.12it/s]"
     ]
    },
    {
     "name": "stdout",
     "output_type": "stream",
     "text": [
      "66 (score = 0.70241)\n",
      "105 (score = 0.61173)\n",
      "153 (score = 0.58245)\n",
      "17 (score = 0.56820)\n",
      "171 (score = 0.55470)\n",
      "106 (score = 0.55330)\n",
      "214 (score = 0.54586)\n",
      "222 (score = 0.54552)\n",
      "138 (score = 0.53658)\n"
     ]
    },
    {
     "name": "stderr",
     "output_type": "stream",
     "text": [
      "\r",
      " 42%|████████████████▍                      | 420/1000 [06:09<08:39,  1.12it/s]"
     ]
    },
    {
     "name": "stdout",
     "output_type": "stream",
     "text": [
      "66 (score = 0.66779)\n",
      "105 (score = 0.59238)\n",
      "153 (score = 0.57177)\n",
      "17 (score = 0.56093)\n",
      "106 (score = 0.54352)\n",
      "214 (score = 0.54173)\n",
      "171 (score = 0.53936)\n",
      "222 (score = 0.53711)\n",
      "19 (score = 0.53018)\n"
     ]
    },
    {
     "name": "stderr",
     "output_type": "stream",
     "text": [
      "\r",
      " 42%|████████████████▍                      | 421/1000 [06:10<08:32,  1.13it/s]"
     ]
    },
    {
     "name": "stdout",
     "output_type": "stream",
     "text": [
      "66 (score = 0.70190)\n",
      "105 (score = 0.61248)\n",
      "153 (score = 0.58297)\n",
      "17 (score = 0.57054)\n",
      "171 (score = 0.55674)\n",
      "106 (score = 0.55124)\n",
      "214 (score = 0.54588)\n",
      "222 (score = 0.54327)\n",
      "138 (score = 0.53842)\n"
     ]
    },
    {
     "name": "stderr",
     "output_type": "stream",
     "text": [
      "\r",
      " 42%|████████████████▍                      | 422/1000 [06:11<08:53,  1.08it/s]"
     ]
    },
    {
     "name": "stdout",
     "output_type": "stream",
     "text": [
      "66 (score = 0.65219)\n",
      "105 (score = 0.59116)\n",
      "153 (score = 0.56771)\n",
      "17 (score = 0.55360)\n",
      "171 (score = 0.54140)\n",
      "106 (score = 0.54084)\n",
      "214 (score = 0.53547)\n",
      "222 (score = 0.53273)\n",
      "19 (score = 0.52685)\n"
     ]
    },
    {
     "name": "stderr",
     "output_type": "stream",
     "text": [
      "\r",
      " 42%|████████████████▍                      | 423/1000 [06:12<08:54,  1.08it/s]"
     ]
    },
    {
     "name": "stdout",
     "output_type": "stream",
     "text": [
      "66 (score = 0.62621)\n",
      "105 (score = 0.56475)\n",
      "17 (score = 0.54769)\n",
      "153 (score = 0.54638)\n",
      "171 (score = 0.53431)\n",
      "106 (score = 0.53375)\n",
      "222 (score = 0.52891)\n",
      "214 (score = 0.52775)\n",
      "19 (score = 0.52448)\n"
     ]
    },
    {
     "name": "stderr",
     "output_type": "stream",
     "text": [
      "\r",
      " 42%|████████████████▌                      | 424/1000 [06:13<08:49,  1.09it/s]"
     ]
    },
    {
     "name": "stdout",
     "output_type": "stream",
     "text": [
      "66 (score = 0.63017)\n",
      "105 (score = 0.56679)\n",
      "153 (score = 0.54834)\n",
      "17 (score = 0.54371)\n",
      "171 (score = 0.53447)\n",
      "214 (score = 0.53280)\n",
      "106 (score = 0.52898)\n",
      "222 (score = 0.52633)\n",
      "19 (score = 0.52428)\n"
     ]
    },
    {
     "name": "stderr",
     "output_type": "stream",
     "text": [
      "\r",
      " 42%|████████████████▌                      | 425/1000 [06:14<08:40,  1.10it/s]"
     ]
    },
    {
     "name": "stdout",
     "output_type": "stream",
     "text": [
      "66 (score = 0.66183)\n",
      "105 (score = 0.59328)\n",
      "153 (score = 0.57177)\n",
      "17 (score = 0.55392)\n",
      "106 (score = 0.54305)\n",
      "171 (score = 0.54263)\n",
      "214 (score = 0.53778)\n",
      "222 (score = 0.53572)\n",
      "138 (score = 0.52991)\n"
     ]
    },
    {
     "name": "stderr",
     "output_type": "stream",
     "text": [
      "\r",
      " 43%|████████████████▌                      | 426/1000 [06:15<08:45,  1.09it/s]"
     ]
    },
    {
     "name": "stdout",
     "output_type": "stream",
     "text": [
      "66 (score = 0.68325)\n",
      "105 (score = 0.60503)\n",
      "153 (score = 0.57950)\n",
      "17 (score = 0.56550)\n",
      "171 (score = 0.55370)\n",
      "222 (score = 0.54438)\n",
      "106 (score = 0.54357)\n",
      "214 (score = 0.54282)\n",
      "138 (score = 0.53904)\n"
     ]
    },
    {
     "name": "stderr",
     "output_type": "stream",
     "text": [
      "\r",
      " 43%|████████████████▋                      | 427/1000 [06:16<09:00,  1.06it/s]"
     ]
    },
    {
     "name": "stdout",
     "output_type": "stream",
     "text": [
      "66 (score = 0.67217)\n",
      "105 (score = 0.58869)\n",
      "153 (score = 0.57135)\n",
      "17 (score = 0.55996)\n",
      "171 (score = 0.54703)\n",
      "214 (score = 0.54153)\n",
      "106 (score = 0.54046)\n",
      "222 (score = 0.53225)\n",
      "62 (score = 0.52932)\n"
     ]
    },
    {
     "name": "stderr",
     "output_type": "stream",
     "text": [
      "\r",
      " 43%|████████████████▋                      | 428/1000 [06:17<08:48,  1.08it/s]"
     ]
    },
    {
     "name": "stdout",
     "output_type": "stream",
     "text": [
      "66 (score = 0.64373)\n",
      "105 (score = 0.58569)\n",
      "153 (score = 0.56021)\n",
      "17 (score = 0.54979)\n",
      "106 (score = 0.54064)\n",
      "171 (score = 0.53765)\n",
      "214 (score = 0.53437)\n",
      "138 (score = 0.52976)\n",
      "222 (score = 0.52896)\n"
     ]
    },
    {
     "name": "stderr",
     "output_type": "stream",
     "text": [
      "\r",
      " 43%|████████████████▋                      | 429/1000 [06:18<08:52,  1.07it/s]"
     ]
    },
    {
     "name": "stdout",
     "output_type": "stream",
     "text": [
      "66 (score = 0.70591)\n",
      "105 (score = 0.61890)\n",
      "153 (score = 0.58563)\n",
      "17 (score = 0.57498)\n",
      "171 (score = 0.56098)\n",
      "106 (score = 0.55547)\n",
      "214 (score = 0.55030)\n",
      "222 (score = 0.54863)\n",
      "138 (score = 0.54343)\n"
     ]
    },
    {
     "name": "stderr",
     "output_type": "stream",
     "text": [
      "\r",
      " 43%|████████████████▊                      | 430/1000 [06:18<08:53,  1.07it/s]"
     ]
    },
    {
     "name": "stdout",
     "output_type": "stream",
     "text": [
      "66 (score = 0.66594)\n",
      "105 (score = 0.59350)\n",
      "153 (score = 0.56855)\n",
      "17 (score = 0.55615)\n",
      "171 (score = 0.54791)\n",
      "222 (score = 0.54103)\n",
      "106 (score = 0.53781)\n",
      "214 (score = 0.53479)\n",
      "138 (score = 0.53461)\n"
     ]
    },
    {
     "name": "stderr",
     "output_type": "stream",
     "text": [
      "\r",
      " 43%|████████████████▊                      | 431/1000 [06:19<08:49,  1.08it/s]"
     ]
    },
    {
     "name": "stdout",
     "output_type": "stream",
     "text": [
      "66 (score = 0.66682)\n",
      "105 (score = 0.59514)\n",
      "153 (score = 0.56731)\n",
      "17 (score = 0.55674)\n",
      "171 (score = 0.54796)\n",
      "106 (score = 0.54163)\n",
      "214 (score = 0.54026)\n",
      "222 (score = 0.53317)\n",
      "176 (score = 0.52982)\n"
     ]
    },
    {
     "name": "stderr",
     "output_type": "stream",
     "text": [
      "\r",
      " 43%|████████████████▊                      | 432/1000 [06:20<08:47,  1.08it/s]"
     ]
    },
    {
     "name": "stdout",
     "output_type": "stream",
     "text": [
      "66 (score = 0.63456)\n",
      "105 (score = 0.56998)\n",
      "17 (score = 0.54829)\n",
      "153 (score = 0.54801)\n",
      "171 (score = 0.53883)\n",
      "106 (score = 0.53496)\n",
      "214 (score = 0.53074)\n",
      "222 (score = 0.52421)\n",
      "62 (score = 0.52278)\n"
     ]
    },
    {
     "name": "stderr",
     "output_type": "stream",
     "text": [
      "\r",
      " 43%|████████████████▉                      | 433/1000 [06:21<08:35,  1.10it/s]"
     ]
    },
    {
     "name": "stdout",
     "output_type": "stream",
     "text": [
      "66 (score = 0.64613)\n",
      "105 (score = 0.57343)\n",
      "153 (score = 0.55785)\n",
      "17 (score = 0.54474)\n",
      "171 (score = 0.54208)\n",
      "214 (score = 0.53733)\n",
      "106 (score = 0.53425)\n",
      "222 (score = 0.52995)\n",
      "138 (score = 0.52500)\n"
     ]
    },
    {
     "name": "stderr",
     "output_type": "stream",
     "text": [
      "\r",
      " 43%|████████████████▉                      | 434/1000 [06:22<08:35,  1.10it/s]"
     ]
    },
    {
     "name": "stdout",
     "output_type": "stream",
     "text": [
      "66 (score = 0.74325)\n",
      "105 (score = 0.64198)\n",
      "153 (score = 0.60870)\n",
      "17 (score = 0.58492)\n",
      "171 (score = 0.56983)\n",
      "222 (score = 0.55963)\n",
      "106 (score = 0.55773)\n",
      "214 (score = 0.55760)\n",
      "138 (score = 0.54759)\n"
     ]
    },
    {
     "name": "stderr",
     "output_type": "stream",
     "text": [
      "\r",
      " 44%|████████████████▉                      | 435/1000 [06:23<08:31,  1.10it/s]"
     ]
    },
    {
     "name": "stdout",
     "output_type": "stream",
     "text": [
      "66 (score = 0.66323)\n",
      "105 (score = 0.58086)\n",
      "153 (score = 0.56024)\n",
      "17 (score = 0.55163)\n",
      "171 (score = 0.54583)\n",
      "214 (score = 0.53947)\n",
      "222 (score = 0.53888)\n",
      "106 (score = 0.53856)\n",
      "176 (score = 0.53012)\n"
     ]
    },
    {
     "name": "stderr",
     "output_type": "stream",
     "text": [
      "\r",
      " 44%|█████████████████                      | 436/1000 [06:24<08:32,  1.10it/s]"
     ]
    },
    {
     "name": "stdout",
     "output_type": "stream",
     "text": [
      "66 (score = 0.60572)\n",
      "105 (score = 0.56492)\n",
      "153 (score = 0.54594)\n",
      "17 (score = 0.53443)\n",
      "106 (score = 0.53389)\n",
      "171 (score = 0.53001)\n",
      "214 (score = 0.52511)\n",
      "138 (score = 0.52264)\n",
      "19 (score = 0.52112)\n"
     ]
    },
    {
     "name": "stderr",
     "output_type": "stream",
     "text": [
      "\r",
      " 44%|█████████████████                      | 437/1000 [06:25<08:27,  1.11it/s]"
     ]
    },
    {
     "name": "stdout",
     "output_type": "stream",
     "text": [
      "66 (score = 0.64210)\n",
      "105 (score = 0.58334)\n",
      "153 (score = 0.56552)\n",
      "17 (score = 0.54782)\n",
      "171 (score = 0.54059)\n",
      "106 (score = 0.53863)\n",
      "214 (score = 0.53506)\n",
      "222 (score = 0.53043)\n",
      "138 (score = 0.53000)\n"
     ]
    },
    {
     "name": "stderr",
     "output_type": "stream",
     "text": [
      "\r",
      " 44%|█████████████████                      | 438/1000 [06:26<08:30,  1.10it/s]"
     ]
    },
    {
     "name": "stdout",
     "output_type": "stream",
     "text": [
      "66 (score = 0.72533)\n",
      "105 (score = 0.62663)\n",
      "153 (score = 0.59847)\n",
      "17 (score = 0.58044)\n",
      "171 (score = 0.57022)\n",
      "214 (score = 0.55368)\n",
      "106 (score = 0.55267)\n",
      "222 (score = 0.54479)\n",
      "138 (score = 0.54244)\n"
     ]
    },
    {
     "name": "stderr",
     "output_type": "stream",
     "text": [
      "\r",
      " 44%|█████████████████                      | 439/1000 [06:27<08:34,  1.09it/s]"
     ]
    },
    {
     "name": "stdout",
     "output_type": "stream",
     "text": [
      "66 (score = 0.61290)\n",
      "105 (score = 0.56088)\n",
      "153 (score = 0.54962)\n",
      "17 (score = 0.54000)\n",
      "171 (score = 0.53440)\n",
      "106 (score = 0.52525)\n",
      "214 (score = 0.52463)\n",
      "222 (score = 0.52310)\n",
      "138 (score = 0.52240)\n"
     ]
    },
    {
     "name": "stderr",
     "output_type": "stream",
     "text": [
      "\r",
      " 44%|█████████████████▏                     | 440/1000 [06:28<08:29,  1.10it/s]"
     ]
    },
    {
     "name": "stdout",
     "output_type": "stream",
     "text": [
      "66 (score = 0.64352)\n",
      "105 (score = 0.58213)\n",
      "153 (score = 0.56032)\n",
      "17 (score = 0.54972)\n",
      "106 (score = 0.54285)\n",
      "171 (score = 0.54067)\n",
      "214 (score = 0.53631)\n",
      "138 (score = 0.53418)\n",
      "222 (score = 0.53217)\n"
     ]
    },
    {
     "name": "stderr",
     "output_type": "stream",
     "text": [
      "\r",
      " 44%|█████████████████▏                     | 441/1000 [06:28<08:18,  1.12it/s]"
     ]
    },
    {
     "name": "stdout",
     "output_type": "stream",
     "text": [
      "66 (score = 0.72870)\n",
      "105 (score = 0.63080)\n",
      "153 (score = 0.60573)\n",
      "17 (score = 0.57841)\n",
      "171 (score = 0.56157)\n",
      "106 (score = 0.56047)\n",
      "214 (score = 0.55265)\n",
      "138 (score = 0.54851)\n",
      "222 (score = 0.54849)\n"
     ]
    },
    {
     "name": "stderr",
     "output_type": "stream",
     "text": [
      "\r",
      " 44%|█████████████████▏                     | 442/1000 [06:29<08:24,  1.11it/s]"
     ]
    },
    {
     "name": "stdout",
     "output_type": "stream",
     "text": [
      "66 (score = 0.63726)\n",
      "105 (score = 0.57109)\n",
      "153 (score = 0.55382)\n",
      "17 (score = 0.54846)\n",
      "171 (score = 0.54179)\n",
      "214 (score = 0.53052)\n",
      "222 (score = 0.52966)\n",
      "106 (score = 0.52962)\n",
      "62 (score = 0.52435)\n"
     ]
    },
    {
     "name": "stderr",
     "output_type": "stream",
     "text": [
      "\r",
      " 44%|█████████████████▎                     | 443/1000 [06:30<08:52,  1.05it/s]"
     ]
    },
    {
     "name": "stdout",
     "output_type": "stream",
     "text": [
      "66 (score = 0.65885)\n",
      "105 (score = 0.58659)\n",
      "153 (score = 0.56099)\n",
      "17 (score = 0.55243)\n",
      "171 (score = 0.54776)\n",
      "214 (score = 0.53991)\n",
      "106 (score = 0.53903)\n",
      "222 (score = 0.53801)\n",
      "138 (score = 0.53022)\n"
     ]
    },
    {
     "name": "stderr",
     "output_type": "stream",
     "text": [
      "\r",
      " 44%|█████████████████▎                     | 444/1000 [06:31<08:45,  1.06it/s]"
     ]
    },
    {
     "name": "stdout",
     "output_type": "stream",
     "text": [
      "66 (score = 0.66516)\n",
      "105 (score = 0.59205)\n",
      "153 (score = 0.57237)\n",
      "17 (score = 0.55234)\n",
      "171 (score = 0.54552)\n",
      "106 (score = 0.54052)\n",
      "214 (score = 0.54003)\n",
      "222 (score = 0.53715)\n",
      "62 (score = 0.53140)\n"
     ]
    },
    {
     "name": "stderr",
     "output_type": "stream",
     "text": [
      "\r",
      " 44%|█████████████████▎                     | 445/1000 [06:32<08:25,  1.10it/s]"
     ]
    },
    {
     "name": "stdout",
     "output_type": "stream",
     "text": [
      "66 (score = 0.65283)\n",
      "105 (score = 0.58735)\n",
      "153 (score = 0.56173)\n",
      "17 (score = 0.55094)\n",
      "171 (score = 0.54191)\n",
      "214 (score = 0.54007)\n",
      "106 (score = 0.53516)\n",
      "222 (score = 0.53237)\n",
      "62 (score = 0.52540)\n"
     ]
    },
    {
     "name": "stderr",
     "output_type": "stream",
     "text": [
      "\r",
      " 45%|█████████████████▍                     | 446/1000 [06:33<08:45,  1.05it/s]"
     ]
    },
    {
     "name": "stdout",
     "output_type": "stream",
     "text": [
      "66 (score = 0.63608)\n",
      "105 (score = 0.58089)\n",
      "153 (score = 0.56288)\n",
      "106 (score = 0.54596)\n",
      "17 (score = 0.54325)\n",
      "171 (score = 0.53949)\n",
      "214 (score = 0.53665)\n",
      "138 (score = 0.53081)\n",
      "222 (score = 0.52642)\n"
     ]
    },
    {
     "name": "stderr",
     "output_type": "stream",
     "text": [
      "\r",
      " 45%|█████████████████▍                     | 447/1000 [06:34<09:41,  1.05s/it]"
     ]
    },
    {
     "name": "stdout",
     "output_type": "stream",
     "text": [
      "66 (score = 0.65804)\n",
      "105 (score = 0.58580)\n",
      "153 (score = 0.57292)\n",
      "17 (score = 0.54810)\n",
      "171 (score = 0.54424)\n",
      "106 (score = 0.54314)\n",
      "214 (score = 0.53805)\n",
      "138 (score = 0.53351)\n",
      "222 (score = 0.53141)\n"
     ]
    },
    {
     "name": "stderr",
     "output_type": "stream",
     "text": [
      "\r",
      " 45%|█████████████████▍                     | 448/1000 [06:36<09:47,  1.06s/it]"
     ]
    },
    {
     "name": "stdout",
     "output_type": "stream",
     "text": [
      "66 (score = 0.63033)\n",
      "105 (score = 0.57026)\n",
      "153 (score = 0.55792)\n",
      "17 (score = 0.54335)\n",
      "171 (score = 0.54039)\n",
      "106 (score = 0.53689)\n",
      "214 (score = 0.53119)\n",
      "138 (score = 0.52611)\n",
      "62 (score = 0.52509)\n"
     ]
    },
    {
     "name": "stderr",
     "output_type": "stream",
     "text": [
      "\r",
      " 45%|█████████████████▌                     | 449/1000 [06:37<09:44,  1.06s/it]"
     ]
    },
    {
     "name": "stdout",
     "output_type": "stream",
     "text": [
      "66 (score = 0.73721)\n",
      "105 (score = 0.63721)\n",
      "153 (score = 0.60535)\n",
      "17 (score = 0.59036)\n",
      "171 (score = 0.57159)\n",
      "106 (score = 0.56996)\n",
      "214 (score = 0.56147)\n",
      "222 (score = 0.54387)\n",
      "19 (score = 0.54329)\n"
     ]
    },
    {
     "name": "stderr",
     "output_type": "stream",
     "text": [
      "\r",
      " 45%|█████████████████▌                     | 450/1000 [06:38<09:13,  1.01s/it]"
     ]
    },
    {
     "name": "stdout",
     "output_type": "stream",
     "text": [
      "66 (score = 0.69426)\n",
      "105 (score = 0.60993)\n",
      "153 (score = 0.58609)\n",
      "17 (score = 0.56798)\n",
      "171 (score = 0.55546)\n",
      "106 (score = 0.55208)\n",
      "214 (score = 0.54880)\n",
      "222 (score = 0.54098)\n",
      "138 (score = 0.53995)\n"
     ]
    },
    {
     "name": "stderr",
     "output_type": "stream",
     "text": [
      "\r",
      " 45%|█████████████████▌                     | 451/1000 [06:38<08:42,  1.05it/s]"
     ]
    },
    {
     "name": "stdout",
     "output_type": "stream",
     "text": [
      "66 (score = 0.71882)\n",
      "105 (score = 0.61941)\n",
      "153 (score = 0.59052)\n",
      "17 (score = 0.57868)\n",
      "171 (score = 0.56821)\n",
      "214 (score = 0.55804)\n",
      "106 (score = 0.55215)\n",
      "222 (score = 0.54936)\n",
      "138 (score = 0.54364)\n"
     ]
    },
    {
     "name": "stderr",
     "output_type": "stream",
     "text": [
      "\r",
      " 45%|█████████████████▋                     | 452/1000 [06:39<08:36,  1.06it/s]"
     ]
    },
    {
     "name": "stdout",
     "output_type": "stream",
     "text": [
      "66 (score = 0.66516)\n",
      "105 (score = 0.58344)\n",
      "153 (score = 0.56048)\n",
      "17 (score = 0.55552)\n",
      "171 (score = 0.54379)\n",
      "214 (score = 0.53907)\n",
      "106 (score = 0.53751)\n",
      "222 (score = 0.53429)\n",
      "62 (score = 0.53144)\n"
     ]
    },
    {
     "name": "stderr",
     "output_type": "stream",
     "text": [
      "\r",
      " 45%|█████████████████▋                     | 453/1000 [06:40<08:22,  1.09it/s]"
     ]
    },
    {
     "name": "stdout",
     "output_type": "stream",
     "text": [
      "66 (score = 0.66145)\n",
      "105 (score = 0.58814)\n",
      "153 (score = 0.56209)\n",
      "17 (score = 0.55762)\n",
      "171 (score = 0.55273)\n",
      "214 (score = 0.54442)\n",
      "106 (score = 0.54067)\n",
      "222 (score = 0.53065)\n",
      "138 (score = 0.52809)\n"
     ]
    },
    {
     "name": "stderr",
     "output_type": "stream",
     "text": [
      "\r",
      " 45%|█████████████████▋                     | 454/1000 [06:41<08:28,  1.07it/s]"
     ]
    },
    {
     "name": "stdout",
     "output_type": "stream",
     "text": [
      "66 (score = 0.72001)\n",
      "105 (score = 0.62721)\n",
      "153 (score = 0.59520)\n",
      "17 (score = 0.57940)\n",
      "171 (score = 0.56671)\n",
      "214 (score = 0.55760)\n",
      "106 (score = 0.55280)\n",
      "222 (score = 0.55016)\n",
      "138 (score = 0.54269)\n"
     ]
    },
    {
     "name": "stderr",
     "output_type": "stream",
     "text": [
      "\r",
      " 46%|█████████████████▋                     | 455/1000 [06:42<08:05,  1.12it/s]"
     ]
    },
    {
     "name": "stdout",
     "output_type": "stream",
     "text": [
      "66 (score = 0.68515)\n",
      "105 (score = 0.60751)\n",
      "153 (score = 0.58330)\n",
      "17 (score = 0.56446)\n",
      "106 (score = 0.54903)\n",
      "171 (score = 0.54804)\n",
      "214 (score = 0.54284)\n",
      "138 (score = 0.54110)\n",
      "222 (score = 0.53845)\n"
     ]
    },
    {
     "name": "stderr",
     "output_type": "stream",
     "text": [
      "\r",
      " 46%|█████████████████▊                     | 456/1000 [06:43<07:55,  1.14it/s]"
     ]
    },
    {
     "name": "stdout",
     "output_type": "stream",
     "text": [
      "66 (score = 0.66648)\n",
      "105 (score = 0.58554)\n",
      "153 (score = 0.56091)\n",
      "17 (score = 0.55710)\n",
      "171 (score = 0.54963)\n",
      "106 (score = 0.54024)\n",
      "214 (score = 0.53866)\n",
      "222 (score = 0.53815)\n",
      "138 (score = 0.53057)\n"
     ]
    },
    {
     "name": "stderr",
     "output_type": "stream",
     "text": [
      "\r",
      " 46%|█████████████████▊                     | 457/1000 [06:44<07:44,  1.17it/s]"
     ]
    },
    {
     "name": "stdout",
     "output_type": "stream",
     "text": [
      "66 (score = 0.65142)\n",
      "105 (score = 0.58375)\n",
      "153 (score = 0.56183)\n",
      "17 (score = 0.55619)\n",
      "171 (score = 0.54049)\n",
      "106 (score = 0.53665)\n",
      "214 (score = 0.53471)\n",
      "222 (score = 0.53355)\n",
      "138 (score = 0.52874)\n"
     ]
    },
    {
     "name": "stderr",
     "output_type": "stream",
     "text": [
      "\r",
      " 46%|█████████████████▊                     | 458/1000 [06:44<07:57,  1.13it/s]"
     ]
    },
    {
     "name": "stdout",
     "output_type": "stream",
     "text": [
      "66 (score = 0.63360)\n",
      "105 (score = 0.56773)\n",
      "153 (score = 0.55032)\n",
      "17 (score = 0.54722)\n",
      "171 (score = 0.53575)\n",
      "214 (score = 0.53076)\n",
      "106 (score = 0.53008)\n",
      "222 (score = 0.52303)\n",
      "62 (score = 0.52209)\n"
     ]
    },
    {
     "name": "stderr",
     "output_type": "stream",
     "text": [
      "\r",
      " 46%|█████████████████▉                     | 459/1000 [06:45<07:40,  1.18it/s]"
     ]
    },
    {
     "name": "stdout",
     "output_type": "stream",
     "text": [
      "66 (score = 0.63910)\n",
      "105 (score = 0.58334)\n",
      "153 (score = 0.56017)\n",
      "17 (score = 0.54828)\n",
      "106 (score = 0.54509)\n",
      "171 (score = 0.53965)\n",
      "214 (score = 0.53533)\n",
      "138 (score = 0.53024)\n",
      "222 (score = 0.52957)\n"
     ]
    },
    {
     "name": "stderr",
     "output_type": "stream",
     "text": [
      "\r",
      " 46%|█████████████████▉                     | 460/1000 [06:46<07:33,  1.19it/s]"
     ]
    },
    {
     "name": "stdout",
     "output_type": "stream",
     "text": [
      "66 (score = 0.72669)\n",
      "105 (score = 0.62681)\n",
      "153 (score = 0.59684)\n",
      "17 (score = 0.57927)\n",
      "171 (score = 0.56795)\n",
      "106 (score = 0.55767)\n",
      "214 (score = 0.54988)\n",
      "222 (score = 0.54716)\n",
      "138 (score = 0.54570)\n"
     ]
    },
    {
     "name": "stderr",
     "output_type": "stream",
     "text": [
      "\r",
      " 46%|█████████████████▉                     | 461/1000 [06:47<07:19,  1.23it/s]"
     ]
    },
    {
     "name": "stdout",
     "output_type": "stream",
     "text": [
      "66 (score = 0.60437)\n",
      "105 (score = 0.55409)\n",
      "153 (score = 0.54572)\n",
      "17 (score = 0.53055)\n",
      "171 (score = 0.52565)\n",
      "106 (score = 0.52524)\n",
      "214 (score = 0.52205)\n",
      "222 (score = 0.52129)\n",
      "138 (score = 0.51910)\n"
     ]
    },
    {
     "name": "stderr",
     "output_type": "stream",
     "text": [
      "\r",
      " 46%|██████████████████                     | 462/1000 [06:48<07:11,  1.25it/s]"
     ]
    },
    {
     "name": "stdout",
     "output_type": "stream",
     "text": [
      "66 (score = 0.65497)\n",
      "105 (score = 0.59162)\n",
      "153 (score = 0.56794)\n",
      "17 (score = 0.55084)\n",
      "171 (score = 0.54303)\n",
      "106 (score = 0.54281)\n",
      "214 (score = 0.53683)\n",
      "222 (score = 0.53498)\n",
      "138 (score = 0.53248)\n"
     ]
    },
    {
     "name": "stderr",
     "output_type": "stream",
     "text": [
      "\r",
      " 46%|██████████████████                     | 463/1000 [06:48<07:27,  1.20it/s]"
     ]
    },
    {
     "name": "stdout",
     "output_type": "stream",
     "text": [
      "66 (score = 0.64980)\n",
      "105 (score = 0.57919)\n",
      "153 (score = 0.56181)\n",
      "17 (score = 0.54912)\n",
      "106 (score = 0.54180)\n",
      "171 (score = 0.54132)\n",
      "214 (score = 0.54037)\n",
      "222 (score = 0.53315)\n",
      "62 (score = 0.52953)\n"
     ]
    },
    {
     "name": "stderr",
     "output_type": "stream",
     "text": [
      "\r",
      " 46%|██████████████████                     | 464/1000 [06:49<07:24,  1.21it/s]"
     ]
    },
    {
     "name": "stdout",
     "output_type": "stream",
     "text": [
      "66 (score = 0.72804)\n",
      "105 (score = 0.63132)\n",
      "153 (score = 0.59293)\n",
      "17 (score = 0.58377)\n",
      "171 (score = 0.57214)\n",
      "214 (score = 0.55574)\n",
      "106 (score = 0.55472)\n",
      "222 (score = 0.55005)\n",
      "62 (score = 0.54350)\n"
     ]
    },
    {
     "name": "stderr",
     "output_type": "stream",
     "text": [
      "\r",
      " 46%|██████████████████▏                    | 465/1000 [06:50<07:26,  1.20it/s]"
     ]
    },
    {
     "name": "stdout",
     "output_type": "stream",
     "text": [
      "66 (score = 0.70198)\n",
      "105 (score = 0.61372)\n",
      "153 (score = 0.58816)\n",
      "17 (score = 0.56880)\n",
      "171 (score = 0.56100)\n",
      "106 (score = 0.54780)\n",
      "214 (score = 0.54321)\n",
      "138 (score = 0.53677)\n",
      "222 (score = 0.53647)\n"
     ]
    },
    {
     "name": "stderr",
     "output_type": "stream",
     "text": [
      "\r",
      " 47%|██████████████████▏                    | 466/1000 [06:51<07:34,  1.17it/s]"
     ]
    },
    {
     "name": "stdout",
     "output_type": "stream",
     "text": [
      "66 (score = 0.66410)\n",
      "105 (score = 0.58320)\n",
      "153 (score = 0.56479)\n",
      "17 (score = 0.55094)\n",
      "214 (score = 0.54291)\n",
      "171 (score = 0.54270)\n",
      "106 (score = 0.53615)\n",
      "222 (score = 0.53447)\n",
      "62 (score = 0.52775)\n"
     ]
    },
    {
     "name": "stderr",
     "output_type": "stream",
     "text": [
      "\r",
      " 47%|██████████████████▏                    | 467/1000 [06:52<07:31,  1.18it/s]"
     ]
    },
    {
     "name": "stdout",
     "output_type": "stream",
     "text": [
      "66 (score = 0.62240)\n",
      "105 (score = 0.56106)\n",
      "153 (score = 0.54397)\n",
      "17 (score = 0.54172)\n",
      "171 (score = 0.53433)\n",
      "106 (score = 0.53417)\n",
      "222 (score = 0.52947)\n",
      "214 (score = 0.52659)\n",
      "62 (score = 0.52512)\n"
     ]
    },
    {
     "name": "stderr",
     "output_type": "stream",
     "text": [
      "\r",
      " 47%|██████████████████▎                    | 468/1000 [06:53<07:22,  1.20it/s]"
     ]
    },
    {
     "name": "stdout",
     "output_type": "stream",
     "text": [
      "66 (score = 0.64179)\n",
      "105 (score = 0.57888)\n",
      "153 (score = 0.55650)\n",
      "17 (score = 0.54443)\n",
      "171 (score = 0.54199)\n",
      "106 (score = 0.53630)\n",
      "214 (score = 0.53608)\n",
      "222 (score = 0.52652)\n",
      "138 (score = 0.52612)\n"
     ]
    },
    {
     "name": "stderr",
     "output_type": "stream",
     "text": [
      "\r",
      " 47%|██████████████████▎                    | 469/1000 [06:54<07:24,  1.20it/s]"
     ]
    },
    {
     "name": "stdout",
     "output_type": "stream",
     "text": [
      "66 (score = 0.65244)\n",
      "105 (score = 0.59553)\n",
      "153 (score = 0.56280)\n",
      "17 (score = 0.54866)\n",
      "214 (score = 0.54046)\n",
      "106 (score = 0.53988)\n",
      "171 (score = 0.53911)\n",
      "222 (score = 0.53338)\n",
      "138 (score = 0.53201)\n"
     ]
    },
    {
     "name": "stderr",
     "output_type": "stream",
     "text": [
      "\r",
      " 47%|██████████████████▎                    | 470/1000 [06:54<07:33,  1.17it/s]"
     ]
    },
    {
     "name": "stdout",
     "output_type": "stream",
     "text": [
      "66 (score = 0.61021)\n",
      "105 (score = 0.55363)\n",
      "153 (score = 0.53836)\n",
      "17 (score = 0.53438)\n",
      "171 (score = 0.53270)\n",
      "214 (score = 0.52797)\n",
      "106 (score = 0.52479)\n",
      "222 (score = 0.52232)\n",
      "19 (score = 0.52107)\n"
     ]
    },
    {
     "name": "stderr",
     "output_type": "stream",
     "text": [
      "\r",
      " 47%|██████████████████▎                    | 471/1000 [06:55<07:41,  1.15it/s]"
     ]
    },
    {
     "name": "stdout",
     "output_type": "stream",
     "text": [
      "66 (score = 0.73487)\n",
      "105 (score = 0.62756)\n",
      "153 (score = 0.60083)\n",
      "17 (score = 0.58224)\n",
      "171 (score = 0.56280)\n",
      "106 (score = 0.55875)\n",
      "214 (score = 0.55595)\n",
      "222 (score = 0.55216)\n",
      "138 (score = 0.54940)\n"
     ]
    },
    {
     "name": "stderr",
     "output_type": "stream",
     "text": [
      "\r",
      " 47%|██████████████████▍                    | 472/1000 [06:56<08:08,  1.08it/s]"
     ]
    },
    {
     "name": "stdout",
     "output_type": "stream",
     "text": [
      "66 (score = 0.65260)\n",
      "105 (score = 0.58424)\n",
      "153 (score = 0.56279)\n",
      "171 (score = 0.55254)\n",
      "17 (score = 0.55116)\n",
      "214 (score = 0.54137)\n",
      "106 (score = 0.53750)\n",
      "222 (score = 0.52773)\n",
      "62 (score = 0.52744)\n"
     ]
    },
    {
     "name": "stderr",
     "output_type": "stream",
     "text": [
      "\r",
      " 47%|██████████████████▍                    | 473/1000 [06:57<08:08,  1.08it/s]"
     ]
    },
    {
     "name": "stdout",
     "output_type": "stream",
     "text": [
      "66 (score = 0.68101)\n",
      "105 (score = 0.60908)\n",
      "153 (score = 0.57789)\n",
      "17 (score = 0.55932)\n",
      "106 (score = 0.54942)\n",
      "171 (score = 0.54663)\n",
      "214 (score = 0.54559)\n",
      "222 (score = 0.53859)\n",
      "138 (score = 0.53643)\n"
     ]
    },
    {
     "name": "stderr",
     "output_type": "stream",
     "text": [
      "\r",
      " 47%|██████████████████▍                    | 474/1000 [06:58<08:31,  1.03it/s]"
     ]
    },
    {
     "name": "stdout",
     "output_type": "stream",
     "text": [
      "66 (score = 0.65521)\n",
      "105 (score = 0.57692)\n",
      "153 (score = 0.56115)\n",
      "17 (score = 0.55379)\n",
      "171 (score = 0.54472)\n",
      "214 (score = 0.53666)\n",
      "106 (score = 0.53379)\n",
      "222 (score = 0.53177)\n",
      "62 (score = 0.52695)\n"
     ]
    },
    {
     "name": "stderr",
     "output_type": "stream",
     "text": [
      "\r",
      " 48%|██████████████████▌                    | 475/1000 [06:59<08:47,  1.00s/it]"
     ]
    },
    {
     "name": "stdout",
     "output_type": "stream",
     "text": [
      "66 (score = 0.67542)\n",
      "105 (score = 0.59291)\n",
      "153 (score = 0.57021)\n",
      "17 (score = 0.55993)\n",
      "171 (score = 0.54907)\n",
      "214 (score = 0.54435)\n",
      "106 (score = 0.54099)\n",
      "222 (score = 0.53722)\n",
      "62 (score = 0.53526)\n"
     ]
    },
    {
     "name": "stderr",
     "output_type": "stream",
     "text": [
      "\r",
      " 48%|██████████████████▌                    | 476/1000 [07:01<09:05,  1.04s/it]"
     ]
    },
    {
     "name": "stdout",
     "output_type": "stream",
     "text": [
      "66 (score = 0.67549)\n",
      "105 (score = 0.59611)\n",
      "153 (score = 0.57311)\n",
      "17 (score = 0.55883)\n",
      "171 (score = 0.54842)\n",
      "106 (score = 0.54486)\n",
      "214 (score = 0.54009)\n",
      "222 (score = 0.53830)\n",
      "19 (score = 0.53440)\n"
     ]
    },
    {
     "name": "stderr",
     "output_type": "stream",
     "text": [
      "\r",
      " 48%|██████████████████▌                    | 477/1000 [07:02<09:09,  1.05s/it]"
     ]
    },
    {
     "name": "stdout",
     "output_type": "stream",
     "text": [
      "66 (score = 0.63665)\n",
      "105 (score = 0.57601)\n",
      "153 (score = 0.55597)\n",
      "17 (score = 0.54382)\n",
      "171 (score = 0.53734)\n",
      "214 (score = 0.53445)\n",
      "106 (score = 0.53364)\n",
      "222 (score = 0.52645)\n",
      "176 (score = 0.52361)\n"
     ]
    },
    {
     "name": "stderr",
     "output_type": "stream",
     "text": [
      "\r",
      " 48%|██████████████████▋                    | 478/1000 [07:03<09:19,  1.07s/it]"
     ]
    },
    {
     "name": "stdout",
     "output_type": "stream",
     "text": [
      "66 (score = 0.66240)\n",
      "105 (score = 0.58884)\n",
      "153 (score = 0.56301)\n",
      "17 (score = 0.55547)\n",
      "171 (score = 0.54494)\n",
      "214 (score = 0.54305)\n",
      "106 (score = 0.53937)\n",
      "222 (score = 0.53264)\n",
      "62 (score = 0.52635)\n"
     ]
    },
    {
     "name": "stderr",
     "output_type": "stream",
     "text": [
      "\r",
      " 48%|██████████████████▋                    | 479/1000 [07:04<09:03,  1.04s/it]"
     ]
    },
    {
     "name": "stdout",
     "output_type": "stream",
     "text": [
      "66 (score = 0.64902)\n",
      "105 (score = 0.58881)\n",
      "153 (score = 0.56420)\n",
      "17 (score = 0.55272)\n",
      "106 (score = 0.54445)\n",
      "171 (score = 0.54168)\n",
      "214 (score = 0.53591)\n",
      "222 (score = 0.53246)\n",
      "138 (score = 0.53189)\n"
     ]
    },
    {
     "name": "stderr",
     "output_type": "stream",
     "text": [
      "\r",
      " 48%|██████████████████▋                    | 480/1000 [07:05<09:16,  1.07s/it]"
     ]
    },
    {
     "name": "stdout",
     "output_type": "stream",
     "text": [
      "66 (score = 0.64242)\n",
      "105 (score = 0.57805)\n",
      "153 (score = 0.55745)\n",
      "17 (score = 0.54854)\n",
      "171 (score = 0.54020)\n",
      "214 (score = 0.53543)\n",
      "106 (score = 0.53020)\n",
      "222 (score = 0.52990)\n",
      "138 (score = 0.52469)\n"
     ]
    },
    {
     "name": "stderr",
     "output_type": "stream",
     "text": [
      "\r",
      " 48%|██████████████████▊                    | 481/1000 [07:06<08:48,  1.02s/it]"
     ]
    },
    {
     "name": "stdout",
     "output_type": "stream",
     "text": [
      "66 (score = 0.67525)\n",
      "105 (score = 0.60321)\n",
      "153 (score = 0.57302)\n",
      "17 (score = 0.56216)\n",
      "171 (score = 0.54969)\n",
      "214 (score = 0.54828)\n",
      "106 (score = 0.54347)\n",
      "138 (score = 0.53613)\n",
      "222 (score = 0.53078)\n"
     ]
    },
    {
     "name": "stderr",
     "output_type": "stream",
     "text": [
      "\r",
      " 48%|██████████████████▊                    | 482/1000 [07:07<08:31,  1.01it/s]"
     ]
    },
    {
     "name": "stdout",
     "output_type": "stream",
     "text": [
      "66 (score = 0.64606)\n",
      "105 (score = 0.59166)\n",
      "153 (score = 0.56349)\n",
      "17 (score = 0.55146)\n",
      "106 (score = 0.53946)\n",
      "171 (score = 0.53677)\n",
      "214 (score = 0.53558)\n",
      "222 (score = 0.53106)\n",
      "138 (score = 0.52891)\n"
     ]
    },
    {
     "name": "stderr",
     "output_type": "stream",
     "text": [
      "\r",
      " 48%|██████████████████▊                    | 483/1000 [07:08<07:59,  1.08it/s]"
     ]
    },
    {
     "name": "stdout",
     "output_type": "stream",
     "text": [
      "66 (score = 0.72427)\n",
      "105 (score = 0.62684)\n",
      "153 (score = 0.60568)\n",
      "17 (score = 0.58139)\n",
      "171 (score = 0.56826)\n",
      "106 (score = 0.55902)\n",
      "214 (score = 0.55343)\n",
      "222 (score = 0.54914)\n",
      "19 (score = 0.54388)\n"
     ]
    },
    {
     "name": "stderr",
     "output_type": "stream",
     "text": [
      "\r",
      " 48%|██████████████████▉                    | 484/1000 [07:08<07:52,  1.09it/s]"
     ]
    },
    {
     "name": "stdout",
     "output_type": "stream",
     "text": [
      "66 (score = 0.68021)\n",
      "105 (score = 0.60257)\n",
      "153 (score = 0.57449)\n",
      "17 (score = 0.56460)\n",
      "171 (score = 0.54960)\n",
      "214 (score = 0.54786)\n",
      "222 (score = 0.54004)\n",
      "106 (score = 0.53979)\n",
      "62 (score = 0.53264)\n"
     ]
    },
    {
     "name": "stderr",
     "output_type": "stream",
     "text": [
      "\r",
      " 48%|██████████████████▉                    | 485/1000 [07:09<07:42,  1.11it/s]"
     ]
    },
    {
     "name": "stdout",
     "output_type": "stream",
     "text": [
      "66 (score = 0.65752)\n",
      "105 (score = 0.59373)\n",
      "153 (score = 0.56724)\n",
      "17 (score = 0.55392)\n",
      "171 (score = 0.54758)\n",
      "106 (score = 0.54502)\n",
      "214 (score = 0.53698)\n",
      "222 (score = 0.53628)\n",
      "138 (score = 0.53449)\n"
     ]
    },
    {
     "name": "stderr",
     "output_type": "stream",
     "text": [
      "\r",
      " 49%|██████████████████▉                    | 486/1000 [07:10<07:29,  1.14it/s]"
     ]
    },
    {
     "name": "stdout",
     "output_type": "stream",
     "text": [
      "66 (score = 0.62973)\n",
      "105 (score = 0.56468)\n",
      "153 (score = 0.54852)\n",
      "17 (score = 0.54842)\n",
      "171 (score = 0.53978)\n",
      "214 (score = 0.52737)\n",
      "106 (score = 0.52677)\n",
      "222 (score = 0.52477)\n",
      "62 (score = 0.52458)\n"
     ]
    },
    {
     "name": "stderr",
     "output_type": "stream",
     "text": [
      "\r",
      " 49%|██████████████████▉                    | 487/1000 [07:11<07:13,  1.18it/s]"
     ]
    },
    {
     "name": "stdout",
     "output_type": "stream",
     "text": [
      "66 (score = 0.59843)\n",
      "105 (score = 0.54771)\n",
      "153 (score = 0.53824)\n",
      "17 (score = 0.53410)\n",
      "171 (score = 0.52876)\n",
      "62 (score = 0.52131)\n",
      "214 (score = 0.52001)\n",
      "222 (score = 0.51974)\n",
      "106 (score = 0.51848)\n"
     ]
    },
    {
     "name": "stderr",
     "output_type": "stream",
     "text": [
      "\r",
      " 49%|███████████████████                    | 488/1000 [07:12<07:01,  1.22it/s]"
     ]
    },
    {
     "name": "stdout",
     "output_type": "stream",
     "text": [
      "66 (score = 0.71584)\n",
      "105 (score = 0.62620)\n",
      "153 (score = 0.59212)\n",
      "17 (score = 0.58100)\n",
      "171 (score = 0.56352)\n",
      "106 (score = 0.55694)\n",
      "214 (score = 0.55354)\n",
      "222 (score = 0.54312)\n",
      "138 (score = 0.54100)\n"
     ]
    },
    {
     "name": "stderr",
     "output_type": "stream",
     "text": [
      "\r",
      " 49%|███████████████████                    | 489/1000 [07:13<07:25,  1.15it/s]"
     ]
    },
    {
     "name": "stdout",
     "output_type": "stream",
     "text": [
      "66 (score = 0.70776)\n",
      "105 (score = 0.62143)\n",
      "153 (score = 0.59525)\n",
      "17 (score = 0.57742)\n",
      "171 (score = 0.56287)\n",
      "106 (score = 0.55791)\n",
      "214 (score = 0.55243)\n",
      "138 (score = 0.54297)\n",
      "222 (score = 0.54203)\n"
     ]
    },
    {
     "name": "stderr",
     "output_type": "stream",
     "text": [
      "\r",
      " 49%|███████████████████                    | 490/1000 [07:14<07:54,  1.08it/s]"
     ]
    },
    {
     "name": "stdout",
     "output_type": "stream",
     "text": [
      "66 (score = 0.64156)\n",
      "105 (score = 0.57673)\n",
      "153 (score = 0.55541)\n",
      "17 (score = 0.54452)\n",
      "171 (score = 0.54363)\n",
      "214 (score = 0.53924)\n",
      "106 (score = 0.53479)\n",
      "222 (score = 0.52973)\n",
      "176 (score = 0.52396)\n"
     ]
    },
    {
     "name": "stderr",
     "output_type": "stream",
     "text": [
      "\r",
      " 49%|███████████████████▏                   | 491/1000 [07:15<07:42,  1.10it/s]"
     ]
    },
    {
     "name": "stdout",
     "output_type": "stream",
     "text": [
      "66 (score = 0.61711)\n",
      "105 (score = 0.56140)\n",
      "153 (score = 0.54186)\n",
      "17 (score = 0.54079)\n",
      "171 (score = 0.53641)\n",
      "214 (score = 0.53166)\n",
      "106 (score = 0.53005)\n",
      "222 (score = 0.52208)\n",
      "176 (score = 0.52020)\n"
     ]
    },
    {
     "name": "stderr",
     "output_type": "stream",
     "text": [
      "\r",
      " 49%|███████████████████▏                   | 492/1000 [07:15<07:48,  1.09it/s]"
     ]
    },
    {
     "name": "stdout",
     "output_type": "stream",
     "text": [
      "66 (score = 0.62781)\n",
      "105 (score = 0.56651)\n",
      "153 (score = 0.54845)\n",
      "17 (score = 0.54820)\n",
      "171 (score = 0.53865)\n",
      "214 (score = 0.53042)\n",
      "106 (score = 0.53028)\n",
      "222 (score = 0.52559)\n",
      "62 (score = 0.52139)\n"
     ]
    },
    {
     "name": "stderr",
     "output_type": "stream",
     "text": [
      "\r",
      " 49%|███████████████████▏                   | 493/1000 [07:16<08:01,  1.05it/s]"
     ]
    },
    {
     "name": "stdout",
     "output_type": "stream",
     "text": [
      "66 (score = 0.66157)\n",
      "105 (score = 0.58726)\n",
      "153 (score = 0.56630)\n",
      "17 (score = 0.55436)\n",
      "171 (score = 0.54465)\n",
      "106 (score = 0.54033)\n",
      "214 (score = 0.54022)\n",
      "222 (score = 0.53230)\n",
      "138 (score = 0.52779)\n"
     ]
    },
    {
     "name": "stderr",
     "output_type": "stream",
     "text": [
      "\r",
      " 49%|███████████████████▎                   | 494/1000 [07:17<07:54,  1.07it/s]"
     ]
    },
    {
     "name": "stdout",
     "output_type": "stream",
     "text": [
      "66 (score = 0.69631)\n",
      "105 (score = 0.60553)\n",
      "153 (score = 0.57957)\n",
      "17 (score = 0.56974)\n",
      "171 (score = 0.56203)\n",
      "214 (score = 0.55011)\n",
      "106 (score = 0.54560)\n",
      "222 (score = 0.54223)\n",
      "138 (score = 0.53644)\n"
     ]
    },
    {
     "name": "stderr",
     "output_type": "stream",
     "text": [
      "\r",
      " 50%|███████████████████▎                   | 495/1000 [07:18<07:34,  1.11it/s]"
     ]
    },
    {
     "name": "stdout",
     "output_type": "stream",
     "text": [
      "66 (score = 0.62968)\n",
      "105 (score = 0.56569)\n",
      "153 (score = 0.55161)\n",
      "171 (score = 0.53935)\n",
      "17 (score = 0.53888)\n",
      "106 (score = 0.53105)\n",
      "222 (score = 0.52779)\n",
      "214 (score = 0.52647)\n",
      "138 (score = 0.52582)\n"
     ]
    },
    {
     "name": "stderr",
     "output_type": "stream",
     "text": [
      "\r",
      " 50%|███████████████████▎                   | 496/1000 [07:19<07:17,  1.15it/s]"
     ]
    },
    {
     "name": "stdout",
     "output_type": "stream",
     "text": [
      "66 (score = 0.68774)\n",
      "105 (score = 0.60033)\n",
      "153 (score = 0.57493)\n",
      "17 (score = 0.56532)\n",
      "171 (score = 0.55855)\n",
      "214 (score = 0.54656)\n",
      "106 (score = 0.54240)\n",
      "222 (score = 0.53811)\n",
      "138 (score = 0.53751)\n"
     ]
    },
    {
     "name": "stderr",
     "output_type": "stream",
     "text": [
      "\r",
      " 50%|███████████████████▍                   | 497/1000 [07:20<07:24,  1.13it/s]"
     ]
    },
    {
     "name": "stdout",
     "output_type": "stream",
     "text": [
      "66 (score = 0.69804)\n",
      "105 (score = 0.61104)\n",
      "153 (score = 0.59109)\n",
      "17 (score = 0.56820)\n",
      "171 (score = 0.55968)\n",
      "106 (score = 0.55659)\n",
      "138 (score = 0.54114)\n",
      "222 (score = 0.54103)\n",
      "214 (score = 0.54084)\n"
     ]
    },
    {
     "name": "stderr",
     "output_type": "stream",
     "text": [
      "\r",
      " 50%|███████████████████▍                   | 498/1000 [07:21<07:03,  1.18it/s]"
     ]
    },
    {
     "name": "stdout",
     "output_type": "stream",
     "text": [
      "66 (score = 0.69608)\n",
      "105 (score = 0.60770)\n",
      "153 (score = 0.58285)\n",
      "17 (score = 0.56559)\n",
      "171 (score = 0.55247)\n",
      "214 (score = 0.55013)\n",
      "106 (score = 0.54891)\n",
      "138 (score = 0.54120)\n",
      "62 (score = 0.54071)\n"
     ]
    },
    {
     "name": "stderr",
     "output_type": "stream",
     "text": [
      "\r",
      " 50%|███████████████████▍                   | 499/1000 [07:22<07:10,  1.16it/s]"
     ]
    },
    {
     "name": "stdout",
     "output_type": "stream",
     "text": [
      "66 (score = 0.69043)\n",
      "105 (score = 0.60975)\n",
      "153 (score = 0.58625)\n",
      "17 (score = 0.56573)\n",
      "106 (score = 0.55947)\n",
      "171 (score = 0.55132)\n",
      "214 (score = 0.54308)\n",
      "222 (score = 0.53943)\n",
      "138 (score = 0.53785)\n"
     ]
    },
    {
     "name": "stderr",
     "output_type": "stream",
     "text": [
      "\r",
      " 50%|███████████████████▌                   | 500/1000 [07:22<07:06,  1.17it/s]"
     ]
    },
    {
     "name": "stdout",
     "output_type": "stream",
     "text": [
      "66 (score = 0.70654)\n",
      "105 (score = 0.62345)\n",
      "153 (score = 0.59206)\n",
      "17 (score = 0.57145)\n",
      "106 (score = 0.55941)\n",
      "171 (score = 0.55492)\n",
      "214 (score = 0.55224)\n",
      "138 (score = 0.54368)\n",
      "222 (score = 0.54068)\n"
     ]
    },
    {
     "name": "stderr",
     "output_type": "stream",
     "text": [
      "\r",
      " 50%|███████████████████▌                   | 501/1000 [07:23<07:11,  1.16it/s]"
     ]
    },
    {
     "name": "stdout",
     "output_type": "stream",
     "text": [
      "66 (score = 0.61485)\n",
      "105 (score = 0.55900)\n",
      "153 (score = 0.54189)\n",
      "17 (score = 0.53454)\n",
      "171 (score = 0.53228)\n",
      "106 (score = 0.52694)\n",
      "214 (score = 0.52598)\n",
      "138 (score = 0.52353)\n",
      "222 (score = 0.52292)\n"
     ]
    },
    {
     "name": "stderr",
     "output_type": "stream",
     "text": [
      "\r",
      " 50%|███████████████████▌                   | 502/1000 [07:24<06:56,  1.20it/s]"
     ]
    },
    {
     "name": "stdout",
     "output_type": "stream",
     "text": [
      "66 (score = 0.59543)\n",
      "105 (score = 0.55288)\n",
      "153 (score = 0.54231)\n",
      "106 (score = 0.53141)\n",
      "17 (score = 0.53126)\n",
      "171 (score = 0.52762)\n",
      "138 (score = 0.52214)\n",
      "214 (score = 0.52139)\n",
      "222 (score = 0.51768)\n"
     ]
    },
    {
     "name": "stderr",
     "output_type": "stream",
     "text": [
      "\r",
      " 50%|███████████████████▌                   | 503/1000 [07:25<07:02,  1.18it/s]"
     ]
    },
    {
     "name": "stdout",
     "output_type": "stream",
     "text": [
      "66 (score = 0.66352)\n",
      "105 (score = 0.58265)\n",
      "153 (score = 0.56981)\n",
      "17 (score = 0.55572)\n",
      "171 (score = 0.55090)\n",
      "214 (score = 0.53972)\n",
      "106 (score = 0.53807)\n",
      "222 (score = 0.53471)\n",
      "138 (score = 0.53157)\n"
     ]
    },
    {
     "name": "stderr",
     "output_type": "stream",
     "text": [
      "\r",
      " 50%|███████████████████▋                   | 504/1000 [07:26<07:25,  1.11it/s]"
     ]
    },
    {
     "name": "stdout",
     "output_type": "stream",
     "text": [
      "66 (score = 0.70676)\n",
      "105 (score = 0.61978)\n",
      "153 (score = 0.58954)\n",
      "17 (score = 0.56856)\n",
      "171 (score = 0.55761)\n",
      "106 (score = 0.55022)\n",
      "214 (score = 0.54944)\n",
      "222 (score = 0.54504)\n",
      "138 (score = 0.54346)\n"
     ]
    },
    {
     "name": "stderr",
     "output_type": "stream",
     "text": [
      "\r",
      " 50%|███████████████████▋                   | 505/1000 [07:27<07:05,  1.16it/s]"
     ]
    },
    {
     "name": "stdout",
     "output_type": "stream",
     "text": [
      "66 (score = 0.62685)\n",
      "105 (score = 0.56419)\n",
      "153 (score = 0.54415)\n",
      "17 (score = 0.54238)\n",
      "171 (score = 0.53617)\n",
      "214 (score = 0.53118)\n",
      "106 (score = 0.52994)\n",
      "222 (score = 0.52671)\n",
      "19 (score = 0.52192)\n"
     ]
    },
    {
     "name": "stderr",
     "output_type": "stream",
     "text": [
      "\r",
      " 51%|███████████████████▋                   | 506/1000 [07:28<07:02,  1.17it/s]"
     ]
    },
    {
     "name": "stdout",
     "output_type": "stream",
     "text": [
      "66 (score = 0.68687)\n",
      "105 (score = 0.60757)\n",
      "153 (score = 0.57863)\n",
      "17 (score = 0.56139)\n",
      "171 (score = 0.55571)\n",
      "106 (score = 0.55248)\n",
      "214 (score = 0.54467)\n",
      "222 (score = 0.54086)\n",
      "138 (score = 0.53612)\n"
     ]
    },
    {
     "name": "stderr",
     "output_type": "stream",
     "text": [
      "\r",
      " 51%|███████████████████▊                   | 507/1000 [07:29<07:16,  1.13it/s]"
     ]
    },
    {
     "name": "stdout",
     "output_type": "stream",
     "text": [
      "66 (score = 0.63095)\n",
      "105 (score = 0.57849)\n",
      "153 (score = 0.55957)\n",
      "17 (score = 0.53919)\n",
      "106 (score = 0.53891)\n",
      "171 (score = 0.53323)\n",
      "214 (score = 0.53174)\n",
      "222 (score = 0.52789)\n",
      "138 (score = 0.52649)\n"
     ]
    },
    {
     "name": "stderr",
     "output_type": "stream",
     "text": [
      "\r",
      " 51%|███████████████████▊                   | 508/1000 [07:29<06:58,  1.18it/s]"
     ]
    },
    {
     "name": "stdout",
     "output_type": "stream",
     "text": [
      "66 (score = 0.68618)\n",
      "105 (score = 0.60572)\n",
      "153 (score = 0.58664)\n",
      "17 (score = 0.56045)\n",
      "171 (score = 0.55285)\n",
      "106 (score = 0.54993)\n",
      "214 (score = 0.54744)\n",
      "222 (score = 0.54266)\n",
      "138 (score = 0.53933)\n"
     ]
    },
    {
     "name": "stderr",
     "output_type": "stream",
     "text": [
      "\r",
      " 51%|███████████████████▊                   | 509/1000 [07:30<06:40,  1.23it/s]"
     ]
    },
    {
     "name": "stdout",
     "output_type": "stream",
     "text": [
      "66 (score = 0.58619)\n",
      "105 (score = 0.54519)\n",
      "153 (score = 0.53462)\n",
      "17 (score = 0.53069)\n",
      "106 (score = 0.52344)\n",
      "171 (score = 0.52309)\n",
      "214 (score = 0.51872)\n",
      "138 (score = 0.51686)\n",
      "222 (score = 0.51433)\n"
     ]
    },
    {
     "name": "stderr",
     "output_type": "stream",
     "text": [
      "\r",
      " 51%|███████████████████▉                   | 510/1000 [07:31<06:24,  1.27it/s]"
     ]
    },
    {
     "name": "stdout",
     "output_type": "stream",
     "text": [
      "66 (score = 0.63886)\n",
      "105 (score = 0.58283)\n",
      "153 (score = 0.55929)\n",
      "17 (score = 0.54261)\n",
      "171 (score = 0.54142)\n",
      "106 (score = 0.53992)\n",
      "214 (score = 0.53356)\n",
      "222 (score = 0.53185)\n",
      "138 (score = 0.52888)\n"
     ]
    },
    {
     "name": "stderr",
     "output_type": "stream",
     "text": [
      "\r",
      " 51%|███████████████████▉                   | 511/1000 [07:32<06:43,  1.21it/s]"
     ]
    },
    {
     "name": "stdout",
     "output_type": "stream",
     "text": [
      "66 (score = 0.66869)\n",
      "105 (score = 0.59316)\n",
      "153 (score = 0.56745)\n",
      "17 (score = 0.55952)\n",
      "171 (score = 0.55359)\n",
      "214 (score = 0.54447)\n",
      "106 (score = 0.54258)\n",
      "222 (score = 0.53668)\n",
      "138 (score = 0.53466)\n"
     ]
    },
    {
     "name": "stderr",
     "output_type": "stream",
     "text": [
      "\r",
      " 51%|███████████████████▉                   | 512/1000 [07:32<06:33,  1.24it/s]"
     ]
    },
    {
     "name": "stdout",
     "output_type": "stream",
     "text": [
      "66 (score = 0.64369)\n",
      "105 (score = 0.57609)\n",
      "153 (score = 0.55672)\n",
      "17 (score = 0.55066)\n",
      "171 (score = 0.53740)\n",
      "214 (score = 0.53731)\n",
      "106 (score = 0.53362)\n",
      "222 (score = 0.52970)\n",
      "19 (score = 0.52473)\n"
     ]
    },
    {
     "name": "stderr",
     "output_type": "stream",
     "text": [
      "\r",
      " 51%|████████████████████                   | 513/1000 [07:33<06:54,  1.17it/s]"
     ]
    },
    {
     "name": "stdout",
     "output_type": "stream",
     "text": [
      "66 (score = 0.68693)\n",
      "105 (score = 0.61048)\n",
      "153 (score = 0.57791)\n",
      "17 (score = 0.56325)\n",
      "171 (score = 0.55113)\n",
      "106 (score = 0.54891)\n",
      "214 (score = 0.54664)\n",
      "222 (score = 0.54019)\n",
      "138 (score = 0.53600)\n"
     ]
    },
    {
     "name": "stderr",
     "output_type": "stream",
     "text": [
      "\r",
      " 51%|████████████████████                   | 514/1000 [07:34<07:06,  1.14it/s]"
     ]
    },
    {
     "name": "stdout",
     "output_type": "stream",
     "text": [
      "66 (score = 0.61237)\n",
      "105 (score = 0.55409)\n",
      "153 (score = 0.53763)\n",
      "17 (score = 0.53477)\n",
      "214 (score = 0.52940)\n",
      "171 (score = 0.52748)\n",
      "106 (score = 0.52180)\n",
      "222 (score = 0.52138)\n",
      "62 (score = 0.52015)\n"
     ]
    },
    {
     "name": "stderr",
     "output_type": "stream",
     "text": [
      "\r",
      " 52%|████████████████████                   | 515/1000 [07:35<07:09,  1.13it/s]"
     ]
    },
    {
     "name": "stdout",
     "output_type": "stream",
     "text": [
      "66 (score = 0.65147)\n",
      "105 (score = 0.58586)\n",
      "153 (score = 0.56311)\n",
      "17 (score = 0.55054)\n",
      "171 (score = 0.54014)\n",
      "106 (score = 0.54011)\n",
      "214 (score = 0.53689)\n",
      "222 (score = 0.53081)\n",
      "176 (score = 0.52668)\n"
     ]
    },
    {
     "name": "stderr",
     "output_type": "stream",
     "text": [
      "\r",
      " 52%|████████████████████                   | 516/1000 [07:36<07:20,  1.10it/s]"
     ]
    },
    {
     "name": "stdout",
     "output_type": "stream",
     "text": [
      "66 (score = 0.71640)\n",
      "105 (score = 0.62690)\n",
      "153 (score = 0.59438)\n",
      "17 (score = 0.57494)\n",
      "171 (score = 0.56123)\n",
      "214 (score = 0.55781)\n",
      "106 (score = 0.55589)\n",
      "222 (score = 0.54915)\n",
      "138 (score = 0.54192)\n"
     ]
    },
    {
     "name": "stderr",
     "output_type": "stream",
     "text": [
      "\r",
      " 52%|████████████████████▏                  | 517/1000 [07:37<07:26,  1.08it/s]"
     ]
    },
    {
     "name": "stdout",
     "output_type": "stream",
     "text": [
      "66 (score = 0.66006)\n",
      "105 (score = 0.58704)\n",
      "153 (score = 0.56487)\n",
      "17 (score = 0.55416)\n",
      "171 (score = 0.54710)\n",
      "106 (score = 0.53647)\n",
      "214 (score = 0.53597)\n",
      "222 (score = 0.53188)\n",
      "176 (score = 0.52837)\n"
     ]
    },
    {
     "name": "stderr",
     "output_type": "stream",
     "text": [
      "\r",
      " 52%|████████████████████▏                  | 518/1000 [07:38<07:49,  1.03it/s]"
     ]
    },
    {
     "name": "stdout",
     "output_type": "stream",
     "text": [
      "66 (score = 0.73792)\n",
      "105 (score = 0.64507)\n",
      "153 (score = 0.60863)\n",
      "17 (score = 0.58233)\n",
      "171 (score = 0.57162)\n",
      "106 (score = 0.56548)\n",
      "214 (score = 0.56026)\n",
      "222 (score = 0.55395)\n",
      "62 (score = 0.54563)\n"
     ]
    },
    {
     "name": "stderr",
     "output_type": "stream",
     "text": [
      "\r",
      " 52%|████████████████████▏                  | 519/1000 [07:39<07:46,  1.03it/s]"
     ]
    },
    {
     "name": "stdout",
     "output_type": "stream",
     "text": [
      "66 (score = 0.64237)\n",
      "105 (score = 0.58529)\n",
      "153 (score = 0.56245)\n",
      "17 (score = 0.54820)\n",
      "106 (score = 0.54072)\n",
      "171 (score = 0.53976)\n",
      "214 (score = 0.53467)\n",
      "222 (score = 0.53174)\n",
      "138 (score = 0.52887)\n"
     ]
    },
    {
     "name": "stderr",
     "output_type": "stream",
     "text": [
      "\r",
      " 52%|████████████████████▎                  | 520/1000 [07:40<07:22,  1.09it/s]"
     ]
    },
    {
     "name": "stdout",
     "output_type": "stream",
     "text": [
      "66 (score = 0.66955)\n",
      "105 (score = 0.59757)\n",
      "153 (score = 0.56812)\n",
      "17 (score = 0.55761)\n",
      "214 (score = 0.54549)\n",
      "171 (score = 0.54422)\n",
      "106 (score = 0.53920)\n",
      "222 (score = 0.53771)\n",
      "138 (score = 0.53048)\n"
     ]
    },
    {
     "name": "stderr",
     "output_type": "stream",
     "text": [
      "\r",
      " 52%|████████████████████▎                  | 521/1000 [07:41<07:04,  1.13it/s]"
     ]
    },
    {
     "name": "stdout",
     "output_type": "stream",
     "text": [
      "66 (score = 0.68766)\n",
      "105 (score = 0.60534)\n",
      "153 (score = 0.57527)\n",
      "17 (score = 0.56577)\n",
      "171 (score = 0.56091)\n",
      "214 (score = 0.54756)\n",
      "106 (score = 0.54395)\n",
      "222 (score = 0.54269)\n",
      "138 (score = 0.53681)\n"
     ]
    },
    {
     "name": "stderr",
     "output_type": "stream",
     "text": [
      "\r",
      " 52%|████████████████████▎                  | 522/1000 [07:42<06:46,  1.18it/s]"
     ]
    },
    {
     "name": "stdout",
     "output_type": "stream",
     "text": [
      "66 (score = 0.61814)\n",
      "105 (score = 0.56825)\n",
      "153 (score = 0.54690)\n",
      "17 (score = 0.54211)\n",
      "171 (score = 0.53255)\n",
      "106 (score = 0.52987)\n",
      "214 (score = 0.52730)\n",
      "222 (score = 0.52463)\n",
      "62 (score = 0.52170)\n"
     ]
    },
    {
     "name": "stderr",
     "output_type": "stream",
     "text": [
      "\r",
      " 52%|████████████████████▍                  | 523/1000 [07:42<06:46,  1.17it/s]"
     ]
    },
    {
     "name": "stdout",
     "output_type": "stream",
     "text": [
      "66 (score = 0.71231)\n",
      "105 (score = 0.62032)\n",
      "153 (score = 0.58952)\n",
      "17 (score = 0.57725)\n",
      "171 (score = 0.55996)\n",
      "106 (score = 0.55789)\n",
      "214 (score = 0.55532)\n",
      "222 (score = 0.54609)\n",
      "138 (score = 0.53881)\n"
     ]
    },
    {
     "name": "stderr",
     "output_type": "stream",
     "text": [
      "\r",
      " 52%|████████████████████▍                  | 524/1000 [07:43<06:48,  1.16it/s]"
     ]
    },
    {
     "name": "stdout",
     "output_type": "stream",
     "text": [
      "66 (score = 0.66215)\n",
      "105 (score = 0.58644)\n",
      "153 (score = 0.56213)\n",
      "17 (score = 0.55518)\n",
      "171 (score = 0.54584)\n",
      "106 (score = 0.54055)\n",
      "214 (score = 0.53674)\n",
      "222 (score = 0.53459)\n",
      "137 (score = 0.52761)\n"
     ]
    },
    {
     "name": "stderr",
     "output_type": "stream",
     "text": [
      "\r",
      " 52%|████████████████████▍                  | 525/1000 [07:44<06:52,  1.15it/s]"
     ]
    },
    {
     "name": "stdout",
     "output_type": "stream",
     "text": [
      "66 (score = 0.65520)\n",
      "105 (score = 0.58711)\n",
      "153 (score = 0.56744)\n",
      "17 (score = 0.55504)\n",
      "214 (score = 0.53804)\n",
      "222 (score = 0.53767)\n",
      "106 (score = 0.53707)\n",
      "171 (score = 0.53692)\n",
      "19 (score = 0.52760)\n"
     ]
    },
    {
     "name": "stderr",
     "output_type": "stream",
     "text": [
      "\r",
      " 53%|████████████████████▌                  | 526/1000 [07:45<06:33,  1.20it/s]"
     ]
    },
    {
     "name": "stdout",
     "output_type": "stream",
     "text": [
      "66 (score = 0.66800)\n",
      "105 (score = 0.59435)\n",
      "153 (score = 0.56890)\n",
      "17 (score = 0.55865)\n",
      "214 (score = 0.54757)\n",
      "171 (score = 0.54592)\n",
      "106 (score = 0.54482)\n",
      "222 (score = 0.53574)\n",
      "62 (score = 0.53311)\n"
     ]
    },
    {
     "name": "stderr",
     "output_type": "stream",
     "text": [
      "\r",
      " 53%|████████████████████▌                  | 527/1000 [07:46<06:20,  1.24it/s]"
     ]
    },
    {
     "name": "stdout",
     "output_type": "stream",
     "text": [
      "66 (score = 0.69477)\n",
      "105 (score = 0.60579)\n",
      "153 (score = 0.58055)\n",
      "17 (score = 0.56839)\n",
      "171 (score = 0.55468)\n",
      "214 (score = 0.54898)\n",
      "106 (score = 0.54472)\n",
      "222 (score = 0.54299)\n",
      "138 (score = 0.53620)\n"
     ]
    },
    {
     "name": "stderr",
     "output_type": "stream",
     "text": [
      "\r",
      " 53%|████████████████████▌                  | 528/1000 [07:46<06:13,  1.26it/s]"
     ]
    },
    {
     "name": "stdout",
     "output_type": "stream",
     "text": [
      "66 (score = 0.69831)\n",
      "105 (score = 0.61338)\n",
      "153 (score = 0.58499)\n",
      "17 (score = 0.56849)\n",
      "171 (score = 0.56260)\n",
      "214 (score = 0.55259)\n",
      "106 (score = 0.55225)\n",
      "138 (score = 0.53759)\n",
      "222 (score = 0.53754)\n"
     ]
    },
    {
     "name": "stderr",
     "output_type": "stream",
     "text": [
      "\r",
      " 53%|████████████████████▋                  | 529/1000 [07:47<06:20,  1.24it/s]"
     ]
    },
    {
     "name": "stdout",
     "output_type": "stream",
     "text": [
      "66 (score = 0.65562)\n",
      "105 (score = 0.58784)\n",
      "153 (score = 0.56486)\n",
      "17 (score = 0.55712)\n",
      "214 (score = 0.54433)\n",
      "106 (score = 0.54340)\n",
      "171 (score = 0.54190)\n",
      "222 (score = 0.53150)\n",
      "138 (score = 0.52956)\n"
     ]
    },
    {
     "name": "stderr",
     "output_type": "stream",
     "text": [
      "\r",
      " 53%|████████████████████▋                  | 530/1000 [07:48<06:26,  1.22it/s]"
     ]
    },
    {
     "name": "stdout",
     "output_type": "stream",
     "text": [
      "66 (score = 0.65999)\n",
      "105 (score = 0.58087)\n",
      "153 (score = 0.55781)\n",
      "17 (score = 0.55338)\n",
      "171 (score = 0.54373)\n",
      "214 (score = 0.53912)\n",
      "106 (score = 0.53649)\n",
      "222 (score = 0.53403)\n",
      "19 (score = 0.52852)\n"
     ]
    },
    {
     "name": "stderr",
     "output_type": "stream",
     "text": [
      "\r",
      " 53%|████████████████████▋                  | 531/1000 [07:49<06:19,  1.24it/s]"
     ]
    },
    {
     "name": "stdout",
     "output_type": "stream",
     "text": [
      "66 (score = 0.64881)\n",
      "105 (score = 0.58564)\n",
      "153 (score = 0.57151)\n",
      "17 (score = 0.54684)\n",
      "106 (score = 0.54586)\n",
      "171 (score = 0.54180)\n",
      "214 (score = 0.53615)\n",
      "138 (score = 0.53244)\n",
      "222 (score = 0.53149)\n"
     ]
    },
    {
     "name": "stderr",
     "output_type": "stream",
     "text": [
      "\r",
      " 53%|████████████████████▋                  | 532/1000 [07:50<06:23,  1.22it/s]"
     ]
    },
    {
     "name": "stdout",
     "output_type": "stream",
     "text": [
      "66 (score = 0.70499)\n",
      "105 (score = 0.61413)\n",
      "153 (score = 0.58830)\n",
      "17 (score = 0.57549)\n",
      "171 (score = 0.56524)\n",
      "214 (score = 0.54998)\n",
      "106 (score = 0.54682)\n",
      "222 (score = 0.54413)\n",
      "138 (score = 0.53762)\n"
     ]
    },
    {
     "name": "stderr",
     "output_type": "stream",
     "text": [
      "\r",
      " 53%|████████████████████▊                  | 533/1000 [07:51<06:17,  1.24it/s]"
     ]
    },
    {
     "name": "stdout",
     "output_type": "stream",
     "text": [
      "66 (score = 0.64965)\n",
      "105 (score = 0.58215)\n",
      "153 (score = 0.56115)\n",
      "17 (score = 0.54563)\n",
      "171 (score = 0.53826)\n",
      "214 (score = 0.53619)\n",
      "62 (score = 0.53336)\n",
      "222 (score = 0.53296)\n",
      "106 (score = 0.53171)\n"
     ]
    },
    {
     "name": "stderr",
     "output_type": "stream",
     "text": [
      "\r",
      " 53%|████████████████████▊                  | 534/1000 [07:51<06:23,  1.22it/s]"
     ]
    },
    {
     "name": "stdout",
     "output_type": "stream",
     "text": [
      "66 (score = 0.65814)\n",
      "105 (score = 0.59504)\n",
      "153 (score = 0.57062)\n",
      "17 (score = 0.55155)\n",
      "106 (score = 0.55001)\n",
      "171 (score = 0.54329)\n",
      "214 (score = 0.54320)\n",
      "138 (score = 0.53420)\n",
      "222 (score = 0.53392)\n"
     ]
    },
    {
     "name": "stderr",
     "output_type": "stream",
     "text": [
      "\r",
      " 54%|████████████████████▊                  | 535/1000 [07:52<06:19,  1.23it/s]"
     ]
    },
    {
     "name": "stdout",
     "output_type": "stream",
     "text": [
      "66 (score = 0.67492)\n",
      "105 (score = 0.59144)\n",
      "153 (score = 0.57094)\n",
      "17 (score = 0.55547)\n",
      "171 (score = 0.54810)\n",
      "214 (score = 0.54413)\n",
      "106 (score = 0.54063)\n",
      "222 (score = 0.53595)\n",
      "19 (score = 0.53259)\n"
     ]
    },
    {
     "name": "stderr",
     "output_type": "stream",
     "text": [
      "\r",
      " 54%|████████████████████▉                  | 536/1000 [07:53<06:24,  1.21it/s]"
     ]
    },
    {
     "name": "stdout",
     "output_type": "stream",
     "text": [
      "66 (score = 0.67659)\n",
      "105 (score = 0.60358)\n",
      "153 (score = 0.57589)\n",
      "17 (score = 0.56215)\n",
      "171 (score = 0.55045)\n",
      "106 (score = 0.54913)\n",
      "214 (score = 0.54270)\n",
      "222 (score = 0.53809)\n",
      "138 (score = 0.53645)\n"
     ]
    },
    {
     "name": "stderr",
     "output_type": "stream",
     "text": [
      "\r",
      " 54%|████████████████████▉                  | 537/1000 [07:54<06:17,  1.23it/s]"
     ]
    },
    {
     "name": "stdout",
     "output_type": "stream",
     "text": [
      "66 (score = 0.61628)\n",
      "105 (score = 0.56558)\n",
      "153 (score = 0.54955)\n",
      "17 (score = 0.53964)\n",
      "106 (score = 0.53021)\n",
      "171 (score = 0.52992)\n",
      "214 (score = 0.52564)\n",
      "138 (score = 0.52214)\n",
      "222 (score = 0.52181)\n"
     ]
    },
    {
     "name": "stderr",
     "output_type": "stream",
     "text": [
      "\r",
      " 54%|████████████████████▉                  | 538/1000 [07:55<06:13,  1.24it/s]"
     ]
    },
    {
     "name": "stdout",
     "output_type": "stream",
     "text": [
      "66 (score = 0.66198)\n",
      "105 (score = 0.58580)\n",
      "153 (score = 0.56205)\n",
      "17 (score = 0.55587)\n",
      "171 (score = 0.54541)\n",
      "106 (score = 0.53914)\n",
      "214 (score = 0.53905)\n",
      "222 (score = 0.53106)\n",
      "138 (score = 0.52718)\n"
     ]
    },
    {
     "name": "stderr",
     "output_type": "stream",
     "text": [
      "\r",
      " 54%|█████████████████████                  | 539/1000 [07:55<06:16,  1.22it/s]"
     ]
    },
    {
     "name": "stdout",
     "output_type": "stream",
     "text": [
      "66 (score = 0.60882)\n",
      "105 (score = 0.55604)\n",
      "153 (score = 0.54719)\n",
      "17 (score = 0.53852)\n",
      "171 (score = 0.53080)\n",
      "106 (score = 0.52852)\n",
      "214 (score = 0.52491)\n",
      "222 (score = 0.52343)\n",
      "138 (score = 0.52125)\n"
     ]
    },
    {
     "name": "stderr",
     "output_type": "stream",
     "text": [
      "\r",
      " 54%|█████████████████████                  | 540/1000 [07:56<06:19,  1.21it/s]"
     ]
    },
    {
     "name": "stdout",
     "output_type": "stream",
     "text": [
      "66 (score = 0.67189)\n",
      "105 (score = 0.59387)\n",
      "153 (score = 0.57230)\n",
      "17 (score = 0.55355)\n",
      "171 (score = 0.54886)\n",
      "214 (score = 0.54072)\n",
      "106 (score = 0.54022)\n",
      "138 (score = 0.53971)\n",
      "222 (score = 0.53845)\n"
     ]
    },
    {
     "name": "stderr",
     "output_type": "stream",
     "text": [
      "\r",
      " 54%|█████████████████████                  | 541/1000 [07:57<06:21,  1.20it/s]"
     ]
    },
    {
     "name": "stdout",
     "output_type": "stream",
     "text": [
      "66 (score = 0.65419)\n",
      "105 (score = 0.58271)\n",
      "153 (score = 0.55961)\n",
      "17 (score = 0.55263)\n",
      "171 (score = 0.54282)\n",
      "214 (score = 0.53722)\n",
      "106 (score = 0.53570)\n",
      "222 (score = 0.53262)\n",
      "62 (score = 0.52805)\n"
     ]
    },
    {
     "name": "stderr",
     "output_type": "stream",
     "text": [
      "\r",
      " 54%|█████████████████████▏                 | 542/1000 [07:58<06:13,  1.23it/s]"
     ]
    },
    {
     "name": "stdout",
     "output_type": "stream",
     "text": [
      "66 (score = 0.65390)\n",
      "105 (score = 0.58367)\n",
      "153 (score = 0.56371)\n",
      "17 (score = 0.55288)\n",
      "171 (score = 0.54664)\n",
      "214 (score = 0.53825)\n",
      "106 (score = 0.53755)\n",
      "222 (score = 0.53222)\n",
      "138 (score = 0.52859)\n"
     ]
    },
    {
     "name": "stderr",
     "output_type": "stream",
     "text": [
      "\r",
      " 54%|█████████████████████▏                 | 543/1000 [07:59<06:06,  1.25it/s]"
     ]
    },
    {
     "name": "stdout",
     "output_type": "stream",
     "text": [
      "66 (score = 0.64831)\n",
      "105 (score = 0.58697)\n",
      "153 (score = 0.56457)\n",
      "17 (score = 0.55066)\n",
      "171 (score = 0.54158)\n",
      "214 (score = 0.53826)\n",
      "106 (score = 0.53424)\n",
      "222 (score = 0.53224)\n",
      "62 (score = 0.52704)\n"
     ]
    },
    {
     "name": "stderr",
     "output_type": "stream",
     "text": [
      "\r",
      " 54%|█████████████████████▏                 | 544/1000 [08:00<06:06,  1.24it/s]"
     ]
    },
    {
     "name": "stdout",
     "output_type": "stream",
     "text": [
      "66 (score = 0.63716)\n",
      "105 (score = 0.57309)\n",
      "153 (score = 0.55430)\n",
      "17 (score = 0.54846)\n",
      "171 (score = 0.53800)\n",
      "106 (score = 0.53430)\n",
      "214 (score = 0.53170)\n",
      "222 (score = 0.53137)\n",
      "19 (score = 0.52441)\n"
     ]
    },
    {
     "name": "stderr",
     "output_type": "stream",
     "text": [
      "\r",
      " 55%|█████████████████████▎                 | 545/1000 [08:00<06:13,  1.22it/s]"
     ]
    },
    {
     "name": "stdout",
     "output_type": "stream",
     "text": [
      "66 (score = 0.65427)\n",
      "105 (score = 0.59473)\n",
      "153 (score = 0.56735)\n",
      "17 (score = 0.55084)\n",
      "214 (score = 0.53916)\n",
      "171 (score = 0.53914)\n",
      "106 (score = 0.53862)\n",
      "222 (score = 0.53560)\n",
      "138 (score = 0.53429)\n"
     ]
    },
    {
     "name": "stderr",
     "output_type": "stream",
     "text": [
      "\r",
      " 55%|█████████████████████▎                 | 546/1000 [08:01<06:10,  1.22it/s]"
     ]
    },
    {
     "name": "stdout",
     "output_type": "stream",
     "text": [
      "66 (score = 0.62443)\n",
      "105 (score = 0.56960)\n",
      "153 (score = 0.54890)\n",
      "17 (score = 0.54295)\n",
      "171 (score = 0.53559)\n",
      "214 (score = 0.52933)\n",
      "106 (score = 0.52774)\n",
      "222 (score = 0.52498)\n",
      "138 (score = 0.52183)\n"
     ]
    },
    {
     "name": "stderr",
     "output_type": "stream",
     "text": [
      "\r",
      " 55%|█████████████████████▎                 | 547/1000 [08:02<06:01,  1.25it/s]"
     ]
    },
    {
     "name": "stdout",
     "output_type": "stream",
     "text": [
      "66 (score = 0.69065)\n",
      "105 (score = 0.61442)\n",
      "153 (score = 0.58290)\n",
      "17 (score = 0.56474)\n",
      "106 (score = 0.55235)\n",
      "171 (score = 0.55111)\n",
      "214 (score = 0.55050)\n",
      "222 (score = 0.54342)\n",
      "138 (score = 0.53762)\n"
     ]
    },
    {
     "name": "stderr",
     "output_type": "stream",
     "text": [
      "\r",
      " 55%|█████████████████████▎                 | 548/1000 [08:03<05:52,  1.28it/s]"
     ]
    },
    {
     "name": "stdout",
     "output_type": "stream",
     "text": [
      "66 (score = 0.71939)\n",
      "105 (score = 0.63260)\n",
      "153 (score = 0.59781)\n",
      "17 (score = 0.57625)\n",
      "171 (score = 0.56250)\n",
      "214 (score = 0.55740)\n",
      "106 (score = 0.55511)\n",
      "222 (score = 0.55051)\n",
      "138 (score = 0.54487)\n"
     ]
    },
    {
     "name": "stderr",
     "output_type": "stream",
     "text": [
      "\r",
      " 55%|█████████████████████▍                 | 549/1000 [08:04<06:01,  1.25it/s]"
     ]
    },
    {
     "name": "stdout",
     "output_type": "stream",
     "text": [
      "66 (score = 0.65000)\n",
      "105 (score = 0.57675)\n",
      "153 (score = 0.55548)\n",
      "17 (score = 0.54737)\n",
      "171 (score = 0.54204)\n",
      "214 (score = 0.53965)\n",
      "106 (score = 0.53355)\n",
      "222 (score = 0.53066)\n",
      "19 (score = 0.52664)\n"
     ]
    },
    {
     "name": "stderr",
     "output_type": "stream",
     "text": [
      "\r",
      " 55%|█████████████████████▍                 | 550/1000 [08:04<06:07,  1.23it/s]"
     ]
    },
    {
     "name": "stdout",
     "output_type": "stream",
     "text": [
      "66 (score = 0.72900)\n",
      "105 (score = 0.63404)\n",
      "153 (score = 0.60086)\n",
      "17 (score = 0.58239)\n",
      "171 (score = 0.56746)\n",
      "106 (score = 0.55819)\n",
      "214 (score = 0.55397)\n",
      "138 (score = 0.54660)\n",
      "222 (score = 0.54537)\n"
     ]
    },
    {
     "name": "stderr",
     "output_type": "stream",
     "text": [
      "\r",
      " 55%|█████████████████████▍                 | 551/1000 [08:05<06:05,  1.23it/s]"
     ]
    },
    {
     "name": "stdout",
     "output_type": "stream",
     "text": [
      "66 (score = 0.65303)\n",
      "105 (score = 0.57651)\n",
      "153 (score = 0.55659)\n",
      "17 (score = 0.55249)\n",
      "171 (score = 0.54347)\n",
      "214 (score = 0.53801)\n",
      "106 (score = 0.53637)\n",
      "19 (score = 0.52979)\n",
      "222 (score = 0.52950)\n"
     ]
    },
    {
     "name": "stderr",
     "output_type": "stream",
     "text": [
      "\r",
      " 55%|█████████████████████▌                 | 552/1000 [08:06<06:01,  1.24it/s]"
     ]
    },
    {
     "name": "stdout",
     "output_type": "stream",
     "text": [
      "66 (score = 0.66603)\n",
      "105 (score = 0.59330)\n",
      "153 (score = 0.56981)\n",
      "17 (score = 0.55465)\n",
      "106 (score = 0.54534)\n",
      "171 (score = 0.54435)\n",
      "214 (score = 0.54283)\n",
      "138 (score = 0.53133)\n",
      "222 (score = 0.53035)\n"
     ]
    },
    {
     "name": "stderr",
     "output_type": "stream",
     "text": [
      "\r",
      " 55%|█████████████████████▌                 | 553/1000 [08:07<05:53,  1.26it/s]"
     ]
    },
    {
     "name": "stdout",
     "output_type": "stream",
     "text": [
      "66 (score = 0.68103)\n",
      "105 (score = 0.61469)\n",
      "153 (score = 0.58207)\n",
      "17 (score = 0.56096)\n",
      "106 (score = 0.55396)\n",
      "214 (score = 0.55049)\n",
      "171 (score = 0.54960)\n",
      "222 (score = 0.54144)\n",
      "138 (score = 0.54082)\n"
     ]
    },
    {
     "name": "stderr",
     "output_type": "stream",
     "text": [
      "\r",
      " 55%|█████████████████████▌                 | 554/1000 [08:08<05:57,  1.25it/s]"
     ]
    },
    {
     "name": "stdout",
     "output_type": "stream",
     "text": [
      "66 (score = 0.72363)\n",
      "105 (score = 0.62695)\n",
      "153 (score = 0.59673)\n",
      "17 (score = 0.57975)\n",
      "171 (score = 0.56554)\n",
      "214 (score = 0.55728)\n",
      "106 (score = 0.55439)\n",
      "222 (score = 0.54885)\n",
      "138 (score = 0.54345)\n"
     ]
    },
    {
     "name": "stderr",
     "output_type": "stream",
     "text": [
      "\r",
      " 56%|█████████████████████▋                 | 555/1000 [08:08<05:58,  1.24it/s]"
     ]
    },
    {
     "name": "stdout",
     "output_type": "stream",
     "text": [
      "66 (score = 0.66884)\n",
      "105 (score = 0.59597)\n",
      "153 (score = 0.57000)\n",
      "17 (score = 0.55928)\n",
      "171 (score = 0.55101)\n",
      "214 (score = 0.54163)\n",
      "106 (score = 0.54049)\n",
      "222 (score = 0.53547)\n",
      "138 (score = 0.52808)\n"
     ]
    },
    {
     "name": "stderr",
     "output_type": "stream",
     "text": [
      "\r",
      " 56%|█████████████████████▋                 | 556/1000 [08:09<06:00,  1.23it/s]"
     ]
    },
    {
     "name": "stdout",
     "output_type": "stream",
     "text": [
      "66 (score = 0.74006)\n",
      "105 (score = 0.64220)\n",
      "153 (score = 0.60939)\n",
      "17 (score = 0.58623)\n",
      "171 (score = 0.57035)\n",
      "106 (score = 0.56084)\n",
      "214 (score = 0.55924)\n",
      "222 (score = 0.55348)\n",
      "138 (score = 0.54545)\n"
     ]
    },
    {
     "name": "stderr",
     "output_type": "stream",
     "text": [
      "\r",
      " 56%|█████████████████████▋                 | 557/1000 [08:10<06:03,  1.22it/s]"
     ]
    },
    {
     "name": "stdout",
     "output_type": "stream",
     "text": [
      "66 (score = 0.61450)\n",
      "105 (score = 0.56127)\n",
      "17 (score = 0.54191)\n",
      "153 (score = 0.54132)\n",
      "106 (score = 0.53336)\n",
      "171 (score = 0.53083)\n",
      "214 (score = 0.52870)\n",
      "19 (score = 0.52280)\n",
      "113 (score = 0.52016)\n"
     ]
    },
    {
     "name": "stderr",
     "output_type": "stream",
     "text": [
      "\r",
      " 56%|█████████████████████▊                 | 558/1000 [08:11<06:00,  1.23it/s]"
     ]
    },
    {
     "name": "stdout",
     "output_type": "stream",
     "text": [
      "66 (score = 0.67097)\n",
      "105 (score = 0.59826)\n",
      "153 (score = 0.57478)\n",
      "17 (score = 0.55892)\n",
      "171 (score = 0.54968)\n",
      "214 (score = 0.54610)\n",
      "106 (score = 0.53569)\n",
      "222 (score = 0.53311)\n",
      "138 (score = 0.53077)\n"
     ]
    },
    {
     "name": "stderr",
     "output_type": "stream",
     "text": [
      "\r",
      " 56%|█████████████████████▊                 | 559/1000 [08:12<05:55,  1.24it/s]"
     ]
    },
    {
     "name": "stdout",
     "output_type": "stream",
     "text": [
      "66 (score = 0.64812)\n",
      "105 (score = 0.58115)\n",
      "153 (score = 0.55957)\n",
      "17 (score = 0.55125)\n",
      "171 (score = 0.54146)\n",
      "106 (score = 0.53785)\n",
      "214 (score = 0.53453)\n",
      "222 (score = 0.53304)\n",
      "62 (score = 0.52655)\n"
     ]
    },
    {
     "name": "stderr",
     "output_type": "stream",
     "text": [
      "\r",
      " 56%|█████████████████████▊                 | 560/1000 [08:12<05:59,  1.22it/s]"
     ]
    },
    {
     "name": "stdout",
     "output_type": "stream",
     "text": [
      "66 (score = 0.63818)\n",
      "105 (score = 0.58153)\n",
      "153 (score = 0.55644)\n",
      "17 (score = 0.54953)\n",
      "171 (score = 0.53917)\n",
      "106 (score = 0.53497)\n",
      "222 (score = 0.53330)\n",
      "214 (score = 0.53003)\n",
      "19 (score = 0.52488)\n"
     ]
    },
    {
     "name": "stderr",
     "output_type": "stream",
     "text": [
      "\r",
      " 56%|█████████████████████▉                 | 561/1000 [08:13<06:02,  1.21it/s]"
     ]
    },
    {
     "name": "stdout",
     "output_type": "stream",
     "text": [
      "66 (score = 0.62439)\n",
      "105 (score = 0.55850)\n",
      "153 (score = 0.54217)\n",
      "17 (score = 0.54118)\n",
      "171 (score = 0.53485)\n",
      "222 (score = 0.52926)\n",
      "214 (score = 0.52841)\n",
      "106 (score = 0.52652)\n",
      "19 (score = 0.52117)\n"
     ]
    },
    {
     "name": "stderr",
     "output_type": "stream",
     "text": [
      "\r",
      " 56%|█████████████████████▉                 | 562/1000 [08:14<06:05,  1.20it/s]"
     ]
    },
    {
     "name": "stdout",
     "output_type": "stream",
     "text": [
      "66 (score = 0.63657)\n",
      "105 (score = 0.57791)\n",
      "153 (score = 0.55983)\n",
      "17 (score = 0.54645)\n",
      "171 (score = 0.53920)\n",
      "106 (score = 0.53805)\n",
      "214 (score = 0.53725)\n",
      "222 (score = 0.52905)\n",
      "19 (score = 0.52410)\n"
     ]
    },
    {
     "name": "stderr",
     "output_type": "stream",
     "text": [
      "\r",
      " 56%|█████████████████████▉                 | 563/1000 [08:15<05:52,  1.24it/s]"
     ]
    },
    {
     "name": "stdout",
     "output_type": "stream",
     "text": [
      "66 (score = 0.66036)\n",
      "105 (score = 0.59191)\n",
      "153 (score = 0.56645)\n",
      "17 (score = 0.55404)\n",
      "171 (score = 0.54264)\n",
      "214 (score = 0.54107)\n",
      "106 (score = 0.53523)\n",
      "222 (score = 0.53371)\n",
      "138 (score = 0.52888)\n"
     ]
    },
    {
     "name": "stderr",
     "output_type": "stream",
     "text": [
      "\r",
      " 56%|█████████████████████▉                 | 564/1000 [08:16<05:50,  1.25it/s]"
     ]
    },
    {
     "name": "stdout",
     "output_type": "stream",
     "text": [
      "66 (score = 0.64420)\n",
      "105 (score = 0.57335)\n",
      "153 (score = 0.55768)\n",
      "17 (score = 0.54798)\n",
      "171 (score = 0.53892)\n",
      "214 (score = 0.53517)\n",
      "106 (score = 0.53256)\n",
      "222 (score = 0.52985)\n",
      "62 (score = 0.52436)\n"
     ]
    },
    {
     "name": "stderr",
     "output_type": "stream",
     "text": [
      "\r",
      " 56%|██████████████████████                 | 565/1000 [08:17<05:52,  1.23it/s]"
     ]
    },
    {
     "name": "stdout",
     "output_type": "stream",
     "text": [
      "66 (score = 0.70147)\n",
      "105 (score = 0.60860)\n",
      "153 (score = 0.59037)\n",
      "17 (score = 0.57097)\n",
      "106 (score = 0.55835)\n",
      "171 (score = 0.55699)\n",
      "214 (score = 0.54859)\n",
      "222 (score = 0.54688)\n",
      "138 (score = 0.54522)\n"
     ]
    },
    {
     "name": "stderr",
     "output_type": "stream",
     "text": [
      "\r",
      " 57%|██████████████████████                 | 566/1000 [08:17<05:54,  1.22it/s]"
     ]
    },
    {
     "name": "stdout",
     "output_type": "stream",
     "text": [
      "66 (score = 0.66046)\n",
      "105 (score = 0.58595)\n",
      "153 (score = 0.57073)\n",
      "17 (score = 0.55482)\n",
      "171 (score = 0.54708)\n",
      "106 (score = 0.54634)\n",
      "214 (score = 0.54237)\n",
      "138 (score = 0.53581)\n",
      "222 (score = 0.53348)\n"
     ]
    },
    {
     "name": "stderr",
     "output_type": "stream",
     "text": [
      "\r",
      " 57%|██████████████████████                 | 567/1000 [08:18<06:04,  1.19it/s]"
     ]
    },
    {
     "name": "stdout",
     "output_type": "stream",
     "text": [
      "66 (score = 0.65147)\n",
      "105 (score = 0.58217)\n",
      "153 (score = 0.56079)\n",
      "17 (score = 0.55050)\n",
      "171 (score = 0.54296)\n",
      "214 (score = 0.53585)\n",
      "106 (score = 0.53399)\n",
      "222 (score = 0.53081)\n",
      "62 (score = 0.52910)\n"
     ]
    },
    {
     "name": "stderr",
     "output_type": "stream",
     "text": [
      "\r",
      " 57%|██████████████████████▏                | 568/1000 [08:19<05:50,  1.23it/s]"
     ]
    },
    {
     "name": "stdout",
     "output_type": "stream",
     "text": [
      "66 (score = 0.63904)\n",
      "105 (score = 0.58049)\n",
      "153 (score = 0.55786)\n",
      "17 (score = 0.54760)\n",
      "171 (score = 0.54214)\n",
      "214 (score = 0.53531)\n",
      "106 (score = 0.53484)\n",
      "222 (score = 0.53289)\n",
      "138 (score = 0.52684)\n"
     ]
    },
    {
     "name": "stderr",
     "output_type": "stream",
     "text": [
      "\r",
      " 57%|██████████████████████▏                | 569/1000 [08:20<05:46,  1.24it/s]"
     ]
    },
    {
     "name": "stdout",
     "output_type": "stream",
     "text": [
      "66 (score = 0.68257)\n",
      "105 (score = 0.60403)\n",
      "153 (score = 0.57615)\n",
      "17 (score = 0.56283)\n",
      "171 (score = 0.55610)\n",
      "214 (score = 0.54822)\n",
      "106 (score = 0.54522)\n",
      "222 (score = 0.53774)\n",
      "138 (score = 0.53515)\n"
     ]
    },
    {
     "name": "stderr",
     "output_type": "stream",
     "text": [
      "\r",
      " 57%|██████████████████████▏                | 570/1000 [08:21<05:38,  1.27it/s]"
     ]
    },
    {
     "name": "stdout",
     "output_type": "stream",
     "text": [
      "66 (score = 0.62887)\n",
      "105 (score = 0.57639)\n",
      "153 (score = 0.55587)\n",
      "17 (score = 0.54518)\n",
      "106 (score = 0.53932)\n",
      "171 (score = 0.53592)\n",
      "214 (score = 0.52991)\n",
      "138 (score = 0.52846)\n",
      "222 (score = 0.52718)\n"
     ]
    },
    {
     "name": "stderr",
     "output_type": "stream",
     "text": [
      "\r",
      " 57%|██████████████████████▎                | 571/1000 [08:21<05:45,  1.24it/s]"
     ]
    },
    {
     "name": "stdout",
     "output_type": "stream",
     "text": [
      "66 (score = 0.60689)\n",
      "105 (score = 0.55213)\n",
      "17 (score = 0.53306)\n",
      "153 (score = 0.53138)\n",
      "214 (score = 0.53109)\n",
      "171 (score = 0.52712)\n",
      "106 (score = 0.52551)\n",
      "222 (score = 0.52184)\n",
      "62 (score = 0.51772)\n"
     ]
    },
    {
     "name": "stderr",
     "output_type": "stream",
     "text": [
      "\r",
      " 57%|██████████████████████▎                | 572/1000 [08:22<05:44,  1.24it/s]"
     ]
    },
    {
     "name": "stdout",
     "output_type": "stream",
     "text": [
      "66 (score = 0.64850)\n",
      "105 (score = 0.58157)\n",
      "153 (score = 0.55850)\n",
      "17 (score = 0.54828)\n",
      "214 (score = 0.53876)\n",
      "171 (score = 0.53794)\n",
      "106 (score = 0.53514)\n",
      "138 (score = 0.53233)\n",
      "222 (score = 0.53209)\n"
     ]
    },
    {
     "name": "stderr",
     "output_type": "stream",
     "text": [
      "\r",
      " 57%|██████████████████████▎                | 573/1000 [08:23<05:45,  1.24it/s]"
     ]
    },
    {
     "name": "stdout",
     "output_type": "stream",
     "text": [
      "66 (score = 0.63360)\n",
      "105 (score = 0.57280)\n",
      "153 (score = 0.55159)\n",
      "17 (score = 0.54120)\n",
      "171 (score = 0.53527)\n",
      "214 (score = 0.53452)\n",
      "106 (score = 0.53179)\n",
      "222 (score = 0.52859)\n",
      "62 (score = 0.52735)\n"
     ]
    },
    {
     "name": "stderr",
     "output_type": "stream",
     "text": [
      "\r",
      " 57%|██████████████████████▍                | 574/1000 [08:24<05:42,  1.24it/s]"
     ]
    },
    {
     "name": "stdout",
     "output_type": "stream",
     "text": [
      "66 (score = 0.65889)\n",
      "105 (score = 0.58598)\n",
      "153 (score = 0.56192)\n",
      "17 (score = 0.55245)\n",
      "171 (score = 0.54296)\n",
      "214 (score = 0.54141)\n",
      "106 (score = 0.53747)\n",
      "222 (score = 0.53292)\n",
      "176 (score = 0.52857)\n"
     ]
    },
    {
     "name": "stderr",
     "output_type": "stream",
     "text": [
      "\r",
      " 57%|██████████████████████▍                | 575/1000 [08:25<05:42,  1.24it/s]"
     ]
    },
    {
     "name": "stdout",
     "output_type": "stream",
     "text": [
      "66 (score = 0.66712)\n",
      "105 (score = 0.59723)\n",
      "153 (score = 0.57086)\n",
      "17 (score = 0.55902)\n",
      "171 (score = 0.54921)\n",
      "106 (score = 0.54129)\n",
      "214 (score = 0.54123)\n",
      "222 (score = 0.53648)\n",
      "176 (score = 0.53263)\n"
     ]
    },
    {
     "name": "stderr",
     "output_type": "stream",
     "text": [
      "\r",
      " 58%|██████████████████████▍                | 576/1000 [08:25<05:34,  1.27it/s]"
     ]
    },
    {
     "name": "stdout",
     "output_type": "stream",
     "text": [
      "66 (score = 0.68353)\n",
      "105 (score = 0.59680)\n",
      "153 (score = 0.57433)\n",
      "17 (score = 0.56579)\n",
      "171 (score = 0.54986)\n",
      "214 (score = 0.54379)\n",
      "106 (score = 0.54307)\n",
      "222 (score = 0.54070)\n",
      "138 (score = 0.53476)\n"
     ]
    },
    {
     "name": "stderr",
     "output_type": "stream",
     "text": [
      "\r",
      " 58%|██████████████████████▌                | 577/1000 [08:26<05:35,  1.26it/s]"
     ]
    },
    {
     "name": "stdout",
     "output_type": "stream",
     "text": [
      "66 (score = 0.66790)\n",
      "105 (score = 0.58854)\n",
      "153 (score = 0.56004)\n",
      "17 (score = 0.55600)\n",
      "171 (score = 0.55167)\n",
      "214 (score = 0.54169)\n",
      "106 (score = 0.53901)\n",
      "222 (score = 0.53732)\n",
      "62 (score = 0.52855)\n"
     ]
    },
    {
     "name": "stderr",
     "output_type": "stream",
     "text": [
      "\r",
      " 58%|██████████████████████▌                | 578/1000 [08:27<05:38,  1.25it/s]"
     ]
    },
    {
     "name": "stdout",
     "output_type": "stream",
     "text": [
      "66 (score = 0.69196)\n",
      "105 (score = 0.61439)\n",
      "153 (score = 0.58441)\n",
      "17 (score = 0.56312)\n",
      "171 (score = 0.55344)\n",
      "106 (score = 0.55276)\n",
      "214 (score = 0.54755)\n",
      "222 (score = 0.54501)\n",
      "138 (score = 0.53898)\n"
     ]
    },
    {
     "name": "stderr",
     "output_type": "stream",
     "text": [
      "\r",
      " 58%|██████████████████████▌                | 579/1000 [08:28<05:30,  1.27it/s]"
     ]
    },
    {
     "name": "stdout",
     "output_type": "stream",
     "text": [
      "66 (score = 0.60741)\n",
      "105 (score = 0.55610)\n",
      "153 (score = 0.53934)\n",
      "17 (score = 0.53399)\n",
      "171 (score = 0.53013)\n",
      "214 (score = 0.52905)\n",
      "106 (score = 0.52733)\n",
      "62 (score = 0.52444)\n",
      "222 (score = 0.52439)\n"
     ]
    },
    {
     "name": "stderr",
     "output_type": "stream",
     "text": [
      "\r",
      " 58%|██████████████████████▌                | 580/1000 [08:29<05:32,  1.26it/s]"
     ]
    },
    {
     "name": "stdout",
     "output_type": "stream",
     "text": [
      "66 (score = 0.65039)\n",
      "105 (score = 0.57858)\n",
      "153 (score = 0.55741)\n",
      "171 (score = 0.54758)\n",
      "17 (score = 0.54695)\n",
      "214 (score = 0.53681)\n",
      "106 (score = 0.53592)\n",
      "222 (score = 0.53304)\n",
      "138 (score = 0.52837)\n"
     ]
    },
    {
     "name": "stderr",
     "output_type": "stream",
     "text": [
      "\r",
      " 58%|██████████████████████▋                | 581/1000 [08:30<05:50,  1.20it/s]"
     ]
    },
    {
     "name": "stdout",
     "output_type": "stream",
     "text": [
      "66 (score = 0.70559)\n",
      "105 (score = 0.61383)\n",
      "153 (score = 0.58669)\n",
      "17 (score = 0.57380)\n",
      "171 (score = 0.55726)\n",
      "214 (score = 0.55085)\n",
      "106 (score = 0.54946)\n",
      "222 (score = 0.54272)\n",
      "62 (score = 0.53442)\n"
     ]
    },
    {
     "name": "stderr",
     "output_type": "stream",
     "text": [
      "\r",
      " 58%|██████████████████████▋                | 582/1000 [08:30<05:44,  1.22it/s]"
     ]
    },
    {
     "name": "stdout",
     "output_type": "stream",
     "text": [
      "66 (score = 0.67033)\n",
      "105 (score = 0.60531)\n",
      "153 (score = 0.57689)\n",
      "17 (score = 0.55904)\n",
      "106 (score = 0.55147)\n",
      "171 (score = 0.54623)\n",
      "214 (score = 0.53796)\n",
      "222 (score = 0.53673)\n",
      "138 (score = 0.53397)\n"
     ]
    },
    {
     "name": "stderr",
     "output_type": "stream",
     "text": [
      "\r",
      " 58%|██████████████████████▋                | 583/1000 [08:31<05:47,  1.20it/s]"
     ]
    },
    {
     "name": "stdout",
     "output_type": "stream",
     "text": [
      "66 (score = 0.68677)\n",
      "105 (score = 0.59884)\n",
      "153 (score = 0.57756)\n",
      "17 (score = 0.56462)\n",
      "171 (score = 0.55970)\n",
      "214 (score = 0.54748)\n",
      "106 (score = 0.54319)\n",
      "222 (score = 0.53789)\n",
      "138 (score = 0.53509)\n"
     ]
    },
    {
     "name": "stderr",
     "output_type": "stream",
     "text": [
      "\r",
      " 58%|██████████████████████▊                | 584/1000 [08:32<05:40,  1.22it/s]"
     ]
    },
    {
     "name": "stdout",
     "output_type": "stream",
     "text": [
      "66 (score = 0.64189)\n",
      "105 (score = 0.58288)\n",
      "153 (score = 0.55556)\n",
      "17 (score = 0.55083)\n",
      "171 (score = 0.53861)\n",
      "214 (score = 0.53538)\n",
      "106 (score = 0.53235)\n",
      "222 (score = 0.52754)\n",
      "138 (score = 0.52577)\n"
     ]
    },
    {
     "name": "stderr",
     "output_type": "stream",
     "text": [
      "\r",
      " 58%|██████████████████████▊                | 585/1000 [08:33<05:37,  1.23it/s]"
     ]
    },
    {
     "name": "stdout",
     "output_type": "stream",
     "text": [
      "66 (score = 0.65661)\n",
      "105 (score = 0.58435)\n",
      "153 (score = 0.56076)\n",
      "17 (score = 0.55210)\n",
      "171 (score = 0.54618)\n",
      "214 (score = 0.53949)\n",
      "106 (score = 0.53573)\n",
      "222 (score = 0.53072)\n",
      "138 (score = 0.52712)\n"
     ]
    },
    {
     "name": "stderr",
     "output_type": "stream",
     "text": [
      "\r",
      " 59%|██████████████████████▊                | 586/1000 [08:34<05:44,  1.20it/s]"
     ]
    },
    {
     "name": "stdout",
     "output_type": "stream",
     "text": [
      "66 (score = 0.74641)\n",
      "105 (score = 0.64786)\n",
      "153 (score = 0.60616)\n",
      "17 (score = 0.58809)\n",
      "171 (score = 0.57530)\n",
      "106 (score = 0.56705)\n",
      "214 (score = 0.56538)\n",
      "222 (score = 0.55404)\n",
      "138 (score = 0.54895)\n"
     ]
    },
    {
     "name": "stderr",
     "output_type": "stream",
     "text": [
      "\r",
      " 59%|██████████████████████▉                | 587/1000 [08:35<05:53,  1.17it/s]"
     ]
    },
    {
     "name": "stdout",
     "output_type": "stream",
     "text": [
      "66 (score = 0.66141)\n",
      "105 (score = 0.59495)\n",
      "153 (score = 0.56973)\n",
      "17 (score = 0.55647)\n",
      "171 (score = 0.54497)\n",
      "106 (score = 0.54404)\n",
      "214 (score = 0.54025)\n",
      "138 (score = 0.53679)\n",
      "222 (score = 0.53414)\n"
     ]
    },
    {
     "name": "stderr",
     "output_type": "stream",
     "text": [
      "\r",
      " 59%|██████████████████████▉                | 588/1000 [08:35<05:43,  1.20it/s]"
     ]
    },
    {
     "name": "stdout",
     "output_type": "stream",
     "text": [
      "66 (score = 0.67627)\n",
      "105 (score = 0.59968)\n",
      "153 (score = 0.57589)\n",
      "17 (score = 0.56068)\n",
      "171 (score = 0.54731)\n",
      "106 (score = 0.54589)\n",
      "214 (score = 0.54540)\n",
      "222 (score = 0.53716)\n",
      "138 (score = 0.53082)\n"
     ]
    },
    {
     "name": "stderr",
     "output_type": "stream",
     "text": [
      "\r",
      " 59%|██████████████████████▉                | 589/1000 [08:36<05:50,  1.17it/s]"
     ]
    },
    {
     "name": "stdout",
     "output_type": "stream",
     "text": [
      "66 (score = 0.64820)\n",
      "105 (score = 0.57235)\n",
      "153 (score = 0.55257)\n",
      "17 (score = 0.54635)\n",
      "171 (score = 0.54230)\n",
      "214 (score = 0.53821)\n",
      "106 (score = 0.53449)\n",
      "222 (score = 0.53082)\n",
      "62 (score = 0.52667)\n"
     ]
    },
    {
     "name": "stderr",
     "output_type": "stream",
     "text": [
      "\r",
      " 59%|███████████████████████                | 590/1000 [08:37<05:41,  1.20it/s]"
     ]
    },
    {
     "name": "stdout",
     "output_type": "stream",
     "text": [
      "66 (score = 0.63251)\n",
      "105 (score = 0.56951)\n",
      "153 (score = 0.55443)\n",
      "17 (score = 0.54025)\n",
      "171 (score = 0.53571)\n",
      "106 (score = 0.53238)\n",
      "214 (score = 0.53065)\n",
      "222 (score = 0.52642)\n",
      "62 (score = 0.52274)\n"
     ]
    },
    {
     "name": "stderr",
     "output_type": "stream",
     "text": [
      "\r",
      " 59%|███████████████████████                | 591/1000 [08:38<05:35,  1.22it/s]"
     ]
    },
    {
     "name": "stdout",
     "output_type": "stream",
     "text": [
      "66 (score = 0.64400)\n",
      "105 (score = 0.58056)\n",
      "153 (score = 0.56107)\n",
      "17 (score = 0.54059)\n",
      "106 (score = 0.54034)\n",
      "171 (score = 0.53958)\n",
      "214 (score = 0.53696)\n",
      "222 (score = 0.52984)\n",
      "138 (score = 0.52802)\n"
     ]
    },
    {
     "name": "stderr",
     "output_type": "stream",
     "text": [
      "\r",
      " 59%|███████████████████████                | 592/1000 [08:39<05:26,  1.25it/s]"
     ]
    },
    {
     "name": "stdout",
     "output_type": "stream",
     "text": [
      "66 (score = 0.67676)\n",
      "105 (score = 0.59342)\n",
      "153 (score = 0.56855)\n",
      "17 (score = 0.56044)\n",
      "171 (score = 0.55057)\n",
      "214 (score = 0.54108)\n",
      "106 (score = 0.53793)\n",
      "222 (score = 0.53594)\n",
      "138 (score = 0.53257)\n"
     ]
    },
    {
     "name": "stderr",
     "output_type": "stream",
     "text": [
      "\r",
      " 59%|███████████████████████▏               | 593/1000 [08:39<05:32,  1.23it/s]"
     ]
    },
    {
     "name": "stdout",
     "output_type": "stream",
     "text": [
      "66 (score = 0.69283)\n",
      "105 (score = 0.61133)\n",
      "153 (score = 0.57899)\n",
      "17 (score = 0.56531)\n",
      "171 (score = 0.55245)\n",
      "214 (score = 0.54833)\n",
      "106 (score = 0.54630)\n",
      "222 (score = 0.54398)\n",
      "138 (score = 0.53774)\n"
     ]
    },
    {
     "name": "stderr",
     "output_type": "stream",
     "text": [
      "\r",
      " 59%|███████████████████████▏               | 594/1000 [08:40<05:32,  1.22it/s]"
     ]
    },
    {
     "name": "stdout",
     "output_type": "stream",
     "text": [
      "66 (score = 0.64095)\n",
      "105 (score = 0.57489)\n",
      "153 (score = 0.55474)\n",
      "17 (score = 0.55136)\n",
      "171 (score = 0.54270)\n",
      "214 (score = 0.53586)\n",
      "106 (score = 0.53585)\n",
      "222 (score = 0.52978)\n",
      "138 (score = 0.52828)\n"
     ]
    },
    {
     "name": "stderr",
     "output_type": "stream",
     "text": [
      "\r",
      " 60%|███████████████████████▏               | 595/1000 [08:41<05:36,  1.21it/s]"
     ]
    },
    {
     "name": "stdout",
     "output_type": "stream",
     "text": [
      "66 (score = 0.64873)\n",
      "105 (score = 0.58757)\n",
      "153 (score = 0.56682)\n",
      "17 (score = 0.54810)\n",
      "106 (score = 0.54430)\n",
      "171 (score = 0.53986)\n",
      "214 (score = 0.53644)\n",
      "138 (score = 0.53217)\n",
      "222 (score = 0.53145)\n"
     ]
    },
    {
     "name": "stderr",
     "output_type": "stream",
     "text": [
      "\r",
      " 60%|███████████████████████▏               | 596/1000 [08:42<05:40,  1.19it/s]"
     ]
    },
    {
     "name": "stdout",
     "output_type": "stream",
     "text": [
      "66 (score = 0.68113)\n",
      "105 (score = 0.60795)\n",
      "153 (score = 0.57911)\n",
      "17 (score = 0.55942)\n",
      "106 (score = 0.54744)\n",
      "171 (score = 0.54624)\n",
      "214 (score = 0.54420)\n",
      "222 (score = 0.53980)\n",
      "138 (score = 0.53916)\n"
     ]
    },
    {
     "name": "stderr",
     "output_type": "stream",
     "text": [
      "\r",
      " 60%|███████████████████████▎               | 597/1000 [08:43<05:42,  1.18it/s]"
     ]
    },
    {
     "name": "stdout",
     "output_type": "stream",
     "text": [
      "66 (score = 0.72494)\n",
      "105 (score = 0.63634)\n",
      "153 (score = 0.60307)\n",
      "17 (score = 0.57998)\n",
      "106 (score = 0.56467)\n",
      "171 (score = 0.56095)\n",
      "214 (score = 0.55717)\n",
      "222 (score = 0.55172)\n",
      "138 (score = 0.54692)\n"
     ]
    },
    {
     "name": "stderr",
     "output_type": "stream",
     "text": [
      "\r",
      " 60%|███████████████████████▎               | 598/1000 [08:44<05:38,  1.19it/s]"
     ]
    },
    {
     "name": "stdout",
     "output_type": "stream",
     "text": [
      "66 (score = 0.67851)\n",
      "105 (score = 0.60363)\n",
      "153 (score = 0.57705)\n",
      "17 (score = 0.55900)\n",
      "171 (score = 0.54695)\n",
      "106 (score = 0.54444)\n",
      "214 (score = 0.54003)\n",
      "222 (score = 0.53722)\n",
      "138 (score = 0.53008)\n"
     ]
    },
    {
     "name": "stderr",
     "output_type": "stream",
     "text": [
      "\r",
      " 60%|███████████████████████▎               | 599/1000 [08:44<05:32,  1.21it/s]"
     ]
    },
    {
     "name": "stdout",
     "output_type": "stream",
     "text": [
      "66 (score = 0.68633)\n",
      "105 (score = 0.60778)\n",
      "153 (score = 0.58759)\n",
      "17 (score = 0.56007)\n",
      "106 (score = 0.55783)\n",
      "171 (score = 0.55072)\n",
      "214 (score = 0.54972)\n",
      "222 (score = 0.54175)\n",
      "138 (score = 0.53937)\n"
     ]
    },
    {
     "name": "stderr",
     "output_type": "stream",
     "text": [
      "\r",
      " 60%|███████████████████████▍               | 600/1000 [08:45<05:26,  1.22it/s]"
     ]
    },
    {
     "name": "stdout",
     "output_type": "stream",
     "text": [
      "66 (score = 0.66842)\n",
      "105 (score = 0.58815)\n",
      "153 (score = 0.56784)\n",
      "17 (score = 0.55668)\n",
      "171 (score = 0.54659)\n",
      "214 (score = 0.54203)\n",
      "106 (score = 0.53736)\n",
      "138 (score = 0.53222)\n",
      "222 (score = 0.53213)\n"
     ]
    },
    {
     "name": "stderr",
     "output_type": "stream",
     "text": [
      "\r",
      " 60%|███████████████████████▍               | 601/1000 [08:46<05:24,  1.23it/s]"
     ]
    },
    {
     "name": "stdout",
     "output_type": "stream",
     "text": [
      "66 (score = 0.64544)\n",
      "105 (score = 0.58105)\n",
      "153 (score = 0.56050)\n",
      "17 (score = 0.54376)\n",
      "171 (score = 0.54335)\n",
      "214 (score = 0.53782)\n",
      "106 (score = 0.53758)\n",
      "222 (score = 0.52739)\n",
      "138 (score = 0.52728)\n"
     ]
    },
    {
     "name": "stderr",
     "output_type": "stream",
     "text": [
      "\r",
      " 60%|███████████████████████▍               | 602/1000 [08:47<05:22,  1.23it/s]"
     ]
    },
    {
     "name": "stdout",
     "output_type": "stream",
     "text": [
      "66 (score = 0.62093)\n",
      "105 (score = 0.56741)\n",
      "153 (score = 0.55333)\n",
      "106 (score = 0.53301)\n",
      "17 (score = 0.52940)\n",
      "171 (score = 0.52880)\n",
      "214 (score = 0.52857)\n",
      "138 (score = 0.52518)\n",
      "222 (score = 0.52348)\n"
     ]
    },
    {
     "name": "stderr",
     "output_type": "stream",
     "text": [
      "\r",
      " 60%|███████████████████████▌               | 603/1000 [08:48<05:23,  1.23it/s]"
     ]
    },
    {
     "name": "stdout",
     "output_type": "stream",
     "text": [
      "66 (score = 0.72990)\n",
      "105 (score = 0.62715)\n",
      "153 (score = 0.59961)\n",
      "17 (score = 0.58267)\n",
      "171 (score = 0.56511)\n",
      "222 (score = 0.55514)\n",
      "106 (score = 0.55439)\n",
      "214 (score = 0.55024)\n",
      "62 (score = 0.54677)\n"
     ]
    },
    {
     "name": "stderr",
     "output_type": "stream",
     "text": [
      "\r",
      " 60%|███████████████████████▌               | 604/1000 [08:49<05:29,  1.20it/s]"
     ]
    },
    {
     "name": "stdout",
     "output_type": "stream",
     "text": [
      "66 (score = 0.60883)\n",
      "105 (score = 0.56345)\n",
      "153 (score = 0.55285)\n",
      "171 (score = 0.53263)\n",
      "17 (score = 0.53230)\n",
      "106 (score = 0.53133)\n",
      "214 (score = 0.52731)\n",
      "138 (score = 0.52477)\n",
      "222 (score = 0.52205)\n"
     ]
    },
    {
     "name": "stderr",
     "output_type": "stream",
     "text": [
      "\r",
      " 60%|███████████████████████▌               | 605/1000 [08:49<05:18,  1.24it/s]"
     ]
    },
    {
     "name": "stdout",
     "output_type": "stream",
     "text": [
      "66 (score = 0.64888)\n",
      "105 (score = 0.58370)\n",
      "153 (score = 0.56196)\n",
      "17 (score = 0.55021)\n",
      "171 (score = 0.54037)\n",
      "106 (score = 0.53985)\n",
      "214 (score = 0.53915)\n",
      "222 (score = 0.53110)\n",
      "138 (score = 0.52732)\n"
     ]
    },
    {
     "name": "stderr",
     "output_type": "stream",
     "text": [
      "\r",
      " 61%|███████████████████████▋               | 606/1000 [08:50<05:07,  1.28it/s]"
     ]
    },
    {
     "name": "stdout",
     "output_type": "stream",
     "text": [
      "66 (score = 0.67305)\n",
      "105 (score = 0.60803)\n",
      "153 (score = 0.57847)\n",
      "17 (score = 0.56010)\n",
      "106 (score = 0.55552)\n",
      "171 (score = 0.54443)\n",
      "214 (score = 0.54156)\n",
      "138 (score = 0.53890)\n",
      "222 (score = 0.53572)\n"
     ]
    },
    {
     "name": "stderr",
     "output_type": "stream",
     "text": [
      "\r",
      " 61%|███████████████████████▋               | 607/1000 [08:51<04:58,  1.32it/s]"
     ]
    },
    {
     "name": "stdout",
     "output_type": "stream",
     "text": [
      "66 (score = 0.62585)\n",
      "105 (score = 0.56637)\n",
      "153 (score = 0.55061)\n",
      "17 (score = 0.54433)\n",
      "171 (score = 0.53311)\n",
      "214 (score = 0.52798)\n",
      "106 (score = 0.52672)\n",
      "222 (score = 0.52323)\n",
      "62 (score = 0.52210)\n"
     ]
    },
    {
     "name": "stderr",
     "output_type": "stream",
     "text": [
      "\r",
      " 61%|███████████████████████▋               | 608/1000 [08:52<05:02,  1.30it/s]"
     ]
    },
    {
     "name": "stdout",
     "output_type": "stream",
     "text": [
      "66 (score = 0.73315)\n",
      "105 (score = 0.64089)\n",
      "153 (score = 0.60621)\n",
      "17 (score = 0.58555)\n",
      "171 (score = 0.56806)\n",
      "214 (score = 0.55795)\n",
      "106 (score = 0.55687)\n",
      "222 (score = 0.55054)\n",
      "138 (score = 0.54998)\n"
     ]
    },
    {
     "name": "stderr",
     "output_type": "stream",
     "text": [
      "\r",
      " 61%|███████████████████████▊               | 609/1000 [08:52<05:06,  1.28it/s]"
     ]
    },
    {
     "name": "stdout",
     "output_type": "stream",
     "text": [
      "66 (score = 0.66015)\n",
      "105 (score = 0.58862)\n",
      "153 (score = 0.56800)\n",
      "17 (score = 0.55271)\n",
      "171 (score = 0.54485)\n",
      "214 (score = 0.54152)\n",
      "106 (score = 0.54112)\n",
      "222 (score = 0.53098)\n",
      "138 (score = 0.52975)\n"
     ]
    },
    {
     "name": "stderr",
     "output_type": "stream",
     "text": [
      "\r",
      " 61%|███████████████████████▊               | 610/1000 [08:53<05:05,  1.28it/s]"
     ]
    },
    {
     "name": "stdout",
     "output_type": "stream",
     "text": [
      "66 (score = 0.66127)\n",
      "105 (score = 0.57963)\n",
      "153 (score = 0.56219)\n",
      "17 (score = 0.55966)\n",
      "171 (score = 0.54415)\n",
      "214 (score = 0.54036)\n",
      "106 (score = 0.53901)\n",
      "222 (score = 0.53177)\n",
      "62 (score = 0.53143)\n"
     ]
    },
    {
     "name": "stderr",
     "output_type": "stream",
     "text": [
      "\r",
      " 61%|███████████████████████▊               | 611/1000 [08:54<05:04,  1.28it/s]"
     ]
    },
    {
     "name": "stdout",
     "output_type": "stream",
     "text": [
      "66 (score = 0.65450)\n",
      "105 (score = 0.59084)\n",
      "153 (score = 0.56370)\n",
      "17 (score = 0.55297)\n",
      "106 (score = 0.54332)\n",
      "171 (score = 0.54122)\n",
      "214 (score = 0.53816)\n",
      "222 (score = 0.53473)\n",
      "138 (score = 0.53394)\n"
     ]
    },
    {
     "name": "stderr",
     "output_type": "stream",
     "text": [
      "\r",
      " 61%|███████████████████████▊               | 612/1000 [08:55<05:06,  1.27it/s]"
     ]
    },
    {
     "name": "stdout",
     "output_type": "stream",
     "text": [
      "66 (score = 0.60673)\n",
      "105 (score = 0.54998)\n",
      "153 (score = 0.53634)\n",
      "17 (score = 0.53447)\n",
      "171 (score = 0.52536)\n",
      "214 (score = 0.52502)\n",
      "106 (score = 0.52218)\n",
      "222 (score = 0.51825)\n",
      "62 (score = 0.51779)\n"
     ]
    },
    {
     "name": "stderr",
     "output_type": "stream",
     "text": [
      "\r",
      " 61%|███████████████████████▉               | 613/1000 [08:56<05:13,  1.24it/s]"
     ]
    },
    {
     "name": "stdout",
     "output_type": "stream",
     "text": [
      "66 (score = 0.61156)\n",
      "105 (score = 0.55354)\n",
      "17 (score = 0.54166)\n",
      "153 (score = 0.54040)\n",
      "171 (score = 0.53108)\n",
      "214 (score = 0.52980)\n",
      "106 (score = 0.52380)\n",
      "222 (score = 0.52329)\n",
      "19 (score = 0.52026)\n"
     ]
    },
    {
     "name": "stderr",
     "output_type": "stream",
     "text": [
      "\r",
      " 61%|███████████████████████▉               | 614/1000 [08:56<05:17,  1.21it/s]"
     ]
    },
    {
     "name": "stdout",
     "output_type": "stream",
     "text": [
      "66 (score = 0.63714)\n",
      "105 (score = 0.56891)\n",
      "153 (score = 0.54882)\n",
      "171 (score = 0.54667)\n",
      "17 (score = 0.54625)\n",
      "214 (score = 0.53538)\n",
      "106 (score = 0.53328)\n",
      "222 (score = 0.52959)\n",
      "138 (score = 0.52634)\n"
     ]
    },
    {
     "name": "stderr",
     "output_type": "stream",
     "text": [
      "\r",
      " 62%|███████████████████████▉               | 615/1000 [08:57<05:15,  1.22it/s]"
     ]
    },
    {
     "name": "stdout",
     "output_type": "stream",
     "text": [
      "66 (score = 0.67832)\n",
      "105 (score = 0.60262)\n",
      "153 (score = 0.57669)\n",
      "17 (score = 0.56154)\n",
      "171 (score = 0.55200)\n",
      "214 (score = 0.54657)\n",
      "106 (score = 0.54189)\n",
      "222 (score = 0.53636)\n",
      "138 (score = 0.53562)\n"
     ]
    },
    {
     "name": "stderr",
     "output_type": "stream",
     "text": [
      "\r",
      " 62%|████████████████████████               | 616/1000 [08:58<05:10,  1.24it/s]"
     ]
    },
    {
     "name": "stdout",
     "output_type": "stream",
     "text": [
      "66 (score = 0.63361)\n",
      "105 (score = 0.57452)\n",
      "153 (score = 0.55477)\n",
      "17 (score = 0.54826)\n",
      "171 (score = 0.53618)\n",
      "214 (score = 0.53194)\n",
      "106 (score = 0.53031)\n",
      "222 (score = 0.52861)\n",
      "176 (score = 0.52661)\n"
     ]
    },
    {
     "name": "stderr",
     "output_type": "stream",
     "text": [
      "\r",
      " 62%|████████████████████████               | 617/1000 [08:59<05:08,  1.24it/s]"
     ]
    },
    {
     "name": "stdout",
     "output_type": "stream",
     "text": [
      "66 (score = 0.73948)\n",
      "105 (score = 0.64122)\n",
      "153 (score = 0.61542)\n",
      "17 (score = 0.58937)\n",
      "171 (score = 0.57353)\n",
      "214 (score = 0.56263)\n",
      "106 (score = 0.56159)\n",
      "222 (score = 0.55686)\n",
      "138 (score = 0.54882)\n"
     ]
    },
    {
     "name": "stderr",
     "output_type": "stream",
     "text": [
      "\r",
      " 62%|████████████████████████               | 618/1000 [09:00<04:58,  1.28it/s]"
     ]
    },
    {
     "name": "stdout",
     "output_type": "stream",
     "text": [
      "66 (score = 0.70220)\n",
      "105 (score = 0.62134)\n",
      "153 (score = 0.59397)\n",
      "17 (score = 0.57258)\n",
      "106 (score = 0.56062)\n",
      "171 (score = 0.55617)\n",
      "214 (score = 0.55029)\n",
      "222 (score = 0.54350)\n",
      "138 (score = 0.54154)\n"
     ]
    },
    {
     "name": "stderr",
     "output_type": "stream",
     "text": [
      "\r",
      " 62%|████████████████████████▏              | 619/1000 [09:00<05:06,  1.24it/s]"
     ]
    },
    {
     "name": "stdout",
     "output_type": "stream",
     "text": [
      "66 (score = 0.60425)\n",
      "105 (score = 0.56512)\n",
      "153 (score = 0.54264)\n",
      "17 (score = 0.53455)\n",
      "171 (score = 0.53282)\n",
      "106 (score = 0.53129)\n",
      "214 (score = 0.52618)\n",
      "138 (score = 0.52219)\n",
      "222 (score = 0.52212)\n"
     ]
    },
    {
     "name": "stderr",
     "output_type": "stream",
     "text": [
      "\r",
      " 62%|████████████████████████▏              | 620/1000 [09:01<05:08,  1.23it/s]"
     ]
    },
    {
     "name": "stdout",
     "output_type": "stream",
     "text": [
      "66 (score = 0.70115)\n",
      "105 (score = 0.62306)\n",
      "153 (score = 0.59412)\n",
      "17 (score = 0.56831)\n",
      "106 (score = 0.56306)\n",
      "171 (score = 0.55323)\n",
      "214 (score = 0.55318)\n",
      "138 (score = 0.54620)\n",
      "222 (score = 0.54448)\n"
     ]
    },
    {
     "name": "stderr",
     "output_type": "stream",
     "text": [
      "\r",
      " 62%|████████████████████████▏              | 621/1000 [09:02<05:04,  1.24it/s]"
     ]
    },
    {
     "name": "stdout",
     "output_type": "stream",
     "text": [
      "66 (score = 0.65796)\n",
      "105 (score = 0.58328)\n",
      "153 (score = 0.56469)\n",
      "17 (score = 0.55239)\n",
      "171 (score = 0.54601)\n",
      "106 (score = 0.53915)\n",
      "214 (score = 0.53693)\n",
      "222 (score = 0.53385)\n",
      "138 (score = 0.53083)\n"
     ]
    },
    {
     "name": "stderr",
     "output_type": "stream",
     "text": [
      "\r",
      " 62%|████████████████████████▎              | 622/1000 [09:03<05:03,  1.25it/s]"
     ]
    },
    {
     "name": "stdout",
     "output_type": "stream",
     "text": [
      "66 (score = 0.64807)\n",
      "105 (score = 0.59211)\n",
      "153 (score = 0.56865)\n",
      "17 (score = 0.54742)\n",
      "106 (score = 0.54315)\n",
      "171 (score = 0.53735)\n",
      "214 (score = 0.53700)\n",
      "222 (score = 0.53233)\n",
      "138 (score = 0.52667)\n"
     ]
    },
    {
     "name": "stderr",
     "output_type": "stream",
     "text": [
      "\r",
      " 62%|████████████████████████▎              | 623/1000 [09:04<05:08,  1.22it/s]"
     ]
    },
    {
     "name": "stdout",
     "output_type": "stream",
     "text": [
      "66 (score = 0.70882)\n",
      "105 (score = 0.62022)\n",
      "153 (score = 0.59633)\n",
      "17 (score = 0.57284)\n",
      "171 (score = 0.56064)\n",
      "106 (score = 0.55273)\n",
      "214 (score = 0.55170)\n",
      "138 (score = 0.54316)\n",
      "222 (score = 0.54188)\n"
     ]
    },
    {
     "name": "stderr",
     "output_type": "stream",
     "text": [
      "\r",
      " 62%|████████████████████████▎              | 624/1000 [09:04<05:03,  1.24it/s]"
     ]
    },
    {
     "name": "stdout",
     "output_type": "stream",
     "text": [
      "66 (score = 0.67071)\n",
      "105 (score = 0.60764)\n",
      "153 (score = 0.57545)\n",
      "17 (score = 0.55707)\n",
      "106 (score = 0.55218)\n",
      "171 (score = 0.54594)\n",
      "214 (score = 0.54451)\n",
      "222 (score = 0.53747)\n",
      "138 (score = 0.53637)\n"
     ]
    },
    {
     "name": "stderr",
     "output_type": "stream",
     "text": [
      "\r",
      " 62%|████████████████████████▍              | 625/1000 [09:05<05:04,  1.23it/s]"
     ]
    },
    {
     "name": "stdout",
     "output_type": "stream",
     "text": [
      "66 (score = 0.66582)\n",
      "105 (score = 0.60082)\n",
      "153 (score = 0.57218)\n",
      "17 (score = 0.55749)\n",
      "106 (score = 0.54776)\n",
      "171 (score = 0.54529)\n",
      "214 (score = 0.54201)\n",
      "222 (score = 0.53475)\n",
      "138 (score = 0.53385)\n"
     ]
    },
    {
     "name": "stderr",
     "output_type": "stream",
     "text": [
      "\r",
      " 63%|████████████████████████▍              | 626/1000 [09:06<05:03,  1.23it/s]"
     ]
    },
    {
     "name": "stdout",
     "output_type": "stream",
     "text": [
      "66 (score = 0.70481)\n",
      "105 (score = 0.62129)\n",
      "153 (score = 0.59084)\n",
      "17 (score = 0.57105)\n",
      "171 (score = 0.55506)\n",
      "106 (score = 0.54947)\n",
      "214 (score = 0.54819)\n",
      "222 (score = 0.54096)\n",
      "62 (score = 0.53983)\n"
     ]
    },
    {
     "name": "stderr",
     "output_type": "stream",
     "text": [
      "\r",
      " 63%|████████████████████████▍              | 627/1000 [09:07<05:08,  1.21it/s]"
     ]
    },
    {
     "name": "stdout",
     "output_type": "stream",
     "text": [
      "66 (score = 0.65907)\n",
      "105 (score = 0.58008)\n",
      "153 (score = 0.55843)\n",
      "17 (score = 0.55614)\n",
      "171 (score = 0.54610)\n",
      "106 (score = 0.54011)\n",
      "214 (score = 0.53848)\n",
      "222 (score = 0.53319)\n",
      "62 (score = 0.52913)\n"
     ]
    },
    {
     "name": "stderr",
     "output_type": "stream",
     "text": [
      "\r",
      " 63%|████████████████████████▍              | 628/1000 [09:08<05:22,  1.15it/s]"
     ]
    },
    {
     "name": "stdout",
     "output_type": "stream",
     "text": [
      "66 (score = 0.65800)\n",
      "105 (score = 0.58476)\n",
      "153 (score = 0.55902)\n",
      "17 (score = 0.55108)\n",
      "171 (score = 0.54749)\n",
      "214 (score = 0.53986)\n",
      "106 (score = 0.53778)\n",
      "222 (score = 0.53300)\n",
      "138 (score = 0.52797)\n"
     ]
    },
    {
     "name": "stderr",
     "output_type": "stream",
     "text": [
      "\r",
      " 63%|████████████████████████▌              | 629/1000 [09:09<05:18,  1.17it/s]"
     ]
    },
    {
     "name": "stdout",
     "output_type": "stream",
     "text": [
      "66 (score = 0.62860)\n",
      "105 (score = 0.56539)\n",
      "153 (score = 0.54622)\n",
      "17 (score = 0.54418)\n",
      "171 (score = 0.53599)\n",
      "214 (score = 0.53081)\n",
      "222 (score = 0.52943)\n",
      "106 (score = 0.52737)\n",
      "62 (score = 0.52465)\n"
     ]
    },
    {
     "name": "stderr",
     "output_type": "stream",
     "text": [
      "\r",
      " 63%|████████████████████████▌              | 630/1000 [09:10<05:22,  1.15it/s]"
     ]
    },
    {
     "name": "stdout",
     "output_type": "stream",
     "text": [
      "66 (score = 0.63804)\n",
      "105 (score = 0.57086)\n",
      "153 (score = 0.55182)\n",
      "17 (score = 0.54608)\n",
      "171 (score = 0.54037)\n",
      "214 (score = 0.53548)\n",
      "106 (score = 0.53136)\n",
      "222 (score = 0.53029)\n",
      "138 (score = 0.52363)\n"
     ]
    },
    {
     "name": "stderr",
     "output_type": "stream",
     "text": [
      "\r",
      " 63%|████████████████████████▌              | 631/1000 [09:10<05:14,  1.17it/s]"
     ]
    },
    {
     "name": "stdout",
     "output_type": "stream",
     "text": [
      "66 (score = 0.63743)\n",
      "105 (score = 0.58158)\n",
      "153 (score = 0.55930)\n",
      "17 (score = 0.54407)\n",
      "106 (score = 0.53609)\n",
      "171 (score = 0.53545)\n",
      "214 (score = 0.53307)\n",
      "222 (score = 0.52826)\n",
      "138 (score = 0.52689)\n"
     ]
    },
    {
     "name": "stderr",
     "output_type": "stream",
     "text": [
      "\r",
      " 63%|████████████████████████▋              | 632/1000 [09:11<05:09,  1.19it/s]"
     ]
    },
    {
     "name": "stdout",
     "output_type": "stream",
     "text": [
      "66 (score = 0.64751)\n",
      "105 (score = 0.58178)\n",
      "153 (score = 0.56096)\n",
      "17 (score = 0.55200)\n",
      "171 (score = 0.54187)\n",
      "214 (score = 0.53706)\n",
      "106 (score = 0.53253)\n",
      "222 (score = 0.52906)\n",
      "19 (score = 0.52476)\n"
     ]
    },
    {
     "name": "stderr",
     "output_type": "stream",
     "text": [
      "\r",
      " 63%|████████████████████████▋              | 633/1000 [09:12<05:05,  1.20it/s]"
     ]
    },
    {
     "name": "stdout",
     "output_type": "stream",
     "text": [
      "66 (score = 0.61728)\n",
      "105 (score = 0.56146)\n",
      "153 (score = 0.55387)\n",
      "17 (score = 0.53959)\n",
      "171 (score = 0.53427)\n",
      "106 (score = 0.53076)\n",
      "222 (score = 0.52945)\n",
      "176 (score = 0.52495)\n",
      "138 (score = 0.52337)\n"
     ]
    },
    {
     "name": "stderr",
     "output_type": "stream",
     "text": [
      "\r",
      " 63%|████████████████████████▋              | 634/1000 [09:13<05:01,  1.21it/s]"
     ]
    },
    {
     "name": "stdout",
     "output_type": "stream",
     "text": [
      "66 (score = 0.64869)\n",
      "105 (score = 0.58892)\n",
      "153 (score = 0.56649)\n",
      "17 (score = 0.55037)\n",
      "106 (score = 0.54504)\n",
      "171 (score = 0.53965)\n",
      "214 (score = 0.53342)\n",
      "222 (score = 0.53138)\n",
      "138 (score = 0.53089)\n"
     ]
    },
    {
     "name": "stderr",
     "output_type": "stream",
     "text": [
      "\r",
      " 64%|████████████████████████▊              | 635/1000 [09:14<05:09,  1.18it/s]"
     ]
    },
    {
     "name": "stdout",
     "output_type": "stream",
     "text": [
      "66 (score = 0.65862)\n",
      "105 (score = 0.59628)\n",
      "153 (score = 0.57337)\n",
      "17 (score = 0.55465)\n",
      "106 (score = 0.54428)\n",
      "171 (score = 0.54229)\n",
      "214 (score = 0.54037)\n",
      "222 (score = 0.53525)\n",
      "138 (score = 0.53276)\n"
     ]
    },
    {
     "name": "stderr",
     "output_type": "stream",
     "text": [
      "\r",
      " 64%|████████████████████████▊              | 636/1000 [09:15<05:18,  1.14it/s]"
     ]
    },
    {
     "name": "stdout",
     "output_type": "stream",
     "text": [
      "66 (score = 0.62840)\n",
      "105 (score = 0.57376)\n",
      "153 (score = 0.55429)\n",
      "17 (score = 0.53739)\n",
      "106 (score = 0.53421)\n",
      "171 (score = 0.53404)\n",
      "214 (score = 0.53352)\n",
      "138 (score = 0.52538)\n",
      "222 (score = 0.52474)\n"
     ]
    },
    {
     "name": "stderr",
     "output_type": "stream",
     "text": [
      "\r",
      " 64%|████████████████████████▊              | 637/1000 [09:16<05:14,  1.16it/s]"
     ]
    },
    {
     "name": "stdout",
     "output_type": "stream",
     "text": [
      "66 (score = 0.62768)\n",
      "105 (score = 0.57717)\n",
      "153 (score = 0.55330)\n",
      "106 (score = 0.53761)\n",
      "17 (score = 0.53669)\n",
      "171 (score = 0.53232)\n",
      "214 (score = 0.53178)\n",
      "222 (score = 0.52697)\n",
      "138 (score = 0.52672)\n"
     ]
    },
    {
     "name": "stderr",
     "output_type": "stream",
     "text": [
      "\r",
      " 64%|████████████████████████▉              | 638/1000 [09:16<05:08,  1.17it/s]"
     ]
    },
    {
     "name": "stdout",
     "output_type": "stream",
     "text": [
      "66 (score = 0.66353)\n",
      "105 (score = 0.59909)\n",
      "153 (score = 0.57442)\n",
      "17 (score = 0.55482)\n",
      "106 (score = 0.54742)\n",
      "171 (score = 0.54178)\n",
      "214 (score = 0.54132)\n",
      "222 (score = 0.53771)\n",
      "138 (score = 0.53441)\n"
     ]
    },
    {
     "name": "stderr",
     "output_type": "stream",
     "text": [
      "\r",
      " 64%|████████████████████████▉              | 639/1000 [09:17<05:00,  1.20it/s]"
     ]
    },
    {
     "name": "stdout",
     "output_type": "stream",
     "text": [
      "66 (score = 0.67503)\n",
      "105 (score = 0.60081)\n",
      "153 (score = 0.58188)\n",
      "17 (score = 0.55811)\n",
      "106 (score = 0.55608)\n",
      "171 (score = 0.55199)\n",
      "214 (score = 0.54629)\n",
      "222 (score = 0.53987)\n",
      "138 (score = 0.53835)\n"
     ]
    },
    {
     "name": "stderr",
     "output_type": "stream",
     "text": [
      "\r",
      " 64%|████████████████████████▉              | 640/1000 [09:18<04:54,  1.22it/s]"
     ]
    },
    {
     "name": "stdout",
     "output_type": "stream",
     "text": [
      "66 (score = 0.64677)\n",
      "105 (score = 0.58341)\n",
      "153 (score = 0.55919)\n",
      "17 (score = 0.54881)\n",
      "171 (score = 0.54080)\n",
      "214 (score = 0.53749)\n",
      "106 (score = 0.53694)\n",
      "222 (score = 0.53081)\n",
      "138 (score = 0.52413)\n"
     ]
    },
    {
     "name": "stderr",
     "output_type": "stream",
     "text": [
      "\r",
      " 64%|████████████████████████▉              | 641/1000 [09:19<04:51,  1.23it/s]"
     ]
    },
    {
     "name": "stdout",
     "output_type": "stream",
     "text": [
      "66 (score = 0.72332)\n",
      "105 (score = 0.63092)\n",
      "153 (score = 0.59773)\n",
      "17 (score = 0.58341)\n",
      "171 (score = 0.56933)\n",
      "106 (score = 0.55694)\n",
      "214 (score = 0.55652)\n",
      "222 (score = 0.55058)\n",
      "138 (score = 0.54924)\n"
     ]
    },
    {
     "name": "stderr",
     "output_type": "stream",
     "text": [
      "\r",
      " 64%|█████████████████████████              | 642/1000 [09:20<04:47,  1.25it/s]"
     ]
    },
    {
     "name": "stdout",
     "output_type": "stream",
     "text": [
      "66 (score = 0.73814)\n",
      "105 (score = 0.64956)\n",
      "153 (score = 0.61249)\n",
      "17 (score = 0.58361)\n",
      "171 (score = 0.57182)\n",
      "106 (score = 0.57012)\n",
      "222 (score = 0.56328)\n",
      "214 (score = 0.56264)\n",
      "138 (score = 0.55311)\n"
     ]
    },
    {
     "name": "stderr",
     "output_type": "stream",
     "text": [
      "\r",
      " 64%|█████████████████████████              | 643/1000 [09:20<04:41,  1.27it/s]"
     ]
    },
    {
     "name": "stdout",
     "output_type": "stream",
     "text": [
      "66 (score = 0.66949)\n",
      "105 (score = 0.58976)\n",
      "153 (score = 0.56300)\n",
      "17 (score = 0.55964)\n",
      "171 (score = 0.54961)\n",
      "106 (score = 0.54301)\n",
      "214 (score = 0.54073)\n",
      "222 (score = 0.53435)\n",
      "62 (score = 0.52916)\n"
     ]
    },
    {
     "name": "stderr",
     "output_type": "stream",
     "text": [
      "\r",
      " 64%|█████████████████████████              | 644/1000 [09:21<04:36,  1.29it/s]"
     ]
    },
    {
     "name": "stdout",
     "output_type": "stream",
     "text": [
      "66 (score = 0.72181)\n",
      "105 (score = 0.63510)\n",
      "153 (score = 0.59676)\n",
      "17 (score = 0.57732)\n",
      "171 (score = 0.56104)\n",
      "214 (score = 0.55743)\n",
      "106 (score = 0.55538)\n",
      "222 (score = 0.55296)\n",
      "138 (score = 0.54705)\n"
     ]
    },
    {
     "name": "stderr",
     "output_type": "stream",
     "text": [
      "\r",
      " 64%|█████████████████████████▏             | 645/1000 [09:22<04:36,  1.28it/s]"
     ]
    },
    {
     "name": "stdout",
     "output_type": "stream",
     "text": [
      "66 (score = 0.68081)\n",
      "105 (score = 0.60851)\n",
      "153 (score = 0.58205)\n",
      "17 (score = 0.56072)\n",
      "106 (score = 0.55713)\n",
      "171 (score = 0.54713)\n",
      "214 (score = 0.54078)\n",
      "222 (score = 0.53773)\n",
      "138 (score = 0.53604)\n"
     ]
    },
    {
     "name": "stderr",
     "output_type": "stream",
     "text": [
      "\r",
      " 65%|█████████████████████████▏             | 646/1000 [09:23<04:45,  1.24it/s]"
     ]
    },
    {
     "name": "stdout",
     "output_type": "stream",
     "text": [
      "66 (score = 0.67868)\n",
      "105 (score = 0.60953)\n",
      "153 (score = 0.57845)\n",
      "17 (score = 0.56285)\n",
      "106 (score = 0.55414)\n",
      "171 (score = 0.54672)\n",
      "214 (score = 0.54501)\n",
      "222 (score = 0.53844)\n",
      "138 (score = 0.53794)\n"
     ]
    },
    {
     "name": "stderr",
     "output_type": "stream",
     "text": [
      "\r",
      " 65%|█████████████████████████▏             | 647/1000 [09:23<04:42,  1.25it/s]"
     ]
    },
    {
     "name": "stdout",
     "output_type": "stream",
     "text": [
      "66 (score = 0.65461)\n",
      "105 (score = 0.58563)\n",
      "153 (score = 0.56565)\n",
      "17 (score = 0.55095)\n",
      "171 (score = 0.54109)\n",
      "106 (score = 0.54101)\n",
      "214 (score = 0.53714)\n",
      "222 (score = 0.53340)\n",
      "138 (score = 0.52840)\n"
     ]
    },
    {
     "name": "stderr",
     "output_type": "stream",
     "text": [
      "\r",
      " 65%|█████████████████████████▎             | 648/1000 [09:24<04:47,  1.22it/s]"
     ]
    },
    {
     "name": "stdout",
     "output_type": "stream",
     "text": [
      "66 (score = 0.65955)\n",
      "105 (score = 0.58434)\n",
      "153 (score = 0.56477)\n",
      "17 (score = 0.55407)\n",
      "171 (score = 0.54363)\n",
      "106 (score = 0.53768)\n",
      "214 (score = 0.53530)\n",
      "222 (score = 0.53460)\n",
      "62 (score = 0.53100)\n"
     ]
    },
    {
     "name": "stderr",
     "output_type": "stream",
     "text": [
      "\r",
      " 65%|█████████████████████████▎             | 649/1000 [09:25<04:46,  1.23it/s]"
     ]
    },
    {
     "name": "stdout",
     "output_type": "stream",
     "text": [
      "66 (score = 0.67730)\n",
      "105 (score = 0.60385)\n",
      "153 (score = 0.57729)\n",
      "17 (score = 0.56241)\n",
      "171 (score = 0.55132)\n",
      "106 (score = 0.54490)\n",
      "222 (score = 0.54320)\n",
      "214 (score = 0.54295)\n",
      "138 (score = 0.53941)\n"
     ]
    },
    {
     "name": "stderr",
     "output_type": "stream",
     "text": [
      "\r",
      " 65%|█████████████████████████▎             | 650/1000 [09:26<04:43,  1.24it/s]"
     ]
    },
    {
     "name": "stdout",
     "output_type": "stream",
     "text": [
      "66 (score = 0.61795)\n",
      "105 (score = 0.56279)\n",
      "153 (score = 0.54995)\n",
      "17 (score = 0.53884)\n",
      "171 (score = 0.53265)\n",
      "106 (score = 0.52885)\n",
      "222 (score = 0.52633)\n",
      "214 (score = 0.52401)\n",
      "138 (score = 0.52014)\n"
     ]
    },
    {
     "name": "stderr",
     "output_type": "stream",
     "text": [
      "\r",
      " 65%|█████████████████████████▍             | 651/1000 [09:27<04:48,  1.21it/s]"
     ]
    },
    {
     "name": "stdout",
     "output_type": "stream",
     "text": [
      "66 (score = 0.66000)\n",
      "105 (score = 0.59342)\n",
      "153 (score = 0.56988)\n",
      "17 (score = 0.55505)\n",
      "171 (score = 0.54318)\n",
      "106 (score = 0.54303)\n",
      "214 (score = 0.54121)\n",
      "222 (score = 0.53442)\n",
      "176 (score = 0.52980)\n"
     ]
    },
    {
     "name": "stderr",
     "output_type": "stream",
     "text": [
      "\r",
      " 65%|█████████████████████████▍             | 652/1000 [09:28<04:42,  1.23it/s]"
     ]
    },
    {
     "name": "stdout",
     "output_type": "stream",
     "text": [
      "66 (score = 0.64052)\n",
      "105 (score = 0.57803)\n",
      "153 (score = 0.56009)\n",
      "17 (score = 0.54494)\n",
      "171 (score = 0.53794)\n",
      "106 (score = 0.53680)\n",
      "214 (score = 0.53406)\n",
      "138 (score = 0.52712)\n",
      "222 (score = 0.52693)\n"
     ]
    },
    {
     "name": "stderr",
     "output_type": "stream",
     "text": [
      "\r",
      " 65%|█████████████████████████▍             | 653/1000 [09:28<04:47,  1.21it/s]"
     ]
    },
    {
     "name": "stdout",
     "output_type": "stream",
     "text": [
      "66 (score = 0.67124)\n",
      "105 (score = 0.59140)\n",
      "153 (score = 0.56837)\n",
      "17 (score = 0.55845)\n",
      "171 (score = 0.55110)\n",
      "214 (score = 0.54302)\n",
      "106 (score = 0.54103)\n",
      "222 (score = 0.53754)\n",
      "19 (score = 0.53165)\n"
     ]
    },
    {
     "name": "stderr",
     "output_type": "stream",
     "text": [
      "\r",
      " 65%|█████████████████████████▌             | 654/1000 [09:29<04:44,  1.22it/s]"
     ]
    },
    {
     "name": "stdout",
     "output_type": "stream",
     "text": [
      "66 (score = 0.66347)\n",
      "105 (score = 0.59043)\n",
      "153 (score = 0.56371)\n",
      "17 (score = 0.55531)\n",
      "171 (score = 0.54804)\n",
      "106 (score = 0.53801)\n",
      "222 (score = 0.53663)\n",
      "214 (score = 0.53640)\n",
      "138 (score = 0.52916)\n"
     ]
    },
    {
     "name": "stderr",
     "output_type": "stream",
     "text": [
      "\r",
      " 66%|█████████████████████████▌             | 655/1000 [09:30<04:41,  1.23it/s]"
     ]
    },
    {
     "name": "stdout",
     "output_type": "stream",
     "text": [
      "66 (score = 0.63485)\n",
      "105 (score = 0.57308)\n",
      "153 (score = 0.55028)\n",
      "17 (score = 0.54242)\n",
      "171 (score = 0.53863)\n",
      "214 (score = 0.53499)\n",
      "106 (score = 0.53300)\n",
      "222 (score = 0.52681)\n",
      "138 (score = 0.52274)\n"
     ]
    },
    {
     "name": "stderr",
     "output_type": "stream",
     "text": [
      "\r",
      " 66%|█████████████████████████▌             | 656/1000 [09:31<04:39,  1.23it/s]"
     ]
    },
    {
     "name": "stdout",
     "output_type": "stream",
     "text": [
      "66 (score = 0.72793)\n",
      "105 (score = 0.63570)\n",
      "153 (score = 0.59855)\n",
      "17 (score = 0.58213)\n",
      "171 (score = 0.56548)\n",
      "106 (score = 0.55918)\n",
      "214 (score = 0.55384)\n",
      "222 (score = 0.54703)\n",
      "138 (score = 0.54090)\n"
     ]
    },
    {
     "name": "stderr",
     "output_type": "stream",
     "text": [
      "\r",
      " 66%|█████████████████████████▌             | 657/1000 [09:32<04:41,  1.22it/s]"
     ]
    },
    {
     "name": "stdout",
     "output_type": "stream",
     "text": [
      "66 (score = 0.62842)\n",
      "105 (score = 0.57457)\n",
      "153 (score = 0.55445)\n",
      "17 (score = 0.53847)\n",
      "106 (score = 0.53774)\n",
      "171 (score = 0.53326)\n",
      "138 (score = 0.52684)\n",
      "214 (score = 0.52676)\n",
      "222 (score = 0.52590)\n"
     ]
    },
    {
     "name": "stderr",
     "output_type": "stream",
     "text": [
      "\r",
      " 66%|█████████████████████████▋             | 658/1000 [09:33<05:05,  1.12it/s]"
     ]
    },
    {
     "name": "stdout",
     "output_type": "stream",
     "text": [
      "66 (score = 0.64686)\n",
      "105 (score = 0.57823)\n",
      "153 (score = 0.55856)\n",
      "17 (score = 0.55156)\n",
      "171 (score = 0.54458)\n",
      "214 (score = 0.53481)\n",
      "106 (score = 0.53420)\n",
      "222 (score = 0.53253)\n",
      "138 (score = 0.52757)\n"
     ]
    },
    {
     "name": "stderr",
     "output_type": "stream",
     "text": [
      "\r",
      " 66%|█████████████████████████▋             | 659/1000 [09:34<05:18,  1.07it/s]"
     ]
    },
    {
     "name": "stdout",
     "output_type": "stream",
     "text": [
      "66 (score = 0.63113)\n",
      "105 (score = 0.56219)\n",
      "153 (score = 0.54804)\n",
      "17 (score = 0.54000)\n",
      "171 (score = 0.53391)\n",
      "214 (score = 0.53189)\n",
      "106 (score = 0.52739)\n",
      "138 (score = 0.52455)\n",
      "222 (score = 0.52402)\n"
     ]
    },
    {
     "name": "stderr",
     "output_type": "stream",
     "text": [
      "\r",
      " 66%|█████████████████████████▋             | 660/1000 [09:35<05:26,  1.04it/s]"
     ]
    },
    {
     "name": "stdout",
     "output_type": "stream",
     "text": [
      "66 (score = 0.65811)\n",
      "105 (score = 0.57912)\n",
      "17 (score = 0.55570)\n",
      "153 (score = 0.55566)\n",
      "171 (score = 0.54505)\n",
      "214 (score = 0.54210)\n",
      "106 (score = 0.53504)\n",
      "222 (score = 0.53439)\n",
      "19 (score = 0.52982)\n"
     ]
    },
    {
     "name": "stderr",
     "output_type": "stream",
     "text": [
      "\r",
      " 66%|█████████████████████████▊             | 661/1000 [09:36<05:23,  1.05it/s]"
     ]
    },
    {
     "name": "stdout",
     "output_type": "stream",
     "text": [
      "66 (score = 0.65710)\n",
      "105 (score = 0.58897)\n",
      "153 (score = 0.56069)\n",
      "17 (score = 0.55351)\n",
      "171 (score = 0.54137)\n",
      "106 (score = 0.53831)\n",
      "214 (score = 0.53506)\n",
      "222 (score = 0.53223)\n",
      "19 (score = 0.53021)\n"
     ]
    },
    {
     "name": "stderr",
     "output_type": "stream",
     "text": [
      "\r",
      " 66%|█████████████████████████▊             | 662/1000 [09:37<05:32,  1.02it/s]"
     ]
    },
    {
     "name": "stdout",
     "output_type": "stream",
     "text": [
      "66 (score = 0.67177)\n",
      "105 (score = 0.60324)\n",
      "153 (score = 0.57589)\n",
      "17 (score = 0.55978)\n",
      "106 (score = 0.54913)\n",
      "171 (score = 0.54890)\n",
      "214 (score = 0.54349)\n",
      "138 (score = 0.53892)\n",
      "222 (score = 0.53879)\n"
     ]
    },
    {
     "name": "stderr",
     "output_type": "stream",
     "text": [
      "\r",
      " 66%|█████████████████████████▊             | 663/1000 [09:38<05:26,  1.03it/s]"
     ]
    },
    {
     "name": "stdout",
     "output_type": "stream",
     "text": [
      "66 (score = 0.65735)\n",
      "105 (score = 0.59206)\n",
      "153 (score = 0.56611)\n",
      "17 (score = 0.55199)\n",
      "171 (score = 0.54449)\n",
      "214 (score = 0.53923)\n",
      "106 (score = 0.53722)\n",
      "222 (score = 0.53482)\n",
      "138 (score = 0.53101)\n"
     ]
    },
    {
     "name": "stderr",
     "output_type": "stream",
     "text": [
      "\r",
      " 66%|█████████████████████████▉             | 664/1000 [09:39<05:24,  1.04it/s]"
     ]
    },
    {
     "name": "stdout",
     "output_type": "stream",
     "text": [
      "66 (score = 0.66821)\n",
      "105 (score = 0.59357)\n",
      "153 (score = 0.56846)\n",
      "17 (score = 0.55797)\n",
      "171 (score = 0.55084)\n",
      "106 (score = 0.54364)\n",
      "214 (score = 0.53994)\n",
      "222 (score = 0.53664)\n",
      "62 (score = 0.53097)\n"
     ]
    },
    {
     "name": "stderr",
     "output_type": "stream",
     "text": [
      "\r",
      " 66%|█████████████████████████▉             | 665/1000 [09:40<05:13,  1.07it/s]"
     ]
    },
    {
     "name": "stdout",
     "output_type": "stream",
     "text": [
      "66 (score = 0.63106)\n",
      "105 (score = 0.56454)\n",
      "153 (score = 0.54926)\n",
      "17 (score = 0.54289)\n",
      "171 (score = 0.54084)\n",
      "214 (score = 0.53452)\n",
      "106 (score = 0.53317)\n",
      "222 (score = 0.52921)\n",
      "19 (score = 0.52446)\n"
     ]
    },
    {
     "name": "stderr",
     "output_type": "stream",
     "text": [
      "\r",
      " 67%|█████████████████████████▉             | 666/1000 [09:40<05:05,  1.09it/s]"
     ]
    },
    {
     "name": "stdout",
     "output_type": "stream",
     "text": [
      "66 (score = 0.66301)\n",
      "105 (score = 0.59528)\n",
      "153 (score = 0.57046)\n",
      "17 (score = 0.55696)\n",
      "171 (score = 0.54610)\n",
      "106 (score = 0.54269)\n",
      "214 (score = 0.53873)\n",
      "222 (score = 0.53604)\n",
      "138 (score = 0.53174)\n"
     ]
    },
    {
     "name": "stderr",
     "output_type": "stream",
     "text": [
      "\r",
      " 67%|██████████████████████████             | 667/1000 [09:41<05:08,  1.08it/s]"
     ]
    },
    {
     "name": "stdout",
     "output_type": "stream",
     "text": [
      "66 (score = 0.63475)\n",
      "105 (score = 0.57055)\n",
      "153 (score = 0.55116)\n",
      "17 (score = 0.54362)\n",
      "171 (score = 0.53846)\n",
      "214 (score = 0.53463)\n",
      "222 (score = 0.52968)\n",
      "106 (score = 0.52910)\n",
      "138 (score = 0.52280)\n"
     ]
    },
    {
     "name": "stderr",
     "output_type": "stream",
     "text": [
      "\r",
      " 67%|██████████████████████████             | 668/1000 [09:42<05:15,  1.05it/s]"
     ]
    },
    {
     "name": "stdout",
     "output_type": "stream",
     "text": [
      "66 (score = 0.59671)\n",
      "105 (score = 0.56412)\n",
      "153 (score = 0.54506)\n",
      "17 (score = 0.53286)\n",
      "106 (score = 0.53150)\n",
      "214 (score = 0.52704)\n",
      "171 (score = 0.52547)\n",
      "138 (score = 0.52162)\n",
      "222 (score = 0.52119)\n"
     ]
    },
    {
     "name": "stderr",
     "output_type": "stream",
     "text": [
      "\r",
      " 67%|██████████████████████████             | 669/1000 [09:43<05:18,  1.04it/s]"
     ]
    },
    {
     "name": "stdout",
     "output_type": "stream",
     "text": [
      "66 (score = 0.63617)\n",
      "105 (score = 0.57401)\n",
      "153 (score = 0.55714)\n",
      "17 (score = 0.54668)\n",
      "171 (score = 0.53682)\n",
      "214 (score = 0.53566)\n",
      "106 (score = 0.53395)\n",
      "222 (score = 0.52581)\n",
      "19 (score = 0.52536)\n"
     ]
    },
    {
     "name": "stderr",
     "output_type": "stream",
     "text": [
      "\r",
      " 67%|██████████████████████████▏            | 670/1000 [09:44<05:32,  1.01s/it]"
     ]
    },
    {
     "name": "stdout",
     "output_type": "stream",
     "text": [
      "66 (score = 0.64081)\n",
      "105 (score = 0.58092)\n",
      "153 (score = 0.55711)\n",
      "17 (score = 0.54711)\n",
      "171 (score = 0.53882)\n",
      "106 (score = 0.53879)\n",
      "214 (score = 0.53637)\n",
      "222 (score = 0.53210)\n",
      "138 (score = 0.52632)\n"
     ]
    },
    {
     "name": "stderr",
     "output_type": "stream",
     "text": [
      "\r",
      " 67%|██████████████████████████▏            | 671/1000 [09:46<05:38,  1.03s/it]"
     ]
    },
    {
     "name": "stdout",
     "output_type": "stream",
     "text": [
      "66 (score = 0.67471)\n",
      "105 (score = 0.60001)\n",
      "153 (score = 0.58110)\n",
      "17 (score = 0.55434)\n",
      "106 (score = 0.55132)\n",
      "171 (score = 0.54837)\n",
      "214 (score = 0.54456)\n",
      "222 (score = 0.54044)\n",
      "138 (score = 0.53186)\n"
     ]
    },
    {
     "name": "stderr",
     "output_type": "stream",
     "text": [
      "\r",
      " 67%|██████████████████████████▏            | 672/1000 [09:46<05:22,  1.02it/s]"
     ]
    },
    {
     "name": "stdout",
     "output_type": "stream",
     "text": [
      "66 (score = 0.68050)\n",
      "105 (score = 0.60394)\n",
      "153 (score = 0.57756)\n",
      "17 (score = 0.55852)\n",
      "171 (score = 0.54612)\n",
      "214 (score = 0.54222)\n",
      "106 (score = 0.54169)\n",
      "222 (score = 0.54074)\n",
      "138 (score = 0.53371)\n"
     ]
    },
    {
     "name": "stderr",
     "output_type": "stream",
     "text": [
      "\r",
      " 67%|██████████████████████████▏            | 673/1000 [09:47<05:11,  1.05it/s]"
     ]
    },
    {
     "name": "stdout",
     "output_type": "stream",
     "text": [
      "66 (score = 0.67127)\n",
      "105 (score = 0.60061)\n",
      "153 (score = 0.57743)\n",
      "17 (score = 0.55564)\n",
      "106 (score = 0.54690)\n",
      "214 (score = 0.54513)\n",
      "171 (score = 0.54382)\n",
      "222 (score = 0.53573)\n",
      "138 (score = 0.53443)\n"
     ]
    },
    {
     "name": "stderr",
     "output_type": "stream",
     "text": [
      "\r",
      " 67%|██████████████████████████▎            | 674/1000 [09:48<05:00,  1.08it/s]"
     ]
    },
    {
     "name": "stdout",
     "output_type": "stream",
     "text": [
      "66 (score = 0.66555)\n",
      "105 (score = 0.58394)\n",
      "153 (score = 0.56256)\n",
      "17 (score = 0.55648)\n",
      "171 (score = 0.54341)\n",
      "214 (score = 0.53992)\n",
      "106 (score = 0.53407)\n",
      "222 (score = 0.53390)\n",
      "62 (score = 0.53128)\n"
     ]
    },
    {
     "name": "stderr",
     "output_type": "stream",
     "text": [
      "\r",
      " 68%|██████████████████████████▎            | 675/1000 [09:49<04:48,  1.13it/s]"
     ]
    },
    {
     "name": "stdout",
     "output_type": "stream",
     "text": [
      "66 (score = 0.59946)\n",
      "105 (score = 0.54493)\n",
      "17 (score = 0.53268)\n",
      "153 (score = 0.53145)\n",
      "171 (score = 0.52450)\n",
      "214 (score = 0.52356)\n",
      "106 (score = 0.51826)\n",
      "222 (score = 0.51800)\n",
      "176 (score = 0.51776)\n"
     ]
    },
    {
     "name": "stderr",
     "output_type": "stream",
     "text": [
      "\r",
      " 68%|██████████████████████████▎            | 676/1000 [09:50<04:33,  1.19it/s]"
     ]
    },
    {
     "name": "stdout",
     "output_type": "stream",
     "text": [
      "66 (score = 0.63598)\n",
      "105 (score = 0.58058)\n",
      "153 (score = 0.55630)\n",
      "17 (score = 0.54397)\n",
      "171 (score = 0.53867)\n",
      "106 (score = 0.53736)\n",
      "214 (score = 0.53134)\n",
      "138 (score = 0.52994)\n",
      "222 (score = 0.52739)\n"
     ]
    },
    {
     "name": "stderr",
     "output_type": "stream",
     "text": [
      "\r",
      " 68%|██████████████████████████▍            | 677/1000 [09:51<04:29,  1.20it/s]"
     ]
    },
    {
     "name": "stdout",
     "output_type": "stream",
     "text": [
      "66 (score = 0.63898)\n",
      "105 (score = 0.58020)\n",
      "153 (score = 0.55636)\n",
      "17 (score = 0.54784)\n",
      "106 (score = 0.53743)\n",
      "214 (score = 0.53711)\n",
      "171 (score = 0.53661)\n",
      "222 (score = 0.53162)\n",
      "138 (score = 0.52626)\n"
     ]
    },
    {
     "name": "stderr",
     "output_type": "stream",
     "text": [
      "\r",
      " 68%|██████████████████████████▍            | 678/1000 [09:51<04:21,  1.23it/s]"
     ]
    },
    {
     "name": "stdout",
     "output_type": "stream",
     "text": [
      "66 (score = 0.63163)\n",
      "105 (score = 0.57489)\n",
      "153 (score = 0.55546)\n",
      "17 (score = 0.53683)\n",
      "106 (score = 0.53508)\n",
      "214 (score = 0.53411)\n",
      "171 (score = 0.53219)\n",
      "222 (score = 0.52706)\n",
      "138 (score = 0.52517)\n"
     ]
    },
    {
     "name": "stderr",
     "output_type": "stream",
     "text": [
      "\r",
      " 68%|██████████████████████████▍            | 679/1000 [09:52<04:21,  1.23it/s]"
     ]
    },
    {
     "name": "stdout",
     "output_type": "stream",
     "text": [
      "66 (score = 0.61629)\n",
      "105 (score = 0.57054)\n",
      "153 (score = 0.54820)\n",
      "17 (score = 0.53790)\n",
      "106 (score = 0.53491)\n",
      "214 (score = 0.53154)\n",
      "171 (score = 0.52938)\n",
      "222 (score = 0.52408)\n",
      "138 (score = 0.52191)\n"
     ]
    },
    {
     "name": "stderr",
     "output_type": "stream",
     "text": [
      "\r",
      " 68%|██████████████████████████▌            | 680/1000 [09:53<04:16,  1.25it/s]"
     ]
    },
    {
     "name": "stdout",
     "output_type": "stream",
     "text": [
      "66 (score = 0.70162)\n",
      "105 (score = 0.61738)\n",
      "153 (score = 0.59104)\n",
      "17 (score = 0.56758)\n",
      "171 (score = 0.55546)\n",
      "214 (score = 0.54965)\n",
      "106 (score = 0.54830)\n",
      "222 (score = 0.54567)\n",
      "138 (score = 0.54349)\n"
     ]
    },
    {
     "name": "stderr",
     "output_type": "stream",
     "text": [
      "\r",
      " 68%|██████████████████████████▌            | 681/1000 [09:54<04:15,  1.25it/s]"
     ]
    },
    {
     "name": "stdout",
     "output_type": "stream",
     "text": [
      "66 (score = 0.66052)\n",
      "105 (score = 0.59056)\n",
      "153 (score = 0.57381)\n",
      "17 (score = 0.54932)\n",
      "171 (score = 0.54705)\n",
      "214 (score = 0.54299)\n",
      "106 (score = 0.54178)\n",
      "222 (score = 0.53298)\n",
      "138 (score = 0.52941)\n"
     ]
    },
    {
     "name": "stderr",
     "output_type": "stream",
     "text": [
      "\r",
      " 68%|██████████████████████████▌            | 682/1000 [09:54<04:13,  1.26it/s]"
     ]
    },
    {
     "name": "stdout",
     "output_type": "stream",
     "text": [
      "66 (score = 0.67089)\n",
      "105 (score = 0.59719)\n",
      "153 (score = 0.57116)\n",
      "17 (score = 0.55890)\n",
      "214 (score = 0.54477)\n",
      "171 (score = 0.54474)\n",
      "106 (score = 0.54221)\n",
      "222 (score = 0.53280)\n",
      "138 (score = 0.53095)\n"
     ]
    },
    {
     "name": "stderr",
     "output_type": "stream",
     "text": [
      "\r",
      " 68%|██████████████████████████▋            | 683/1000 [09:55<04:18,  1.23it/s]"
     ]
    },
    {
     "name": "stdout",
     "output_type": "stream",
     "text": [
      "66 (score = 0.62846)\n",
      "105 (score = 0.56512)\n",
      "153 (score = 0.54679)\n",
      "17 (score = 0.54181)\n",
      "171 (score = 0.54105)\n",
      "106 (score = 0.53234)\n",
      "214 (score = 0.53151)\n",
      "222 (score = 0.52868)\n",
      "138 (score = 0.52192)\n"
     ]
    },
    {
     "name": "stderr",
     "output_type": "stream",
     "text": [
      "\r",
      " 68%|██████████████████████████▋            | 684/1000 [09:56<04:18,  1.22it/s]"
     ]
    },
    {
     "name": "stdout",
     "output_type": "stream",
     "text": [
      "66 (score = 0.62901)\n",
      "105 (score = 0.57642)\n",
      "153 (score = 0.55343)\n",
      "17 (score = 0.54225)\n",
      "106 (score = 0.53621)\n",
      "171 (score = 0.53614)\n",
      "214 (score = 0.53108)\n",
      "222 (score = 0.52646)\n",
      "138 (score = 0.52433)\n"
     ]
    },
    {
     "name": "stderr",
     "output_type": "stream",
     "text": [
      "\r",
      " 68%|██████████████████████████▋            | 685/1000 [09:57<04:13,  1.24it/s]"
     ]
    },
    {
     "name": "stdout",
     "output_type": "stream",
     "text": [
      "66 (score = 0.69770)\n",
      "105 (score = 0.61339)\n",
      "153 (score = 0.58530)\n",
      "17 (score = 0.56790)\n",
      "171 (score = 0.55747)\n",
      "106 (score = 0.54918)\n",
      "222 (score = 0.54807)\n",
      "214 (score = 0.54680)\n",
      "138 (score = 0.54072)\n"
     ]
    },
    {
     "name": "stderr",
     "output_type": "stream",
     "text": [
      "\r",
      " 69%|██████████████████████████▊            | 686/1000 [09:58<04:17,  1.22it/s]"
     ]
    },
    {
     "name": "stdout",
     "output_type": "stream",
     "text": [
      "66 (score = 0.64128)\n",
      "105 (score = 0.57408)\n",
      "153 (score = 0.55196)\n",
      "17 (score = 0.55021)\n",
      "171 (score = 0.54363)\n",
      "214 (score = 0.53490)\n",
      "106 (score = 0.53211)\n",
      "222 (score = 0.53029)\n",
      "138 (score = 0.52626)\n"
     ]
    },
    {
     "name": "stderr",
     "output_type": "stream",
     "text": [
      "\r",
      " 69%|██████████████████████████▊            | 687/1000 [09:59<04:16,  1.22it/s]"
     ]
    },
    {
     "name": "stdout",
     "output_type": "stream",
     "text": [
      "66 (score = 0.62604)\n",
      "105 (score = 0.56432)\n",
      "153 (score = 0.54524)\n",
      "17 (score = 0.54322)\n",
      "171 (score = 0.53601)\n",
      "214 (score = 0.53027)\n",
      "106 (score = 0.52844)\n",
      "222 (score = 0.52502)\n",
      "137 (score = 0.52023)\n"
     ]
    },
    {
     "name": "stderr",
     "output_type": "stream",
     "text": [
      "\r",
      " 69%|██████████████████████████▊            | 688/1000 [09:59<04:11,  1.24it/s]"
     ]
    },
    {
     "name": "stdout",
     "output_type": "stream",
     "text": [
      "66 (score = 0.71439)\n",
      "105 (score = 0.62275)\n",
      "153 (score = 0.59244)\n",
      "17 (score = 0.57496)\n",
      "171 (score = 0.55836)\n",
      "106 (score = 0.55544)\n",
      "214 (score = 0.55439)\n",
      "222 (score = 0.54929)\n",
      "138 (score = 0.54436)\n"
     ]
    },
    {
     "name": "stderr",
     "output_type": "stream",
     "text": [
      "\r",
      " 69%|██████████████████████████▊            | 689/1000 [10:00<04:05,  1.27it/s]"
     ]
    },
    {
     "name": "stdout",
     "output_type": "stream",
     "text": [
      "66 (score = 0.64034)\n",
      "105 (score = 0.57526)\n",
      "153 (score = 0.55675)\n",
      "17 (score = 0.54470)\n",
      "171 (score = 0.53962)\n",
      "106 (score = 0.53681)\n",
      "214 (score = 0.53256)\n",
      "222 (score = 0.52730)\n",
      "176 (score = 0.52477)\n"
     ]
    },
    {
     "name": "stderr",
     "output_type": "stream",
     "text": [
      "\r",
      " 69%|██████████████████████████▉            | 690/1000 [10:01<04:05,  1.26it/s]"
     ]
    },
    {
     "name": "stdout",
     "output_type": "stream",
     "text": [
      "66 (score = 0.63979)\n",
      "105 (score = 0.56822)\n",
      "153 (score = 0.54850)\n",
      "17 (score = 0.54593)\n",
      "214 (score = 0.53727)\n",
      "171 (score = 0.53500)\n",
      "106 (score = 0.53129)\n",
      "222 (score = 0.52742)\n",
      "62 (score = 0.52428)\n"
     ]
    },
    {
     "name": "stderr",
     "output_type": "stream",
     "text": [
      "\r",
      " 69%|██████████████████████████▉            | 691/1000 [10:02<04:12,  1.23it/s]"
     ]
    },
    {
     "name": "stdout",
     "output_type": "stream",
     "text": [
      "66 (score = 0.64964)\n",
      "105 (score = 0.58753)\n",
      "153 (score = 0.56591)\n",
      "17 (score = 0.54787)\n",
      "106 (score = 0.54638)\n",
      "171 (score = 0.53696)\n",
      "214 (score = 0.53632)\n",
      "138 (score = 0.53020)\n",
      "222 (score = 0.52688)\n"
     ]
    },
    {
     "name": "stderr",
     "output_type": "stream",
     "text": [
      "\r",
      " 69%|██████████████████████████▉            | 692/1000 [10:03<04:12,  1.22it/s]"
     ]
    },
    {
     "name": "stdout",
     "output_type": "stream",
     "text": [
      "66 (score = 0.68596)\n",
      "105 (score = 0.60592)\n",
      "153 (score = 0.58065)\n",
      "17 (score = 0.56011)\n",
      "106 (score = 0.55319)\n",
      "171 (score = 0.55191)\n",
      "214 (score = 0.54513)\n",
      "138 (score = 0.53808)\n",
      "222 (score = 0.53664)\n"
     ]
    },
    {
     "name": "stderr",
     "output_type": "stream",
     "text": [
      "\r",
      " 69%|███████████████████████████            | 693/1000 [10:03<04:14,  1.20it/s]"
     ]
    },
    {
     "name": "stdout",
     "output_type": "stream",
     "text": [
      "66 (score = 0.64836)\n",
      "105 (score = 0.57249)\n",
      "153 (score = 0.55509)\n",
      "17 (score = 0.54972)\n",
      "214 (score = 0.54054)\n",
      "171 (score = 0.54007)\n",
      "106 (score = 0.53227)\n",
      "222 (score = 0.52978)\n",
      "62 (score = 0.52364)\n"
     ]
    },
    {
     "name": "stderr",
     "output_type": "stream",
     "text": [
      "\r",
      " 69%|███████████████████████████            | 694/1000 [10:04<04:10,  1.22it/s]"
     ]
    },
    {
     "name": "stdout",
     "output_type": "stream",
     "text": [
      "66 (score = 0.63122)\n",
      "105 (score = 0.58031)\n",
      "153 (score = 0.55664)\n",
      "17 (score = 0.54572)\n",
      "106 (score = 0.54274)\n",
      "171 (score = 0.53203)\n",
      "214 (score = 0.53125)\n",
      "138 (score = 0.53027)\n",
      "222 (score = 0.52881)\n"
     ]
    },
    {
     "name": "stderr",
     "output_type": "stream",
     "text": [
      "\r",
      " 70%|███████████████████████████            | 695/1000 [10:05<04:06,  1.24it/s]"
     ]
    },
    {
     "name": "stdout",
     "output_type": "stream",
     "text": [
      "66 (score = 0.66582)\n",
      "105 (score = 0.59857)\n",
      "153 (score = 0.56955)\n",
      "17 (score = 0.56006)\n",
      "171 (score = 0.54710)\n",
      "106 (score = 0.54261)\n",
      "214 (score = 0.54255)\n",
      "222 (score = 0.53551)\n",
      "138 (score = 0.53239)\n"
     ]
    },
    {
     "name": "stderr",
     "output_type": "stream",
     "text": [
      "\r",
      " 70%|███████████████████████████▏           | 696/1000 [10:06<04:03,  1.25it/s]"
     ]
    },
    {
     "name": "stdout",
     "output_type": "stream",
     "text": [
      "66 (score = 0.69639)\n",
      "105 (score = 0.60650)\n",
      "153 (score = 0.58284)\n",
      "17 (score = 0.57043)\n",
      "171 (score = 0.55941)\n",
      "106 (score = 0.54982)\n",
      "214 (score = 0.54936)\n",
      "222 (score = 0.54219)\n",
      "138 (score = 0.54204)\n"
     ]
    },
    {
     "name": "stderr",
     "output_type": "stream",
     "text": [
      "\r",
      " 70%|███████████████████████████▏           | 697/1000 [10:07<04:03,  1.24it/s]"
     ]
    },
    {
     "name": "stdout",
     "output_type": "stream",
     "text": [
      "66 (score = 0.62695)\n",
      "105 (score = 0.56339)\n",
      "153 (score = 0.54480)\n",
      "17 (score = 0.54270)\n",
      "171 (score = 0.53899)\n",
      "106 (score = 0.53198)\n",
      "214 (score = 0.53084)\n",
      "176 (score = 0.52325)\n",
      "19 (score = 0.52249)\n"
     ]
    },
    {
     "name": "stderr",
     "output_type": "stream",
     "text": [
      "\r",
      " 70%|███████████████████████████▏           | 698/1000 [10:07<04:05,  1.23it/s]"
     ]
    },
    {
     "name": "stdout",
     "output_type": "stream",
     "text": [
      "66 (score = 0.67767)\n",
      "105 (score = 0.59392)\n",
      "153 (score = 0.57357)\n",
      "17 (score = 0.55511)\n",
      "171 (score = 0.54854)\n",
      "214 (score = 0.54558)\n",
      "106 (score = 0.54398)\n",
      "222 (score = 0.54036)\n",
      "138 (score = 0.53369)\n"
     ]
    },
    {
     "name": "stderr",
     "output_type": "stream",
     "text": [
      "\r",
      " 70%|███████████████████████████▎           | 699/1000 [10:08<04:00,  1.25it/s]"
     ]
    },
    {
     "name": "stdout",
     "output_type": "stream",
     "text": [
      "66 (score = 0.69565)\n",
      "105 (score = 0.60075)\n",
      "153 (score = 0.58258)\n",
      "17 (score = 0.56692)\n",
      "171 (score = 0.55378)\n",
      "214 (score = 0.54946)\n",
      "106 (score = 0.54159)\n",
      "222 (score = 0.54021)\n",
      "62 (score = 0.53706)\n"
     ]
    },
    {
     "name": "stderr",
     "output_type": "stream",
     "text": [
      "\r",
      " 70%|███████████████████████████▎           | 700/1000 [10:09<03:54,  1.28it/s]"
     ]
    },
    {
     "name": "stdout",
     "output_type": "stream",
     "text": [
      "66 (score = 0.62389)\n",
      "105 (score = 0.56321)\n",
      "153 (score = 0.54669)\n",
      "17 (score = 0.53977)\n",
      "171 (score = 0.53381)\n",
      "214 (score = 0.52934)\n",
      "106 (score = 0.52732)\n",
      "222 (score = 0.52408)\n",
      "138 (score = 0.52141)\n"
     ]
    },
    {
     "name": "stderr",
     "output_type": "stream",
     "text": [
      "\r",
      " 70%|███████████████████████████▎           | 701/1000 [10:10<03:52,  1.28it/s]"
     ]
    },
    {
     "name": "stdout",
     "output_type": "stream",
     "text": [
      "66 (score = 0.61537)\n",
      "105 (score = 0.55601)\n",
      "153 (score = 0.54034)\n",
      "17 (score = 0.53633)\n",
      "171 (score = 0.53240)\n",
      "214 (score = 0.52876)\n",
      "222 (score = 0.52375)\n",
      "106 (score = 0.52301)\n",
      "176 (score = 0.52111)\n"
     ]
    },
    {
     "name": "stderr",
     "output_type": "stream",
     "text": [
      "\r",
      " 70%|███████████████████████████▍           | 702/1000 [10:11<03:57,  1.25it/s]"
     ]
    },
    {
     "name": "stdout",
     "output_type": "stream",
     "text": [
      "66 (score = 0.67208)\n",
      "105 (score = 0.60192)\n",
      "153 (score = 0.57201)\n",
      "17 (score = 0.55912)\n",
      "171 (score = 0.54934)\n",
      "214 (score = 0.54581)\n",
      "222 (score = 0.54046)\n",
      "106 (score = 0.54011)\n",
      "138 (score = 0.53292)\n"
     ]
    },
    {
     "name": "stderr",
     "output_type": "stream",
     "text": [
      "\r",
      " 70%|███████████████████████████▍           | 703/1000 [10:11<03:55,  1.26it/s]"
     ]
    },
    {
     "name": "stdout",
     "output_type": "stream",
     "text": [
      "66 (score = 0.60986)\n",
      "105 (score = 0.55632)\n",
      "153 (score = 0.55071)\n",
      "17 (score = 0.53859)\n",
      "171 (score = 0.52960)\n",
      "106 (score = 0.52552)\n",
      "214 (score = 0.52455)\n",
      "222 (score = 0.52365)\n",
      "138 (score = 0.52130)\n"
     ]
    },
    {
     "name": "stderr",
     "output_type": "stream",
     "text": [
      "\r",
      " 70%|███████████████████████████▍           | 704/1000 [10:12<03:54,  1.26it/s]"
     ]
    },
    {
     "name": "stdout",
     "output_type": "stream",
     "text": [
      "66 (score = 0.74038)\n",
      "105 (score = 0.63132)\n",
      "153 (score = 0.60344)\n",
      "17 (score = 0.58460)\n",
      "171 (score = 0.57343)\n",
      "214 (score = 0.55680)\n",
      "106 (score = 0.55581)\n",
      "222 (score = 0.55297)\n",
      "138 (score = 0.54468)\n"
     ]
    },
    {
     "name": "stderr",
     "output_type": "stream",
     "text": [
      "\r",
      " 70%|███████████████████████████▍           | 705/1000 [10:13<04:04,  1.21it/s]"
     ]
    },
    {
     "name": "stdout",
     "output_type": "stream",
     "text": [
      "66 (score = 0.62090)\n",
      "105 (score = 0.56066)\n",
      "153 (score = 0.54167)\n",
      "17 (score = 0.53722)\n",
      "214 (score = 0.53154)\n",
      "171 (score = 0.53111)\n",
      "106 (score = 0.52886)\n",
      "222 (score = 0.52392)\n",
      "62 (score = 0.52185)\n"
     ]
    },
    {
     "name": "stderr",
     "output_type": "stream",
     "text": [
      "\r",
      " 71%|███████████████████████████▌           | 706/1000 [10:14<04:13,  1.16it/s]"
     ]
    },
    {
     "name": "stdout",
     "output_type": "stream",
     "text": [
      "66 (score = 0.64461)\n",
      "105 (score = 0.57110)\n",
      "153 (score = 0.55332)\n",
      "17 (score = 0.54728)\n",
      "171 (score = 0.53921)\n",
      "214 (score = 0.53666)\n",
      "222 (score = 0.53221)\n",
      "62 (score = 0.52935)\n",
      "106 (score = 0.52927)\n"
     ]
    },
    {
     "name": "stderr",
     "output_type": "stream",
     "text": [
      "\r",
      " 71%|███████████████████████████▌           | 707/1000 [10:15<04:13,  1.16it/s]"
     ]
    },
    {
     "name": "stdout",
     "output_type": "stream",
     "text": [
      "66 (score = 0.69426)\n",
      "105 (score = 0.61919)\n",
      "153 (score = 0.58314)\n",
      "17 (score = 0.56886)\n",
      "171 (score = 0.55954)\n",
      "214 (score = 0.55135)\n",
      "106 (score = 0.54732)\n",
      "222 (score = 0.54542)\n",
      "138 (score = 0.53661)\n"
     ]
    },
    {
     "name": "stderr",
     "output_type": "stream",
     "text": [
      "\r",
      " 71%|███████████████████████████▌           | 708/1000 [10:16<04:16,  1.14it/s]"
     ]
    },
    {
     "name": "stdout",
     "output_type": "stream",
     "text": [
      "66 (score = 0.67509)\n",
      "105 (score = 0.60002)\n",
      "153 (score = 0.56927)\n",
      "17 (score = 0.55841)\n",
      "171 (score = 0.54995)\n",
      "106 (score = 0.54579)\n",
      "214 (score = 0.54232)\n",
      "222 (score = 0.53535)\n",
      "138 (score = 0.52954)\n"
     ]
    },
    {
     "name": "stderr",
     "output_type": "stream",
     "text": [
      "\r",
      " 71%|███████████████████████████▋           | 709/1000 [10:17<04:14,  1.14it/s]"
     ]
    },
    {
     "name": "stdout",
     "output_type": "stream",
     "text": [
      "66 (score = 0.61823)\n",
      "105 (score = 0.57478)\n",
      "153 (score = 0.55212)\n",
      "17 (score = 0.54054)\n",
      "106 (score = 0.53766)\n",
      "171 (score = 0.53238)\n",
      "214 (score = 0.53087)\n",
      "222 (score = 0.52704)\n",
      "138 (score = 0.52389)\n"
     ]
    },
    {
     "name": "stderr",
     "output_type": "stream",
     "text": [
      "\r",
      " 71%|███████████████████████████▋           | 710/1000 [10:18<04:12,  1.15it/s]"
     ]
    },
    {
     "name": "stdout",
     "output_type": "stream",
     "text": [
      "66 (score = 0.66984)\n",
      "105 (score = 0.59392)\n",
      "153 (score = 0.57132)\n",
      "17 (score = 0.55658)\n",
      "171 (score = 0.55081)\n",
      "106 (score = 0.54159)\n",
      "214 (score = 0.54111)\n",
      "222 (score = 0.53650)\n",
      "62 (score = 0.53178)\n"
     ]
    },
    {
     "name": "stderr",
     "output_type": "stream",
     "text": [
      "\r",
      " 71%|███████████████████████████▋           | 711/1000 [10:18<04:10,  1.15it/s]"
     ]
    },
    {
     "name": "stdout",
     "output_type": "stream",
     "text": [
      "66 (score = 0.67687)\n",
      "105 (score = 0.60323)\n",
      "153 (score = 0.57959)\n",
      "17 (score = 0.55934)\n",
      "171 (score = 0.54892)\n",
      "106 (score = 0.54536)\n",
      "214 (score = 0.54157)\n",
      "222 (score = 0.54064)\n",
      "138 (score = 0.53414)\n"
     ]
    },
    {
     "name": "stderr",
     "output_type": "stream",
     "text": [
      "\r",
      " 71%|███████████████████████████▊           | 712/1000 [10:19<04:04,  1.18it/s]"
     ]
    },
    {
     "name": "stdout",
     "output_type": "stream",
     "text": [
      "66 (score = 0.74296)\n",
      "105 (score = 0.64099)\n",
      "153 (score = 0.62035)\n",
      "17 (score = 0.58957)\n",
      "171 (score = 0.56803)\n",
      "106 (score = 0.56418)\n",
      "214 (score = 0.55940)\n",
      "222 (score = 0.55445)\n",
      "138 (score = 0.55131)\n"
     ]
    },
    {
     "name": "stderr",
     "output_type": "stream",
     "text": [
      "\r",
      " 71%|███████████████████████████▊           | 713/1000 [10:20<04:01,  1.19it/s]"
     ]
    },
    {
     "name": "stdout",
     "output_type": "stream",
     "text": [
      "66 (score = 0.71861)\n",
      "105 (score = 0.62858)\n",
      "153 (score = 0.59709)\n",
      "17 (score = 0.57615)\n",
      "171 (score = 0.56459)\n",
      "214 (score = 0.55603)\n",
      "106 (score = 0.55296)\n",
      "222 (score = 0.54502)\n",
      "138 (score = 0.54432)\n"
     ]
    },
    {
     "name": "stderr",
     "output_type": "stream",
     "text": [
      "\r",
      " 71%|███████████████████████████▊           | 714/1000 [10:21<04:00,  1.19it/s]"
     ]
    },
    {
     "name": "stdout",
     "output_type": "stream",
     "text": [
      "66 (score = 0.72371)\n",
      "105 (score = 0.62629)\n",
      "153 (score = 0.59863)\n",
      "17 (score = 0.57334)\n",
      "171 (score = 0.56020)\n",
      "106 (score = 0.55522)\n",
      "214 (score = 0.55117)\n",
      "222 (score = 0.54885)\n",
      "138 (score = 0.54082)\n"
     ]
    },
    {
     "name": "stderr",
     "output_type": "stream",
     "text": [
      "\r",
      " 72%|███████████████████████████▉           | 715/1000 [10:22<04:10,  1.14it/s]"
     ]
    },
    {
     "name": "stdout",
     "output_type": "stream",
     "text": [
      "66 (score = 0.69175)\n",
      "105 (score = 0.60567)\n",
      "153 (score = 0.57382)\n",
      "17 (score = 0.57034)\n",
      "171 (score = 0.55623)\n",
      "214 (score = 0.54859)\n",
      "106 (score = 0.54520)\n",
      "222 (score = 0.53885)\n",
      "138 (score = 0.53615)\n"
     ]
    },
    {
     "name": "stderr",
     "output_type": "stream",
     "text": [
      "\r",
      " 72%|███████████████████████████▉           | 716/1000 [10:23<04:07,  1.15it/s]"
     ]
    },
    {
     "name": "stdout",
     "output_type": "stream",
     "text": [
      "66 (score = 0.63402)\n",
      "105 (score = 0.56891)\n",
      "153 (score = 0.54919)\n",
      "17 (score = 0.54371)\n",
      "171 (score = 0.54312)\n",
      "214 (score = 0.53435)\n",
      "106 (score = 0.53394)\n",
      "222 (score = 0.52632)\n",
      "19 (score = 0.52455)\n"
     ]
    },
    {
     "name": "stderr",
     "output_type": "stream",
     "text": [
      "\r",
      " 72%|███████████████████████████▉           | 717/1000 [10:24<04:04,  1.16it/s]"
     ]
    },
    {
     "name": "stdout",
     "output_type": "stream",
     "text": [
      "66 (score = 0.70418)\n",
      "105 (score = 0.60793)\n",
      "153 (score = 0.58143)\n",
      "17 (score = 0.56731)\n",
      "171 (score = 0.56071)\n",
      "106 (score = 0.55032)\n",
      "214 (score = 0.54967)\n",
      "222 (score = 0.54457)\n",
      "62 (score = 0.53949)\n"
     ]
    },
    {
     "name": "stderr",
     "output_type": "stream",
     "text": [
      "\r",
      " 72%|████████████████████████████           | 718/1000 [10:24<04:04,  1.16it/s]"
     ]
    },
    {
     "name": "stdout",
     "output_type": "stream",
     "text": [
      "66 (score = 0.69613)\n",
      "105 (score = 0.61079)\n",
      "153 (score = 0.58182)\n",
      "17 (score = 0.56630)\n",
      "171 (score = 0.55891)\n",
      "222 (score = 0.54552)\n",
      "106 (score = 0.54479)\n",
      "214 (score = 0.54372)\n",
      "62 (score = 0.53716)\n"
     ]
    },
    {
     "name": "stderr",
     "output_type": "stream",
     "text": [
      "\r",
      " 72%|████████████████████████████           | 719/1000 [10:25<03:55,  1.19it/s]"
     ]
    },
    {
     "name": "stdout",
     "output_type": "stream",
     "text": [
      "66 (score = 0.63317)\n",
      "105 (score = 0.57473)\n",
      "153 (score = 0.55119)\n",
      "17 (score = 0.54660)\n",
      "171 (score = 0.54076)\n",
      "106 (score = 0.53590)\n",
      "214 (score = 0.53399)\n",
      "222 (score = 0.52914)\n",
      "138 (score = 0.52526)\n"
     ]
    },
    {
     "name": "stderr",
     "output_type": "stream",
     "text": [
      "\r",
      " 72%|████████████████████████████           | 720/1000 [10:26<03:55,  1.19it/s]"
     ]
    },
    {
     "name": "stdout",
     "output_type": "stream",
     "text": [
      "66 (score = 0.66875)\n",
      "105 (score = 0.59476)\n",
      "153 (score = 0.57056)\n",
      "17 (score = 0.56098)\n",
      "171 (score = 0.55501)\n",
      "106 (score = 0.54035)\n",
      "222 (score = 0.53963)\n",
      "214 (score = 0.53948)\n",
      "138 (score = 0.53104)\n"
     ]
    },
    {
     "name": "stderr",
     "output_type": "stream",
     "text": [
      "\r",
      " 72%|████████████████████████████           | 721/1000 [10:27<03:55,  1.19it/s]"
     ]
    },
    {
     "name": "stdout",
     "output_type": "stream",
     "text": [
      "66 (score = 0.66352)\n",
      "105 (score = 0.59572)\n",
      "153 (score = 0.57182)\n",
      "17 (score = 0.55433)\n",
      "171 (score = 0.54942)\n",
      "106 (score = 0.54382)\n",
      "214 (score = 0.53894)\n",
      "222 (score = 0.53735)\n",
      "138 (score = 0.53183)\n"
     ]
    },
    {
     "name": "stderr",
     "output_type": "stream",
     "text": [
      "\r",
      " 72%|████████████████████████████▏          | 722/1000 [10:28<03:48,  1.22it/s]"
     ]
    },
    {
     "name": "stdout",
     "output_type": "stream",
     "text": [
      "66 (score = 0.63309)\n",
      "105 (score = 0.58018)\n",
      "153 (score = 0.55694)\n",
      "17 (score = 0.54712)\n",
      "106 (score = 0.54170)\n",
      "171 (score = 0.53876)\n",
      "214 (score = 0.53346)\n",
      "138 (score = 0.52856)\n",
      "222 (score = 0.52849)\n"
     ]
    },
    {
     "name": "stderr",
     "output_type": "stream",
     "text": [
      "\r",
      " 72%|████████████████████████████▏          | 723/1000 [10:29<03:52,  1.19it/s]"
     ]
    },
    {
     "name": "stdout",
     "output_type": "stream",
     "text": [
      "66 (score = 0.62349)\n",
      "105 (score = 0.56380)\n",
      "153 (score = 0.54647)\n",
      "17 (score = 0.54532)\n",
      "171 (score = 0.53609)\n",
      "106 (score = 0.53104)\n",
      "214 (score = 0.52837)\n",
      "222 (score = 0.52447)\n",
      "62 (score = 0.52104)\n"
     ]
    },
    {
     "name": "stderr",
     "output_type": "stream",
     "text": [
      "\r",
      " 72%|████████████████████████████▏          | 724/1000 [10:29<03:50,  1.20it/s]"
     ]
    },
    {
     "name": "stdout",
     "output_type": "stream",
     "text": [
      "66 (score = 0.66790)\n",
      "105 (score = 0.59225)\n",
      "153 (score = 0.56699)\n",
      "17 (score = 0.55799)\n",
      "171 (score = 0.54729)\n",
      "106 (score = 0.53976)\n",
      "214 (score = 0.53966)\n",
      "222 (score = 0.53113)\n",
      "138 (score = 0.52956)\n"
     ]
    },
    {
     "name": "stderr",
     "output_type": "stream",
     "text": [
      "\r",
      " 72%|████████████████████████████▎          | 725/1000 [10:30<03:43,  1.23it/s]"
     ]
    },
    {
     "name": "stdout",
     "output_type": "stream",
     "text": [
      "66 (score = 0.66513)\n",
      "105 (score = 0.59930)\n",
      "153 (score = 0.57256)\n",
      "17 (score = 0.56081)\n",
      "171 (score = 0.54504)\n",
      "214 (score = 0.54017)\n",
      "106 (score = 0.53917)\n",
      "222 (score = 0.53612)\n",
      "138 (score = 0.53325)\n"
     ]
    },
    {
     "name": "stderr",
     "output_type": "stream",
     "text": [
      "\r",
      " 73%|████████████████████████████▎          | 726/1000 [10:31<03:40,  1.24it/s]"
     ]
    },
    {
     "name": "stdout",
     "output_type": "stream",
     "text": [
      "66 (score = 0.63435)\n",
      "105 (score = 0.57687)\n",
      "153 (score = 0.55416)\n",
      "17 (score = 0.54518)\n",
      "106 (score = 0.53619)\n",
      "171 (score = 0.53614)\n",
      "214 (score = 0.53322)\n",
      "222 (score = 0.52860)\n",
      "62 (score = 0.52192)\n"
     ]
    },
    {
     "name": "stderr",
     "output_type": "stream",
     "text": [
      "\r",
      " 73%|████████████████████████████▎          | 727/1000 [10:32<03:44,  1.22it/s]"
     ]
    },
    {
     "name": "stdout",
     "output_type": "stream",
     "text": [
      "66 (score = 0.67251)\n",
      "105 (score = 0.59035)\n",
      "153 (score = 0.56770)\n",
      "17 (score = 0.55408)\n",
      "214 (score = 0.54401)\n",
      "171 (score = 0.54327)\n",
      "106 (score = 0.54116)\n",
      "222 (score = 0.53917)\n",
      "138 (score = 0.53027)\n"
     ]
    },
    {
     "name": "stderr",
     "output_type": "stream",
     "text": [
      "\r",
      " 73%|████████████████████████████▍          | 728/1000 [10:33<03:43,  1.22it/s]"
     ]
    },
    {
     "name": "stdout",
     "output_type": "stream",
     "text": [
      "66 (score = 0.70470)\n",
      "105 (score = 0.60886)\n",
      "153 (score = 0.58412)\n",
      "17 (score = 0.57255)\n",
      "171 (score = 0.55900)\n",
      "106 (score = 0.55039)\n",
      "214 (score = 0.54775)\n",
      "222 (score = 0.54287)\n",
      "138 (score = 0.53578)\n"
     ]
    },
    {
     "name": "stderr",
     "output_type": "stream",
     "text": [
      "\r",
      " 73%|████████████████████████████▍          | 729/1000 [10:34<03:51,  1.17it/s]"
     ]
    },
    {
     "name": "stdout",
     "output_type": "stream",
     "text": [
      "66 (score = 0.68265)\n",
      "105 (score = 0.60503)\n",
      "153 (score = 0.57704)\n",
      "17 (score = 0.56282)\n",
      "171 (score = 0.55516)\n",
      "214 (score = 0.54712)\n",
      "106 (score = 0.54547)\n",
      "222 (score = 0.54253)\n",
      "138 (score = 0.53681)\n"
     ]
    },
    {
     "name": "stderr",
     "output_type": "stream",
     "text": [
      "\r",
      " 73%|████████████████████████████▍          | 730/1000 [10:34<03:50,  1.17it/s]"
     ]
    },
    {
     "name": "stdout",
     "output_type": "stream",
     "text": [
      "66 (score = 0.70720)\n",
      "105 (score = 0.63065)\n",
      "153 (score = 0.59595)\n",
      "17 (score = 0.57070)\n",
      "106 (score = 0.56223)\n",
      "171 (score = 0.55887)\n",
      "214 (score = 0.55701)\n",
      "222 (score = 0.54475)\n",
      "62 (score = 0.54445)\n"
     ]
    },
    {
     "name": "stderr",
     "output_type": "stream",
     "text": [
      "\r",
      " 73%|████████████████████████████▌          | 731/1000 [10:35<03:40,  1.22it/s]"
     ]
    },
    {
     "name": "stdout",
     "output_type": "stream",
     "text": [
      "66 (score = 0.73038)\n",
      "105 (score = 0.63398)\n",
      "153 (score = 0.60546)\n",
      "17 (score = 0.58060)\n",
      "171 (score = 0.56725)\n",
      "214 (score = 0.55586)\n",
      "106 (score = 0.55553)\n",
      "222 (score = 0.55309)\n",
      "138 (score = 0.54550)\n"
     ]
    },
    {
     "name": "stderr",
     "output_type": "stream",
     "text": [
      "\r",
      " 73%|████████████████████████████▌          | 732/1000 [10:36<03:47,  1.18it/s]"
     ]
    },
    {
     "name": "stdout",
     "output_type": "stream",
     "text": [
      "66 (score = 0.71170)\n",
      "105 (score = 0.61851)\n",
      "153 (score = 0.59476)\n",
      "17 (score = 0.56773)\n",
      "214 (score = 0.55864)\n",
      "171 (score = 0.55814)\n",
      "106 (score = 0.55560)\n",
      "138 (score = 0.54695)\n",
      "222 (score = 0.54313)\n"
     ]
    },
    {
     "name": "stderr",
     "output_type": "stream",
     "text": [
      "\r",
      " 73%|████████████████████████████▌          | 733/1000 [10:37<03:40,  1.21it/s]"
     ]
    },
    {
     "name": "stdout",
     "output_type": "stream",
     "text": [
      "66 (score = 0.63888)\n",
      "105 (score = 0.57898)\n",
      "153 (score = 0.56195)\n",
      "17 (score = 0.54877)\n",
      "171 (score = 0.54015)\n",
      "106 (score = 0.53546)\n",
      "222 (score = 0.53222)\n",
      "214 (score = 0.53190)\n",
      "138 (score = 0.52776)\n"
     ]
    },
    {
     "name": "stderr",
     "output_type": "stream",
     "text": [
      "\r",
      " 73%|████████████████████████████▋          | 734/1000 [10:38<03:37,  1.23it/s]"
     ]
    },
    {
     "name": "stdout",
     "output_type": "stream",
     "text": [
      "66 (score = 0.68029)\n",
      "105 (score = 0.60279)\n",
      "153 (score = 0.57402)\n",
      "17 (score = 0.56196)\n",
      "171 (score = 0.55006)\n",
      "214 (score = 0.54528)\n",
      "106 (score = 0.54132)\n",
      "222 (score = 0.53990)\n",
      "138 (score = 0.53867)\n"
     ]
    },
    {
     "name": "stderr",
     "output_type": "stream",
     "text": [
      "\r",
      " 74%|████████████████████████████▋          | 735/1000 [10:38<03:33,  1.24it/s]"
     ]
    },
    {
     "name": "stdout",
     "output_type": "stream",
     "text": [
      "66 (score = 0.65787)\n",
      "105 (score = 0.58603)\n",
      "153 (score = 0.56236)\n",
      "17 (score = 0.55757)\n",
      "171 (score = 0.54468)\n",
      "106 (score = 0.54376)\n",
      "214 (score = 0.53897)\n",
      "222 (score = 0.53437)\n",
      "62 (score = 0.53141)\n"
     ]
    },
    {
     "name": "stderr",
     "output_type": "stream",
     "text": [
      "\r",
      " 74%|████████████████████████████▋          | 736/1000 [10:39<03:32,  1.24it/s]"
     ]
    },
    {
     "name": "stdout",
     "output_type": "stream",
     "text": [
      "66 (score = 0.65874)\n",
      "105 (score = 0.58487)\n",
      "153 (score = 0.56087)\n",
      "17 (score = 0.55025)\n",
      "171 (score = 0.54598)\n",
      "106 (score = 0.54271)\n",
      "214 (score = 0.53718)\n",
      "222 (score = 0.53356)\n",
      "19 (score = 0.52948)\n"
     ]
    },
    {
     "name": "stderr",
     "output_type": "stream",
     "text": [
      "\r",
      " 74%|████████████████████████████▋          | 737/1000 [10:40<03:32,  1.24it/s]"
     ]
    },
    {
     "name": "stdout",
     "output_type": "stream",
     "text": [
      "66 (score = 0.70288)\n",
      "105 (score = 0.62199)\n",
      "153 (score = 0.59353)\n",
      "17 (score = 0.56994)\n",
      "171 (score = 0.55605)\n",
      "106 (score = 0.55504)\n",
      "214 (score = 0.55273)\n",
      "222 (score = 0.54396)\n",
      "138 (score = 0.54206)\n"
     ]
    },
    {
     "name": "stderr",
     "output_type": "stream",
     "text": [
      "\r",
      " 74%|████████████████████████████▊          | 738/1000 [10:41<03:35,  1.21it/s]"
     ]
    },
    {
     "name": "stdout",
     "output_type": "stream",
     "text": [
      "66 (score = 0.62343)\n",
      "105 (score = 0.56708)\n",
      "153 (score = 0.55066)\n",
      "17 (score = 0.54343)\n",
      "171 (score = 0.53377)\n",
      "106 (score = 0.53363)\n",
      "214 (score = 0.53032)\n",
      "19 (score = 0.52479)\n",
      "62 (score = 0.52373)\n"
     ]
    },
    {
     "name": "stderr",
     "output_type": "stream",
     "text": [
      "\r",
      " 74%|████████████████████████████▊          | 739/1000 [10:42<03:34,  1.22it/s]"
     ]
    },
    {
     "name": "stdout",
     "output_type": "stream",
     "text": [
      "66 (score = 0.66977)\n",
      "105 (score = 0.59069)\n",
      "153 (score = 0.56706)\n",
      "17 (score = 0.55852)\n",
      "171 (score = 0.54905)\n",
      "106 (score = 0.54242)\n",
      "214 (score = 0.54197)\n",
      "138 (score = 0.53772)\n",
      "222 (score = 0.53681)\n"
     ]
    },
    {
     "name": "stderr",
     "output_type": "stream",
     "text": [
      "\r",
      " 74%|████████████████████████████▊          | 740/1000 [10:43<03:46,  1.15it/s]"
     ]
    },
    {
     "name": "stdout",
     "output_type": "stream",
     "text": [
      "66 (score = 0.66707)\n",
      "105 (score = 0.60101)\n",
      "153 (score = 0.57422)\n",
      "17 (score = 0.55871)\n",
      "171 (score = 0.54863)\n",
      "106 (score = 0.54616)\n",
      "214 (score = 0.54149)\n",
      "222 (score = 0.53568)\n",
      "138 (score = 0.53272)\n"
     ]
    },
    {
     "name": "stderr",
     "output_type": "stream",
     "text": [
      "\r",
      " 74%|████████████████████████████▉          | 741/1000 [10:44<03:48,  1.13it/s]"
     ]
    },
    {
     "name": "stdout",
     "output_type": "stream",
     "text": [
      "66 (score = 0.59420)\n",
      "105 (score = 0.55208)\n",
      "153 (score = 0.54052)\n",
      "106 (score = 0.53129)\n",
      "17 (score = 0.53009)\n",
      "171 (score = 0.52632)\n",
      "138 (score = 0.52313)\n",
      "214 (score = 0.52312)\n",
      "222 (score = 0.52032)\n"
     ]
    },
    {
     "name": "stderr",
     "output_type": "stream",
     "text": [
      "\r",
      " 74%|████████████████████████████▉          | 742/1000 [10:44<03:42,  1.16it/s]"
     ]
    },
    {
     "name": "stdout",
     "output_type": "stream",
     "text": [
      "66 (score = 0.63879)\n",
      "105 (score = 0.57340)\n",
      "153 (score = 0.55108)\n",
      "17 (score = 0.54928)\n",
      "171 (score = 0.54180)\n",
      "214 (score = 0.53479)\n",
      "106 (score = 0.53119)\n",
      "222 (score = 0.52603)\n",
      "62 (score = 0.52523)\n"
     ]
    },
    {
     "name": "stderr",
     "output_type": "stream",
     "text": [
      "\r",
      " 74%|████████████████████████████▉          | 743/1000 [10:45<03:44,  1.14it/s]"
     ]
    },
    {
     "name": "stdout",
     "output_type": "stream",
     "text": [
      "66 (score = 0.65344)\n",
      "105 (score = 0.58892)\n",
      "153 (score = 0.56910)\n",
      "17 (score = 0.55177)\n",
      "106 (score = 0.54497)\n",
      "171 (score = 0.54329)\n",
      "214 (score = 0.53640)\n",
      "222 (score = 0.53262)\n",
      "138 (score = 0.52848)\n"
     ]
    },
    {
     "name": "stderr",
     "output_type": "stream",
     "text": [
      "\r",
      " 74%|█████████████████████████████          | 744/1000 [10:46<03:39,  1.17it/s]"
     ]
    },
    {
     "name": "stdout",
     "output_type": "stream",
     "text": [
      "66 (score = 0.65020)\n",
      "105 (score = 0.59266)\n",
      "153 (score = 0.56588)\n",
      "17 (score = 0.55219)\n",
      "106 (score = 0.54383)\n",
      "214 (score = 0.54083)\n",
      "171 (score = 0.53999)\n",
      "222 (score = 0.53314)\n",
      "138 (score = 0.53262)\n"
     ]
    },
    {
     "name": "stderr",
     "output_type": "stream",
     "text": [
      "\r",
      " 74%|█████████████████████████████          | 745/1000 [10:47<03:41,  1.15it/s]"
     ]
    },
    {
     "name": "stdout",
     "output_type": "stream",
     "text": [
      "66 (score = 0.66599)\n",
      "105 (score = 0.59161)\n",
      "153 (score = 0.56896)\n",
      "17 (score = 0.55770)\n",
      "171 (score = 0.54978)\n",
      "106 (score = 0.54182)\n",
      "214 (score = 0.54019)\n",
      "222 (score = 0.53333)\n",
      "138 (score = 0.53281)\n"
     ]
    },
    {
     "name": "stderr",
     "output_type": "stream",
     "text": [
      "\r",
      " 75%|█████████████████████████████          | 746/1000 [10:48<03:42,  1.14it/s]"
     ]
    },
    {
     "name": "stdout",
     "output_type": "stream",
     "text": [
      "66 (score = 0.64175)\n",
      "105 (score = 0.57645)\n",
      "153 (score = 0.55173)\n",
      "17 (score = 0.54824)\n",
      "171 (score = 0.54042)\n",
      "214 (score = 0.53347)\n",
      "106 (score = 0.53123)\n",
      "222 (score = 0.52840)\n",
      "138 (score = 0.52413)\n"
     ]
    },
    {
     "name": "stderr",
     "output_type": "stream",
     "text": [
      "\r",
      " 75%|█████████████████████████████▏         | 747/1000 [10:49<03:52,  1.09it/s]"
     ]
    },
    {
     "name": "stdout",
     "output_type": "stream",
     "text": [
      "66 (score = 0.66067)\n",
      "105 (score = 0.58773)\n",
      "153 (score = 0.56373)\n",
      "17 (score = 0.55584)\n",
      "171 (score = 0.54015)\n",
      "106 (score = 0.53991)\n",
      "214 (score = 0.53788)\n",
      "222 (score = 0.53622)\n",
      "138 (score = 0.52860)\n"
     ]
    },
    {
     "name": "stderr",
     "output_type": "stream",
     "text": [
      "\r",
      " 75%|█████████████████████████████▏         | 748/1000 [10:50<03:43,  1.13it/s]"
     ]
    },
    {
     "name": "stdout",
     "output_type": "stream",
     "text": [
      "66 (score = 0.70727)\n",
      "105 (score = 0.62207)\n",
      "153 (score = 0.59570)\n",
      "17 (score = 0.57453)\n",
      "171 (score = 0.55863)\n",
      "106 (score = 0.54919)\n",
      "214 (score = 0.54693)\n",
      "222 (score = 0.54244)\n",
      "138 (score = 0.54059)\n"
     ]
    },
    {
     "name": "stderr",
     "output_type": "stream",
     "text": [
      "\r",
      " 75%|█████████████████████████████▏         | 749/1000 [10:51<03:41,  1.13it/s]"
     ]
    },
    {
     "name": "stdout",
     "output_type": "stream",
     "text": [
      "66 (score = 0.59446)\n",
      "105 (score = 0.55111)\n",
      "153 (score = 0.54382)\n",
      "106 (score = 0.52838)\n",
      "171 (score = 0.52759)\n",
      "17 (score = 0.52615)\n",
      "214 (score = 0.52465)\n",
      "138 (score = 0.52130)\n",
      "222 (score = 0.51886)\n"
     ]
    },
    {
     "name": "stderr",
     "output_type": "stream",
     "text": [
      "\r",
      " 75%|█████████████████████████████▎         | 750/1000 [10:51<03:36,  1.16it/s]"
     ]
    },
    {
     "name": "stdout",
     "output_type": "stream",
     "text": [
      "66 (score = 0.68565)\n",
      "105 (score = 0.60412)\n",
      "153 (score = 0.57587)\n",
      "17 (score = 0.56445)\n",
      "171 (score = 0.55297)\n",
      "214 (score = 0.54651)\n",
      "222 (score = 0.54060)\n",
      "106 (score = 0.54022)\n",
      "62 (score = 0.53449)\n"
     ]
    },
    {
     "name": "stderr",
     "output_type": "stream",
     "text": [
      "\r",
      " 75%|█████████████████████████████▎         | 751/1000 [10:52<03:28,  1.20it/s]"
     ]
    },
    {
     "name": "stdout",
     "output_type": "stream",
     "text": [
      "66 (score = 0.67470)\n",
      "105 (score = 0.59943)\n",
      "153 (score = 0.57574)\n",
      "17 (score = 0.55815)\n",
      "171 (score = 0.54916)\n",
      "106 (score = 0.54869)\n",
      "214 (score = 0.54127)\n",
      "222 (score = 0.53759)\n",
      "138 (score = 0.53438)\n"
     ]
    },
    {
     "name": "stderr",
     "output_type": "stream",
     "text": [
      "\r",
      " 75%|█████████████████████████████▎         | 752/1000 [10:53<03:23,  1.22it/s]"
     ]
    },
    {
     "name": "stdout",
     "output_type": "stream",
     "text": [
      "66 (score = 0.66039)\n",
      "105 (score = 0.59250)\n",
      "153 (score = 0.56790)\n",
      "17 (score = 0.55407)\n",
      "171 (score = 0.54720)\n",
      "106 (score = 0.54264)\n",
      "214 (score = 0.54023)\n",
      "222 (score = 0.53388)\n",
      "138 (score = 0.53039)\n"
     ]
    },
    {
     "name": "stderr",
     "output_type": "stream",
     "text": [
      "\r",
      " 75%|█████████████████████████████▎         | 753/1000 [10:54<03:20,  1.23it/s]"
     ]
    },
    {
     "name": "stdout",
     "output_type": "stream",
     "text": [
      "66 (score = 0.67262)\n",
      "105 (score = 0.59242)\n",
      "153 (score = 0.57047)\n",
      "17 (score = 0.55856)\n",
      "171 (score = 0.55028)\n",
      "214 (score = 0.54004)\n",
      "106 (score = 0.53797)\n",
      "222 (score = 0.53710)\n",
      "176 (score = 0.53126)\n"
     ]
    },
    {
     "name": "stderr",
     "output_type": "stream",
     "text": [
      "\r",
      " 75%|█████████████████████████████▍         | 754/1000 [10:55<03:26,  1.19it/s]"
     ]
    },
    {
     "name": "stdout",
     "output_type": "stream",
     "text": [
      "66 (score = 0.63352)\n",
      "105 (score = 0.57484)\n",
      "153 (score = 0.55441)\n",
      "17 (score = 0.54229)\n",
      "171 (score = 0.53509)\n",
      "106 (score = 0.53430)\n",
      "214 (score = 0.53138)\n",
      "222 (score = 0.52437)\n",
      "138 (score = 0.52153)\n"
     ]
    },
    {
     "name": "stderr",
     "output_type": "stream",
     "text": [
      "\r",
      " 76%|█████████████████████████████▍         | 755/1000 [10:56<03:25,  1.19it/s]"
     ]
    },
    {
     "name": "stdout",
     "output_type": "stream",
     "text": [
      "66 (score = 0.66217)\n",
      "105 (score = 0.58745)\n",
      "153 (score = 0.56365)\n",
      "17 (score = 0.55905)\n",
      "171 (score = 0.54791)\n",
      "106 (score = 0.54242)\n",
      "214 (score = 0.53653)\n",
      "222 (score = 0.53556)\n",
      "138 (score = 0.52955)\n"
     ]
    },
    {
     "name": "stderr",
     "output_type": "stream",
     "text": [
      "\r",
      " 76%|█████████████████████████████▍         | 756/1000 [10:56<03:18,  1.23it/s]"
     ]
    },
    {
     "name": "stdout",
     "output_type": "stream",
     "text": [
      "66 (score = 0.64284)\n",
      "105 (score = 0.57768)\n",
      "153 (score = 0.56272)\n",
      "17 (score = 0.54684)\n",
      "106 (score = 0.54141)\n",
      "171 (score = 0.54119)\n",
      "214 (score = 0.53597)\n",
      "222 (score = 0.53145)\n",
      "138 (score = 0.52759)\n"
     ]
    },
    {
     "name": "stderr",
     "output_type": "stream",
     "text": [
      "\r",
      " 76%|█████████████████████████████▌         | 757/1000 [10:57<03:20,  1.21it/s]"
     ]
    },
    {
     "name": "stdout",
     "output_type": "stream",
     "text": [
      "66 (score = 0.67210)\n",
      "105 (score = 0.59826)\n",
      "153 (score = 0.56890)\n",
      "17 (score = 0.55865)\n",
      "171 (score = 0.55475)\n",
      "106 (score = 0.54504)\n",
      "214 (score = 0.53602)\n",
      "222 (score = 0.53473)\n",
      "138 (score = 0.53407)\n"
     ]
    },
    {
     "name": "stderr",
     "output_type": "stream",
     "text": [
      "\r",
      " 76%|█████████████████████████████▌         | 758/1000 [10:58<03:13,  1.25it/s]"
     ]
    },
    {
     "name": "stdout",
     "output_type": "stream",
     "text": [
      "66 (score = 0.68708)\n",
      "105 (score = 0.60455)\n",
      "153 (score = 0.57751)\n",
      "17 (score = 0.56194)\n",
      "171 (score = 0.54964)\n",
      "214 (score = 0.54487)\n",
      "106 (score = 0.54449)\n",
      "222 (score = 0.54170)\n",
      "62 (score = 0.53519)\n"
     ]
    },
    {
     "name": "stderr",
     "output_type": "stream",
     "text": [
      "\r",
      " 76%|█████████████████████████████▌         | 759/1000 [10:59<03:12,  1.25it/s]"
     ]
    },
    {
     "name": "stdout",
     "output_type": "stream",
     "text": [
      "66 (score = 0.72832)\n",
      "105 (score = 0.63254)\n",
      "153 (score = 0.60686)\n",
      "17 (score = 0.57474)\n",
      "171 (score = 0.56594)\n",
      "106 (score = 0.56463)\n",
      "214 (score = 0.56076)\n",
      "222 (score = 0.55109)\n",
      "138 (score = 0.54602)\n"
     ]
    },
    {
     "name": "stderr",
     "output_type": "stream",
     "text": [
      "\r",
      " 76%|█████████████████████████████▋         | 760/1000 [11:00<03:15,  1.23it/s]"
     ]
    },
    {
     "name": "stdout",
     "output_type": "stream",
     "text": [
      "66 (score = 0.64997)\n",
      "105 (score = 0.57720)\n",
      "153 (score = 0.55481)\n",
      "17 (score = 0.55038)\n",
      "171 (score = 0.53827)\n",
      "214 (score = 0.53586)\n",
      "222 (score = 0.53289)\n",
      "106 (score = 0.53205)\n",
      "62 (score = 0.52686)\n"
     ]
    },
    {
     "name": "stderr",
     "output_type": "stream",
     "text": [
      "\r",
      " 76%|█████████████████████████████▋         | 761/1000 [11:00<03:18,  1.21it/s]"
     ]
    },
    {
     "name": "stdout",
     "output_type": "stream",
     "text": [
      "66 (score = 0.69527)\n",
      "105 (score = 0.60513)\n",
      "153 (score = 0.57805)\n",
      "17 (score = 0.56695)\n",
      "171 (score = 0.56104)\n",
      "214 (score = 0.55023)\n",
      "222 (score = 0.54853)\n",
      "106 (score = 0.54577)\n",
      "62 (score = 0.54042)\n"
     ]
    },
    {
     "name": "stderr",
     "output_type": "stream",
     "text": [
      "\r",
      " 76%|█████████████████████████████▋         | 762/1000 [11:01<03:16,  1.21it/s]"
     ]
    },
    {
     "name": "stdout",
     "output_type": "stream",
     "text": [
      "66 (score = 0.63390)\n",
      "105 (score = 0.57967)\n",
      "153 (score = 0.56020)\n",
      "106 (score = 0.53897)\n",
      "17 (score = 0.53893)\n",
      "171 (score = 0.53214)\n",
      "214 (score = 0.53173)\n",
      "222 (score = 0.53055)\n",
      "138 (score = 0.52621)\n"
     ]
    },
    {
     "name": "stderr",
     "output_type": "stream",
     "text": [
      "\r",
      " 76%|█████████████████████████████▊         | 763/1000 [11:02<03:13,  1.22it/s]"
     ]
    },
    {
     "name": "stdout",
     "output_type": "stream",
     "text": [
      "66 (score = 0.64161)\n",
      "105 (score = 0.57257)\n",
      "153 (score = 0.55314)\n",
      "17 (score = 0.55050)\n",
      "171 (score = 0.54018)\n",
      "106 (score = 0.53553)\n",
      "214 (score = 0.53181)\n",
      "222 (score = 0.52736)\n",
      "62 (score = 0.52543)\n"
     ]
    },
    {
     "name": "stderr",
     "output_type": "stream",
     "text": [
      "\r",
      " 76%|█████████████████████████████▊         | 764/1000 [11:03<03:11,  1.23it/s]"
     ]
    },
    {
     "name": "stdout",
     "output_type": "stream",
     "text": [
      "66 (score = 0.65539)\n",
      "105 (score = 0.58627)\n",
      "153 (score = 0.56114)\n",
      "17 (score = 0.55537)\n",
      "171 (score = 0.54718)\n",
      "214 (score = 0.53987)\n",
      "106 (score = 0.53525)\n",
      "222 (score = 0.53344)\n",
      "62 (score = 0.52773)\n"
     ]
    },
    {
     "name": "stderr",
     "output_type": "stream",
     "text": [
      "\r",
      " 76%|█████████████████████████████▊         | 765/1000 [11:04<03:14,  1.21it/s]"
     ]
    },
    {
     "name": "stdout",
     "output_type": "stream",
     "text": [
      "66 (score = 0.68703)\n",
      "105 (score = 0.60381)\n",
      "153 (score = 0.57554)\n",
      "17 (score = 0.56420)\n",
      "171 (score = 0.55719)\n",
      "106 (score = 0.54824)\n",
      "214 (score = 0.54647)\n",
      "222 (score = 0.53825)\n",
      "138 (score = 0.53406)\n"
     ]
    },
    {
     "name": "stderr",
     "output_type": "stream",
     "text": [
      "\r",
      " 77%|█████████████████████████████▊         | 766/1000 [11:05<03:20,  1.17it/s]"
     ]
    },
    {
     "name": "stdout",
     "output_type": "stream",
     "text": [
      "66 (score = 0.67318)\n",
      "105 (score = 0.59357)\n",
      "153 (score = 0.57380)\n",
      "17 (score = 0.55998)\n",
      "214 (score = 0.54393)\n",
      "106 (score = 0.54378)\n",
      "171 (score = 0.54357)\n",
      "222 (score = 0.53660)\n",
      "138 (score = 0.53075)\n"
     ]
    },
    {
     "name": "stderr",
     "output_type": "stream",
     "text": [
      "\r",
      " 77%|█████████████████████████████▉         | 767/1000 [11:05<03:22,  1.15it/s]"
     ]
    },
    {
     "name": "stdout",
     "output_type": "stream",
     "text": [
      "66 (score = 0.66830)\n",
      "105 (score = 0.59409)\n",
      "153 (score = 0.56963)\n",
      "17 (score = 0.55275)\n",
      "214 (score = 0.54590)\n",
      "171 (score = 0.54557)\n",
      "106 (score = 0.53684)\n",
      "222 (score = 0.53490)\n",
      "62 (score = 0.52981)\n"
     ]
    },
    {
     "name": "stderr",
     "output_type": "stream",
     "text": [
      "\r",
      " 77%|█████████████████████████████▉         | 768/1000 [11:06<03:18,  1.17it/s]"
     ]
    },
    {
     "name": "stdout",
     "output_type": "stream",
     "text": [
      "66 (score = 0.70113)\n",
      "105 (score = 0.61016)\n",
      "153 (score = 0.58146)\n",
      "17 (score = 0.56589)\n",
      "171 (score = 0.55929)\n",
      "214 (score = 0.54926)\n",
      "106 (score = 0.54664)\n",
      "222 (score = 0.54357)\n",
      "138 (score = 0.53916)\n"
     ]
    },
    {
     "name": "stderr",
     "output_type": "stream",
     "text": [
      "\r",
      " 77%|█████████████████████████████▉         | 769/1000 [11:07<03:14,  1.19it/s]"
     ]
    },
    {
     "name": "stdout",
     "output_type": "stream",
     "text": [
      "66 (score = 0.67703)\n",
      "105 (score = 0.58805)\n",
      "153 (score = 0.56871)\n",
      "17 (score = 0.55883)\n",
      "171 (score = 0.55172)\n",
      "214 (score = 0.54299)\n",
      "222 (score = 0.53568)\n",
      "106 (score = 0.53560)\n",
      "138 (score = 0.53445)\n"
     ]
    },
    {
     "name": "stderr",
     "output_type": "stream",
     "text": [
      "\r",
      " 77%|██████████████████████████████         | 770/1000 [11:08<03:11,  1.20it/s]"
     ]
    },
    {
     "name": "stdout",
     "output_type": "stream",
     "text": [
      "66 (score = 0.67380)\n",
      "105 (score = 0.59645)\n",
      "153 (score = 0.57439)\n",
      "17 (score = 0.56421)\n",
      "171 (score = 0.54941)\n",
      "214 (score = 0.54112)\n",
      "106 (score = 0.53901)\n",
      "222 (score = 0.53671)\n",
      "62 (score = 0.53181)\n"
     ]
    },
    {
     "name": "stderr",
     "output_type": "stream",
     "text": [
      "\r",
      " 77%|██████████████████████████████         | 771/1000 [11:09<03:07,  1.22it/s]"
     ]
    },
    {
     "name": "stdout",
     "output_type": "stream",
     "text": [
      "66 (score = 0.66168)\n",
      "105 (score = 0.59109)\n",
      "153 (score = 0.56451)\n",
      "17 (score = 0.55438)\n",
      "171 (score = 0.54290)\n",
      "214 (score = 0.54125)\n",
      "106 (score = 0.53971)\n",
      "222 (score = 0.53528)\n",
      "138 (score = 0.52865)\n"
     ]
    },
    {
     "name": "stderr",
     "output_type": "stream",
     "text": [
      "\r",
      " 77%|██████████████████████████████         | 772/1000 [11:09<03:04,  1.24it/s]"
     ]
    },
    {
     "name": "stdout",
     "output_type": "stream",
     "text": [
      "66 (score = 0.65538)\n",
      "105 (score = 0.58611)\n",
      "153 (score = 0.56530)\n",
      "17 (score = 0.54967)\n",
      "171 (score = 0.54082)\n",
      "214 (score = 0.53693)\n",
      "106 (score = 0.53642)\n",
      "222 (score = 0.53340)\n",
      "138 (score = 0.52505)\n"
     ]
    },
    {
     "name": "stderr",
     "output_type": "stream",
     "text": [
      "\r",
      " 77%|██████████████████████████████▏        | 773/1000 [11:10<03:00,  1.26it/s]"
     ]
    },
    {
     "name": "stdout",
     "output_type": "stream",
     "text": [
      "66 (score = 0.71074)\n",
      "105 (score = 0.62249)\n",
      "153 (score = 0.58799)\n",
      "17 (score = 0.57072)\n",
      "214 (score = 0.56040)\n",
      "171 (score = 0.55680)\n",
      "106 (score = 0.55550)\n",
      "222 (score = 0.54143)\n",
      "138 (score = 0.54037)\n"
     ]
    },
    {
     "name": "stderr",
     "output_type": "stream",
     "text": [
      "\r",
      " 77%|██████████████████████████████▏        | 774/1000 [11:11<03:00,  1.25it/s]"
     ]
    },
    {
     "name": "stdout",
     "output_type": "stream",
     "text": [
      "66 (score = 0.65318)\n",
      "105 (score = 0.57850)\n",
      "153 (score = 0.55904)\n",
      "17 (score = 0.55163)\n",
      "171 (score = 0.54344)\n",
      "106 (score = 0.53762)\n",
      "214 (score = 0.53441)\n",
      "222 (score = 0.52991)\n",
      "19 (score = 0.52853)\n"
     ]
    },
    {
     "name": "stderr",
     "output_type": "stream",
     "text": [
      "\r",
      " 78%|██████████████████████████████▏        | 775/1000 [11:12<02:57,  1.27it/s]"
     ]
    },
    {
     "name": "stdout",
     "output_type": "stream",
     "text": [
      "66 (score = 0.69580)\n",
      "105 (score = 0.62286)\n",
      "153 (score = 0.59131)\n",
      "17 (score = 0.56771)\n",
      "171 (score = 0.55767)\n",
      "106 (score = 0.55431)\n",
      "222 (score = 0.54511)\n",
      "214 (score = 0.54421)\n",
      "138 (score = 0.54001)\n"
     ]
    },
    {
     "name": "stderr",
     "output_type": "stream",
     "text": [
      "\r",
      " 78%|██████████████████████████████▎        | 776/1000 [11:13<02:58,  1.25it/s]"
     ]
    },
    {
     "name": "stdout",
     "output_type": "stream",
     "text": [
      "66 (score = 0.61299)\n",
      "105 (score = 0.55701)\n",
      "153 (score = 0.54005)\n",
      "171 (score = 0.53628)\n",
      "17 (score = 0.53576)\n",
      "214 (score = 0.53068)\n",
      "106 (score = 0.52740)\n",
      "222 (score = 0.52232)\n",
      "19 (score = 0.52065)\n"
     ]
    },
    {
     "name": "stderr",
     "output_type": "stream",
     "text": [
      "\r",
      " 78%|██████████████████████████████▎        | 777/1000 [11:14<03:01,  1.23it/s]"
     ]
    },
    {
     "name": "stdout",
     "output_type": "stream",
     "text": [
      "66 (score = 0.65728)\n",
      "105 (score = 0.58893)\n",
      "153 (score = 0.56761)\n",
      "17 (score = 0.55440)\n",
      "171 (score = 0.54722)\n",
      "106 (score = 0.54258)\n",
      "214 (score = 0.53873)\n",
      "222 (score = 0.53563)\n",
      "138 (score = 0.52981)\n"
     ]
    },
    {
     "name": "stderr",
     "output_type": "stream",
     "text": [
      "\r",
      " 78%|██████████████████████████████▎        | 778/1000 [11:14<03:03,  1.21it/s]"
     ]
    },
    {
     "name": "stdout",
     "output_type": "stream",
     "text": [
      "66 (score = 0.66283)\n",
      "105 (score = 0.59085)\n",
      "153 (score = 0.56562)\n",
      "17 (score = 0.55286)\n",
      "171 (score = 0.54548)\n",
      "214 (score = 0.54078)\n",
      "106 (score = 0.53934)\n",
      "222 (score = 0.53575)\n",
      "62 (score = 0.53064)\n"
     ]
    },
    {
     "name": "stderr",
     "output_type": "stream",
     "text": [
      "\r",
      " 78%|██████████████████████████████▍        | 779/1000 [11:15<03:01,  1.22it/s]"
     ]
    },
    {
     "name": "stdout",
     "output_type": "stream",
     "text": [
      "66 (score = 0.64558)\n",
      "105 (score = 0.57504)\n",
      "153 (score = 0.55508)\n",
      "17 (score = 0.54919)\n",
      "171 (score = 0.54521)\n",
      "214 (score = 0.53655)\n",
      "106 (score = 0.53612)\n",
      "222 (score = 0.52883)\n",
      "62 (score = 0.52308)\n"
     ]
    },
    {
     "name": "stderr",
     "output_type": "stream",
     "text": [
      "\r",
      " 78%|██████████████████████████████▍        | 780/1000 [11:16<02:58,  1.23it/s]"
     ]
    },
    {
     "name": "stdout",
     "output_type": "stream",
     "text": [
      "66 (score = 0.68519)\n",
      "105 (score = 0.60671)\n",
      "153 (score = 0.58701)\n",
      "17 (score = 0.56430)\n",
      "171 (score = 0.55573)\n",
      "106 (score = 0.54960)\n",
      "214 (score = 0.54705)\n",
      "222 (score = 0.54315)\n",
      "138 (score = 0.53267)\n"
     ]
    },
    {
     "name": "stderr",
     "output_type": "stream",
     "text": [
      "\r",
      " 78%|██████████████████████████████▍        | 781/1000 [11:17<02:59,  1.22it/s]"
     ]
    },
    {
     "name": "stdout",
     "output_type": "stream",
     "text": [
      "66 (score = 0.70981)\n",
      "105 (score = 0.61990)\n",
      "153 (score = 0.59177)\n",
      "17 (score = 0.57123)\n",
      "171 (score = 0.55840)\n",
      "214 (score = 0.55314)\n",
      "106 (score = 0.55245)\n",
      "222 (score = 0.54807)\n",
      "138 (score = 0.54164)\n"
     ]
    },
    {
     "name": "stderr",
     "output_type": "stream",
     "text": [
      "\r",
      " 78%|██████████████████████████████▍        | 782/1000 [11:18<03:01,  1.20it/s]"
     ]
    },
    {
     "name": "stdout",
     "output_type": "stream",
     "text": [
      "66 (score = 0.66991)\n",
      "105 (score = 0.59543)\n",
      "153 (score = 0.56733)\n",
      "17 (score = 0.55834)\n",
      "171 (score = 0.54788)\n",
      "214 (score = 0.54022)\n",
      "106 (score = 0.53951)\n",
      "222 (score = 0.53820)\n",
      "62 (score = 0.52973)\n"
     ]
    },
    {
     "name": "stderr",
     "output_type": "stream",
     "text": [
      "\r",
      " 78%|██████████████████████████████▌        | 783/1000 [11:18<03:01,  1.20it/s]"
     ]
    },
    {
     "name": "stdout",
     "output_type": "stream",
     "text": [
      "66 (score = 0.61600)\n",
      "105 (score = 0.55911)\n",
      "17 (score = 0.54435)\n",
      "153 (score = 0.54290)\n",
      "171 (score = 0.53432)\n",
      "214 (score = 0.52844)\n",
      "106 (score = 0.52808)\n",
      "222 (score = 0.52517)\n",
      "19 (score = 0.52371)\n"
     ]
    },
    {
     "name": "stderr",
     "output_type": "stream",
     "text": [
      "\r",
      " 78%|██████████████████████████████▌        | 784/1000 [11:19<02:58,  1.21it/s]"
     ]
    },
    {
     "name": "stdout",
     "output_type": "stream",
     "text": [
      "66 (score = 0.63635)\n",
      "105 (score = 0.57244)\n",
      "153 (score = 0.55198)\n",
      "17 (score = 0.54811)\n",
      "171 (score = 0.53488)\n",
      "106 (score = 0.53122)\n",
      "222 (score = 0.52792)\n",
      "214 (score = 0.52687)\n",
      "62 (score = 0.52532)\n"
     ]
    },
    {
     "name": "stderr",
     "output_type": "stream",
     "text": [
      "\r",
      " 78%|██████████████████████████████▌        | 785/1000 [11:20<02:54,  1.23it/s]"
     ]
    },
    {
     "name": "stdout",
     "output_type": "stream",
     "text": [
      "66 (score = 0.62322)\n",
      "105 (score = 0.57303)\n",
      "153 (score = 0.55313)\n",
      "17 (score = 0.54345)\n",
      "106 (score = 0.53474)\n",
      "171 (score = 0.53390)\n",
      "214 (score = 0.53027)\n",
      "222 (score = 0.52840)\n",
      "138 (score = 0.52520)\n"
     ]
    },
    {
     "name": "stderr",
     "output_type": "stream",
     "text": [
      "\r",
      " 79%|██████████████████████████████▋        | 786/1000 [11:21<02:52,  1.24it/s]"
     ]
    },
    {
     "name": "stdout",
     "output_type": "stream",
     "text": [
      "66 (score = 0.67343)\n",
      "105 (score = 0.59940)\n",
      "153 (score = 0.57477)\n",
      "17 (score = 0.55601)\n",
      "171 (score = 0.54856)\n",
      "106 (score = 0.54783)\n",
      "214 (score = 0.54254)\n",
      "222 (score = 0.53861)\n",
      "138 (score = 0.53436)\n"
     ]
    },
    {
     "name": "stderr",
     "output_type": "stream",
     "text": [
      "\r",
      " 79%|██████████████████████████████▋        | 787/1000 [11:22<02:49,  1.26it/s]"
     ]
    },
    {
     "name": "stdout",
     "output_type": "stream",
     "text": [
      "66 (score = 0.66065)\n",
      "105 (score = 0.58737)\n",
      "153 (score = 0.56164)\n",
      "17 (score = 0.55477)\n",
      "171 (score = 0.54431)\n",
      "214 (score = 0.53981)\n",
      "106 (score = 0.53559)\n",
      "62 (score = 0.53269)\n",
      "222 (score = 0.53258)\n"
     ]
    },
    {
     "name": "stderr",
     "output_type": "stream",
     "text": [
      "\r",
      " 79%|██████████████████████████████▋        | 788/1000 [11:22<02:51,  1.23it/s]"
     ]
    },
    {
     "name": "stdout",
     "output_type": "stream",
     "text": [
      "66 (score = 0.68495)\n",
      "105 (score = 0.60368)\n",
      "153 (score = 0.57892)\n",
      "17 (score = 0.56096)\n",
      "171 (score = 0.54877)\n",
      "222 (score = 0.54534)\n",
      "106 (score = 0.54534)\n",
      "214 (score = 0.54240)\n",
      "138 (score = 0.53459)\n"
     ]
    },
    {
     "name": "stderr",
     "output_type": "stream",
     "text": [
      "\r",
      " 79%|██████████████████████████████▊        | 789/1000 [11:23<02:52,  1.22it/s]"
     ]
    },
    {
     "name": "stdout",
     "output_type": "stream",
     "text": [
      "66 (score = 0.70291)\n",
      "105 (score = 0.62065)\n",
      "153 (score = 0.59385)\n",
      "17 (score = 0.57470)\n",
      "171 (score = 0.56251)\n",
      "106 (score = 0.55801)\n",
      "214 (score = 0.54868)\n",
      "222 (score = 0.54120)\n",
      "138 (score = 0.54021)\n"
     ]
    },
    {
     "name": "stderr",
     "output_type": "stream",
     "text": [
      "\r",
      " 79%|██████████████████████████████▊        | 790/1000 [11:24<02:51,  1.22it/s]"
     ]
    },
    {
     "name": "stdout",
     "output_type": "stream",
     "text": [
      "66 (score = 0.69212)\n",
      "105 (score = 0.61204)\n",
      "153 (score = 0.58372)\n",
      "17 (score = 0.56590)\n",
      "214 (score = 0.54874)\n",
      "171 (score = 0.54854)\n",
      "106 (score = 0.54810)\n",
      "222 (score = 0.54290)\n",
      "138 (score = 0.54221)\n"
     ]
    },
    {
     "name": "stderr",
     "output_type": "stream",
     "text": [
      "\r",
      " 79%|██████████████████████████████▊        | 791/1000 [11:25<02:50,  1.23it/s]"
     ]
    },
    {
     "name": "stdout",
     "output_type": "stream",
     "text": [
      "66 (score = 0.65240)\n",
      "105 (score = 0.58624)\n",
      "153 (score = 0.56754)\n",
      "17 (score = 0.55356)\n",
      "171 (score = 0.54675)\n",
      "106 (score = 0.54020)\n",
      "214 (score = 0.53549)\n",
      "222 (score = 0.53291)\n",
      "138 (score = 0.52998)\n"
     ]
    },
    {
     "name": "stderr",
     "output_type": "stream",
     "text": [
      "\r",
      " 79%|██████████████████████████████▉        | 792/1000 [11:26<02:52,  1.21it/s]"
     ]
    },
    {
     "name": "stdout",
     "output_type": "stream",
     "text": [
      "66 (score = 0.65320)\n",
      "105 (score = 0.59028)\n",
      "153 (score = 0.56713)\n",
      "17 (score = 0.55269)\n",
      "171 (score = 0.54187)\n",
      "106 (score = 0.54113)\n",
      "214 (score = 0.53773)\n",
      "222 (score = 0.53391)\n",
      "113 (score = 0.52546)\n"
     ]
    },
    {
     "name": "stderr",
     "output_type": "stream",
     "text": [
      "\r",
      " 79%|██████████████████████████████▉        | 793/1000 [11:27<02:48,  1.23it/s]"
     ]
    },
    {
     "name": "stdout",
     "output_type": "stream",
     "text": [
      "66 (score = 0.66578)\n",
      "105 (score = 0.59156)\n",
      "153 (score = 0.56998)\n",
      "17 (score = 0.55398)\n",
      "106 (score = 0.54475)\n",
      "171 (score = 0.54409)\n",
      "222 (score = 0.53694)\n",
      "214 (score = 0.53591)\n",
      "138 (score = 0.53269)\n"
     ]
    },
    {
     "name": "stderr",
     "output_type": "stream",
     "text": [
      "\r",
      " 79%|██████████████████████████████▉        | 794/1000 [11:27<02:50,  1.21it/s]"
     ]
    },
    {
     "name": "stdout",
     "output_type": "stream",
     "text": [
      "66 (score = 0.68407)\n",
      "105 (score = 0.60717)\n",
      "153 (score = 0.58177)\n",
      "17 (score = 0.56316)\n",
      "171 (score = 0.55146)\n",
      "214 (score = 0.54915)\n",
      "106 (score = 0.54874)\n",
      "222 (score = 0.54399)\n",
      "138 (score = 0.54235)\n"
     ]
    },
    {
     "name": "stderr",
     "output_type": "stream",
     "text": [
      "\r",
      " 80%|███████████████████████████████        | 795/1000 [11:28<02:55,  1.17it/s]"
     ]
    },
    {
     "name": "stdout",
     "output_type": "stream",
     "text": [
      "66 (score = 0.68913)\n",
      "105 (score = 0.60413)\n",
      "153 (score = 0.58055)\n",
      "171 (score = 0.55665)\n",
      "17 (score = 0.55464)\n",
      "214 (score = 0.55151)\n",
      "106 (score = 0.54557)\n",
      "222 (score = 0.54192)\n",
      "138 (score = 0.53818)\n"
     ]
    },
    {
     "name": "stderr",
     "output_type": "stream",
     "text": [
      "\r",
      " 80%|███████████████████████████████        | 796/1000 [11:29<02:54,  1.17it/s]"
     ]
    },
    {
     "name": "stdout",
     "output_type": "stream",
     "text": [
      "66 (score = 0.69489)\n",
      "105 (score = 0.60661)\n",
      "153 (score = 0.58387)\n",
      "17 (score = 0.56699)\n",
      "171 (score = 0.55637)\n",
      "106 (score = 0.54988)\n",
      "214 (score = 0.54463)\n",
      "222 (score = 0.54439)\n",
      "138 (score = 0.53580)\n"
     ]
    },
    {
     "name": "stderr",
     "output_type": "stream",
     "text": [
      "\r",
      " 80%|███████████████████████████████        | 797/1000 [11:30<02:51,  1.18it/s]"
     ]
    },
    {
     "name": "stdout",
     "output_type": "stream",
     "text": [
      "66 (score = 0.64643)\n",
      "105 (score = 0.57933)\n",
      "153 (score = 0.56335)\n",
      "17 (score = 0.55210)\n",
      "171 (score = 0.54043)\n",
      "214 (score = 0.53603)\n",
      "106 (score = 0.53117)\n",
      "222 (score = 0.52995)\n",
      "62 (score = 0.52866)\n"
     ]
    },
    {
     "name": "stderr",
     "output_type": "stream",
     "text": [
      "\r",
      " 80%|███████████████████████████████        | 798/1000 [11:31<02:46,  1.21it/s]"
     ]
    },
    {
     "name": "stdout",
     "output_type": "stream",
     "text": [
      "66 (score = 0.64423)\n",
      "105 (score = 0.58960)\n",
      "153 (score = 0.56232)\n",
      "17 (score = 0.54934)\n",
      "106 (score = 0.54233)\n",
      "171 (score = 0.53954)\n",
      "214 (score = 0.53442)\n",
      "222 (score = 0.53399)\n",
      "138 (score = 0.52763)\n"
     ]
    },
    {
     "name": "stderr",
     "output_type": "stream",
     "text": [
      "\r",
      " 80%|███████████████████████████████▏       | 799/1000 [11:32<02:46,  1.21it/s]"
     ]
    },
    {
     "name": "stdout",
     "output_type": "stream",
     "text": [
      "66 (score = 0.69812)\n",
      "105 (score = 0.61449)\n",
      "153 (score = 0.58338)\n",
      "17 (score = 0.57069)\n",
      "171 (score = 0.55198)\n",
      "106 (score = 0.55024)\n",
      "214 (score = 0.54176)\n",
      "222 (score = 0.54148)\n",
      "138 (score = 0.54048)\n"
     ]
    },
    {
     "name": "stderr",
     "output_type": "stream",
     "text": [
      "\r",
      " 80%|███████████████████████████████▏       | 800/1000 [11:33<02:47,  1.19it/s]"
     ]
    },
    {
     "name": "stdout",
     "output_type": "stream",
     "text": [
      "66 (score = 0.67592)\n",
      "105 (score = 0.60317)\n",
      "153 (score = 0.57297)\n",
      "17 (score = 0.56422)\n",
      "171 (score = 0.55132)\n",
      "214 (score = 0.54496)\n",
      "106 (score = 0.54173)\n",
      "222 (score = 0.53868)\n",
      "138 (score = 0.53236)\n"
     ]
    },
    {
     "name": "stderr",
     "output_type": "stream",
     "text": [
      "\r",
      " 80%|███████████████████████████████▏       | 801/1000 [11:33<02:43,  1.21it/s]"
     ]
    },
    {
     "name": "stdout",
     "output_type": "stream",
     "text": [
      "66 (score = 0.64184)\n",
      "105 (score = 0.57625)\n",
      "153 (score = 0.55379)\n",
      "17 (score = 0.54623)\n",
      "171 (score = 0.54137)\n",
      "214 (score = 0.53431)\n",
      "106 (score = 0.53396)\n",
      "222 (score = 0.53028)\n",
      "62 (score = 0.52590)\n"
     ]
    },
    {
     "name": "stderr",
     "output_type": "stream",
     "text": [
      "\r",
      " 80%|███████████████████████████████▎       | 802/1000 [11:34<02:44,  1.20it/s]"
     ]
    },
    {
     "name": "stdout",
     "output_type": "stream",
     "text": [
      "66 (score = 0.60706)\n",
      "105 (score = 0.55012)\n",
      "17 (score = 0.53343)\n",
      "153 (score = 0.53323)\n",
      "214 (score = 0.52809)\n",
      "171 (score = 0.52515)\n",
      "106 (score = 0.52375)\n",
      "62 (score = 0.51865)\n",
      "222 (score = 0.51802)\n"
     ]
    },
    {
     "name": "stderr",
     "output_type": "stream",
     "text": [
      "\r",
      " 80%|███████████████████████████████▎       | 803/1000 [11:35<02:45,  1.19it/s]"
     ]
    },
    {
     "name": "stdout",
     "output_type": "stream",
     "text": [
      "66 (score = 0.68041)\n",
      "105 (score = 0.61322)\n",
      "153 (score = 0.57692)\n",
      "17 (score = 0.56299)\n",
      "106 (score = 0.55363)\n",
      "171 (score = 0.54762)\n",
      "214 (score = 0.54581)\n",
      "138 (score = 0.53939)\n",
      "222 (score = 0.53603)\n"
     ]
    },
    {
     "name": "stderr",
     "output_type": "stream",
     "text": [
      "\r",
      " 80%|███████████████████████████████▎       | 804/1000 [11:36<02:51,  1.14it/s]"
     ]
    },
    {
     "name": "stdout",
     "output_type": "stream",
     "text": [
      "66 (score = 0.68710)\n",
      "105 (score = 0.59836)\n",
      "153 (score = 0.57660)\n",
      "17 (score = 0.56280)\n",
      "171 (score = 0.55489)\n",
      "214 (score = 0.54749)\n",
      "106 (score = 0.54508)\n",
      "222 (score = 0.54009)\n",
      "138 (score = 0.53580)\n"
     ]
    },
    {
     "name": "stderr",
     "output_type": "stream",
     "text": [
      "\r",
      " 80%|███████████████████████████████▍       | 805/1000 [11:37<02:50,  1.14it/s]"
     ]
    },
    {
     "name": "stdout",
     "output_type": "stream",
     "text": [
      "66 (score = 0.64878)\n",
      "105 (score = 0.58295)\n",
      "153 (score = 0.56204)\n",
      "17 (score = 0.55199)\n",
      "171 (score = 0.54007)\n",
      "214 (score = 0.53795)\n",
      "106 (score = 0.53286)\n",
      "222 (score = 0.53090)\n",
      "138 (score = 0.52815)\n"
     ]
    },
    {
     "name": "stderr",
     "output_type": "stream",
     "text": [
      "\r",
      " 81%|███████████████████████████████▍       | 806/1000 [11:38<02:49,  1.14it/s]"
     ]
    },
    {
     "name": "stdout",
     "output_type": "stream",
     "text": [
      "66 (score = 0.74670)\n",
      "105 (score = 0.64121)\n",
      "153 (score = 0.61374)\n",
      "17 (score = 0.58499)\n",
      "171 (score = 0.56698)\n",
      "214 (score = 0.56465)\n",
      "106 (score = 0.56309)\n",
      "222 (score = 0.55241)\n",
      "138 (score = 0.54378)\n"
     ]
    },
    {
     "name": "stderr",
     "output_type": "stream",
     "text": [
      "\r",
      " 81%|███████████████████████████████▍       | 807/1000 [11:39<02:56,  1.10it/s]"
     ]
    },
    {
     "name": "stdout",
     "output_type": "stream",
     "text": [
      "66 (score = 0.67171)\n",
      "105 (score = 0.60284)\n",
      "153 (score = 0.57074)\n",
      "17 (score = 0.55440)\n",
      "214 (score = 0.54470)\n",
      "106 (score = 0.54438)\n",
      "171 (score = 0.54251)\n",
      "222 (score = 0.53628)\n",
      "138 (score = 0.53405)\n"
     ]
    },
    {
     "name": "stderr",
     "output_type": "stream",
     "text": [
      "\r",
      " 81%|███████████████████████████████▌       | 808/1000 [11:40<02:51,  1.12it/s]"
     ]
    },
    {
     "name": "stdout",
     "output_type": "stream",
     "text": [
      "66 (score = 0.64262)\n",
      "105 (score = 0.58002)\n",
      "153 (score = 0.55975)\n",
      "17 (score = 0.54922)\n",
      "171 (score = 0.53983)\n",
      "106 (score = 0.53825)\n",
      "214 (score = 0.53292)\n",
      "222 (score = 0.52855)\n",
      "138 (score = 0.52740)\n"
     ]
    },
    {
     "name": "stderr",
     "output_type": "stream",
     "text": [
      "\r",
      " 81%|███████████████████████████████▌       | 809/1000 [11:41<02:54,  1.10it/s]"
     ]
    },
    {
     "name": "stdout",
     "output_type": "stream",
     "text": [
      "66 (score = 0.71414)\n",
      "105 (score = 0.62396)\n",
      "153 (score = 0.58974)\n",
      "17 (score = 0.57196)\n",
      "171 (score = 0.56096)\n",
      "214 (score = 0.55260)\n",
      "106 (score = 0.55224)\n",
      "222 (score = 0.55049)\n",
      "62 (score = 0.54141)\n"
     ]
    },
    {
     "name": "stderr",
     "output_type": "stream",
     "text": [
      "\r",
      " 81%|███████████████████████████████▌       | 810/1000 [11:42<02:57,  1.07it/s]"
     ]
    },
    {
     "name": "stdout",
     "output_type": "stream",
     "text": [
      "66 (score = 0.66573)\n",
      "105 (score = 0.59475)\n",
      "153 (score = 0.57393)\n",
      "17 (score = 0.55895)\n",
      "171 (score = 0.55290)\n",
      "214 (score = 0.54423)\n",
      "106 (score = 0.53701)\n",
      "222 (score = 0.53603)\n",
      "138 (score = 0.53409)\n"
     ]
    },
    {
     "name": "stderr",
     "output_type": "stream",
     "text": [
      "\r",
      " 81%|███████████████████████████████▋       | 811/1000 [11:42<02:49,  1.11it/s]"
     ]
    },
    {
     "name": "stdout",
     "output_type": "stream",
     "text": [
      "66 (score = 0.62192)\n",
      "105 (score = 0.56879)\n",
      "153 (score = 0.54978)\n",
      "17 (score = 0.54164)\n",
      "106 (score = 0.53228)\n",
      "171 (score = 0.53167)\n",
      "214 (score = 0.52946)\n",
      "62 (score = 0.52521)\n",
      "222 (score = 0.52489)\n"
     ]
    },
    {
     "name": "stderr",
     "output_type": "stream",
     "text": [
      "\r",
      " 81%|███████████████████████████████▋       | 812/1000 [11:43<02:41,  1.17it/s]"
     ]
    },
    {
     "name": "stdout",
     "output_type": "stream",
     "text": [
      "66 (score = 0.62936)\n",
      "105 (score = 0.56476)\n",
      "17 (score = 0.54489)\n",
      "153 (score = 0.54414)\n",
      "171 (score = 0.53587)\n",
      "106 (score = 0.53213)\n",
      "214 (score = 0.52922)\n",
      "222 (score = 0.52599)\n",
      "62 (score = 0.52318)\n"
     ]
    },
    {
     "name": "stderr",
     "output_type": "stream",
     "text": [
      "\r",
      " 81%|███████████████████████████████▋       | 813/1000 [11:44<02:36,  1.20it/s]"
     ]
    },
    {
     "name": "stdout",
     "output_type": "stream",
     "text": [
      "66 (score = 0.65577)\n",
      "105 (score = 0.59587)\n",
      "153 (score = 0.57219)\n",
      "17 (score = 0.54984)\n",
      "106 (score = 0.54704)\n",
      "214 (score = 0.54459)\n",
      "171 (score = 0.54138)\n",
      "138 (score = 0.53540)\n",
      "222 (score = 0.53524)\n"
     ]
    },
    {
     "name": "stderr",
     "output_type": "stream",
     "text": [
      "\r",
      " 81%|███████████████████████████████▋       | 814/1000 [11:45<02:32,  1.22it/s]"
     ]
    },
    {
     "name": "stdout",
     "output_type": "stream",
     "text": [
      "66 (score = 0.61586)\n",
      "105 (score = 0.56190)\n",
      "153 (score = 0.54232)\n",
      "17 (score = 0.53871)\n",
      "171 (score = 0.53748)\n",
      "214 (score = 0.53155)\n",
      "106 (score = 0.53023)\n",
      "222 (score = 0.52474)\n",
      "138 (score = 0.52097)\n"
     ]
    },
    {
     "name": "stderr",
     "output_type": "stream",
     "text": [
      "\r",
      " 82%|███████████████████████████████▊       | 815/1000 [11:46<02:33,  1.21it/s]"
     ]
    },
    {
     "name": "stdout",
     "output_type": "stream",
     "text": [
      "66 (score = 0.64660)\n",
      "105 (score = 0.58286)\n",
      "153 (score = 0.56431)\n",
      "17 (score = 0.54607)\n",
      "171 (score = 0.54167)\n",
      "106 (score = 0.53925)\n",
      "214 (score = 0.53624)\n",
      "222 (score = 0.53164)\n",
      "138 (score = 0.52680)\n"
     ]
    },
    {
     "name": "stderr",
     "output_type": "stream",
     "text": [
      "\r",
      " 82%|███████████████████████████████▊       | 816/1000 [11:46<02:28,  1.24it/s]"
     ]
    },
    {
     "name": "stdout",
     "output_type": "stream",
     "text": [
      "66 (score = 0.66787)\n",
      "105 (score = 0.60099)\n",
      "153 (score = 0.57421)\n",
      "17 (score = 0.56174)\n",
      "171 (score = 0.54962)\n",
      "106 (score = 0.54630)\n",
      "222 (score = 0.54180)\n",
      "214 (score = 0.54020)\n",
      "138 (score = 0.53578)\n"
     ]
    },
    {
     "name": "stderr",
     "output_type": "stream",
     "text": [
      "\r",
      " 82%|███████████████████████████████▊       | 817/1000 [11:47<02:28,  1.23it/s]"
     ]
    },
    {
     "name": "stdout",
     "output_type": "stream",
     "text": [
      "66 (score = 0.65927)\n",
      "105 (score = 0.58636)\n",
      "153 (score = 0.56380)\n",
      "17 (score = 0.55304)\n",
      "171 (score = 0.54762)\n",
      "106 (score = 0.54123)\n",
      "214 (score = 0.54009)\n",
      "222 (score = 0.53382)\n",
      "138 (score = 0.52795)\n"
     ]
    },
    {
     "name": "stderr",
     "output_type": "stream",
     "text": [
      "\r",
      " 82%|███████████████████████████████▉       | 818/1000 [11:48<02:23,  1.26it/s]"
     ]
    },
    {
     "name": "stdout",
     "output_type": "stream",
     "text": [
      "66 (score = 0.63010)\n",
      "105 (score = 0.56982)\n",
      "153 (score = 0.55512)\n",
      "17 (score = 0.54240)\n",
      "214 (score = 0.53626)\n",
      "171 (score = 0.53480)\n",
      "106 (score = 0.53308)\n",
      "222 (score = 0.53182)\n",
      "62 (score = 0.52768)\n"
     ]
    },
    {
     "name": "stderr",
     "output_type": "stream",
     "text": [
      "\r",
      " 82%|███████████████████████████████▉       | 819/1000 [11:49<02:26,  1.23it/s]"
     ]
    },
    {
     "name": "stdout",
     "output_type": "stream",
     "text": [
      "66 (score = 0.67067)\n",
      "105 (score = 0.59173)\n",
      "153 (score = 0.57127)\n",
      "17 (score = 0.55523)\n",
      "106 (score = 0.54949)\n",
      "171 (score = 0.54801)\n",
      "214 (score = 0.54543)\n",
      "222 (score = 0.53105)\n",
      "62 (score = 0.53024)\n"
     ]
    },
    {
     "name": "stderr",
     "output_type": "stream",
     "text": [
      "\r",
      " 82%|███████████████████████████████▉       | 820/1000 [11:50<02:28,  1.21it/s]"
     ]
    },
    {
     "name": "stdout",
     "output_type": "stream",
     "text": [
      "66 (score = 0.64748)\n",
      "105 (score = 0.58015)\n",
      "153 (score = 0.55913)\n",
      "17 (score = 0.55347)\n",
      "106 (score = 0.54040)\n",
      "171 (score = 0.53691)\n",
      "214 (score = 0.53425)\n",
      "222 (score = 0.53074)\n",
      "62 (score = 0.52875)\n"
     ]
    },
    {
     "name": "stderr",
     "output_type": "stream",
     "text": [
      "\r",
      " 82%|████████████████████████████████       | 821/1000 [11:51<02:37,  1.14it/s]"
     ]
    },
    {
     "name": "stdout",
     "output_type": "stream",
     "text": [
      "66 (score = 0.66685)\n",
      "105 (score = 0.59222)\n",
      "153 (score = 0.57886)\n",
      "17 (score = 0.55849)\n",
      "171 (score = 0.54699)\n",
      "106 (score = 0.54684)\n",
      "214 (score = 0.53960)\n",
      "222 (score = 0.53679)\n",
      "138 (score = 0.53323)\n"
     ]
    },
    {
     "name": "stderr",
     "output_type": "stream",
     "text": [
      "\r",
      " 82%|████████████████████████████████       | 822/1000 [11:52<02:42,  1.10it/s]"
     ]
    },
    {
     "name": "stdout",
     "output_type": "stream",
     "text": [
      "66 (score = 0.63285)\n",
      "105 (score = 0.56872)\n",
      "153 (score = 0.54395)\n",
      "17 (score = 0.54389)\n",
      "171 (score = 0.53425)\n",
      "106 (score = 0.53392)\n",
      "214 (score = 0.52926)\n",
      "222 (score = 0.52509)\n",
      "62 (score = 0.52340)\n"
     ]
    },
    {
     "name": "stderr",
     "output_type": "stream",
     "text": [
      "\r",
      " 82%|████████████████████████████████       | 823/1000 [11:52<02:38,  1.12it/s]"
     ]
    },
    {
     "name": "stdout",
     "output_type": "stream",
     "text": [
      "66 (score = 0.62478)\n",
      "105 (score = 0.57201)\n",
      "153 (score = 0.55311)\n",
      "17 (score = 0.54247)\n",
      "171 (score = 0.53902)\n",
      "106 (score = 0.53687)\n",
      "214 (score = 0.53058)\n",
      "222 (score = 0.52908)\n",
      "138 (score = 0.52775)\n"
     ]
    },
    {
     "name": "stderr",
     "output_type": "stream",
     "text": [
      "\r",
      " 82%|████████████████████████████████▏      | 824/1000 [11:53<02:33,  1.15it/s]"
     ]
    },
    {
     "name": "stdout",
     "output_type": "stream",
     "text": [
      "66 (score = 0.65723)\n",
      "105 (score = 0.59264)\n",
      "153 (score = 0.56555)\n",
      "17 (score = 0.55252)\n",
      "171 (score = 0.54476)\n",
      "106 (score = 0.54476)\n",
      "214 (score = 0.53749)\n",
      "138 (score = 0.53494)\n",
      "222 (score = 0.53318)\n"
     ]
    },
    {
     "name": "stderr",
     "output_type": "stream",
     "text": [
      "\r",
      " 82%|████████████████████████████████▏      | 825/1000 [11:54<02:27,  1.19it/s]"
     ]
    },
    {
     "name": "stdout",
     "output_type": "stream",
     "text": [
      "66 (score = 0.70418)\n",
      "105 (score = 0.61356)\n",
      "153 (score = 0.58560)\n",
      "17 (score = 0.57017)\n",
      "171 (score = 0.56635)\n",
      "214 (score = 0.55060)\n",
      "106 (score = 0.54786)\n",
      "222 (score = 0.54150)\n",
      "138 (score = 0.53919)\n"
     ]
    },
    {
     "name": "stderr",
     "output_type": "stream",
     "text": [
      "\r",
      " 83%|████████████████████████████████▏      | 826/1000 [11:55<02:24,  1.20it/s]"
     ]
    },
    {
     "name": "stdout",
     "output_type": "stream",
     "text": [
      "66 (score = 0.68679)\n",
      "105 (score = 0.61118)\n",
      "153 (score = 0.58227)\n",
      "17 (score = 0.56011)\n",
      "171 (score = 0.54911)\n",
      "106 (score = 0.54867)\n",
      "214 (score = 0.54407)\n",
      "222 (score = 0.53985)\n",
      "138 (score = 0.53686)\n"
     ]
    },
    {
     "name": "stderr",
     "output_type": "stream",
     "text": [
      "\r",
      " 83%|████████████████████████████████▎      | 827/1000 [11:56<02:26,  1.18it/s]"
     ]
    },
    {
     "name": "stdout",
     "output_type": "stream",
     "text": [
      "66 (score = 0.65125)\n",
      "105 (score = 0.58332)\n",
      "153 (score = 0.55688)\n",
      "17 (score = 0.55199)\n",
      "171 (score = 0.54350)\n",
      "214 (score = 0.53825)\n",
      "106 (score = 0.53564)\n",
      "222 (score = 0.53071)\n",
      "62 (score = 0.52998)\n"
     ]
    },
    {
     "name": "stderr",
     "output_type": "stream",
     "text": [
      "\r",
      " 83%|████████████████████████████████▎      | 828/1000 [11:57<02:26,  1.18it/s]"
     ]
    },
    {
     "name": "stdout",
     "output_type": "stream",
     "text": [
      "66 (score = 0.70017)\n",
      "105 (score = 0.61339)\n",
      "153 (score = 0.58731)\n",
      "17 (score = 0.56549)\n",
      "171 (score = 0.55916)\n",
      "214 (score = 0.55134)\n",
      "222 (score = 0.54782)\n",
      "106 (score = 0.54567)\n",
      "138 (score = 0.53734)\n"
     ]
    },
    {
     "name": "stderr",
     "output_type": "stream",
     "text": [
      "\r",
      " 83%|████████████████████████████████▎      | 829/1000 [11:57<02:25,  1.17it/s]"
     ]
    },
    {
     "name": "stdout",
     "output_type": "stream",
     "text": [
      "66 (score = 0.67002)\n",
      "105 (score = 0.59261)\n",
      "153 (score = 0.56698)\n",
      "17 (score = 0.55974)\n",
      "171 (score = 0.55453)\n",
      "214 (score = 0.54429)\n",
      "106 (score = 0.54370)\n",
      "222 (score = 0.53542)\n",
      "19 (score = 0.53230)\n"
     ]
    },
    {
     "name": "stderr",
     "output_type": "stream",
     "text": [
      "\r",
      " 83%|████████████████████████████████▎      | 830/1000 [11:58<02:28,  1.14it/s]"
     ]
    },
    {
     "name": "stdout",
     "output_type": "stream",
     "text": [
      "66 (score = 0.60692)\n",
      "105 (score = 0.55651)\n",
      "153 (score = 0.55002)\n",
      "17 (score = 0.53703)\n",
      "171 (score = 0.52934)\n",
      "214 (score = 0.52872)\n",
      "106 (score = 0.52512)\n",
      "222 (score = 0.52022)\n",
      "138 (score = 0.51950)\n"
     ]
    },
    {
     "name": "stderr",
     "output_type": "stream",
     "text": [
      "\r",
      " 83%|████████████████████████████████▍      | 831/1000 [11:59<02:31,  1.12it/s]"
     ]
    },
    {
     "name": "stdout",
     "output_type": "stream",
     "text": [
      "66 (score = 0.68469)\n",
      "105 (score = 0.61089)\n",
      "153 (score = 0.57794)\n",
      "17 (score = 0.56207)\n",
      "106 (score = 0.54753)\n",
      "171 (score = 0.54619)\n",
      "214 (score = 0.54577)\n",
      "222 (score = 0.53798)\n",
      "138 (score = 0.53501)\n"
     ]
    },
    {
     "name": "stderr",
     "output_type": "stream",
     "text": [
      "\r",
      " 83%|████████████████████████████████▍      | 832/1000 [12:00<02:34,  1.09it/s]"
     ]
    },
    {
     "name": "stdout",
     "output_type": "stream",
     "text": [
      "66 (score = 0.72962)\n",
      "105 (score = 0.62838)\n",
      "153 (score = 0.60346)\n",
      "17 (score = 0.57916)\n",
      "171 (score = 0.56466)\n",
      "106 (score = 0.55607)\n",
      "214 (score = 0.55236)\n",
      "222 (score = 0.55039)\n",
      "138 (score = 0.54576)\n"
     ]
    },
    {
     "name": "stderr",
     "output_type": "stream",
     "text": [
      "\r",
      " 83%|████████████████████████████████▍      | 833/1000 [12:01<02:41,  1.03it/s]"
     ]
    },
    {
     "name": "stdout",
     "output_type": "stream",
     "text": [
      "66 (score = 0.65467)\n",
      "105 (score = 0.58205)\n",
      "153 (score = 0.55948)\n",
      "17 (score = 0.55313)\n",
      "171 (score = 0.55129)\n",
      "106 (score = 0.53706)\n",
      "214 (score = 0.53617)\n",
      "222 (score = 0.52925)\n",
      "138 (score = 0.52681)\n"
     ]
    },
    {
     "name": "stderr",
     "output_type": "stream",
     "text": [
      "\r",
      " 83%|████████████████████████████████▌      | 834/1000 [12:02<02:39,  1.04it/s]"
     ]
    },
    {
     "name": "stdout",
     "output_type": "stream",
     "text": [
      "66 (score = 0.64376)\n",
      "105 (score = 0.58342)\n",
      "153 (score = 0.56397)\n",
      "106 (score = 0.54578)\n",
      "17 (score = 0.54200)\n",
      "214 (score = 0.53784)\n",
      "171 (score = 0.53688)\n",
      "138 (score = 0.53044)\n",
      "222 (score = 0.52792)\n"
     ]
    },
    {
     "name": "stderr",
     "output_type": "stream",
     "text": [
      "\r",
      " 84%|████████████████████████████████▌      | 835/1000 [12:03<02:37,  1.05it/s]"
     ]
    },
    {
     "name": "stdout",
     "output_type": "stream",
     "text": [
      "66 (score = 0.70200)\n",
      "105 (score = 0.61523)\n",
      "153 (score = 0.58900)\n",
      "17 (score = 0.56498)\n",
      "214 (score = 0.55505)\n",
      "171 (score = 0.55439)\n",
      "222 (score = 0.54792)\n",
      "106 (score = 0.54698)\n",
      "138 (score = 0.54166)\n"
     ]
    },
    {
     "name": "stderr",
     "output_type": "stream",
     "text": [
      "\r",
      " 84%|████████████████████████████████▌      | 836/1000 [12:04<02:43,  1.00it/s]"
     ]
    },
    {
     "name": "stdout",
     "output_type": "stream",
     "text": [
      "66 (score = 0.61342)\n",
      "105 (score = 0.55960)\n",
      "153 (score = 0.54098)\n",
      "17 (score = 0.53875)\n",
      "171 (score = 0.53455)\n",
      "214 (score = 0.52962)\n",
      "106 (score = 0.52702)\n",
      "222 (score = 0.52528)\n",
      "19 (score = 0.52170)\n"
     ]
    },
    {
     "name": "stderr",
     "output_type": "stream",
     "text": [
      "\r",
      " 84%|████████████████████████████████▋      | 837/1000 [12:05<02:42,  1.01it/s]"
     ]
    },
    {
     "name": "stdout",
     "output_type": "stream",
     "text": [
      "66 (score = 0.64214)\n",
      "105 (score = 0.58204)\n",
      "153 (score = 0.56276)\n",
      "17 (score = 0.54323)\n",
      "106 (score = 0.54000)\n",
      "171 (score = 0.53613)\n",
      "214 (score = 0.53338)\n",
      "222 (score = 0.53114)\n",
      "138 (score = 0.52728)\n"
     ]
    },
    {
     "name": "stderr",
     "output_type": "stream",
     "text": [
      "\r",
      " 84%|████████████████████████████████▋      | 838/1000 [12:06<02:33,  1.06it/s]"
     ]
    },
    {
     "name": "stdout",
     "output_type": "stream",
     "text": [
      "66 (score = 0.73145)\n",
      "105 (score = 0.63395)\n",
      "153 (score = 0.60344)\n",
      "17 (score = 0.58449)\n",
      "171 (score = 0.56939)\n",
      "214 (score = 0.56113)\n",
      "106 (score = 0.56007)\n",
      "222 (score = 0.55379)\n",
      "138 (score = 0.54506)\n"
     ]
    },
    {
     "name": "stderr",
     "output_type": "stream",
     "text": [
      "\r",
      " 84%|████████████████████████████████▋      | 839/1000 [12:07<02:28,  1.08it/s]"
     ]
    },
    {
     "name": "stdout",
     "output_type": "stream",
     "text": [
      "66 (score = 0.70261)\n",
      "105 (score = 0.61943)\n",
      "153 (score = 0.59189)\n",
      "17 (score = 0.57222)\n",
      "171 (score = 0.55150)\n",
      "106 (score = 0.55090)\n",
      "214 (score = 0.54515)\n",
      "222 (score = 0.54481)\n",
      "138 (score = 0.53943)\n"
     ]
    },
    {
     "name": "stderr",
     "output_type": "stream",
     "text": [
      "\r",
      " 84%|████████████████████████████████▊      | 840/1000 [12:08<02:22,  1.12it/s]"
     ]
    },
    {
     "name": "stdout",
     "output_type": "stream",
     "text": [
      "66 (score = 0.67079)\n",
      "105 (score = 0.59476)\n",
      "153 (score = 0.57391)\n",
      "17 (score = 0.55606)\n",
      "171 (score = 0.55021)\n",
      "106 (score = 0.54632)\n",
      "214 (score = 0.54192)\n",
      "222 (score = 0.53331)\n",
      "138 (score = 0.52853)\n"
     ]
    },
    {
     "name": "stderr",
     "output_type": "stream",
     "text": [
      "\r",
      " 84%|████████████████████████████████▊      | 841/1000 [12:09<02:17,  1.16it/s]"
     ]
    },
    {
     "name": "stdout",
     "output_type": "stream",
     "text": [
      "66 (score = 0.66281)\n",
      "105 (score = 0.58773)\n",
      "153 (score = 0.56490)\n",
      "17 (score = 0.55318)\n",
      "171 (score = 0.54726)\n",
      "214 (score = 0.54141)\n",
      "106 (score = 0.53887)\n",
      "222 (score = 0.53847)\n",
      "138 (score = 0.53329)\n"
     ]
    },
    {
     "name": "stderr",
     "output_type": "stream",
     "text": [
      "\r",
      " 84%|████████████████████████████████▊      | 842/1000 [12:09<02:16,  1.16it/s]"
     ]
    },
    {
     "name": "stdout",
     "output_type": "stream",
     "text": [
      "66 (score = 0.66128)\n",
      "105 (score = 0.58485)\n",
      "153 (score = 0.56210)\n",
      "17 (score = 0.55529)\n",
      "171 (score = 0.54164)\n",
      "106 (score = 0.54011)\n",
      "214 (score = 0.53774)\n",
      "222 (score = 0.53297)\n",
      "138 (score = 0.52756)\n"
     ]
    },
    {
     "name": "stderr",
     "output_type": "stream",
     "text": [
      "\r",
      " 84%|████████████████████████████████▉      | 843/1000 [12:10<02:11,  1.19it/s]"
     ]
    },
    {
     "name": "stdout",
     "output_type": "stream",
     "text": [
      "66 (score = 0.70975)\n",
      "105 (score = 0.62380)\n",
      "153 (score = 0.59263)\n",
      "17 (score = 0.56933)\n",
      "171 (score = 0.56060)\n",
      "106 (score = 0.55611)\n",
      "214 (score = 0.55068)\n",
      "222 (score = 0.55039)\n",
      "138 (score = 0.54201)\n"
     ]
    },
    {
     "name": "stderr",
     "output_type": "stream",
     "text": [
      "\r",
      " 84%|████████████████████████████████▉      | 844/1000 [12:11<02:08,  1.21it/s]"
     ]
    },
    {
     "name": "stdout",
     "output_type": "stream",
     "text": [
      "66 (score = 0.63590)\n",
      "105 (score = 0.57624)\n",
      "153 (score = 0.55254)\n",
      "17 (score = 0.55008)\n",
      "171 (score = 0.53550)\n",
      "106 (score = 0.53312)\n",
      "214 (score = 0.53008)\n",
      "222 (score = 0.52997)\n",
      "62 (score = 0.52648)\n"
     ]
    },
    {
     "name": "stderr",
     "output_type": "stream",
     "text": [
      "\r",
      " 84%|████████████████████████████████▉      | 845/1000 [12:12<02:05,  1.24it/s]"
     ]
    },
    {
     "name": "stdout",
     "output_type": "stream",
     "text": [
      "66 (score = 0.67617)\n",
      "105 (score = 0.59917)\n",
      "153 (score = 0.57724)\n",
      "17 (score = 0.55837)\n",
      "171 (score = 0.54981)\n",
      "214 (score = 0.53972)\n",
      "106 (score = 0.53816)\n",
      "222 (score = 0.53729)\n",
      "138 (score = 0.53215)\n"
     ]
    },
    {
     "name": "stderr",
     "output_type": "stream",
     "text": [
      "\r",
      " 85%|████████████████████████████████▉      | 846/1000 [12:13<02:12,  1.16it/s]"
     ]
    },
    {
     "name": "stdout",
     "output_type": "stream",
     "text": [
      "66 (score = 0.62543)\n",
      "105 (score = 0.56083)\n",
      "17 (score = 0.54183)\n",
      "153 (score = 0.54123)\n",
      "171 (score = 0.53444)\n",
      "214 (score = 0.52959)\n",
      "222 (score = 0.52761)\n",
      "106 (score = 0.52531)\n",
      "62 (score = 0.52014)\n"
     ]
    },
    {
     "name": "stderr",
     "output_type": "stream",
     "text": [
      "\r",
      " 85%|█████████████████████████████████      | 847/1000 [12:14<02:08,  1.19it/s]"
     ]
    },
    {
     "name": "stdout",
     "output_type": "stream",
     "text": [
      "66 (score = 0.60745)\n",
      "105 (score = 0.56423)\n",
      "153 (score = 0.54595)\n",
      "17 (score = 0.54083)\n",
      "106 (score = 0.53307)\n",
      "171 (score = 0.53154)\n",
      "222 (score = 0.52303)\n",
      "214 (score = 0.52176)\n",
      "19 (score = 0.52116)\n"
     ]
    },
    {
     "name": "stderr",
     "output_type": "stream",
     "text": [
      "\r",
      " 85%|█████████████████████████████████      | 848/1000 [12:14<02:06,  1.20it/s]"
     ]
    },
    {
     "name": "stdout",
     "output_type": "stream",
     "text": [
      "66 (score = 0.69381)\n",
      "105 (score = 0.60370)\n",
      "153 (score = 0.58284)\n",
      "17 (score = 0.56269)\n",
      "106 (score = 0.55342)\n",
      "171 (score = 0.55339)\n",
      "222 (score = 0.54533)\n",
      "214 (score = 0.54405)\n",
      "19 (score = 0.53632)\n"
     ]
    },
    {
     "name": "stderr",
     "output_type": "stream",
     "text": [
      "\r",
      " 85%|█████████████████████████████████      | 849/1000 [12:15<02:04,  1.21it/s]"
     ]
    },
    {
     "name": "stdout",
     "output_type": "stream",
     "text": [
      "66 (score = 0.63941)\n",
      "105 (score = 0.57149)\n",
      "153 (score = 0.55178)\n",
      "17 (score = 0.54297)\n",
      "171 (score = 0.54015)\n",
      "214 (score = 0.53529)\n",
      "106 (score = 0.53026)\n",
      "222 (score = 0.52663)\n",
      "176 (score = 0.52559)\n"
     ]
    },
    {
     "name": "stderr",
     "output_type": "stream",
     "text": [
      "\r",
      " 85%|█████████████████████████████████▏     | 850/1000 [12:16<02:07,  1.18it/s]"
     ]
    },
    {
     "name": "stdout",
     "output_type": "stream",
     "text": [
      "66 (score = 0.62947)\n",
      "105 (score = 0.56185)\n",
      "153 (score = 0.54462)\n",
      "17 (score = 0.54161)\n",
      "171 (score = 0.53241)\n",
      "214 (score = 0.53177)\n",
      "106 (score = 0.52766)\n",
      "222 (score = 0.52539)\n",
      "19 (score = 0.52156)\n"
     ]
    },
    {
     "name": "stderr",
     "output_type": "stream",
     "text": [
      "\r",
      " 85%|█████████████████████████████████▏     | 851/1000 [12:17<02:08,  1.16it/s]"
     ]
    },
    {
     "name": "stdout",
     "output_type": "stream",
     "text": [
      "66 (score = 0.68880)\n",
      "105 (score = 0.60552)\n",
      "153 (score = 0.58013)\n",
      "17 (score = 0.56457)\n",
      "171 (score = 0.55711)\n",
      "214 (score = 0.54614)\n",
      "106 (score = 0.54550)\n",
      "222 (score = 0.54032)\n",
      "138 (score = 0.53545)\n"
     ]
    },
    {
     "name": "stderr",
     "output_type": "stream",
     "text": [
      "\r",
      " 85%|█████████████████████████████████▏     | 852/1000 [12:18<02:08,  1.15it/s]"
     ]
    },
    {
     "name": "stdout",
     "output_type": "stream",
     "text": [
      "66 (score = 0.64015)\n",
      "105 (score = 0.56706)\n",
      "17 (score = 0.54920)\n",
      "153 (score = 0.54577)\n",
      "171 (score = 0.53560)\n",
      "214 (score = 0.53253)\n",
      "106 (score = 0.52985)\n",
      "222 (score = 0.52937)\n",
      "62 (score = 0.52521)\n"
     ]
    },
    {
     "name": "stderr",
     "output_type": "stream",
     "text": [
      "\r",
      " 85%|█████████████████████████████████▎     | 853/1000 [12:19<02:04,  1.18it/s]"
     ]
    },
    {
     "name": "stdout",
     "output_type": "stream",
     "text": [
      "66 (score = 0.64697)\n",
      "105 (score = 0.58158)\n",
      "153 (score = 0.55697)\n",
      "17 (score = 0.54901)\n",
      "171 (score = 0.54038)\n",
      "214 (score = 0.53562)\n",
      "106 (score = 0.53519)\n",
      "222 (score = 0.52976)\n",
      "138 (score = 0.52615)\n"
     ]
    },
    {
     "name": "stderr",
     "output_type": "stream",
     "text": [
      "\r",
      " 85%|█████████████████████████████████▎     | 854/1000 [12:19<02:01,  1.20it/s]"
     ]
    },
    {
     "name": "stdout",
     "output_type": "stream",
     "text": [
      "66 (score = 0.64479)\n",
      "105 (score = 0.57409)\n",
      "153 (score = 0.55773)\n",
      "17 (score = 0.54686)\n",
      "171 (score = 0.53938)\n",
      "214 (score = 0.53471)\n",
      "106 (score = 0.53282)\n",
      "222 (score = 0.52883)\n",
      "138 (score = 0.52643)\n"
     ]
    },
    {
     "name": "stderr",
     "output_type": "stream",
     "text": [
      "\r",
      " 86%|█████████████████████████████████▎     | 855/1000 [12:20<01:59,  1.21it/s]"
     ]
    },
    {
     "name": "stdout",
     "output_type": "stream",
     "text": [
      "66 (score = 0.60920)\n",
      "105 (score = 0.55426)\n",
      "153 (score = 0.53773)\n",
      "17 (score = 0.53632)\n",
      "171 (score = 0.52754)\n",
      "214 (score = 0.52734)\n",
      "222 (score = 0.52313)\n",
      "106 (score = 0.52287)\n",
      "62 (score = 0.52006)\n"
     ]
    },
    {
     "name": "stderr",
     "output_type": "stream",
     "text": [
      "\r",
      " 86%|█████████████████████████████████▍     | 856/1000 [12:21<02:03,  1.17it/s]"
     ]
    },
    {
     "name": "stdout",
     "output_type": "stream",
     "text": [
      "66 (score = 0.64886)\n",
      "105 (score = 0.58416)\n",
      "153 (score = 0.55687)\n",
      "17 (score = 0.55368)\n",
      "171 (score = 0.54261)\n",
      "214 (score = 0.53971)\n",
      "106 (score = 0.53561)\n",
      "222 (score = 0.53449)\n",
      "62 (score = 0.52901)\n"
     ]
    },
    {
     "name": "stderr",
     "output_type": "stream",
     "text": [
      "\r",
      " 86%|█████████████████████████████████▍     | 857/1000 [12:22<02:03,  1.15it/s]"
     ]
    },
    {
     "name": "stdout",
     "output_type": "stream",
     "text": [
      "66 (score = 0.62047)\n",
      "105 (score = 0.57292)\n",
      "153 (score = 0.55020)\n",
      "17 (score = 0.53986)\n",
      "106 (score = 0.53560)\n",
      "214 (score = 0.53001)\n",
      "171 (score = 0.52953)\n",
      "222 (score = 0.52379)\n",
      "113 (score = 0.51845)\n"
     ]
    },
    {
     "name": "stderr",
     "output_type": "stream",
     "text": [
      "\r",
      " 86%|█████████████████████████████████▍     | 858/1000 [12:23<02:01,  1.17it/s]"
     ]
    },
    {
     "name": "stdout",
     "output_type": "stream",
     "text": [
      "66 (score = 0.69907)\n",
      "105 (score = 0.61600)\n",
      "153 (score = 0.59149)\n",
      "17 (score = 0.56674)\n",
      "171 (score = 0.55494)\n",
      "214 (score = 0.54919)\n",
      "106 (score = 0.54884)\n",
      "222 (score = 0.54026)\n",
      "138 (score = 0.53982)\n"
     ]
    },
    {
     "name": "stderr",
     "output_type": "stream",
     "text": [
      "\r",
      " 86%|█████████████████████████████████▌     | 859/1000 [12:24<01:57,  1.20it/s]"
     ]
    },
    {
     "name": "stdout",
     "output_type": "stream",
     "text": [
      "66 (score = 0.64253)\n",
      "105 (score = 0.57979)\n",
      "153 (score = 0.55783)\n",
      "17 (score = 0.54877)\n",
      "171 (score = 0.53897)\n",
      "214 (score = 0.53844)\n",
      "106 (score = 0.53573)\n",
      "222 (score = 0.53096)\n",
      "138 (score = 0.52637)\n"
     ]
    },
    {
     "name": "stderr",
     "output_type": "stream",
     "text": [
      "\r",
      " 86%|█████████████████████████████████▌     | 860/1000 [12:25<01:58,  1.18it/s]"
     ]
    },
    {
     "name": "stdout",
     "output_type": "stream",
     "text": [
      "66 (score = 0.60796)\n",
      "105 (score = 0.55287)\n",
      "153 (score = 0.54242)\n",
      "17 (score = 0.53842)\n",
      "171 (score = 0.53302)\n",
      "222 (score = 0.52355)\n",
      "214 (score = 0.52297)\n",
      "62 (score = 0.52233)\n",
      "106 (score = 0.52195)\n"
     ]
    },
    {
     "name": "stderr",
     "output_type": "stream",
     "text": [
      "\r",
      " 86%|█████████████████████████████████▌     | 861/1000 [12:25<01:55,  1.20it/s]"
     ]
    },
    {
     "name": "stdout",
     "output_type": "stream",
     "text": [
      "66 (score = 0.61275)\n",
      "105 (score = 0.55445)\n",
      "17 (score = 0.53865)\n",
      "153 (score = 0.53740)\n",
      "171 (score = 0.52914)\n",
      "214 (score = 0.52822)\n",
      "106 (score = 0.52500)\n",
      "222 (score = 0.51829)\n",
      "138 (score = 0.51818)\n"
     ]
    },
    {
     "name": "stderr",
     "output_type": "stream",
     "text": [
      "\r",
      " 86%|█████████████████████████████████▌     | 862/1000 [12:27<02:10,  1.05it/s]"
     ]
    },
    {
     "name": "stdout",
     "output_type": "stream",
     "text": [
      "66 (score = 0.61161)\n",
      "105 (score = 0.55519)\n",
      "153 (score = 0.54332)\n",
      "17 (score = 0.54135)\n",
      "214 (score = 0.52855)\n",
      "106 (score = 0.52844)\n",
      "171 (score = 0.52695)\n",
      "222 (score = 0.52213)\n",
      "19 (score = 0.52059)\n"
     ]
    },
    {
     "name": "stderr",
     "output_type": "stream",
     "text": [
      "\r",
      " 86%|█████████████████████████████████▋     | 863/1000 [12:28<02:22,  1.04s/it]"
     ]
    },
    {
     "name": "stdout",
     "output_type": "stream",
     "text": [
      "66 (score = 0.69626)\n",
      "105 (score = 0.61487)\n",
      "153 (score = 0.58382)\n",
      "17 (score = 0.56568)\n",
      "171 (score = 0.55967)\n",
      "106 (score = 0.55285)\n",
      "214 (score = 0.54360)\n",
      "222 (score = 0.54310)\n",
      "62 (score = 0.53334)\n"
     ]
    },
    {
     "name": "stderr",
     "output_type": "stream",
     "text": [
      "\r",
      " 86%|█████████████████████████████████▋     | 864/1000 [12:29<02:25,  1.07s/it]"
     ]
    },
    {
     "name": "stdout",
     "output_type": "stream",
     "text": [
      "66 (score = 0.67092)\n",
      "105 (score = 0.59015)\n",
      "153 (score = 0.56439)\n",
      "17 (score = 0.55808)\n",
      "171 (score = 0.54524)\n",
      "214 (score = 0.54062)\n",
      "222 (score = 0.53900)\n",
      "106 (score = 0.53892)\n",
      "62 (score = 0.53386)\n"
     ]
    },
    {
     "name": "stderr",
     "output_type": "stream",
     "text": [
      "\r",
      " 86%|█████████████████████████████████▋     | 865/1000 [12:30<02:24,  1.07s/it]"
     ]
    },
    {
     "name": "stdout",
     "output_type": "stream",
     "text": [
      "66 (score = 0.71286)\n",
      "105 (score = 0.61284)\n",
      "153 (score = 0.58848)\n",
      "17 (score = 0.57069)\n",
      "171 (score = 0.56136)\n",
      "106 (score = 0.54928)\n",
      "222 (score = 0.54535)\n",
      "214 (score = 0.54374)\n",
      "138 (score = 0.54326)\n"
     ]
    },
    {
     "name": "stderr",
     "output_type": "stream",
     "text": [
      "\r",
      " 87%|█████████████████████████████████▊     | 866/1000 [12:31<02:21,  1.06s/it]"
     ]
    },
    {
     "name": "stdout",
     "output_type": "stream",
     "text": [
      "66 (score = 0.63780)\n",
      "105 (score = 0.57309)\n",
      "153 (score = 0.54946)\n",
      "17 (score = 0.54293)\n",
      "171 (score = 0.54019)\n",
      "106 (score = 0.53393)\n",
      "214 (score = 0.53222)\n",
      "19 (score = 0.52508)\n",
      "222 (score = 0.52502)\n"
     ]
    },
    {
     "name": "stderr",
     "output_type": "stream",
     "text": [
      "\r",
      " 87%|█████████████████████████████████▊     | 867/1000 [12:32<02:20,  1.06s/it]"
     ]
    },
    {
     "name": "stdout",
     "output_type": "stream",
     "text": [
      "66 (score = 0.67626)\n",
      "105 (score = 0.58660)\n",
      "153 (score = 0.56550)\n",
      "17 (score = 0.55638)\n",
      "171 (score = 0.54618)\n",
      "214 (score = 0.54007)\n",
      "222 (score = 0.53929)\n",
      "106 (score = 0.53864)\n",
      "62 (score = 0.53762)\n"
     ]
    },
    {
     "name": "stderr",
     "output_type": "stream",
     "text": [
      "\r",
      " 87%|█████████████████████████████████▊     | 868/1000 [12:33<02:15,  1.02s/it]"
     ]
    },
    {
     "name": "stdout",
     "output_type": "stream",
     "text": [
      "66 (score = 0.68887)\n",
      "105 (score = 0.60988)\n",
      "153 (score = 0.57884)\n",
      "17 (score = 0.56485)\n",
      "171 (score = 0.55643)\n",
      "214 (score = 0.54624)\n",
      "106 (score = 0.54464)\n",
      "222 (score = 0.54206)\n",
      "138 (score = 0.53778)\n"
     ]
    },
    {
     "name": "stderr",
     "output_type": "stream",
     "text": [
      "\r",
      " 87%|█████████████████████████████████▉     | 869/1000 [12:34<02:12,  1.01s/it]"
     ]
    },
    {
     "name": "stdout",
     "output_type": "stream",
     "text": [
      "66 (score = 0.67187)\n",
      "105 (score = 0.59402)\n",
      "153 (score = 0.56946)\n",
      "17 (score = 0.55826)\n",
      "214 (score = 0.54488)\n",
      "171 (score = 0.54313)\n",
      "106 (score = 0.53831)\n",
      "222 (score = 0.53568)\n",
      "19 (score = 0.52836)\n"
     ]
    },
    {
     "name": "stderr",
     "output_type": "stream",
     "text": [
      "\r",
      " 87%|█████████████████████████████████▉     | 870/1000 [12:35<02:02,  1.06it/s]"
     ]
    },
    {
     "name": "stdout",
     "output_type": "stream",
     "text": [
      "66 (score = 0.60383)\n",
      "105 (score = 0.55622)\n",
      "153 (score = 0.54983)\n",
      "171 (score = 0.53006)\n",
      "106 (score = 0.52911)\n",
      "214 (score = 0.52720)\n",
      "17 (score = 0.52634)\n",
      "138 (score = 0.52215)\n",
      "222 (score = 0.52172)\n"
     ]
    },
    {
     "name": "stderr",
     "output_type": "stream",
     "text": [
      "\r",
      " 87%|█████████████████████████████████▉     | 871/1000 [12:36<01:56,  1.11it/s]"
     ]
    },
    {
     "name": "stdout",
     "output_type": "stream",
     "text": [
      "66 (score = 0.62931)\n",
      "105 (score = 0.56672)\n",
      "153 (score = 0.54906)\n",
      "17 (score = 0.54653)\n",
      "171 (score = 0.53738)\n",
      "106 (score = 0.53166)\n",
      "222 (score = 0.52976)\n",
      "214 (score = 0.52758)\n",
      "19 (score = 0.52432)\n"
     ]
    },
    {
     "name": "stderr",
     "output_type": "stream",
     "text": [
      "\r",
      " 87%|██████████████████████████████████     | 872/1000 [12:36<01:50,  1.16it/s]"
     ]
    },
    {
     "name": "stdout",
     "output_type": "stream",
     "text": [
      "66 (score = 0.62121)\n",
      "105 (score = 0.56875)\n",
      "153 (score = 0.54792)\n",
      "17 (score = 0.54161)\n",
      "106 (score = 0.53353)\n",
      "171 (score = 0.53166)\n",
      "214 (score = 0.52771)\n",
      "222 (score = 0.52697)\n",
      "138 (score = 0.52355)\n"
     ]
    },
    {
     "name": "stderr",
     "output_type": "stream",
     "text": [
      "\r",
      " 87%|██████████████████████████████████     | 873/1000 [12:37<01:49,  1.16it/s]"
     ]
    },
    {
     "name": "stdout",
     "output_type": "stream",
     "text": [
      "66 (score = 0.65131)\n",
      "105 (score = 0.58806)\n",
      "153 (score = 0.55882)\n",
      "17 (score = 0.55081)\n",
      "171 (score = 0.54042)\n",
      "214 (score = 0.53943)\n",
      "106 (score = 0.53460)\n",
      "222 (score = 0.53143)\n",
      "138 (score = 0.53124)\n"
     ]
    },
    {
     "name": "stderr",
     "output_type": "stream",
     "text": [
      "\r",
      " 87%|██████████████████████████████████     | 874/1000 [12:38<01:48,  1.16it/s]"
     ]
    },
    {
     "name": "stdout",
     "output_type": "stream",
     "text": [
      "66 (score = 0.65747)\n",
      "105 (score = 0.58709)\n",
      "153 (score = 0.56406)\n",
      "17 (score = 0.55011)\n",
      "171 (score = 0.54347)\n",
      "106 (score = 0.53631)\n",
      "214 (score = 0.53624)\n",
      "222 (score = 0.53181)\n",
      "62 (score = 0.52784)\n"
     ]
    },
    {
     "name": "stderr",
     "output_type": "stream",
     "text": [
      "\r",
      " 88%|██████████████████████████████████▏    | 875/1000 [12:39<01:44,  1.20it/s]"
     ]
    },
    {
     "name": "stdout",
     "output_type": "stream",
     "text": [
      "66 (score = 0.65818)\n",
      "105 (score = 0.58253)\n",
      "153 (score = 0.56001)\n",
      "17 (score = 0.55041)\n",
      "171 (score = 0.54284)\n",
      "214 (score = 0.53727)\n",
      "106 (score = 0.53649)\n",
      "222 (score = 0.53188)\n",
      "62 (score = 0.52616)\n"
     ]
    },
    {
     "name": "stderr",
     "output_type": "stream",
     "text": [
      "\r",
      " 88%|██████████████████████████████████▏    | 876/1000 [12:40<01:44,  1.18it/s]"
     ]
    },
    {
     "name": "stdout",
     "output_type": "stream",
     "text": [
      "66 (score = 0.66389)\n",
      "105 (score = 0.59949)\n",
      "153 (score = 0.57142)\n",
      "17 (score = 0.55751)\n",
      "106 (score = 0.54959)\n",
      "171 (score = 0.54604)\n",
      "214 (score = 0.54042)\n",
      "138 (score = 0.53632)\n",
      "222 (score = 0.53608)\n"
     ]
    },
    {
     "name": "stderr",
     "output_type": "stream",
     "text": [
      "\r",
      " 88%|██████████████████████████████████▏    | 877/1000 [12:41<01:44,  1.18it/s]"
     ]
    },
    {
     "name": "stdout",
     "output_type": "stream",
     "text": [
      "66 (score = 0.66466)\n",
      "105 (score = 0.59275)\n",
      "153 (score = 0.57104)\n",
      "17 (score = 0.55247)\n",
      "106 (score = 0.54588)\n",
      "171 (score = 0.54504)\n",
      "214 (score = 0.53909)\n",
      "222 (score = 0.53691)\n",
      "62 (score = 0.53280)\n"
     ]
    },
    {
     "name": "stderr",
     "output_type": "stream",
     "text": [
      "\r",
      " 88%|██████████████████████████████████▏    | 878/1000 [12:42<01:42,  1.19it/s]"
     ]
    },
    {
     "name": "stdout",
     "output_type": "stream",
     "text": [
      "66 (score = 0.68767)\n",
      "105 (score = 0.60829)\n",
      "153 (score = 0.58569)\n",
      "17 (score = 0.55945)\n",
      "106 (score = 0.54950)\n",
      "171 (score = 0.54801)\n",
      "138 (score = 0.54455)\n",
      "214 (score = 0.54165)\n",
      "222 (score = 0.53825)\n"
     ]
    },
    {
     "name": "stderr",
     "output_type": "stream",
     "text": [
      "\r",
      " 88%|██████████████████████████████████▎    | 879/1000 [12:42<01:42,  1.18it/s]"
     ]
    },
    {
     "name": "stdout",
     "output_type": "stream",
     "text": [
      "66 (score = 0.66085)\n",
      "105 (score = 0.60103)\n",
      "153 (score = 0.56851)\n",
      "17 (score = 0.55400)\n",
      "106 (score = 0.54468)\n",
      "171 (score = 0.54226)\n",
      "214 (score = 0.54142)\n",
      "222 (score = 0.53503)\n",
      "138 (score = 0.53072)\n"
     ]
    },
    {
     "name": "stderr",
     "output_type": "stream",
     "text": [
      "\r",
      " 88%|██████████████████████████████████▎    | 880/1000 [12:43<01:40,  1.19it/s]"
     ]
    },
    {
     "name": "stdout",
     "output_type": "stream",
     "text": [
      "66 (score = 0.64224)\n",
      "105 (score = 0.58285)\n",
      "153 (score = 0.56039)\n",
      "17 (score = 0.54793)\n",
      "106 (score = 0.54175)\n",
      "171 (score = 0.54161)\n",
      "214 (score = 0.53007)\n",
      "222 (score = 0.52937)\n",
      "138 (score = 0.52917)\n"
     ]
    },
    {
     "name": "stderr",
     "output_type": "stream",
     "text": [
      "\r",
      " 88%|██████████████████████████████████▎    | 881/1000 [12:44<01:45,  1.13it/s]"
     ]
    },
    {
     "name": "stdout",
     "output_type": "stream",
     "text": [
      "66 (score = 0.66317)\n",
      "105 (score = 0.58734)\n",
      "153 (score = 0.56334)\n",
      "17 (score = 0.55433)\n",
      "171 (score = 0.55430)\n",
      "106 (score = 0.54366)\n",
      "214 (score = 0.54278)\n",
      "222 (score = 0.53438)\n",
      "19 (score = 0.53129)\n"
     ]
    },
    {
     "name": "stderr",
     "output_type": "stream",
     "text": [
      "\r",
      " 88%|██████████████████████████████████▍    | 882/1000 [12:45<01:42,  1.15it/s]"
     ]
    },
    {
     "name": "stdout",
     "output_type": "stream",
     "text": [
      "66 (score = 0.66555)\n",
      "105 (score = 0.59380)\n",
      "153 (score = 0.57336)\n",
      "17 (score = 0.55504)\n",
      "171 (score = 0.54686)\n",
      "106 (score = 0.54674)\n",
      "214 (score = 0.54089)\n",
      "222 (score = 0.53566)\n",
      "138 (score = 0.53276)\n"
     ]
    },
    {
     "name": "stderr",
     "output_type": "stream",
     "text": [
      "\r",
      " 88%|██████████████████████████████████▍    | 883/1000 [12:46<01:39,  1.18it/s]"
     ]
    },
    {
     "name": "stdout",
     "output_type": "stream",
     "text": [
      "66 (score = 0.63306)\n",
      "105 (score = 0.56893)\n",
      "153 (score = 0.55408)\n",
      "17 (score = 0.53853)\n",
      "171 (score = 0.53813)\n",
      "214 (score = 0.53761)\n",
      "106 (score = 0.53329)\n",
      "222 (score = 0.52377)\n",
      "62 (score = 0.52242)\n"
     ]
    },
    {
     "name": "stderr",
     "output_type": "stream",
     "text": [
      "\r",
      " 88%|██████████████████████████████████▍    | 884/1000 [12:47<01:35,  1.21it/s]"
     ]
    },
    {
     "name": "stdout",
     "output_type": "stream",
     "text": [
      "66 (score = 0.62938)\n",
      "105 (score = 0.56616)\n",
      "153 (score = 0.54707)\n",
      "17 (score = 0.54626)\n",
      "171 (score = 0.53945)\n",
      "214 (score = 0.53005)\n",
      "106 (score = 0.52822)\n",
      "222 (score = 0.52516)\n",
      "62 (score = 0.52437)\n"
     ]
    },
    {
     "name": "stderr",
     "output_type": "stream",
     "text": [
      "\r",
      " 88%|██████████████████████████████████▌    | 885/1000 [12:47<01:35,  1.21it/s]"
     ]
    },
    {
     "name": "stdout",
     "output_type": "stream",
     "text": [
      "66 (score = 0.65293)\n",
      "105 (score = 0.58198)\n",
      "153 (score = 0.56302)\n",
      "17 (score = 0.54967)\n",
      "171 (score = 0.54456)\n",
      "106 (score = 0.53744)\n",
      "214 (score = 0.53714)\n",
      "222 (score = 0.53262)\n",
      "138 (score = 0.52996)\n"
     ]
    },
    {
     "name": "stderr",
     "output_type": "stream",
     "text": [
      "\r",
      " 89%|██████████████████████████████████▌    | 886/1000 [12:48<01:37,  1.17it/s]"
     ]
    },
    {
     "name": "stdout",
     "output_type": "stream",
     "text": [
      "66 (score = 0.67714)\n",
      "105 (score = 0.60822)\n",
      "153 (score = 0.58268)\n",
      "17 (score = 0.55513)\n",
      "106 (score = 0.55355)\n",
      "171 (score = 0.54701)\n",
      "214 (score = 0.54496)\n",
      "222 (score = 0.54271)\n",
      "138 (score = 0.54144)\n"
     ]
    },
    {
     "name": "stderr",
     "output_type": "stream",
     "text": [
      "\r",
      " 89%|██████████████████████████████████▌    | 887/1000 [12:49<01:36,  1.17it/s]"
     ]
    },
    {
     "name": "stdout",
     "output_type": "stream",
     "text": [
      "66 (score = 0.64049)\n",
      "105 (score = 0.57760)\n",
      "153 (score = 0.55792)\n",
      "17 (score = 0.54555)\n",
      "171 (score = 0.54002)\n",
      "106 (score = 0.53810)\n",
      "214 (score = 0.53415)\n",
      "222 (score = 0.53179)\n",
      "138 (score = 0.52621)\n"
     ]
    },
    {
     "name": "stderr",
     "output_type": "stream",
     "text": [
      "\r",
      " 89%|██████████████████████████████████▋    | 888/1000 [12:50<01:36,  1.16it/s]"
     ]
    },
    {
     "name": "stdout",
     "output_type": "stream",
     "text": [
      "66 (score = 0.65908)\n",
      "105 (score = 0.59003)\n",
      "153 (score = 0.56569)\n",
      "17 (score = 0.55507)\n",
      "171 (score = 0.54529)\n",
      "106 (score = 0.53991)\n",
      "214 (score = 0.53855)\n",
      "222 (score = 0.53677)\n",
      "138 (score = 0.52946)\n"
     ]
    },
    {
     "name": "stderr",
     "output_type": "stream",
     "text": [
      "\r",
      " 89%|██████████████████████████████████▋    | 889/1000 [12:51<01:37,  1.14it/s]"
     ]
    },
    {
     "name": "stdout",
     "output_type": "stream",
     "text": [
      "66 (score = 0.64459)\n",
      "105 (score = 0.57783)\n",
      "153 (score = 0.56322)\n",
      "17 (score = 0.54423)\n",
      "171 (score = 0.54389)\n",
      "106 (score = 0.54098)\n",
      "214 (score = 0.53374)\n",
      "222 (score = 0.53221)\n",
      "176 (score = 0.52757)\n"
     ]
    },
    {
     "name": "stderr",
     "output_type": "stream",
     "text": [
      "\r",
      " 89%|██████████████████████████████████▋    | 890/1000 [12:52<01:34,  1.17it/s]"
     ]
    },
    {
     "name": "stdout",
     "output_type": "stream",
     "text": [
      "66 (score = 0.58844)\n",
      "105 (score = 0.55092)\n",
      "153 (score = 0.53538)\n",
      "17 (score = 0.53037)\n",
      "106 (score = 0.52774)\n",
      "138 (score = 0.52269)\n",
      "171 (score = 0.52252)\n",
      "214 (score = 0.52214)\n",
      "222 (score = 0.51995)\n"
     ]
    },
    {
     "name": "stderr",
     "output_type": "stream",
     "text": [
      "\r",
      " 89%|██████████████████████████████████▋    | 891/1000 [12:53<01:33,  1.17it/s]"
     ]
    },
    {
     "name": "stdout",
     "output_type": "stream",
     "text": [
      "66 (score = 0.63943)\n",
      "105 (score = 0.57073)\n",
      "153 (score = 0.55378)\n",
      "17 (score = 0.54752)\n",
      "171 (score = 0.53804)\n",
      "222 (score = 0.53342)\n",
      "214 (score = 0.53293)\n",
      "106 (score = 0.53103)\n",
      "138 (score = 0.52554)\n"
     ]
    },
    {
     "name": "stderr",
     "output_type": "stream",
     "text": [
      "\r",
      " 89%|██████████████████████████████████▊    | 892/1000 [12:54<01:36,  1.12it/s]"
     ]
    },
    {
     "name": "stdout",
     "output_type": "stream",
     "text": [
      "66 (score = 0.62754)\n",
      "105 (score = 0.56778)\n",
      "153 (score = 0.54751)\n",
      "17 (score = 0.54355)\n",
      "171 (score = 0.53856)\n",
      "214 (score = 0.53270)\n",
      "106 (score = 0.53178)\n",
      "222 (score = 0.52522)\n",
      "137 (score = 0.52242)\n"
     ]
    },
    {
     "name": "stderr",
     "output_type": "stream",
     "text": [
      "\r",
      " 89%|██████████████████████████████████▊    | 893/1000 [12:55<01:34,  1.13it/s]"
     ]
    },
    {
     "name": "stdout",
     "output_type": "stream",
     "text": [
      "66 (score = 0.66670)\n",
      "105 (score = 0.59047)\n",
      "153 (score = 0.57428)\n",
      "17 (score = 0.55330)\n",
      "106 (score = 0.54477)\n",
      "171 (score = 0.54440)\n",
      "214 (score = 0.53783)\n",
      "138 (score = 0.53360)\n",
      "222 (score = 0.52885)\n"
     ]
    },
    {
     "name": "stderr",
     "output_type": "stream",
     "text": [
      "\r",
      " 89%|██████████████████████████████████▊    | 894/1000 [12:55<01:33,  1.13it/s]"
     ]
    },
    {
     "name": "stdout",
     "output_type": "stream",
     "text": [
      "66 (score = 0.60378)\n",
      "105 (score = 0.56015)\n",
      "153 (score = 0.54418)\n",
      "17 (score = 0.53550)\n",
      "171 (score = 0.53045)\n",
      "106 (score = 0.53045)\n",
      "214 (score = 0.52600)\n",
      "222 (score = 0.52347)\n",
      "138 (score = 0.52340)\n"
     ]
    },
    {
     "name": "stderr",
     "output_type": "stream",
     "text": [
      "\r",
      " 90%|██████████████████████████████████▉    | 895/1000 [12:56<01:32,  1.13it/s]"
     ]
    },
    {
     "name": "stdout",
     "output_type": "stream",
     "text": [
      "66 (score = 0.64682)\n",
      "105 (score = 0.57767)\n",
      "153 (score = 0.56232)\n",
      "17 (score = 0.55158)\n",
      "171 (score = 0.53862)\n",
      "106 (score = 0.53429)\n",
      "214 (score = 0.53102)\n",
      "222 (score = 0.52943)\n",
      "62 (score = 0.52710)\n"
     ]
    },
    {
     "name": "stderr",
     "output_type": "stream",
     "text": [
      "\r",
      " 90%|██████████████████████████████████▉    | 896/1000 [12:57<01:29,  1.16it/s]"
     ]
    },
    {
     "name": "stdout",
     "output_type": "stream",
     "text": [
      "66 (score = 0.63961)\n",
      "105 (score = 0.58181)\n",
      "153 (score = 0.56207)\n",
      "17 (score = 0.54629)\n",
      "171 (score = 0.54341)\n",
      "214 (score = 0.53578)\n",
      "106 (score = 0.53519)\n",
      "222 (score = 0.53138)\n",
      "138 (score = 0.52867)\n"
     ]
    },
    {
     "name": "stderr",
     "output_type": "stream",
     "text": [
      "\r",
      " 90%|██████████████████████████████████▉    | 897/1000 [12:58<01:25,  1.20it/s]"
     ]
    },
    {
     "name": "stdout",
     "output_type": "stream",
     "text": [
      "66 (score = 0.67775)\n",
      "105 (score = 0.59757)\n",
      "153 (score = 0.57133)\n",
      "17 (score = 0.56126)\n",
      "171 (score = 0.54867)\n",
      "106 (score = 0.54464)\n",
      "214 (score = 0.54030)\n",
      "222 (score = 0.53640)\n",
      "19 (score = 0.52927)\n"
     ]
    },
    {
     "name": "stderr",
     "output_type": "stream",
     "text": [
      "\r",
      " 90%|███████████████████████████████████    | 898/1000 [12:59<01:22,  1.23it/s]"
     ]
    },
    {
     "name": "stdout",
     "output_type": "stream",
     "text": [
      "66 (score = 0.66762)\n",
      "105 (score = 0.58755)\n",
      "153 (score = 0.56109)\n",
      "17 (score = 0.55701)\n",
      "171 (score = 0.55352)\n",
      "214 (score = 0.54359)\n",
      "106 (score = 0.54220)\n",
      "222 (score = 0.53763)\n",
      "19 (score = 0.53018)\n"
     ]
    },
    {
     "name": "stderr",
     "output_type": "stream",
     "text": [
      "\r",
      " 90%|███████████████████████████████████    | 899/1000 [12:59<01:23,  1.21it/s]"
     ]
    },
    {
     "name": "stdout",
     "output_type": "stream",
     "text": [
      "66 (score = 0.64000)\n",
      "105 (score = 0.57922)\n",
      "153 (score = 0.56049)\n",
      "17 (score = 0.54358)\n",
      "171 (score = 0.53780)\n",
      "106 (score = 0.53651)\n",
      "214 (score = 0.53236)\n",
      "222 (score = 0.52935)\n",
      "138 (score = 0.52365)\n"
     ]
    },
    {
     "name": "stderr",
     "output_type": "stream",
     "text": [
      "\r",
      " 90%|███████████████████████████████████    | 900/1000 [13:00<01:24,  1.19it/s]"
     ]
    },
    {
     "name": "stdout",
     "output_type": "stream",
     "text": [
      "66 (score = 0.68299)\n",
      "105 (score = 0.60474)\n",
      "153 (score = 0.57676)\n",
      "17 (score = 0.56307)\n",
      "171 (score = 0.55502)\n",
      "214 (score = 0.54551)\n",
      "222 (score = 0.54140)\n",
      "106 (score = 0.54036)\n",
      "138 (score = 0.53650)\n"
     ]
    },
    {
     "name": "stderr",
     "output_type": "stream",
     "text": [
      "\r",
      " 90%|███████████████████████████████████▏   | 901/1000 [13:01<01:24,  1.16it/s]"
     ]
    },
    {
     "name": "stdout",
     "output_type": "stream",
     "text": [
      "66 (score = 0.67921)\n",
      "105 (score = 0.59568)\n",
      "153 (score = 0.57460)\n",
      "17 (score = 0.55815)\n",
      "171 (score = 0.54758)\n",
      "106 (score = 0.54286)\n",
      "214 (score = 0.54007)\n",
      "222 (score = 0.53766)\n",
      "138 (score = 0.53385)\n"
     ]
    },
    {
     "name": "stderr",
     "output_type": "stream",
     "text": [
      "\r",
      " 90%|███████████████████████████████████▏   | 902/1000 [13:02<01:26,  1.13it/s]"
     ]
    },
    {
     "name": "stdout",
     "output_type": "stream",
     "text": [
      "66 (score = 0.70630)\n",
      "105 (score = 0.61514)\n",
      "153 (score = 0.58477)\n",
      "17 (score = 0.57462)\n",
      "171 (score = 0.56010)\n",
      "214 (score = 0.55305)\n",
      "106 (score = 0.55227)\n",
      "222 (score = 0.54478)\n",
      "19 (score = 0.53993)\n"
     ]
    },
    {
     "name": "stderr",
     "output_type": "stream",
     "text": [
      "\r",
      " 90%|███████████████████████████████████▏   | 903/1000 [13:03<01:27,  1.11it/s]"
     ]
    },
    {
     "name": "stdout",
     "output_type": "stream",
     "text": [
      "66 (score = 0.69992)\n",
      "105 (score = 0.60778)\n",
      "153 (score = 0.57965)\n",
      "17 (score = 0.56987)\n",
      "171 (score = 0.55690)\n",
      "214 (score = 0.54681)\n",
      "106 (score = 0.54593)\n",
      "222 (score = 0.54123)\n",
      "138 (score = 0.53731)\n"
     ]
    },
    {
     "name": "stderr",
     "output_type": "stream",
     "text": [
      "\r",
      " 90%|███████████████████████████████████▎   | 904/1000 [13:04<01:26,  1.11it/s]"
     ]
    },
    {
     "name": "stdout",
     "output_type": "stream",
     "text": [
      "66 (score = 0.65982)\n",
      "105 (score = 0.59925)\n",
      "153 (score = 0.57394)\n",
      "17 (score = 0.55509)\n",
      "171 (score = 0.54526)\n",
      "106 (score = 0.54409)\n",
      "214 (score = 0.53683)\n",
      "222 (score = 0.53169)\n",
      "138 (score = 0.53013)\n"
     ]
    },
    {
     "name": "stderr",
     "output_type": "stream",
     "text": [
      "\r",
      " 90%|███████████████████████████████████▎   | 905/1000 [13:05<01:24,  1.12it/s]"
     ]
    },
    {
     "name": "stdout",
     "output_type": "stream",
     "text": [
      "66 (score = 0.65552)\n",
      "105 (score = 0.58363)\n",
      "153 (score = 0.55689)\n",
      "17 (score = 0.55464)\n",
      "171 (score = 0.54372)\n",
      "106 (score = 0.54065)\n",
      "214 (score = 0.53808)\n",
      "222 (score = 0.53193)\n",
      "19 (score = 0.52798)\n"
     ]
    },
    {
     "name": "stderr",
     "output_type": "stream",
     "text": [
      "\r",
      " 91%|███████████████████████████████████▎   | 906/1000 [13:06<01:21,  1.16it/s]"
     ]
    },
    {
     "name": "stdout",
     "output_type": "stream",
     "text": [
      "66 (score = 0.65468)\n",
      "105 (score = 0.58384)\n",
      "153 (score = 0.56203)\n",
      "17 (score = 0.55209)\n",
      "171 (score = 0.54157)\n",
      "106 (score = 0.53822)\n",
      "222 (score = 0.53770)\n",
      "214 (score = 0.53497)\n",
      "138 (score = 0.52788)\n"
     ]
    },
    {
     "name": "stderr",
     "output_type": "stream",
     "text": [
      "\r",
      " 91%|███████████████████████████████████▎   | 907/1000 [13:07<01:18,  1.18it/s]"
     ]
    },
    {
     "name": "stdout",
     "output_type": "stream",
     "text": [
      "66 (score = 0.64876)\n",
      "105 (score = 0.58303)\n",
      "153 (score = 0.56671)\n",
      "17 (score = 0.54311)\n",
      "171 (score = 0.54074)\n",
      "106 (score = 0.53950)\n",
      "214 (score = 0.53948)\n",
      "222 (score = 0.53003)\n",
      "138 (score = 0.52902)\n"
     ]
    },
    {
     "name": "stderr",
     "output_type": "stream",
     "text": [
      "\r",
      " 91%|███████████████████████████████████▍   | 908/1000 [13:07<01:18,  1.17it/s]"
     ]
    },
    {
     "name": "stdout",
     "output_type": "stream",
     "text": [
      "66 (score = 0.65455)\n",
      "105 (score = 0.58129)\n",
      "153 (score = 0.56117)\n",
      "17 (score = 0.55131)\n",
      "171 (score = 0.54841)\n",
      "106 (score = 0.53932)\n",
      "214 (score = 0.53646)\n",
      "222 (score = 0.53144)\n",
      "19 (score = 0.52787)\n"
     ]
    },
    {
     "name": "stderr",
     "output_type": "stream",
     "text": [
      "\r",
      " 91%|███████████████████████████████████▍   | 909/1000 [13:08<01:16,  1.19it/s]"
     ]
    },
    {
     "name": "stdout",
     "output_type": "stream",
     "text": [
      "66 (score = 0.61649)\n",
      "105 (score = 0.55508)\n",
      "153 (score = 0.54755)\n",
      "17 (score = 0.54116)\n",
      "171 (score = 0.53480)\n",
      "62 (score = 0.52724)\n",
      "106 (score = 0.52479)\n",
      "214 (score = 0.52337)\n",
      "222 (score = 0.52189)\n"
     ]
    },
    {
     "name": "stderr",
     "output_type": "stream",
     "text": [
      "\r",
      " 91%|███████████████████████████████████▍   | 910/1000 [13:09<01:13,  1.23it/s]"
     ]
    },
    {
     "name": "stdout",
     "output_type": "stream",
     "text": [
      "66 (score = 0.64505)\n",
      "105 (score = 0.58228)\n",
      "153 (score = 0.55952)\n",
      "17 (score = 0.55023)\n",
      "171 (score = 0.54065)\n",
      "214 (score = 0.53676)\n",
      "106 (score = 0.53251)\n",
      "222 (score = 0.53163)\n",
      "19 (score = 0.52656)\n"
     ]
    },
    {
     "name": "stderr",
     "output_type": "stream",
     "text": [
      "\r",
      " 91%|███████████████████████████████████▌   | 911/1000 [13:10<01:11,  1.24it/s]"
     ]
    },
    {
     "name": "stdout",
     "output_type": "stream",
     "text": [
      "66 (score = 0.66922)\n",
      "105 (score = 0.58957)\n",
      "153 (score = 0.56523)\n",
      "17 (score = 0.55975)\n",
      "171 (score = 0.54875)\n",
      "106 (score = 0.54198)\n",
      "214 (score = 0.54097)\n",
      "222 (score = 0.53511)\n",
      "138 (score = 0.53510)\n"
     ]
    },
    {
     "name": "stderr",
     "output_type": "stream",
     "text": [
      "\r",
      " 91%|███████████████████████████████████▌   | 912/1000 [13:11<01:13,  1.20it/s]"
     ]
    },
    {
     "name": "stdout",
     "output_type": "stream",
     "text": [
      "66 (score = 0.72003)\n",
      "105 (score = 0.63005)\n",
      "153 (score = 0.59983)\n",
      "17 (score = 0.58150)\n",
      "106 (score = 0.56359)\n",
      "171 (score = 0.56163)\n",
      "214 (score = 0.55053)\n",
      "138 (score = 0.54609)\n",
      "222 (score = 0.54420)\n"
     ]
    },
    {
     "name": "stderr",
     "output_type": "stream",
     "text": [
      "\r",
      " 91%|███████████████████████████████████▌   | 913/1000 [13:12<01:16,  1.13it/s]"
     ]
    },
    {
     "name": "stdout",
     "output_type": "stream",
     "text": [
      "66 (score = 0.65619)\n",
      "105 (score = 0.58980)\n",
      "153 (score = 0.56622)\n",
      "17 (score = 0.55290)\n",
      "171 (score = 0.54433)\n",
      "106 (score = 0.54218)\n",
      "214 (score = 0.53656)\n",
      "222 (score = 0.53433)\n",
      "138 (score = 0.53409)\n"
     ]
    },
    {
     "name": "stderr",
     "output_type": "stream",
     "text": [
      "\r",
      " 91%|███████████████████████████████████▋   | 914/1000 [13:12<01:13,  1.16it/s]"
     ]
    },
    {
     "name": "stdout",
     "output_type": "stream",
     "text": [
      "66 (score = 0.65419)\n",
      "105 (score = 0.58935)\n",
      "153 (score = 0.56459)\n",
      "17 (score = 0.55110)\n",
      "214 (score = 0.54092)\n",
      "171 (score = 0.54022)\n",
      "106 (score = 0.53977)\n",
      "222 (score = 0.53033)\n",
      "176 (score = 0.52700)\n"
     ]
    },
    {
     "name": "stderr",
     "output_type": "stream",
     "text": [
      "\r",
      " 92%|███████████████████████████████████▋   | 915/1000 [13:13<01:13,  1.16it/s]"
     ]
    },
    {
     "name": "stdout",
     "output_type": "stream",
     "text": [
      "66 (score = 0.66372)\n",
      "105 (score = 0.59352)\n",
      "153 (score = 0.56763)\n",
      "17 (score = 0.55600)\n",
      "171 (score = 0.55020)\n",
      "106 (score = 0.53996)\n",
      "214 (score = 0.53895)\n",
      "222 (score = 0.53830)\n",
      "138 (score = 0.53281)\n"
     ]
    },
    {
     "name": "stderr",
     "output_type": "stream",
     "text": [
      "\r",
      " 92%|███████████████████████████████████▋   | 916/1000 [13:14<01:11,  1.18it/s]"
     ]
    },
    {
     "name": "stdout",
     "output_type": "stream",
     "text": [
      "66 (score = 0.69917)\n",
      "105 (score = 0.61712)\n",
      "153 (score = 0.59074)\n",
      "17 (score = 0.56940)\n",
      "171 (score = 0.55696)\n",
      "214 (score = 0.55658)\n",
      "106 (score = 0.55046)\n",
      "138 (score = 0.54245)\n",
      "222 (score = 0.53964)\n"
     ]
    },
    {
     "name": "stderr",
     "output_type": "stream",
     "text": [
      "\r",
      " 92%|███████████████████████████████████▊   | 917/1000 [13:15<01:09,  1.20it/s]"
     ]
    },
    {
     "name": "stdout",
     "output_type": "stream",
     "text": [
      "66 (score = 0.63100)\n",
      "105 (score = 0.57014)\n",
      "153 (score = 0.55392)\n",
      "17 (score = 0.54259)\n",
      "106 (score = 0.53647)\n",
      "171 (score = 0.53218)\n",
      "214 (score = 0.52903)\n",
      "138 (score = 0.52715)\n",
      "222 (score = 0.52497)\n"
     ]
    },
    {
     "name": "stderr",
     "output_type": "stream",
     "text": [
      "\r",
      " 92%|███████████████████████████████████▊   | 918/1000 [13:16<01:08,  1.20it/s]"
     ]
    },
    {
     "name": "stdout",
     "output_type": "stream",
     "text": [
      "66 (score = 0.65605)\n",
      "105 (score = 0.59690)\n",
      "153 (score = 0.56708)\n",
      "17 (score = 0.54925)\n",
      "106 (score = 0.54538)\n",
      "171 (score = 0.54228)\n",
      "214 (score = 0.53776)\n",
      "222 (score = 0.53554)\n",
      "138 (score = 0.53171)\n"
     ]
    },
    {
     "name": "stderr",
     "output_type": "stream",
     "text": [
      "\r",
      " 92%|███████████████████████████████████▊   | 919/1000 [13:17<01:07,  1.20it/s]"
     ]
    },
    {
     "name": "stdout",
     "output_type": "stream",
     "text": [
      "66 (score = 0.61558)\n",
      "105 (score = 0.55734)\n",
      "153 (score = 0.54732)\n",
      "17 (score = 0.54307)\n",
      "171 (score = 0.53862)\n",
      "222 (score = 0.52722)\n",
      "62 (score = 0.52455)\n",
      "214 (score = 0.52412)\n",
      "106 (score = 0.52171)\n"
     ]
    },
    {
     "name": "stderr",
     "output_type": "stream",
     "text": [
      "\r",
      " 92%|███████████████████████████████████▉   | 920/1000 [13:17<01:08,  1.17it/s]"
     ]
    },
    {
     "name": "stdout",
     "output_type": "stream",
     "text": [
      "66 (score = 0.69738)\n",
      "105 (score = 0.60956)\n",
      "153 (score = 0.58296)\n",
      "17 (score = 0.56459)\n",
      "171 (score = 0.55458)\n",
      "106 (score = 0.55026)\n",
      "214 (score = 0.54834)\n",
      "222 (score = 0.54361)\n",
      "138 (score = 0.53831)\n"
     ]
    },
    {
     "name": "stderr",
     "output_type": "stream",
     "text": [
      "\r",
      " 92%|███████████████████████████████████▉   | 921/1000 [13:18<01:06,  1.19it/s]"
     ]
    },
    {
     "name": "stdout",
     "output_type": "stream",
     "text": [
      "66 (score = 0.73445)\n",
      "105 (score = 0.63670)\n",
      "153 (score = 0.60248)\n",
      "17 (score = 0.58018)\n",
      "171 (score = 0.56917)\n",
      "214 (score = 0.56192)\n",
      "106 (score = 0.56038)\n",
      "222 (score = 0.55576)\n",
      "138 (score = 0.54826)\n"
     ]
    },
    {
     "name": "stderr",
     "output_type": "stream",
     "text": [
      "\r",
      " 92%|███████████████████████████████████▉   | 922/1000 [13:19<01:04,  1.20it/s]"
     ]
    },
    {
     "name": "stdout",
     "output_type": "stream",
     "text": [
      "66 (score = 0.67016)\n",
      "105 (score = 0.60309)\n",
      "153 (score = 0.57592)\n",
      "17 (score = 0.55139)\n",
      "214 (score = 0.54942)\n",
      "171 (score = 0.54724)\n",
      "106 (score = 0.54604)\n",
      "222 (score = 0.53774)\n",
      "138 (score = 0.52902)\n"
     ]
    },
    {
     "name": "stderr",
     "output_type": "stream",
     "text": [
      "\r",
      " 92%|███████████████████████████████████▉   | 923/1000 [13:20<01:03,  1.20it/s]"
     ]
    },
    {
     "name": "stdout",
     "output_type": "stream",
     "text": [
      "66 (score = 0.63930)\n",
      "105 (score = 0.56961)\n",
      "153 (score = 0.55346)\n",
      "17 (score = 0.54653)\n",
      "171 (score = 0.53736)\n",
      "106 (score = 0.53324)\n",
      "214 (score = 0.53271)\n",
      "222 (score = 0.53013)\n",
      "62 (score = 0.52571)\n"
     ]
    },
    {
     "name": "stderr",
     "output_type": "stream",
     "text": [
      "\r",
      " 92%|████████████████████████████████████   | 924/1000 [13:21<01:02,  1.22it/s]"
     ]
    },
    {
     "name": "stdout",
     "output_type": "stream",
     "text": [
      "66 (score = 0.68978)\n",
      "105 (score = 0.61421)\n",
      "153 (score = 0.58954)\n",
      "17 (score = 0.56673)\n",
      "171 (score = 0.55685)\n",
      "106 (score = 0.55493)\n",
      "214 (score = 0.54463)\n",
      "222 (score = 0.54356)\n",
      "138 (score = 0.53908)\n"
     ]
    },
    {
     "name": "stderr",
     "output_type": "stream",
     "text": [
      "\r",
      " 92%|████████████████████████████████████   | 925/1000 [13:22<01:01,  1.22it/s]"
     ]
    },
    {
     "name": "stdout",
     "output_type": "stream",
     "text": [
      "66 (score = 0.67430)\n",
      "105 (score = 0.59507)\n",
      "153 (score = 0.57613)\n",
      "17 (score = 0.55422)\n",
      "106 (score = 0.55070)\n",
      "171 (score = 0.54954)\n",
      "214 (score = 0.54900)\n",
      "222 (score = 0.53571)\n",
      "138 (score = 0.53316)\n"
     ]
    },
    {
     "name": "stderr",
     "output_type": "stream",
     "text": [
      "\r",
      " 93%|████████████████████████████████████   | 926/1000 [13:22<01:01,  1.20it/s]"
     ]
    },
    {
     "name": "stdout",
     "output_type": "stream",
     "text": [
      "66 (score = 0.64996)\n",
      "105 (score = 0.58164)\n",
      "153 (score = 0.56009)\n",
      "17 (score = 0.54865)\n",
      "171 (score = 0.54509)\n",
      "106 (score = 0.53590)\n",
      "214 (score = 0.53564)\n",
      "222 (score = 0.53228)\n",
      "62 (score = 0.52667)\n"
     ]
    },
    {
     "name": "stderr",
     "output_type": "stream",
     "text": [
      "\r",
      " 93%|████████████████████████████████████▏  | 927/1000 [13:23<01:00,  1.20it/s]"
     ]
    },
    {
     "name": "stdout",
     "output_type": "stream",
     "text": [
      "66 (score = 0.65956)\n",
      "105 (score = 0.58456)\n",
      "153 (score = 0.56286)\n",
      "17 (score = 0.55155)\n",
      "171 (score = 0.54147)\n",
      "106 (score = 0.53774)\n",
      "214 (score = 0.53753)\n",
      "222 (score = 0.53675)\n",
      "19 (score = 0.53054)\n"
     ]
    },
    {
     "name": "stderr",
     "output_type": "stream",
     "text": [
      "\r",
      " 93%|████████████████████████████████████▏  | 928/1000 [13:24<00:57,  1.25it/s]"
     ]
    },
    {
     "name": "stdout",
     "output_type": "stream",
     "text": [
      "66 (score = 0.71169)\n",
      "105 (score = 0.62325)\n",
      "153 (score = 0.59406)\n",
      "17 (score = 0.57258)\n",
      "106 (score = 0.55420)\n",
      "171 (score = 0.55396)\n",
      "214 (score = 0.54939)\n",
      "222 (score = 0.54834)\n",
      "138 (score = 0.54152)\n"
     ]
    },
    {
     "name": "stderr",
     "output_type": "stream",
     "text": [
      "\r",
      " 93%|████████████████████████████████████▏  | 929/1000 [13:25<00:57,  1.24it/s]"
     ]
    },
    {
     "name": "stdout",
     "output_type": "stream",
     "text": [
      "66 (score = 0.70204)\n",
      "105 (score = 0.62207)\n",
      "153 (score = 0.58873)\n",
      "17 (score = 0.57540)\n",
      "106 (score = 0.55433)\n",
      "214 (score = 0.55415)\n",
      "171 (score = 0.55113)\n",
      "138 (score = 0.54417)\n",
      "222 (score = 0.54265)\n"
     ]
    },
    {
     "name": "stderr",
     "output_type": "stream",
     "text": [
      "\r",
      " 93%|████████████████████████████████████▎  | 930/1000 [13:26<00:55,  1.27it/s]"
     ]
    },
    {
     "name": "stdout",
     "output_type": "stream",
     "text": [
      "66 (score = 0.65232)\n",
      "105 (score = 0.58075)\n",
      "153 (score = 0.56053)\n",
      "17 (score = 0.55334)\n",
      "171 (score = 0.54082)\n",
      "214 (score = 0.54012)\n",
      "106 (score = 0.53449)\n",
      "222 (score = 0.53337)\n",
      "138 (score = 0.52741)\n"
     ]
    },
    {
     "name": "stderr",
     "output_type": "stream",
     "text": [
      "\r",
      " 93%|████████████████████████████████████▎  | 931/1000 [13:26<00:54,  1.26it/s]"
     ]
    },
    {
     "name": "stdout",
     "output_type": "stream",
     "text": [
      "66 (score = 0.68362)\n",
      "105 (score = 0.60504)\n",
      "153 (score = 0.57723)\n",
      "17 (score = 0.56533)\n",
      "171 (score = 0.54968)\n",
      "214 (score = 0.54650)\n",
      "222 (score = 0.54225)\n",
      "106 (score = 0.54144)\n",
      "138 (score = 0.53745)\n"
     ]
    },
    {
     "name": "stderr",
     "output_type": "stream",
     "text": [
      "\r",
      " 93%|████████████████████████████████████▎  | 932/1000 [13:27<00:54,  1.25it/s]"
     ]
    },
    {
     "name": "stdout",
     "output_type": "stream",
     "text": [
      "66 (score = 0.70963)\n",
      "105 (score = 0.61745)\n",
      "153 (score = 0.58957)\n",
      "17 (score = 0.56840)\n",
      "171 (score = 0.55800)\n",
      "106 (score = 0.55561)\n",
      "214 (score = 0.55000)\n",
      "222 (score = 0.54199)\n",
      "138 (score = 0.53941)\n"
     ]
    },
    {
     "name": "stderr",
     "output_type": "stream",
     "text": [
      "\r",
      " 93%|████████████████████████████████████▍  | 933/1000 [13:28<00:53,  1.26it/s]"
     ]
    },
    {
     "name": "stdout",
     "output_type": "stream",
     "text": [
      "66 (score = 0.64076)\n",
      "105 (score = 0.58873)\n",
      "153 (score = 0.55913)\n",
      "17 (score = 0.55082)\n",
      "106 (score = 0.53875)\n",
      "171 (score = 0.53810)\n",
      "214 (score = 0.53718)\n",
      "222 (score = 0.53238)\n",
      "138 (score = 0.53054)\n"
     ]
    },
    {
     "name": "stderr",
     "output_type": "stream",
     "text": [
      "\r",
      " 93%|████████████████████████████████████▍  | 934/1000 [13:29<00:51,  1.27it/s]"
     ]
    },
    {
     "name": "stdout",
     "output_type": "stream",
     "text": [
      "66 (score = 0.68296)\n",
      "105 (score = 0.60356)\n",
      "153 (score = 0.58098)\n",
      "17 (score = 0.56177)\n",
      "106 (score = 0.55094)\n",
      "171 (score = 0.54641)\n",
      "214 (score = 0.54196)\n",
      "222 (score = 0.53700)\n",
      "138 (score = 0.53342)\n"
     ]
    },
    {
     "name": "stderr",
     "output_type": "stream",
     "text": [
      "\r",
      " 94%|████████████████████████████████████▍  | 935/1000 [13:29<00:51,  1.27it/s]"
     ]
    },
    {
     "name": "stdout",
     "output_type": "stream",
     "text": [
      "66 (score = 0.67193)\n",
      "105 (score = 0.59325)\n",
      "153 (score = 0.56680)\n",
      "17 (score = 0.56035)\n",
      "171 (score = 0.55112)\n",
      "214 (score = 0.54210)\n",
      "106 (score = 0.53892)\n",
      "222 (score = 0.53736)\n",
      "62 (score = 0.53093)\n"
     ]
    },
    {
     "name": "stderr",
     "output_type": "stream",
     "text": [
      "\r",
      " 94%|████████████████████████████████████▌  | 936/1000 [13:30<00:51,  1.24it/s]"
     ]
    },
    {
     "name": "stdout",
     "output_type": "stream",
     "text": [
      "66 (score = 0.70038)\n",
      "105 (score = 0.61480)\n",
      "153 (score = 0.58983)\n",
      "17 (score = 0.56708)\n",
      "106 (score = 0.55915)\n",
      "171 (score = 0.55607)\n",
      "214 (score = 0.55032)\n",
      "138 (score = 0.54160)\n",
      "222 (score = 0.53938)\n"
     ]
    },
    {
     "name": "stderr",
     "output_type": "stream",
     "text": [
      "\r",
      " 94%|████████████████████████████████████▌  | 937/1000 [13:31<00:49,  1.27it/s]"
     ]
    },
    {
     "name": "stdout",
     "output_type": "stream",
     "text": [
      "66 (score = 0.71680)\n",
      "105 (score = 0.62627)\n",
      "153 (score = 0.60343)\n",
      "17 (score = 0.58017)\n",
      "171 (score = 0.56090)\n",
      "106 (score = 0.55747)\n",
      "214 (score = 0.55538)\n",
      "222 (score = 0.54349)\n",
      "138 (score = 0.54230)\n"
     ]
    },
    {
     "name": "stderr",
     "output_type": "stream",
     "text": [
      "\r",
      " 94%|████████████████████████████████████▌  | 938/1000 [13:32<00:49,  1.26it/s]"
     ]
    },
    {
     "name": "stdout",
     "output_type": "stream",
     "text": [
      "66 (score = 0.70877)\n",
      "105 (score = 0.61644)\n",
      "153 (score = 0.59310)\n",
      "17 (score = 0.57201)\n",
      "171 (score = 0.56038)\n",
      "214 (score = 0.55509)\n",
      "106 (score = 0.55042)\n",
      "222 (score = 0.54410)\n",
      "138 (score = 0.54232)\n"
     ]
    },
    {
     "name": "stderr",
     "output_type": "stream",
     "text": [
      "\r",
      " 94%|████████████████████████████████████▌  | 939/1000 [13:33<00:48,  1.26it/s]"
     ]
    },
    {
     "name": "stdout",
     "output_type": "stream",
     "text": [
      "66 (score = 0.67010)\n",
      "105 (score = 0.60422)\n",
      "153 (score = 0.57818)\n",
      "17 (score = 0.55933)\n",
      "106 (score = 0.55187)\n",
      "171 (score = 0.54963)\n",
      "214 (score = 0.54418)\n",
      "222 (score = 0.54167)\n",
      "138 (score = 0.53927)\n"
     ]
    },
    {
     "name": "stderr",
     "output_type": "stream",
     "text": [
      "\r",
      " 94%|████████████████████████████████████▋  | 940/1000 [13:34<00:48,  1.25it/s]"
     ]
    },
    {
     "name": "stdout",
     "output_type": "stream",
     "text": [
      "66 (score = 0.70551)\n",
      "105 (score = 0.62556)\n",
      "153 (score = 0.59256)\n",
      "17 (score = 0.57084)\n",
      "171 (score = 0.56393)\n",
      "106 (score = 0.56117)\n",
      "214 (score = 0.55126)\n",
      "222 (score = 0.54879)\n",
      "138 (score = 0.54175)\n"
     ]
    },
    {
     "name": "stderr",
     "output_type": "stream",
     "text": [
      "\r",
      " 94%|████████████████████████████████████▋  | 941/1000 [13:34<00:48,  1.23it/s]"
     ]
    },
    {
     "name": "stdout",
     "output_type": "stream",
     "text": [
      "66 (score = 0.61280)\n",
      "105 (score = 0.55666)\n",
      "17 (score = 0.54092)\n",
      "153 (score = 0.54025)\n",
      "106 (score = 0.53298)\n",
      "171 (score = 0.52880)\n",
      "214 (score = 0.52744)\n",
      "19 (score = 0.52468)\n",
      "222 (score = 0.52314)\n"
     ]
    },
    {
     "name": "stderr",
     "output_type": "stream",
     "text": [
      "\r",
      " 94%|████████████████████████████████████▋  | 942/1000 [13:35<00:47,  1.21it/s]"
     ]
    },
    {
     "name": "stdout",
     "output_type": "stream",
     "text": [
      "66 (score = 0.63312)\n",
      "105 (score = 0.58228)\n",
      "153 (score = 0.56010)\n",
      "17 (score = 0.54312)\n",
      "106 (score = 0.54100)\n",
      "171 (score = 0.53416)\n",
      "214 (score = 0.53301)\n",
      "138 (score = 0.53037)\n",
      "222 (score = 0.52944)\n"
     ]
    },
    {
     "name": "stderr",
     "output_type": "stream",
     "text": [
      "\r",
      " 94%|████████████████████████████████████▊  | 943/1000 [13:36<00:46,  1.23it/s]"
     ]
    },
    {
     "name": "stdout",
     "output_type": "stream",
     "text": [
      "66 (score = 0.63291)\n",
      "105 (score = 0.57065)\n",
      "153 (score = 0.55113)\n",
      "17 (score = 0.54423)\n",
      "171 (score = 0.53546)\n",
      "214 (score = 0.53201)\n",
      "106 (score = 0.52849)\n",
      "222 (score = 0.52812)\n",
      "19 (score = 0.52328)\n"
     ]
    },
    {
     "name": "stderr",
     "output_type": "stream",
     "text": [
      "\r",
      " 94%|████████████████████████████████████▊  | 944/1000 [13:37<00:44,  1.26it/s]"
     ]
    },
    {
     "name": "stdout",
     "output_type": "stream",
     "text": [
      "66 (score = 0.65170)\n",
      "105 (score = 0.58704)\n",
      "153 (score = 0.56343)\n",
      "17 (score = 0.55493)\n",
      "171 (score = 0.54420)\n",
      "214 (score = 0.53945)\n",
      "106 (score = 0.53475)\n",
      "222 (score = 0.53188)\n",
      "62 (score = 0.52536)\n"
     ]
    },
    {
     "name": "stderr",
     "output_type": "stream",
     "text": [
      "\r",
      " 94%|████████████████████████████████████▊  | 945/1000 [13:38<00:44,  1.24it/s]"
     ]
    },
    {
     "name": "stdout",
     "output_type": "stream",
     "text": [
      "66 (score = 0.67072)\n",
      "105 (score = 0.59435)\n",
      "153 (score = 0.57153)\n",
      "17 (score = 0.55515)\n",
      "171 (score = 0.54942)\n",
      "106 (score = 0.54324)\n",
      "214 (score = 0.54059)\n",
      "222 (score = 0.53539)\n",
      "138 (score = 0.53018)\n"
     ]
    },
    {
     "name": "stderr",
     "output_type": "stream",
     "text": [
      "\r",
      " 95%|████████████████████████████████████▉  | 946/1000 [13:38<00:44,  1.21it/s]"
     ]
    },
    {
     "name": "stdout",
     "output_type": "stream",
     "text": [
      "66 (score = 0.66104)\n",
      "105 (score = 0.58812)\n",
      "153 (score = 0.56521)\n",
      "17 (score = 0.55604)\n",
      "171 (score = 0.54827)\n",
      "106 (score = 0.53727)\n",
      "214 (score = 0.53653)\n",
      "222 (score = 0.53191)\n",
      "138 (score = 0.53102)\n"
     ]
    },
    {
     "name": "stderr",
     "output_type": "stream",
     "text": [
      "\r",
      " 95%|████████████████████████████████████▉  | 947/1000 [13:39<00:43,  1.21it/s]"
     ]
    },
    {
     "name": "stdout",
     "output_type": "stream",
     "text": [
      "66 (score = 0.69841)\n",
      "105 (score = 0.61027)\n",
      "153 (score = 0.58279)\n",
      "17 (score = 0.56618)\n",
      "171 (score = 0.55559)\n",
      "214 (score = 0.55115)\n",
      "106 (score = 0.55098)\n",
      "222 (score = 0.54090)\n",
      "62 (score = 0.53734)\n"
     ]
    },
    {
     "name": "stderr",
     "output_type": "stream",
     "text": [
      "\r",
      " 95%|████████████████████████████████████▉  | 948/1000 [13:40<00:42,  1.23it/s]"
     ]
    },
    {
     "name": "stdout",
     "output_type": "stream",
     "text": [
      "66 (score = 0.72534)\n",
      "105 (score = 0.62432)\n",
      "153 (score = 0.59628)\n",
      "17 (score = 0.57971)\n",
      "171 (score = 0.55830)\n",
      "106 (score = 0.55759)\n",
      "214 (score = 0.55450)\n",
      "222 (score = 0.55251)\n",
      "138 (score = 0.54554)\n"
     ]
    },
    {
     "name": "stderr",
     "output_type": "stream",
     "text": [
      "\r",
      " 95%|█████████████████████████████████████  | 949/1000 [13:41<00:41,  1.23it/s]"
     ]
    },
    {
     "name": "stdout",
     "output_type": "stream",
     "text": [
      "66 (score = 0.66948)\n",
      "105 (score = 0.60101)\n",
      "153 (score = 0.57421)\n",
      "17 (score = 0.55653)\n",
      "106 (score = 0.54547)\n",
      "214 (score = 0.54473)\n",
      "171 (score = 0.54200)\n",
      "222 (score = 0.53736)\n",
      "138 (score = 0.53327)\n"
     ]
    },
    {
     "name": "stderr",
     "output_type": "stream",
     "text": [
      "\r",
      " 95%|█████████████████████████████████████  | 950/1000 [13:42<00:40,  1.22it/s]"
     ]
    },
    {
     "name": "stdout",
     "output_type": "stream",
     "text": [
      "66 (score = 0.71143)\n",
      "105 (score = 0.62519)\n",
      "153 (score = 0.59364)\n",
      "17 (score = 0.57346)\n",
      "171 (score = 0.55941)\n",
      "106 (score = 0.55873)\n",
      "214 (score = 0.55470)\n",
      "222 (score = 0.54528)\n",
      "138 (score = 0.54433)\n"
     ]
    },
    {
     "name": "stderr",
     "output_type": "stream",
     "text": [
      "\r",
      " 95%|█████████████████████████████████████  | 951/1000 [13:43<00:40,  1.21it/s]"
     ]
    },
    {
     "name": "stdout",
     "output_type": "stream",
     "text": [
      "66 (score = 0.64564)\n",
      "105 (score = 0.59481)\n",
      "153 (score = 0.56626)\n",
      "17 (score = 0.54782)\n",
      "106 (score = 0.54363)\n",
      "214 (score = 0.54024)\n",
      "171 (score = 0.53816)\n",
      "138 (score = 0.53282)\n",
      "222 (score = 0.53019)\n"
     ]
    },
    {
     "name": "stderr",
     "output_type": "stream",
     "text": [
      "\r",
      " 95%|█████████████████████████████████████▏ | 952/1000 [13:43<00:39,  1.20it/s]"
     ]
    },
    {
     "name": "stdout",
     "output_type": "stream",
     "text": [
      "66 (score = 0.66087)\n",
      "105 (score = 0.59219)\n",
      "153 (score = 0.57252)\n",
      "17 (score = 0.55181)\n",
      "106 (score = 0.54093)\n",
      "171 (score = 0.54092)\n",
      "214 (score = 0.54064)\n",
      "222 (score = 0.53205)\n",
      "138 (score = 0.52813)\n"
     ]
    },
    {
     "name": "stderr",
     "output_type": "stream",
     "text": [
      "\r",
      " 95%|█████████████████████████████████████▏ | 953/1000 [13:44<00:40,  1.15it/s]"
     ]
    },
    {
     "name": "stdout",
     "output_type": "stream",
     "text": [
      "66 (score = 0.69723)\n",
      "105 (score = 0.61396)\n",
      "153 (score = 0.58934)\n",
      "17 (score = 0.56596)\n",
      "171 (score = 0.55733)\n",
      "106 (score = 0.55236)\n",
      "214 (score = 0.55030)\n",
      "222 (score = 0.54794)\n",
      "138 (score = 0.53973)\n"
     ]
    },
    {
     "name": "stderr",
     "output_type": "stream",
     "text": [
      "\r",
      " 95%|█████████████████████████████████████▏ | 954/1000 [13:45<00:40,  1.13it/s]"
     ]
    },
    {
     "name": "stdout",
     "output_type": "stream",
     "text": [
      "66 (score = 0.66250)\n",
      "105 (score = 0.58758)\n",
      "153 (score = 0.56727)\n",
      "17 (score = 0.55367)\n",
      "171 (score = 0.54635)\n",
      "214 (score = 0.54092)\n",
      "222 (score = 0.53761)\n",
      "106 (score = 0.53650)\n",
      "138 (score = 0.53439)\n"
     ]
    },
    {
     "name": "stderr",
     "output_type": "stream",
     "text": [
      "\r",
      " 96%|█████████████████████████████████████▏ | 955/1000 [13:46<00:38,  1.16it/s]"
     ]
    },
    {
     "name": "stdout",
     "output_type": "stream",
     "text": [
      "66 (score = 0.65779)\n",
      "105 (score = 0.59085)\n",
      "153 (score = 0.56426)\n",
      "17 (score = 0.55132)\n",
      "106 (score = 0.54246)\n",
      "171 (score = 0.54239)\n",
      "214 (score = 0.53494)\n",
      "138 (score = 0.52870)\n",
      "222 (score = 0.52811)\n"
     ]
    },
    {
     "name": "stderr",
     "output_type": "stream",
     "text": [
      "\r",
      " 96%|█████████████████████████████████████▎ | 956/1000 [13:47<00:37,  1.16it/s]"
     ]
    },
    {
     "name": "stdout",
     "output_type": "stream",
     "text": [
      "66 (score = 0.73331)\n",
      "105 (score = 0.64050)\n",
      "153 (score = 0.60952)\n",
      "17 (score = 0.57705)\n",
      "171 (score = 0.56208)\n",
      "106 (score = 0.56124)\n",
      "214 (score = 0.55954)\n",
      "222 (score = 0.55575)\n",
      "138 (score = 0.54768)\n"
     ]
    },
    {
     "name": "stderr",
     "output_type": "stream",
     "text": [
      "\r",
      " 96%|█████████████████████████████████████▎ | 957/1000 [13:48<00:36,  1.17it/s]"
     ]
    },
    {
     "name": "stdout",
     "output_type": "stream",
     "text": [
      "66 (score = 0.65328)\n",
      "105 (score = 0.57439)\n",
      "153 (score = 0.55604)\n",
      "17 (score = 0.55220)\n",
      "171 (score = 0.54089)\n",
      "214 (score = 0.53828)\n",
      "106 (score = 0.53175)\n",
      "62 (score = 0.53122)\n",
      "222 (score = 0.53114)\n"
     ]
    },
    {
     "name": "stderr",
     "output_type": "stream",
     "text": [
      "\r",
      " 96%|█████████████████████████████████████▎ | 958/1000 [13:49<00:34,  1.20it/s]"
     ]
    },
    {
     "name": "stdout",
     "output_type": "stream",
     "text": [
      "66 (score = 0.66827)\n",
      "105 (score = 0.59519)\n",
      "153 (score = 0.57534)\n",
      "17 (score = 0.55920)\n",
      "171 (score = 0.54728)\n",
      "106 (score = 0.54133)\n",
      "214 (score = 0.54097)\n",
      "222 (score = 0.53141)\n",
      "113 (score = 0.52700)\n"
     ]
    },
    {
     "name": "stderr",
     "output_type": "stream",
     "text": [
      "\r",
      " 96%|█████████████████████████████████████▍ | 959/1000 [13:49<00:34,  1.18it/s]"
     ]
    },
    {
     "name": "stdout",
     "output_type": "stream",
     "text": [
      "66 (score = 0.68249)\n",
      "105 (score = 0.60236)\n",
      "153 (score = 0.57434)\n",
      "17 (score = 0.56162)\n",
      "171 (score = 0.55729)\n",
      "214 (score = 0.55194)\n",
      "106 (score = 0.54788)\n",
      "222 (score = 0.53755)\n",
      "138 (score = 0.53719)\n"
     ]
    },
    {
     "name": "stderr",
     "output_type": "stream",
     "text": [
      "\r",
      " 96%|█████████████████████████████████████▍ | 960/1000 [13:50<00:33,  1.20it/s]"
     ]
    },
    {
     "name": "stdout",
     "output_type": "stream",
     "text": [
      "66 (score = 0.67469)\n",
      "105 (score = 0.60471)\n",
      "153 (score = 0.57993)\n",
      "17 (score = 0.56087)\n",
      "106 (score = 0.55488)\n",
      "171 (score = 0.54429)\n",
      "214 (score = 0.54315)\n",
      "138 (score = 0.53929)\n",
      "222 (score = 0.53875)\n"
     ]
    },
    {
     "name": "stderr",
     "output_type": "stream",
     "text": [
      "\r",
      " 96%|█████████████████████████████████████▍ | 961/1000 [13:51<00:33,  1.16it/s]"
     ]
    },
    {
     "name": "stdout",
     "output_type": "stream",
     "text": [
      "66 (score = 0.62569)\n",
      "105 (score = 0.56071)\n",
      "153 (score = 0.54451)\n",
      "17 (score = 0.54076)\n",
      "171 (score = 0.53355)\n",
      "214 (score = 0.52928)\n",
      "222 (score = 0.52753)\n",
      "106 (score = 0.52441)\n",
      "19 (score = 0.52320)\n"
     ]
    },
    {
     "name": "stderr",
     "output_type": "stream",
     "text": [
      "\r",
      " 96%|█████████████████████████████████████▌ | 962/1000 [13:52<00:32,  1.16it/s]"
     ]
    },
    {
     "name": "stdout",
     "output_type": "stream",
     "text": [
      "66 (score = 0.62533)\n",
      "105 (score = 0.56581)\n",
      "153 (score = 0.54714)\n",
      "17 (score = 0.54098)\n",
      "171 (score = 0.53981)\n",
      "214 (score = 0.53020)\n",
      "106 (score = 0.52793)\n",
      "222 (score = 0.52366)\n",
      "176 (score = 0.52351)\n"
     ]
    },
    {
     "name": "stderr",
     "output_type": "stream",
     "text": [
      "\r",
      " 96%|█████████████████████████████████████▌ | 963/1000 [13:53<00:31,  1.16it/s]"
     ]
    },
    {
     "name": "stdout",
     "output_type": "stream",
     "text": [
      "66 (score = 0.60768)\n",
      "105 (score = 0.56179)\n",
      "153 (score = 0.54775)\n",
      "106 (score = 0.53548)\n",
      "17 (score = 0.53425)\n",
      "171 (score = 0.52915)\n",
      "214 (score = 0.52540)\n",
      "138 (score = 0.52409)\n",
      "222 (score = 0.52214)\n"
     ]
    },
    {
     "name": "stderr",
     "output_type": "stream",
     "text": [
      "\r",
      " 96%|█████████████████████████████████████▌ | 964/1000 [13:54<00:31,  1.15it/s]"
     ]
    },
    {
     "name": "stdout",
     "output_type": "stream",
     "text": [
      "66 (score = 0.64377)\n",
      "105 (score = 0.58215)\n",
      "153 (score = 0.56200)\n",
      "106 (score = 0.54613)\n",
      "17 (score = 0.54348)\n",
      "171 (score = 0.54326)\n",
      "214 (score = 0.53435)\n",
      "222 (score = 0.52874)\n",
      "138 (score = 0.52794)\n"
     ]
    },
    {
     "name": "stderr",
     "output_type": "stream",
     "text": [
      "\r",
      " 96%|█████████████████████████████████████▋ | 965/1000 [13:55<00:30,  1.16it/s]"
     ]
    },
    {
     "name": "stdout",
     "output_type": "stream",
     "text": [
      "66 (score = 0.66331)\n",
      "105 (score = 0.58794)\n",
      "153 (score = 0.56124)\n",
      "17 (score = 0.55632)\n",
      "171 (score = 0.54313)\n",
      "214 (score = 0.53848)\n",
      "106 (score = 0.53752)\n",
      "222 (score = 0.53616)\n",
      "62 (score = 0.53134)\n"
     ]
    },
    {
     "name": "stderr",
     "output_type": "stream",
     "text": [
      "\r",
      " 97%|█████████████████████████████████████▋ | 966/1000 [13:55<00:28,  1.20it/s]"
     ]
    },
    {
     "name": "stdout",
     "output_type": "stream",
     "text": [
      "66 (score = 0.69083)\n",
      "105 (score = 0.61911)\n",
      "153 (score = 0.58747)\n",
      "17 (score = 0.56674)\n",
      "106 (score = 0.55619)\n",
      "171 (score = 0.55190)\n",
      "222 (score = 0.54624)\n",
      "214 (score = 0.54587)\n",
      "138 (score = 0.54159)\n"
     ]
    },
    {
     "name": "stderr",
     "output_type": "stream",
     "text": [
      "\r",
      " 97%|█████████████████████████████████████▋ | 967/1000 [13:56<00:27,  1.22it/s]"
     ]
    },
    {
     "name": "stdout",
     "output_type": "stream",
     "text": [
      "66 (score = 0.71496)\n",
      "105 (score = 0.62167)\n",
      "153 (score = 0.59164)\n",
      "17 (score = 0.57676)\n",
      "171 (score = 0.56425)\n",
      "214 (score = 0.55608)\n",
      "106 (score = 0.55456)\n",
      "222 (score = 0.55062)\n",
      "138 (score = 0.54189)\n"
     ]
    },
    {
     "name": "stderr",
     "output_type": "stream",
     "text": [
      "\r",
      " 97%|█████████████████████████████████████▊ | 968/1000 [13:57<00:27,  1.16it/s]"
     ]
    },
    {
     "name": "stdout",
     "output_type": "stream",
     "text": [
      "66 (score = 0.64932)\n",
      "105 (score = 0.57607)\n",
      "153 (score = 0.55433)\n",
      "17 (score = 0.54925)\n",
      "171 (score = 0.54406)\n",
      "138 (score = 0.53468)\n",
      "222 (score = 0.53441)\n",
      "214 (score = 0.53174)\n",
      "62 (score = 0.52707)\n"
     ]
    },
    {
     "name": "stderr",
     "output_type": "stream",
     "text": [
      "\r",
      " 97%|█████████████████████████████████████▊ | 969/1000 [13:58<00:27,  1.12it/s]"
     ]
    },
    {
     "name": "stdout",
     "output_type": "stream",
     "text": [
      "66 (score = 0.71431)\n",
      "105 (score = 0.62403)\n",
      "153 (score = 0.59422)\n",
      "17 (score = 0.58033)\n",
      "171 (score = 0.56275)\n",
      "106 (score = 0.55293)\n",
      "214 (score = 0.55123)\n",
      "222 (score = 0.54745)\n",
      "138 (score = 0.54289)\n"
     ]
    },
    {
     "name": "stderr",
     "output_type": "stream",
     "text": [
      "\r",
      " 97%|█████████████████████████████████████▊ | 970/1000 [13:59<00:26,  1.15it/s]"
     ]
    },
    {
     "name": "stdout",
     "output_type": "stream",
     "text": [
      "66 (score = 0.62580)\n",
      "105 (score = 0.56795)\n",
      "153 (score = 0.55418)\n",
      "17 (score = 0.53801)\n",
      "106 (score = 0.53364)\n",
      "171 (score = 0.53353)\n",
      "214 (score = 0.53065)\n",
      "222 (score = 0.52661)\n",
      "176 (score = 0.52168)\n"
     ]
    },
    {
     "name": "stderr",
     "output_type": "stream",
     "text": [
      "\r",
      " 97%|█████████████████████████████████████▊ | 971/1000 [14:00<00:24,  1.16it/s]"
     ]
    },
    {
     "name": "stdout",
     "output_type": "stream",
     "text": [
      "66 (score = 0.64363)\n",
      "105 (score = 0.57946)\n",
      "153 (score = 0.55966)\n",
      "17 (score = 0.54882)\n",
      "171 (score = 0.53950)\n",
      "106 (score = 0.53854)\n",
      "214 (score = 0.53626)\n",
      "222 (score = 0.52896)\n",
      "138 (score = 0.52419)\n"
     ]
    },
    {
     "name": "stderr",
     "output_type": "stream",
     "text": [
      "\r",
      " 97%|█████████████████████████████████████▉ | 972/1000 [14:01<00:25,  1.10it/s]"
     ]
    },
    {
     "name": "stdout",
     "output_type": "stream",
     "text": [
      "66 (score = 0.67243)\n",
      "105 (score = 0.59460)\n",
      "153 (score = 0.57205)\n",
      "17 (score = 0.55794)\n",
      "171 (score = 0.54854)\n",
      "214 (score = 0.54451)\n",
      "106 (score = 0.54322)\n",
      "222 (score = 0.53672)\n",
      "138 (score = 0.53144)\n"
     ]
    },
    {
     "name": "stderr",
     "output_type": "stream",
     "text": [
      "\r",
      " 97%|█████████████████████████████████████▉ | 973/1000 [14:02<00:24,  1.12it/s]"
     ]
    },
    {
     "name": "stdout",
     "output_type": "stream",
     "text": [
      "66 (score = 0.71443)\n",
      "105 (score = 0.62168)\n",
      "153 (score = 0.59428)\n",
      "17 (score = 0.57350)\n",
      "171 (score = 0.56207)\n",
      "214 (score = 0.55673)\n",
      "106 (score = 0.55107)\n",
      "222 (score = 0.54776)\n",
      "138 (score = 0.54170)\n"
     ]
    },
    {
     "name": "stderr",
     "output_type": "stream",
     "text": [
      "\r",
      " 97%|█████████████████████████████████████▉ | 974/1000 [14:03<00:23,  1.10it/s]"
     ]
    },
    {
     "name": "stdout",
     "output_type": "stream",
     "text": [
      "66 (score = 0.61831)\n",
      "105 (score = 0.55760)\n",
      "153 (score = 0.54339)\n",
      "17 (score = 0.54306)\n",
      "171 (score = 0.53484)\n",
      "214 (score = 0.52435)\n",
      "106 (score = 0.52405)\n",
      "222 (score = 0.52405)\n",
      "62 (score = 0.52176)\n"
     ]
    },
    {
     "name": "stderr",
     "output_type": "stream",
     "text": [
      "\r",
      " 98%|██████████████████████████████████████ | 975/1000 [14:03<00:22,  1.12it/s]"
     ]
    },
    {
     "name": "stdout",
     "output_type": "stream",
     "text": [
      "66 (score = 0.70325)\n",
      "105 (score = 0.62388)\n",
      "153 (score = 0.58909)\n",
      "17 (score = 0.57399)\n",
      "171 (score = 0.55756)\n",
      "106 (score = 0.55661)\n",
      "214 (score = 0.54592)\n",
      "222 (score = 0.54505)\n",
      "138 (score = 0.53978)\n"
     ]
    },
    {
     "name": "stderr",
     "output_type": "stream",
     "text": [
      "\r",
      " 98%|██████████████████████████████████████ | 976/1000 [14:04<00:21,  1.12it/s]"
     ]
    },
    {
     "name": "stdout",
     "output_type": "stream",
     "text": [
      "66 (score = 0.65093)\n",
      "105 (score = 0.58019)\n",
      "153 (score = 0.55783)\n",
      "17 (score = 0.54812)\n",
      "171 (score = 0.54417)\n",
      "106 (score = 0.53694)\n",
      "214 (score = 0.53604)\n",
      "222 (score = 0.53158)\n",
      "19 (score = 0.52647)\n"
     ]
    },
    {
     "name": "stderr",
     "output_type": "stream",
     "text": [
      "\r",
      " 98%|██████████████████████████████████████ | 977/1000 [14:05<00:20,  1.13it/s]"
     ]
    },
    {
     "name": "stdout",
     "output_type": "stream",
     "text": [
      "66 (score = 0.65508)\n",
      "105 (score = 0.58997)\n",
      "153 (score = 0.56592)\n",
      "17 (score = 0.55261)\n",
      "171 (score = 0.54403)\n",
      "106 (score = 0.54075)\n",
      "214 (score = 0.53921)\n",
      "222 (score = 0.53879)\n",
      "138 (score = 0.53100)\n"
     ]
    },
    {
     "name": "stderr",
     "output_type": "stream",
     "text": [
      "\r",
      " 98%|██████████████████████████████████████▏| 978/1000 [14:06<00:19,  1.15it/s]"
     ]
    },
    {
     "name": "stdout",
     "output_type": "stream",
     "text": [
      "66 (score = 0.65540)\n",
      "105 (score = 0.58542)\n",
      "153 (score = 0.56348)\n",
      "17 (score = 0.54974)\n",
      "214 (score = 0.53959)\n",
      "106 (score = 0.53900)\n",
      "171 (score = 0.53813)\n",
      "222 (score = 0.52969)\n",
      "62 (score = 0.52808)\n"
     ]
    },
    {
     "name": "stderr",
     "output_type": "stream",
     "text": [
      "\r",
      " 98%|██████████████████████████████████████▏| 979/1000 [14:07<00:18,  1.13it/s]"
     ]
    },
    {
     "name": "stdout",
     "output_type": "stream",
     "text": [
      "66 (score = 0.64586)\n",
      "105 (score = 0.57896)\n",
      "153 (score = 0.56174)\n",
      "17 (score = 0.54656)\n",
      "171 (score = 0.54231)\n",
      "106 (score = 0.54021)\n",
      "214 (score = 0.53691)\n",
      "138 (score = 0.52698)\n",
      "222 (score = 0.52562)\n"
     ]
    },
    {
     "name": "stderr",
     "output_type": "stream",
     "text": [
      "\r",
      " 98%|██████████████████████████████████████▏| 980/1000 [14:08<00:19,  1.05it/s]"
     ]
    },
    {
     "name": "stdout",
     "output_type": "stream",
     "text": [
      "66 (score = 0.62033)\n",
      "105 (score = 0.57107)\n",
      "153 (score = 0.55401)\n",
      "17 (score = 0.54229)\n",
      "106 (score = 0.53681)\n",
      "171 (score = 0.53279)\n",
      "222 (score = 0.52705)\n",
      "214 (score = 0.52683)\n",
      "138 (score = 0.52401)\n"
     ]
    },
    {
     "name": "stderr",
     "output_type": "stream",
     "text": [
      "\r",
      " 98%|██████████████████████████████████████▎| 981/1000 [14:09<00:18,  1.05it/s]"
     ]
    },
    {
     "name": "stdout",
     "output_type": "stream",
     "text": [
      "66 (score = 0.62933)\n",
      "105 (score = 0.57026)\n",
      "153 (score = 0.55463)\n",
      "17 (score = 0.54464)\n",
      "171 (score = 0.53754)\n",
      "106 (score = 0.53348)\n",
      "214 (score = 0.52760)\n",
      "222 (score = 0.52609)\n",
      "138 (score = 0.52361)\n"
     ]
    },
    {
     "name": "stderr",
     "output_type": "stream",
     "text": [
      "\r",
      " 98%|██████████████████████████████████████▎| 982/1000 [14:10<00:17,  1.06it/s]"
     ]
    },
    {
     "name": "stdout",
     "output_type": "stream",
     "text": [
      "66 (score = 0.67383)\n",
      "105 (score = 0.59292)\n",
      "153 (score = 0.56888)\n",
      "17 (score = 0.55840)\n",
      "171 (score = 0.55187)\n",
      "106 (score = 0.54625)\n",
      "214 (score = 0.54340)\n",
      "138 (score = 0.53125)\n",
      "222 (score = 0.53096)\n"
     ]
    },
    {
     "name": "stderr",
     "output_type": "stream",
     "text": [
      "\r",
      " 98%|██████████████████████████████████████▎| 983/1000 [14:11<00:15,  1.08it/s]"
     ]
    },
    {
     "name": "stdout",
     "output_type": "stream",
     "text": [
      "66 (score = 0.65521)\n",
      "105 (score = 0.58333)\n",
      "153 (score = 0.55332)\n",
      "17 (score = 0.55169)\n",
      "171 (score = 0.54377)\n",
      "214 (score = 0.53781)\n",
      "106 (score = 0.53737)\n",
      "222 (score = 0.53405)\n",
      "138 (score = 0.52654)\n"
     ]
    },
    {
     "name": "stderr",
     "output_type": "stream",
     "text": [
      "\r",
      " 98%|██████████████████████████████████████▍| 984/1000 [14:12<00:14,  1.09it/s]"
     ]
    },
    {
     "name": "stdout",
     "output_type": "stream",
     "text": [
      "66 (score = 0.68083)\n",
      "105 (score = 0.60155)\n",
      "153 (score = 0.57659)\n",
      "17 (score = 0.56792)\n",
      "171 (score = 0.55241)\n",
      "106 (score = 0.54712)\n",
      "214 (score = 0.54483)\n",
      "222 (score = 0.53670)\n",
      "138 (score = 0.53085)\n"
     ]
    },
    {
     "name": "stderr",
     "output_type": "stream",
     "text": [
      "\r",
      " 98%|██████████████████████████████████████▍| 985/1000 [14:13<00:13,  1.08it/s]"
     ]
    },
    {
     "name": "stdout",
     "output_type": "stream",
     "text": [
      "66 (score = 0.64578)\n",
      "105 (score = 0.58274)\n",
      "153 (score = 0.56363)\n",
      "17 (score = 0.54769)\n",
      "106 (score = 0.54139)\n",
      "171 (score = 0.53789)\n",
      "214 (score = 0.53569)\n",
      "222 (score = 0.53178)\n",
      "138 (score = 0.52936)\n"
     ]
    },
    {
     "name": "stderr",
     "output_type": "stream",
     "text": [
      "\r",
      " 99%|██████████████████████████████████████▍| 986/1000 [14:14<00:12,  1.08it/s]"
     ]
    },
    {
     "name": "stdout",
     "output_type": "stream",
     "text": [
      "66 (score = 0.66489)\n",
      "105 (score = 0.59546)\n",
      "153 (score = 0.57305)\n",
      "17 (score = 0.55530)\n",
      "106 (score = 0.54848)\n",
      "171 (score = 0.54480)\n",
      "214 (score = 0.54048)\n",
      "138 (score = 0.53354)\n",
      "222 (score = 0.53352)\n"
     ]
    },
    {
     "name": "stderr",
     "output_type": "stream",
     "text": [
      "\r",
      " 99%|██████████████████████████████████████▍| 987/1000 [14:15<00:12,  1.08it/s]"
     ]
    },
    {
     "name": "stdout",
     "output_type": "stream",
     "text": [
      "66 (score = 0.62301)\n",
      "105 (score = 0.57455)\n",
      "153 (score = 0.55125)\n",
      "17 (score = 0.54246)\n",
      "106 (score = 0.53591)\n",
      "171 (score = 0.53181)\n",
      "214 (score = 0.53085)\n",
      "222 (score = 0.52569)\n",
      "138 (score = 0.52470)\n"
     ]
    },
    {
     "name": "stderr",
     "output_type": "stream",
     "text": [
      "\r",
      " 99%|██████████████████████████████████████▌| 988/1000 [14:15<00:11,  1.08it/s]"
     ]
    },
    {
     "name": "stdout",
     "output_type": "stream",
     "text": [
      "66 (score = 0.70937)\n",
      "105 (score = 0.62140)\n",
      "153 (score = 0.59309)\n",
      "17 (score = 0.56821)\n",
      "171 (score = 0.55868)\n",
      "106 (score = 0.55248)\n",
      "214 (score = 0.54774)\n",
      "222 (score = 0.54619)\n",
      "138 (score = 0.53593)\n"
     ]
    },
    {
     "name": "stderr",
     "output_type": "stream",
     "text": [
      "\r",
      " 99%|██████████████████████████████████████▌| 989/1000 [14:16<00:10,  1.08it/s]"
     ]
    },
    {
     "name": "stdout",
     "output_type": "stream",
     "text": [
      "66 (score = 0.66124)\n",
      "105 (score = 0.58838)\n",
      "153 (score = 0.56369)\n",
      "17 (score = 0.55383)\n",
      "214 (score = 0.54302)\n",
      "171 (score = 0.54197)\n",
      "106 (score = 0.54058)\n",
      "222 (score = 0.53406)\n",
      "62 (score = 0.53274)\n"
     ]
    },
    {
     "name": "stderr",
     "output_type": "stream",
     "text": [
      "\r",
      " 99%|██████████████████████████████████████▌| 990/1000 [14:17<00:09,  1.09it/s]"
     ]
    },
    {
     "name": "stdout",
     "output_type": "stream",
     "text": [
      "66 (score = 0.65780)\n",
      "105 (score = 0.58162)\n",
      "153 (score = 0.56118)\n",
      "17 (score = 0.54922)\n",
      "171 (score = 0.54423)\n",
      "214 (score = 0.53946)\n",
      "222 (score = 0.53337)\n",
      "106 (score = 0.53271)\n",
      "62 (score = 0.52776)\n"
     ]
    },
    {
     "name": "stderr",
     "output_type": "stream",
     "text": [
      "\r",
      " 99%|██████████████████████████████████████▋| 991/1000 [14:18<00:08,  1.10it/s]"
     ]
    },
    {
     "name": "stdout",
     "output_type": "stream",
     "text": [
      "66 (score = 0.72463)\n",
      "105 (score = 0.63454)\n",
      "153 (score = 0.60002)\n",
      "17 (score = 0.57765)\n",
      "171 (score = 0.56191)\n",
      "106 (score = 0.55330)\n",
      "214 (score = 0.55192)\n",
      "222 (score = 0.54852)\n",
      "138 (score = 0.54545)\n"
     ]
    },
    {
     "name": "stderr",
     "output_type": "stream",
     "text": [
      "\r",
      " 99%|██████████████████████████████████████▋| 992/1000 [14:19<00:07,  1.10it/s]"
     ]
    },
    {
     "name": "stdout",
     "output_type": "stream",
     "text": [
      "66 (score = 0.65149)\n",
      "105 (score = 0.59114)\n",
      "153 (score = 0.56367)\n",
      "17 (score = 0.54976)\n",
      "171 (score = 0.54371)\n",
      "106 (score = 0.53966)\n",
      "222 (score = 0.53448)\n",
      "214 (score = 0.53430)\n",
      "138 (score = 0.53231)\n"
     ]
    },
    {
     "name": "stderr",
     "output_type": "stream",
     "text": [
      "\r",
      " 99%|██████████████████████████████████████▋| 993/1000 [14:20<00:06,  1.10it/s]"
     ]
    },
    {
     "name": "stdout",
     "output_type": "stream",
     "text": [
      "66 (score = 0.68209)\n",
      "105 (score = 0.61018)\n",
      "153 (score = 0.58158)\n",
      "17 (score = 0.56288)\n",
      "171 (score = 0.55162)\n",
      "106 (score = 0.55072)\n",
      "214 (score = 0.54624)\n",
      "222 (score = 0.53970)\n",
      "138 (score = 0.53896)\n"
     ]
    },
    {
     "name": "stderr",
     "output_type": "stream",
     "text": [
      "\r",
      " 99%|██████████████████████████████████████▊| 994/1000 [14:21<00:05,  1.10it/s]"
     ]
    },
    {
     "name": "stdout",
     "output_type": "stream",
     "text": [
      "66 (score = 0.64486)\n",
      "105 (score = 0.57769)\n",
      "153 (score = 0.55856)\n",
      "17 (score = 0.54682)\n",
      "171 (score = 0.53901)\n",
      "106 (score = 0.53578)\n",
      "214 (score = 0.53540)\n",
      "222 (score = 0.53158)\n",
      "19 (score = 0.52741)\n"
     ]
    },
    {
     "name": "stderr",
     "output_type": "stream",
     "text": [
      "\r",
      "100%|██████████████████████████████████████▊| 995/1000 [14:22<00:04,  1.09it/s]"
     ]
    },
    {
     "name": "stdout",
     "output_type": "stream",
     "text": [
      "66 (score = 0.68673)\n",
      "105 (score = 0.60606)\n",
      "153 (score = 0.57661)\n",
      "17 (score = 0.56541)\n",
      "171 (score = 0.55307)\n",
      "106 (score = 0.54918)\n",
      "214 (score = 0.54672)\n",
      "222 (score = 0.53946)\n",
      "138 (score = 0.53501)\n"
     ]
    },
    {
     "name": "stderr",
     "output_type": "stream",
     "text": [
      "\r",
      "100%|██████████████████████████████████████▊| 996/1000 [14:23<00:03,  1.10it/s]"
     ]
    },
    {
     "name": "stdout",
     "output_type": "stream",
     "text": [
      "66 (score = 0.71433)\n",
      "105 (score = 0.62025)\n",
      "153 (score = 0.58982)\n",
      "17 (score = 0.57743)\n",
      "171 (score = 0.55999)\n",
      "106 (score = 0.55582)\n",
      "214 (score = 0.55058)\n",
      "222 (score = 0.54322)\n",
      "138 (score = 0.53893)\n"
     ]
    },
    {
     "name": "stderr",
     "output_type": "stream",
     "text": [
      "\r",
      "100%|██████████████████████████████████████▉| 997/1000 [14:24<00:02,  1.08it/s]"
     ]
    },
    {
     "name": "stdout",
     "output_type": "stream",
     "text": [
      "66 (score = 0.63070)\n",
      "105 (score = 0.57092)\n",
      "153 (score = 0.55278)\n",
      "171 (score = 0.54135)\n",
      "17 (score = 0.54029)\n",
      "106 (score = 0.53466)\n",
      "214 (score = 0.53286)\n",
      "222 (score = 0.52277)\n",
      "138 (score = 0.52127)\n"
     ]
    },
    {
     "name": "stderr",
     "output_type": "stream",
     "text": [
      "\r",
      "100%|██████████████████████████████████████▉| 998/1000 [14:25<00:01,  1.08it/s]"
     ]
    },
    {
     "name": "stdout",
     "output_type": "stream",
     "text": [
      "66 (score = 0.66994)\n",
      "105 (score = 0.59781)\n",
      "153 (score = 0.57030)\n",
      "17 (score = 0.56031)\n",
      "171 (score = 0.55464)\n",
      "214 (score = 0.54715)\n",
      "106 (score = 0.54331)\n",
      "222 (score = 0.53751)\n",
      "138 (score = 0.53384)\n"
     ]
    },
    {
     "name": "stderr",
     "output_type": "stream",
     "text": [
      "\r",
      "100%|██████████████████████████████████████▉| 999/1000 [14:26<00:00,  1.07it/s]"
     ]
    },
    {
     "name": "stdout",
     "output_type": "stream",
     "text": [
      "66 (score = 0.72897)\n",
      "105 (score = 0.63460)\n",
      "153 (score = 0.60673)\n",
      "17 (score = 0.57420)\n",
      "106 (score = 0.56303)\n",
      "171 (score = 0.56258)\n",
      "214 (score = 0.56161)\n",
      "222 (score = 0.55063)\n",
      "138 (score = 0.54795)\n"
     ]
    },
    {
     "name": "stderr",
     "output_type": "stream",
     "text": [
      "100%|██████████████████████████████████████| 1000/1000 [14:26<00:00,  1.07it/s]\n"
     ]
    },
    {
     "name": "stdout",
     "output_type": "stream",
     "text": [
      "0.193548387077\n"
     ]
    }
   ],
   "source": [
    "threshold = [0.507]\n",
    "#(0.52, 0.469,)(0.54,0.543)(0.56,0.5789)(0.58,0.5789)(0.60,0.5789)(0.62,0.5833)(0.63,0.46)(0.60,0.464)(0.65,0.464)(0.61,0.34)\n",
    "#(0.62,0.34)(0.65,0.28)\n",
    "#new()\n",
    "F1_Scores = []\n",
    "for i in threshold:\n",
    "    getPredictResult(i)\n",
    "    f1 = getF1Score()\n",
    "    F1_Scores.append(f1)\n",
    "    print(f1)"
   ]
  },
  {
   "cell_type": "code",
   "execution_count": 20,
   "metadata": {
    "collapsed": true
   },
   "outputs": [],
   "source": [
    "j = json.load(open(\"../data/origindata/validation.json\"))\n",
    "annotations = {}\n",
    "annotations = j['annotations']\n",
    "imageIds = []\n",
    "labels = []\n",
    "for annotation in annotations:\n",
    "    imageIds.append(int(annotation['imageId']))\n",
    "    l = annotation['labelId']\n",
    "    label = ''.join([c + ' ' for c in l])\n",
    "    a = label.rstrip()\n",
    "    labels.append(a)\n",
    "dataframe = pd.DataFrame({'image_id':imageIds,'label_id':labels})\n",
    "dataframe.to_csv('validation.csv',sep = ',', index = False)"
   ]
  },
  {
   "cell_type": "code",
   "execution_count": 30,
   "metadata": {
    "collapsed": true
   },
   "outputs": [
    {
     "data": {
      "text/html": [
       "<div>\n",
       "<style>\n",
       "    .dataframe thead tr:only-child th {\n",
       "        text-align: right;\n",
       "    }\n",
       "\n",
       "    .dataframe thead th {\n",
       "        text-align: left;\n",
       "    }\n",
       "\n",
       "    .dataframe tbody tr th {\n",
       "        vertical-align: top;\n",
       "    }\n",
       "</style>\n",
       "<table border=\"1\" class=\"dataframe\">\n",
       "  <thead>\n",
       "    <tr style=\"text-align: right;\">\n",
       "      <th></th>\n",
       "      <th>image_id</th>\n",
       "      <th>label_id</th>\n",
       "    </tr>\n",
       "  </thead>\n",
       "  <tbody>\n",
       "    <tr>\n",
       "      <th>0</th>\n",
       "      <td>1</td>\n",
       "      <td>66 105 153 17 171 106 214 138 222</td>\n",
       "    </tr>\n",
       "    <tr>\n",
       "      <th>111</th>\n",
       "      <td>2</td>\n",
       "      <td>66 105 153 17 171 106 214 138 222 62 53</td>\n",
       "    </tr>\n",
       "    <tr>\n",
       "      <th>222</th>\n",
       "      <td>3</td>\n",
       "      <td>66 105 153 17 171</td>\n",
       "    </tr>\n",
       "    <tr>\n",
       "      <th>333</th>\n",
       "      <td>4</td>\n",
       "      <td>66 105 153 17 106 171</td>\n",
       "    </tr>\n",
       "    <tr>\n",
       "      <th>345</th>\n",
       "      <td>5</td>\n",
       "      <td>66 105 153 17 171 106 214</td>\n",
       "    </tr>\n",
       "  </tbody>\n",
       "</table>\n",
       "</div>"
      ],
      "text/plain": [
       "     image_id                                 label_id\n",
       "0           1        66 105 153 17 171 106 214 138 222\n",
       "111         2  66 105 153 17 171 106 214 138 222 62 53\n",
       "222         3                        66 105 153 17 171\n",
       "333         4                    66 105 153 17 106 171\n",
       "345         5                66 105 153 17 171 106 214"
      ]
     },
     "execution_count": 30,
     "metadata": {},
     "output_type": "execute_result"
    }
   ],
   "source": [
    "dfPredict = pd.read_csv(\"./predictResult.csv\")\n",
    "dfValidation = pd.read_csv(\"./validation.csv\")\n",
    "dfPredict = dfPredict.sort_values(by = 'image_id', ascending=True)\n",
    "dfValidation = dfValidation.sort_values(by = 'image_id',ascending = True)\n",
    "dfPredict.head()"
   ]
  },
  {
   "cell_type": "code",
   "execution_count": 2,
   "metadata": {
    "collapsed": true
   },
   "outputs": [],
   "source": [
    "import tensorflow as tf\n",
    "sess = tf.InteractiveSession()"
   ]
  },
  {
   "cell_type": "code",
   "execution_count": 24,
   "metadata": {},
   "outputs": [
    {
     "name": "stdout",
     "output_type": "stream",
     "text": [
      "0.0\n",
      "[[ 0.]\n",
      " [ 0.]]\n",
      "[[ 0.]\n",
      " [ 0.]]\n",
      "[[ 1.]\n",
      " [ 1.]]\n",
      "[[ 0.]\n",
      " [ 0.]]\n",
      "[[ 0.]\n",
      " [ 0.]]\n"
     ]
    }
   ],
   "source": [
    "y_t = tf.constant([[0,1],[0,1]])\n",
    "y_p = tf.constant([[0,1],[0,1]])\n",
    "y_t = tf.cast(y_t,tf.float32)\n",
    "y_p = tf.cast(y_p, tf.float32)\n",
    "TP = tf.reduce_sum(y_t * y_p,axis = 1,keep_dims = True)\n",
    "FP = tf.reduce_sum(y_p, axis = 1,keep_dims = True) - TP\n",
    "FN = tf.reduce_sum(tf.maximum(y_t - y_p,0), axis = 1,keep_dims = True)\n",
    "precision = TP/(TP + FP + 1e-10 )\n",
    "recall = TP/(TP + FN +1e-10)\n",
    "F1_scores = precision * recall * 2 /(precision + recall  + 1e-10)\n",
    "f1 = tf.reduce_mean(F1_scores)\n",
    "print(sess.run(f1))\n",
    "print(sess.run(TP))\n",
    "print(sess.run(FP))\n",
    "print(sess.run(FN))\n",
    "print(sess.run(precision))\n",
    "print(sess.run(recall))"
   ]
  },
  {
   "cell_type": "code",
   "execution_count": 64,
   "metadata": {},
   "outputs": [
    {
     "name": "stdout",
     "output_type": "stream",
     "text": [
      "1\n"
     ]
    },
    {
     "data": {
      "text/plain": [
       "0.25"
      ]
     },
     "execution_count": 64,
     "metadata": {},
     "output_type": "execute_result"
    }
   ],
   "source": [
    "a = np.array([1,1,0,0])\n",
    "b = np.array([0,1,1,0])\n",
    "c =a * b\n",
    "d = np.sum(c)\n",
    "print(d)\n",
    "d = np.mean(c)\n",
    "d\n"
   ]
  },
  {
   "cell_type": "code",
   "execution_count": 33,
   "metadata": {},
   "outputs": [
    {
     "data": {
      "text/plain": [
       "1e-20"
      ]
     },
     "execution_count": 33,
     "metadata": {},
     "output_type": "execute_result"
    }
   ],
   "source": [
    "1e-20"
   ]
  },
  {
   "cell_type": "code",
   "execution_count": 6,
   "metadata": {},
   "outputs": [
    {
     "name": "stdout",
     "output_type": "stream",
     "text": [
      "Final f1_score accuracy = 0.34000\n"
     ]
    }
   ],
   "source": [
    "print('Final f1_score accuracy = %.5f' % (0.34))"
   ]
  },
  {
   "cell_type": "code",
   "execution_count": null,
   "metadata": {
    "collapsed": true
   },
   "outputs": [],
   "source": []
  }
 ],
 "metadata": {
  "kernelspec": {
   "display_name": "Python 3",
   "language": "python",
   "name": "python3"
  },
  "language_info": {
   "codemirror_mode": {
    "name": "ipython",
    "version": 3
   },
   "file_extension": ".py",
   "mimetype": "text/x-python",
   "name": "python",
   "nbconvert_exporter": "python",
   "pygments_lexer": "ipython3",
   "version": "3.6.2"
  }
 },
 "nbformat": 4,
 "nbformat_minor": 2
}
