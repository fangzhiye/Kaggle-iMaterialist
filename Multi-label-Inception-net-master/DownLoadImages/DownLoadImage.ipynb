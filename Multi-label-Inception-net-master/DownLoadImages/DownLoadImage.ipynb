{
 "cells": [
  {
   "cell_type": "markdown",
   "metadata": {},
   "source": [
    "# 下载比赛所需的图片\n",
    "从给定的json文本中获取url下载数据，并保存为jpg格式文件\n",
    "  * 比赛的数据保存为json格式文本，每个文本中只有每张图片的imageId、URL、LabelId\n",
    "  * 使用线程池来下载图片从而加快下载速度\n",
    "  * 下载图片的源码在GetImage.py中，保存的图片格式是id_imageId_labels_[imageLabels]\n",
    "\n",
    "在windows中使用pool好像要把里面的函数写到外部文件才可以"
   ]
  },
  {
   "cell_type": "code",
   "execution_count": 1,
   "metadata": {
    "collapsed": true
   },
   "outputs": [],
   "source": [
    "import sys, os, multiprocessing, urllib3, csv\n",
    "from PIL import Image\n",
    "from io import BytesIO\n",
    "from tqdm  import tqdm\n",
    "import json\n",
    "from GetImage import *"
   ]
  },
  {
   "cell_type": "code",
   "execution_count": 2,
   "metadata": {
    "collapsed": true
   },
   "outputs": [],
   "source": [
    "def Run(data_file, out_dir):\n",
    "  \"\"\"\n",
    "    从data_file中读取图片的URL，然后下载至out_dir目录下\n",
    "    \n",
    "    Inputs:\n",
    "    - data_file: str, 保存图片URL的json文件\n",
    "    - out_dir :  str, 存储图片的目录\n",
    "    \n",
    "    Outputs:\n",
    "      None\n",
    "  \"\"\" \n",
    "  if not os.path.exists(out_dir):#os.path.exists()是用来判断路径在不在\n",
    "    os.mkdir(out_dir)\n",
    "  key_url_list = ParseData(data_file)\n",
    "  pool = multiprocessing.Pool(processes=12)\n",
    "  with tqdm(total=len(key_url_list)) as bar: #进度条的长度为len()\n",
    "    for _ in pool.imap_unordered(DownloadImage, key_url_list):\n",
    "      bar.update(1)#进度条长度增加1"
   ]
  },
  {
   "cell_type": "code",
   "execution_count": 3,
   "metadata": {},
   "outputs": [
    {
     "name": "stderr",
     "output_type": "stream",
     "text": [
      "100%|██████████████████████████████████| 39706/39706 [1:34:02<00:00, 27.09it/s]\n"
     ]
    }
   ],
   "source": [
    "data_file = '../data/origindata/test.json'\n",
    "out_dir = '../data/testimages/'\n",
    "Run(data_file, out_dir)"
   ]
  }
 ],
 "metadata": {
  "kernelspec": {
   "display_name": "Python 3",
   "language": "python",
   "name": "python3"
  },
  "language_info": {
   "codemirror_mode": {
    "name": "ipython",
    "version": 3
   },
   "file_extension": ".py",
   "mimetype": "text/x-python",
   "name": "python",
   "nbconvert_exporter": "python",
   "pygments_lexer": "ipython3",
   "version": "3.6.2"
  }
 },
 "nbformat": 4,
 "nbformat_minor": 2
}
